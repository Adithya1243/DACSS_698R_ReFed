{
 "cells": [
  {
   "cell_type": "markdown",
   "id": "1f3c0dea",
   "metadata": {},
   "source": [
    "# Project title & team members"
   ]
  },
  {
   "cell_type": "markdown",
   "id": "492454df",
   "metadata": {},
   "source": [
    "Title\n",
    "- From Surplus to Sustainability: A Visual Analysis of the US Food Supply Chain\n",
    "\n",
    "Team Members:\n",
    "- Manikanta Gogula\n",
    "- Manishanker Kamarapu\n",
    "- Adithya Praneeth Parupudi"
   ]
  },
  {
   "cell_type": "markdown",
   "id": "c5a1d649",
   "metadata": {},
   "source": [
    "## Research Goals\n",
    "To create a visualization of total food produced in the US and to show different levels of consumption and report the findings of food wastage. The reported metrics will be utilised for the following\n",
    "1. To promote efficiency and sustainability of the supply chain\n",
    "2. To promote Food Loss & Waste(FLW) collection and recycling along the U.S. Food Security Cluster\n",
    "3. To improve consumer education in order to move towards a circular economy."
   ]
  },
  {
   "cell_type": "markdown",
   "id": "a4015aa2",
   "metadata": {},
   "source": [
    "## Loading Libraries"
   ]
  },
  {
   "cell_type": "code",
   "execution_count": 3,
   "id": "0c94ab30-dbee-47fd-8e6a-81c03fc34069",
   "metadata": {
    "tags": []
   },
   "outputs": [],
   "source": [
    "# Import necessary libraries\n",
    "import pandas as pd\n",
    "import numpy as np\n",
    "import matplotlib.pyplot as plt\n",
    "import seaborn as sns"
   ]
  },
  {
   "cell_type": "markdown",
   "id": "a58e4230",
   "metadata": {},
   "source": [
    "## Load Dataset"
   ]
  },
  {
   "cell_type": "code",
   "execution_count": 5,
   "id": "96388481",
   "metadata": {},
   "outputs": [],
   "source": [
    "# Load data into a DataFrame\n",
    "data = pd.read_csv('ReFED_US_Food_Surplus_Summary.csv', skiprows=3)\n"
   ]
  },
  {
   "cell_type": "code",
   "execution_count": 6,
   "id": "a4c0195c",
   "metadata": {},
   "outputs": [
    {
     "name": "stdout",
     "output_type": "stream",
     "text": [
      "   year       sector        sub_sector sub_sector_category        food_type  \\\n",
      "0  2021         Farm    Not Applicable      Not Applicable        Dry Goods   \n",
      "1  2021         Farm    Not Applicable      Not Applicable          Produce   \n",
      "2  2021  Foodservice  Bars And Taverns    Bars And Taverns  Breads & Bakery   \n",
      "3  2021  Foodservice  Bars And Taverns    Bars And Taverns     Dairy & Eggs   \n",
      "4  2021  Foodservice  Bars And Taverns    Bars And Taverns        Dry Goods   \n",
      "\n",
      "   tons_surplus   tons_supply  us_dollars_surplus    tons_waste  tons_uneaten  \\\n",
      "0  1.725903e+05  6.469629e+06        2.620650e+08  1.724780e+05  1.725822e+05   \n",
      "1  1.533491e+07  9.498828e+07        1.063839e+10  1.335322e+07  1.508448e+07   \n",
      "2  7.222772e+02  2.714446e+04        3.639887e+06  6.997845e+02  7.123902e+02   \n",
      "3  3.435958e+02  1.291294e+04        1.843458e+06  3.328957e+02  3.388924e+02   \n",
      "4  6.141757e+02  2.308181e+04        2.120145e+06  5.950494e+02  6.057685e+02   \n",
      "\n",
      "   ...  tons_incinerated  tons_land_application  tons_landfilled  tons_sewer  \\\n",
      "0  ...          1.209801                    0.0        42.892939         0.0   \n",
      "1  ...      70786.437536                    0.0    734475.569894         0.0   \n",
      "2  ...         66.257490                    0.0       590.558549         0.0   \n",
      "3  ...         31.519472                    0.0       280.935683         0.0   \n",
      "4  ...         56.340890                    0.0       502.171058         0.0   \n",
      "\n",
      "   tons_refuse_discards  upstream_mtco2e_footprint  \\\n",
      "0                   0.0               7.200938e+05   \n",
      "1                   0.0               3.095232e+06   \n",
      "2                   0.0               1.709078e+03   \n",
      "3                   0.0               1.630919e+03   \n",
      "4                   0.0               1.924964e+03   \n",
      "\n",
      "   downstream_mtco2e_footprint  total_mtco2e_footprint  \\\n",
      "0                    85.917582            7.201797e+05   \n",
      "1                640119.823094            3.735352e+06   \n",
      "2                   896.178971            2.605257e+03   \n",
      "3                   145.260182            1.776180e+03   \n",
      "4                   518.242226            2.443207e+03   \n",
      "\n",
      "   gallons_water_footprint  meals_wasted  \n",
      "0             9.705596e+10  2.876371e+08  \n",
      "1             4.930247e+11  2.514080e+10  \n",
      "2             1.380643e+07  1.187317e+06  \n",
      "3             9.720613e+07  5.648207e+05  \n",
      "4             7.518878e+07  1.009614e+06  \n",
      "\n",
      "[5 rows x 29 columns]\n"
     ]
    }
   ],
   "source": [
    "# Display first few rows of data\n",
    "print(data.head())"
   ]
  },
  {
   "cell_type": "code",
   "execution_count": 13,
   "id": "03376795",
   "metadata": {},
   "outputs": [
    {
     "data": {
      "application/vnd.plotly.v1+json": {
       "config": {
        "plotlyServerURL": "https://plot.ly"
       },
       "data": [
        {
         "arrangement": "snap",
         "link": {
          "source": [],
          "target": [],
          "value": []
         },
         "node": {
          "label": [],
          "line": {
           "color": "black",
           "width": 0.5
          },
          "pad": 15,
          "thickness": 20
         },
         "type": "sankey"
        }
       ],
       "layout": {
        "font": {
         "size": 10
        },
        "template": {
         "data": {
          "bar": [
           {
            "error_x": {
             "color": "#2a3f5f"
            },
            "error_y": {
             "color": "#2a3f5f"
            },
            "marker": {
             "line": {
              "color": "#E5ECF6",
              "width": 0.5
             },
             "pattern": {
              "fillmode": "overlay",
              "size": 10,
              "solidity": 0.2
             }
            },
            "type": "bar"
           }
          ],
          "barpolar": [
           {
            "marker": {
             "line": {
              "color": "#E5ECF6",
              "width": 0.5
             },
             "pattern": {
              "fillmode": "overlay",
              "size": 10,
              "solidity": 0.2
             }
            },
            "type": "barpolar"
           }
          ],
          "carpet": [
           {
            "aaxis": {
             "endlinecolor": "#2a3f5f",
             "gridcolor": "white",
             "linecolor": "white",
             "minorgridcolor": "white",
             "startlinecolor": "#2a3f5f"
            },
            "baxis": {
             "endlinecolor": "#2a3f5f",
             "gridcolor": "white",
             "linecolor": "white",
             "minorgridcolor": "white",
             "startlinecolor": "#2a3f5f"
            },
            "type": "carpet"
           }
          ],
          "choropleth": [
           {
            "colorbar": {
             "outlinewidth": 0,
             "ticks": ""
            },
            "type": "choropleth"
           }
          ],
          "contour": [
           {
            "colorbar": {
             "outlinewidth": 0,
             "ticks": ""
            },
            "colorscale": [
             [
              0,
              "#0d0887"
             ],
             [
              0.1111111111111111,
              "#46039f"
             ],
             [
              0.2222222222222222,
              "#7201a8"
             ],
             [
              0.3333333333333333,
              "#9c179e"
             ],
             [
              0.4444444444444444,
              "#bd3786"
             ],
             [
              0.5555555555555556,
              "#d8576b"
             ],
             [
              0.6666666666666666,
              "#ed7953"
             ],
             [
              0.7777777777777778,
              "#fb9f3a"
             ],
             [
              0.8888888888888888,
              "#fdca26"
             ],
             [
              1,
              "#f0f921"
             ]
            ],
            "type": "contour"
           }
          ],
          "contourcarpet": [
           {
            "colorbar": {
             "outlinewidth": 0,
             "ticks": ""
            },
            "type": "contourcarpet"
           }
          ],
          "heatmap": [
           {
            "colorbar": {
             "outlinewidth": 0,
             "ticks": ""
            },
            "colorscale": [
             [
              0,
              "#0d0887"
             ],
             [
              0.1111111111111111,
              "#46039f"
             ],
             [
              0.2222222222222222,
              "#7201a8"
             ],
             [
              0.3333333333333333,
              "#9c179e"
             ],
             [
              0.4444444444444444,
              "#bd3786"
             ],
             [
              0.5555555555555556,
              "#d8576b"
             ],
             [
              0.6666666666666666,
              "#ed7953"
             ],
             [
              0.7777777777777778,
              "#fb9f3a"
             ],
             [
              0.8888888888888888,
              "#fdca26"
             ],
             [
              1,
              "#f0f921"
             ]
            ],
            "type": "heatmap"
           }
          ],
          "heatmapgl": [
           {
            "colorbar": {
             "outlinewidth": 0,
             "ticks": ""
            },
            "colorscale": [
             [
              0,
              "#0d0887"
             ],
             [
              0.1111111111111111,
              "#46039f"
             ],
             [
              0.2222222222222222,
              "#7201a8"
             ],
             [
              0.3333333333333333,
              "#9c179e"
             ],
             [
              0.4444444444444444,
              "#bd3786"
             ],
             [
              0.5555555555555556,
              "#d8576b"
             ],
             [
              0.6666666666666666,
              "#ed7953"
             ],
             [
              0.7777777777777778,
              "#fb9f3a"
             ],
             [
              0.8888888888888888,
              "#fdca26"
             ],
             [
              1,
              "#f0f921"
             ]
            ],
            "type": "heatmapgl"
           }
          ],
          "histogram": [
           {
            "marker": {
             "pattern": {
              "fillmode": "overlay",
              "size": 10,
              "solidity": 0.2
             }
            },
            "type": "histogram"
           }
          ],
          "histogram2d": [
           {
            "colorbar": {
             "outlinewidth": 0,
             "ticks": ""
            },
            "colorscale": [
             [
              0,
              "#0d0887"
             ],
             [
              0.1111111111111111,
              "#46039f"
             ],
             [
              0.2222222222222222,
              "#7201a8"
             ],
             [
              0.3333333333333333,
              "#9c179e"
             ],
             [
              0.4444444444444444,
              "#bd3786"
             ],
             [
              0.5555555555555556,
              "#d8576b"
             ],
             [
              0.6666666666666666,
              "#ed7953"
             ],
             [
              0.7777777777777778,
              "#fb9f3a"
             ],
             [
              0.8888888888888888,
              "#fdca26"
             ],
             [
              1,
              "#f0f921"
             ]
            ],
            "type": "histogram2d"
           }
          ],
          "histogram2dcontour": [
           {
            "colorbar": {
             "outlinewidth": 0,
             "ticks": ""
            },
            "colorscale": [
             [
              0,
              "#0d0887"
             ],
             [
              0.1111111111111111,
              "#46039f"
             ],
             [
              0.2222222222222222,
              "#7201a8"
             ],
             [
              0.3333333333333333,
              "#9c179e"
             ],
             [
              0.4444444444444444,
              "#bd3786"
             ],
             [
              0.5555555555555556,
              "#d8576b"
             ],
             [
              0.6666666666666666,
              "#ed7953"
             ],
             [
              0.7777777777777778,
              "#fb9f3a"
             ],
             [
              0.8888888888888888,
              "#fdca26"
             ],
             [
              1,
              "#f0f921"
             ]
            ],
            "type": "histogram2dcontour"
           }
          ],
          "mesh3d": [
           {
            "colorbar": {
             "outlinewidth": 0,
             "ticks": ""
            },
            "type": "mesh3d"
           }
          ],
          "parcoords": [
           {
            "line": {
             "colorbar": {
              "outlinewidth": 0,
              "ticks": ""
             }
            },
            "type": "parcoords"
           }
          ],
          "pie": [
           {
            "automargin": true,
            "type": "pie"
           }
          ],
          "scatter": [
           {
            "fillpattern": {
             "fillmode": "overlay",
             "size": 10,
             "solidity": 0.2
            },
            "type": "scatter"
           }
          ],
          "scatter3d": [
           {
            "line": {
             "colorbar": {
              "outlinewidth": 0,
              "ticks": ""
             }
            },
            "marker": {
             "colorbar": {
              "outlinewidth": 0,
              "ticks": ""
             }
            },
            "type": "scatter3d"
           }
          ],
          "scattercarpet": [
           {
            "marker": {
             "colorbar": {
              "outlinewidth": 0,
              "ticks": ""
             }
            },
            "type": "scattercarpet"
           }
          ],
          "scattergeo": [
           {
            "marker": {
             "colorbar": {
              "outlinewidth": 0,
              "ticks": ""
             }
            },
            "type": "scattergeo"
           }
          ],
          "scattergl": [
           {
            "marker": {
             "colorbar": {
              "outlinewidth": 0,
              "ticks": ""
             }
            },
            "type": "scattergl"
           }
          ],
          "scattermapbox": [
           {
            "marker": {
             "colorbar": {
              "outlinewidth": 0,
              "ticks": ""
             }
            },
            "type": "scattermapbox"
           }
          ],
          "scatterpolar": [
           {
            "marker": {
             "colorbar": {
              "outlinewidth": 0,
              "ticks": ""
             }
            },
            "type": "scatterpolar"
           }
          ],
          "scatterpolargl": [
           {
            "marker": {
             "colorbar": {
              "outlinewidth": 0,
              "ticks": ""
             }
            },
            "type": "scatterpolargl"
           }
          ],
          "scatterternary": [
           {
            "marker": {
             "colorbar": {
              "outlinewidth": 0,
              "ticks": ""
             }
            },
            "type": "scatterternary"
           }
          ],
          "surface": [
           {
            "colorbar": {
             "outlinewidth": 0,
             "ticks": ""
            },
            "colorscale": [
             [
              0,
              "#0d0887"
             ],
             [
              0.1111111111111111,
              "#46039f"
             ],
             [
              0.2222222222222222,
              "#7201a8"
             ],
             [
              0.3333333333333333,
              "#9c179e"
             ],
             [
              0.4444444444444444,
              "#bd3786"
             ],
             [
              0.5555555555555556,
              "#d8576b"
             ],
             [
              0.6666666666666666,
              "#ed7953"
             ],
             [
              0.7777777777777778,
              "#fb9f3a"
             ],
             [
              0.8888888888888888,
              "#fdca26"
             ],
             [
              1,
              "#f0f921"
             ]
            ],
            "type": "surface"
           }
          ],
          "table": [
           {
            "cells": {
             "fill": {
              "color": "#EBF0F8"
             },
             "line": {
              "color": "white"
             }
            },
            "header": {
             "fill": {
              "color": "#C8D4E3"
             },
             "line": {
              "color": "white"
             }
            },
            "type": "table"
           }
          ]
         },
         "layout": {
          "annotationdefaults": {
           "arrowcolor": "#2a3f5f",
           "arrowhead": 0,
           "arrowwidth": 1
          },
          "autotypenumbers": "strict",
          "coloraxis": {
           "colorbar": {
            "outlinewidth": 0,
            "ticks": ""
           }
          },
          "colorscale": {
           "diverging": [
            [
             0,
             "#8e0152"
            ],
            [
             0.1,
             "#c51b7d"
            ],
            [
             0.2,
             "#de77ae"
            ],
            [
             0.3,
             "#f1b6da"
            ],
            [
             0.4,
             "#fde0ef"
            ],
            [
             0.5,
             "#f7f7f7"
            ],
            [
             0.6,
             "#e6f5d0"
            ],
            [
             0.7,
             "#b8e186"
            ],
            [
             0.8,
             "#7fbc41"
            ],
            [
             0.9,
             "#4d9221"
            ],
            [
             1,
             "#276419"
            ]
           ],
           "sequential": [
            [
             0,
             "#0d0887"
            ],
            [
             0.1111111111111111,
             "#46039f"
            ],
            [
             0.2222222222222222,
             "#7201a8"
            ],
            [
             0.3333333333333333,
             "#9c179e"
            ],
            [
             0.4444444444444444,
             "#bd3786"
            ],
            [
             0.5555555555555556,
             "#d8576b"
            ],
            [
             0.6666666666666666,
             "#ed7953"
            ],
            [
             0.7777777777777778,
             "#fb9f3a"
            ],
            [
             0.8888888888888888,
             "#fdca26"
            ],
            [
             1,
             "#f0f921"
            ]
           ],
           "sequentialminus": [
            [
             0,
             "#0d0887"
            ],
            [
             0.1111111111111111,
             "#46039f"
            ],
            [
             0.2222222222222222,
             "#7201a8"
            ],
            [
             0.3333333333333333,
             "#9c179e"
            ],
            [
             0.4444444444444444,
             "#bd3786"
            ],
            [
             0.5555555555555556,
             "#d8576b"
            ],
            [
             0.6666666666666666,
             "#ed7953"
            ],
            [
             0.7777777777777778,
             "#fb9f3a"
            ],
            [
             0.8888888888888888,
             "#fdca26"
            ],
            [
             1,
             "#f0f921"
            ]
           ]
          },
          "colorway": [
           "#636efa",
           "#EF553B",
           "#00cc96",
           "#ab63fa",
           "#FFA15A",
           "#19d3f3",
           "#FF6692",
           "#B6E880",
           "#FF97FF",
           "#FECB52"
          ],
          "font": {
           "color": "#2a3f5f"
          },
          "geo": {
           "bgcolor": "white",
           "lakecolor": "white",
           "landcolor": "#E5ECF6",
           "showlakes": true,
           "showland": true,
           "subunitcolor": "white"
          },
          "hoverlabel": {
           "align": "left"
          },
          "hovermode": "closest",
          "mapbox": {
           "style": "light"
          },
          "paper_bgcolor": "white",
          "plot_bgcolor": "#E5ECF6",
          "polar": {
           "angularaxis": {
            "gridcolor": "white",
            "linecolor": "white",
            "ticks": ""
           },
           "bgcolor": "#E5ECF6",
           "radialaxis": {
            "gridcolor": "white",
            "linecolor": "white",
            "ticks": ""
           }
          },
          "scene": {
           "xaxis": {
            "backgroundcolor": "#E5ECF6",
            "gridcolor": "white",
            "gridwidth": 2,
            "linecolor": "white",
            "showbackground": true,
            "ticks": "",
            "zerolinecolor": "white"
           },
           "yaxis": {
            "backgroundcolor": "#E5ECF6",
            "gridcolor": "white",
            "gridwidth": 2,
            "linecolor": "white",
            "showbackground": true,
            "ticks": "",
            "zerolinecolor": "white"
           },
           "zaxis": {
            "backgroundcolor": "#E5ECF6",
            "gridcolor": "white",
            "gridwidth": 2,
            "linecolor": "white",
            "showbackground": true,
            "ticks": "",
            "zerolinecolor": "white"
           }
          },
          "shapedefaults": {
           "line": {
            "color": "#2a3f5f"
           }
          },
          "ternary": {
           "aaxis": {
            "gridcolor": "white",
            "linecolor": "white",
            "ticks": ""
           },
           "baxis": {
            "gridcolor": "white",
            "linecolor": "white",
            "ticks": ""
           },
           "bgcolor": "#E5ECF6",
           "caxis": {
            "gridcolor": "white",
            "linecolor": "white",
            "ticks": ""
           }
          },
          "title": {
           "x": 0.05
          },
          "xaxis": {
           "automargin": true,
           "gridcolor": "white",
           "linecolor": "white",
           "ticks": "",
           "title": {
            "standoff": 15
           },
           "zerolinecolor": "white",
           "zerolinewidth": 2
          },
          "yaxis": {
           "automargin": true,
           "gridcolor": "white",
           "linecolor": "white",
           "ticks": "",
           "title": {
            "standoff": 15
           },
           "zerolinecolor": "white",
           "zerolinewidth": 2
          }
         }
        },
        "title": {
         "text": "Mass Flow Diagram of Food Produced in United States"
        }
       }
      },
      "text/html": [
       "<div>                            <div id=\"df005358-d894-4f99-ba44-5ea80e8cf6ac\" class=\"plotly-graph-div\" style=\"height:525px; width:100%;\"></div>            <script type=\"text/javascript\">                require([\"plotly\"], function(Plotly) {                    window.PLOTLYENV=window.PLOTLYENV || {};                                    if (document.getElementById(\"df005358-d894-4f99-ba44-5ea80e8cf6ac\")) {                    Plotly.newPlot(                        \"df005358-d894-4f99-ba44-5ea80e8cf6ac\",                        [{\"arrangement\":\"snap\",\"link\":{\"source\":[],\"target\":[],\"value\":[]},\"node\":{\"label\":[],\"line\":{\"color\":\"black\",\"width\":0.5},\"pad\":15,\"thickness\":20},\"type\":\"sankey\"}],                        {\"template\":{\"data\":{\"histogram2dcontour\":[{\"type\":\"histogram2dcontour\",\"colorbar\":{\"outlinewidth\":0,\"ticks\":\"\"},\"colorscale\":[[0.0,\"#0d0887\"],[0.1111111111111111,\"#46039f\"],[0.2222222222222222,\"#7201a8\"],[0.3333333333333333,\"#9c179e\"],[0.4444444444444444,\"#bd3786\"],[0.5555555555555556,\"#d8576b\"],[0.6666666666666666,\"#ed7953\"],[0.7777777777777778,\"#fb9f3a\"],[0.8888888888888888,\"#fdca26\"],[1.0,\"#f0f921\"]]}],\"choropleth\":[{\"type\":\"choropleth\",\"colorbar\":{\"outlinewidth\":0,\"ticks\":\"\"}}],\"histogram2d\":[{\"type\":\"histogram2d\",\"colorbar\":{\"outlinewidth\":0,\"ticks\":\"\"},\"colorscale\":[[0.0,\"#0d0887\"],[0.1111111111111111,\"#46039f\"],[0.2222222222222222,\"#7201a8\"],[0.3333333333333333,\"#9c179e\"],[0.4444444444444444,\"#bd3786\"],[0.5555555555555556,\"#d8576b\"],[0.6666666666666666,\"#ed7953\"],[0.7777777777777778,\"#fb9f3a\"],[0.8888888888888888,\"#fdca26\"],[1.0,\"#f0f921\"]]}],\"heatmap\":[{\"type\":\"heatmap\",\"colorbar\":{\"outlinewidth\":0,\"ticks\":\"\"},\"colorscale\":[[0.0,\"#0d0887\"],[0.1111111111111111,\"#46039f\"],[0.2222222222222222,\"#7201a8\"],[0.3333333333333333,\"#9c179e\"],[0.4444444444444444,\"#bd3786\"],[0.5555555555555556,\"#d8576b\"],[0.6666666666666666,\"#ed7953\"],[0.7777777777777778,\"#fb9f3a\"],[0.8888888888888888,\"#fdca26\"],[1.0,\"#f0f921\"]]}],\"heatmapgl\":[{\"type\":\"heatmapgl\",\"colorbar\":{\"outlinewidth\":0,\"ticks\":\"\"},\"colorscale\":[[0.0,\"#0d0887\"],[0.1111111111111111,\"#46039f\"],[0.2222222222222222,\"#7201a8\"],[0.3333333333333333,\"#9c179e\"],[0.4444444444444444,\"#bd3786\"],[0.5555555555555556,\"#d8576b\"],[0.6666666666666666,\"#ed7953\"],[0.7777777777777778,\"#fb9f3a\"],[0.8888888888888888,\"#fdca26\"],[1.0,\"#f0f921\"]]}],\"contourcarpet\":[{\"type\":\"contourcarpet\",\"colorbar\":{\"outlinewidth\":0,\"ticks\":\"\"}}],\"contour\":[{\"type\":\"contour\",\"colorbar\":{\"outlinewidth\":0,\"ticks\":\"\"},\"colorscale\":[[0.0,\"#0d0887\"],[0.1111111111111111,\"#46039f\"],[0.2222222222222222,\"#7201a8\"],[0.3333333333333333,\"#9c179e\"],[0.4444444444444444,\"#bd3786\"],[0.5555555555555556,\"#d8576b\"],[0.6666666666666666,\"#ed7953\"],[0.7777777777777778,\"#fb9f3a\"],[0.8888888888888888,\"#fdca26\"],[1.0,\"#f0f921\"]]}],\"surface\":[{\"type\":\"surface\",\"colorbar\":{\"outlinewidth\":0,\"ticks\":\"\"},\"colorscale\":[[0.0,\"#0d0887\"],[0.1111111111111111,\"#46039f\"],[0.2222222222222222,\"#7201a8\"],[0.3333333333333333,\"#9c179e\"],[0.4444444444444444,\"#bd3786\"],[0.5555555555555556,\"#d8576b\"],[0.6666666666666666,\"#ed7953\"],[0.7777777777777778,\"#fb9f3a\"],[0.8888888888888888,\"#fdca26\"],[1.0,\"#f0f921\"]]}],\"mesh3d\":[{\"type\":\"mesh3d\",\"colorbar\":{\"outlinewidth\":0,\"ticks\":\"\"}}],\"scatter\":[{\"fillpattern\":{\"fillmode\":\"overlay\",\"size\":10,\"solidity\":0.2},\"type\":\"scatter\"}],\"parcoords\":[{\"type\":\"parcoords\",\"line\":{\"colorbar\":{\"outlinewidth\":0,\"ticks\":\"\"}}}],\"scatterpolargl\":[{\"type\":\"scatterpolargl\",\"marker\":{\"colorbar\":{\"outlinewidth\":0,\"ticks\":\"\"}}}],\"bar\":[{\"error_x\":{\"color\":\"#2a3f5f\"},\"error_y\":{\"color\":\"#2a3f5f\"},\"marker\":{\"line\":{\"color\":\"#E5ECF6\",\"width\":0.5},\"pattern\":{\"fillmode\":\"overlay\",\"size\":10,\"solidity\":0.2}},\"type\":\"bar\"}],\"scattergeo\":[{\"type\":\"scattergeo\",\"marker\":{\"colorbar\":{\"outlinewidth\":0,\"ticks\":\"\"}}}],\"scatterpolar\":[{\"type\":\"scatterpolar\",\"marker\":{\"colorbar\":{\"outlinewidth\":0,\"ticks\":\"\"}}}],\"histogram\":[{\"marker\":{\"pattern\":{\"fillmode\":\"overlay\",\"size\":10,\"solidity\":0.2}},\"type\":\"histogram\"}],\"scattergl\":[{\"type\":\"scattergl\",\"marker\":{\"colorbar\":{\"outlinewidth\":0,\"ticks\":\"\"}}}],\"scatter3d\":[{\"type\":\"scatter3d\",\"line\":{\"colorbar\":{\"outlinewidth\":0,\"ticks\":\"\"}},\"marker\":{\"colorbar\":{\"outlinewidth\":0,\"ticks\":\"\"}}}],\"scattermapbox\":[{\"type\":\"scattermapbox\",\"marker\":{\"colorbar\":{\"outlinewidth\":0,\"ticks\":\"\"}}}],\"scatterternary\":[{\"type\":\"scatterternary\",\"marker\":{\"colorbar\":{\"outlinewidth\":0,\"ticks\":\"\"}}}],\"scattercarpet\":[{\"type\":\"scattercarpet\",\"marker\":{\"colorbar\":{\"outlinewidth\":0,\"ticks\":\"\"}}}],\"carpet\":[{\"aaxis\":{\"endlinecolor\":\"#2a3f5f\",\"gridcolor\":\"white\",\"linecolor\":\"white\",\"minorgridcolor\":\"white\",\"startlinecolor\":\"#2a3f5f\"},\"baxis\":{\"endlinecolor\":\"#2a3f5f\",\"gridcolor\":\"white\",\"linecolor\":\"white\",\"minorgridcolor\":\"white\",\"startlinecolor\":\"#2a3f5f\"},\"type\":\"carpet\"}],\"table\":[{\"cells\":{\"fill\":{\"color\":\"#EBF0F8\"},\"line\":{\"color\":\"white\"}},\"header\":{\"fill\":{\"color\":\"#C8D4E3\"},\"line\":{\"color\":\"white\"}},\"type\":\"table\"}],\"barpolar\":[{\"marker\":{\"line\":{\"color\":\"#E5ECF6\",\"width\":0.5},\"pattern\":{\"fillmode\":\"overlay\",\"size\":10,\"solidity\":0.2}},\"type\":\"barpolar\"}],\"pie\":[{\"automargin\":true,\"type\":\"pie\"}]},\"layout\":{\"autotypenumbers\":\"strict\",\"colorway\":[\"#636efa\",\"#EF553B\",\"#00cc96\",\"#ab63fa\",\"#FFA15A\",\"#19d3f3\",\"#FF6692\",\"#B6E880\",\"#FF97FF\",\"#FECB52\"],\"font\":{\"color\":\"#2a3f5f\"},\"hovermode\":\"closest\",\"hoverlabel\":{\"align\":\"left\"},\"paper_bgcolor\":\"white\",\"plot_bgcolor\":\"#E5ECF6\",\"polar\":{\"bgcolor\":\"#E5ECF6\",\"angularaxis\":{\"gridcolor\":\"white\",\"linecolor\":\"white\",\"ticks\":\"\"},\"radialaxis\":{\"gridcolor\":\"white\",\"linecolor\":\"white\",\"ticks\":\"\"}},\"ternary\":{\"bgcolor\":\"#E5ECF6\",\"aaxis\":{\"gridcolor\":\"white\",\"linecolor\":\"white\",\"ticks\":\"\"},\"baxis\":{\"gridcolor\":\"white\",\"linecolor\":\"white\",\"ticks\":\"\"},\"caxis\":{\"gridcolor\":\"white\",\"linecolor\":\"white\",\"ticks\":\"\"}},\"coloraxis\":{\"colorbar\":{\"outlinewidth\":0,\"ticks\":\"\"}},\"colorscale\":{\"sequential\":[[0.0,\"#0d0887\"],[0.1111111111111111,\"#46039f\"],[0.2222222222222222,\"#7201a8\"],[0.3333333333333333,\"#9c179e\"],[0.4444444444444444,\"#bd3786\"],[0.5555555555555556,\"#d8576b\"],[0.6666666666666666,\"#ed7953\"],[0.7777777777777778,\"#fb9f3a\"],[0.8888888888888888,\"#fdca26\"],[1.0,\"#f0f921\"]],\"sequentialminus\":[[0.0,\"#0d0887\"],[0.1111111111111111,\"#46039f\"],[0.2222222222222222,\"#7201a8\"],[0.3333333333333333,\"#9c179e\"],[0.4444444444444444,\"#bd3786\"],[0.5555555555555556,\"#d8576b\"],[0.6666666666666666,\"#ed7953\"],[0.7777777777777778,\"#fb9f3a\"],[0.8888888888888888,\"#fdca26\"],[1.0,\"#f0f921\"]],\"diverging\":[[0,\"#8e0152\"],[0.1,\"#c51b7d\"],[0.2,\"#de77ae\"],[0.3,\"#f1b6da\"],[0.4,\"#fde0ef\"],[0.5,\"#f7f7f7\"],[0.6,\"#e6f5d0\"],[0.7,\"#b8e186\"],[0.8,\"#7fbc41\"],[0.9,\"#4d9221\"],[1,\"#276419\"]]},\"xaxis\":{\"gridcolor\":\"white\",\"linecolor\":\"white\",\"ticks\":\"\",\"title\":{\"standoff\":15},\"zerolinecolor\":\"white\",\"automargin\":true,\"zerolinewidth\":2},\"yaxis\":{\"gridcolor\":\"white\",\"linecolor\":\"white\",\"ticks\":\"\",\"title\":{\"standoff\":15},\"zerolinecolor\":\"white\",\"automargin\":true,\"zerolinewidth\":2},\"scene\":{\"xaxis\":{\"backgroundcolor\":\"#E5ECF6\",\"gridcolor\":\"white\",\"linecolor\":\"white\",\"showbackground\":true,\"ticks\":\"\",\"zerolinecolor\":\"white\",\"gridwidth\":2},\"yaxis\":{\"backgroundcolor\":\"#E5ECF6\",\"gridcolor\":\"white\",\"linecolor\":\"white\",\"showbackground\":true,\"ticks\":\"\",\"zerolinecolor\":\"white\",\"gridwidth\":2},\"zaxis\":{\"backgroundcolor\":\"#E5ECF6\",\"gridcolor\":\"white\",\"linecolor\":\"white\",\"showbackground\":true,\"ticks\":\"\",\"zerolinecolor\":\"white\",\"gridwidth\":2}},\"shapedefaults\":{\"line\":{\"color\":\"#2a3f5f\"}},\"annotationdefaults\":{\"arrowcolor\":\"#2a3f5f\",\"arrowhead\":0,\"arrowwidth\":1},\"geo\":{\"bgcolor\":\"white\",\"landcolor\":\"#E5ECF6\",\"subunitcolor\":\"white\",\"showland\":true,\"showlakes\":true,\"lakecolor\":\"white\"},\"title\":{\"x\":0.05},\"mapbox\":{\"style\":\"light\"}}},\"title\":{\"text\":\"Mass Flow Diagram of Food Produced in United States\"},\"font\":{\"size\":10}},                        {\"responsive\": true}                    ).then(function(){\n",
       "                            \n",
       "var gd = document.getElementById('df005358-d894-4f99-ba44-5ea80e8cf6ac');\n",
       "var x = new MutationObserver(function (mutations, observer) {{\n",
       "        var display = window.getComputedStyle(gd).display;\n",
       "        if (!display || display === 'none') {{\n",
       "            console.log([gd, 'removed!']);\n",
       "            Plotly.purge(gd);\n",
       "            observer.disconnect();\n",
       "        }}\n",
       "}});\n",
       "\n",
       "// Listen for the removal of the full notebook cells\n",
       "var notebookContainer = gd.closest('#notebook-container');\n",
       "if (notebookContainer) {{\n",
       "    x.observe(notebookContainer, {childList: true});\n",
       "}}\n",
       "\n",
       "// Listen for the clearing of the current output cell\n",
       "var outputEl = gd.closest('.output');\n",
       "if (outputEl) {{\n",
       "    x.observe(outputEl, {childList: true});\n",
       "}}\n",
       "\n",
       "                        })                };                });            </script>        </div>"
      ]
     },
     "metadata": {},
     "output_type": "display_data"
    }
   ],
   "source": [
    "import plotly.graph_objects as go\n",
    "# Filter rows containing the useful sectors\n",
    "data = data[data['sector'].isin(['farm', 'manufacturing', 'food_service', 'retail', 'residential'])]\n",
    "\n",
    "# Create a mapping of sector names to numeric labels\n",
    "sector_mapping = {sector: i for i, sector in enumerate(data['sector'].unique())}\n",
    "\n",
    "# Create Sankey diagram\n",
    "fig = go.Figure(go.Sankey(\n",
    "    arrangement='snap',\n",
    "    node=dict(\n",
    "        pad=15,\n",
    "        thickness=20,\n",
    "        line=dict(color='black', width=0.5),\n",
    "        label=list(sector_mapping.keys())\n",
    "    ),\n",
    "    link=dict(\n",
    "        source=data['sector'].map(lambda x: sector_mapping[x[:-4]] if x.endswith('_supply') else sector_mapping[x]).values,\n",
    "        target=data['sector'].map(lambda x: sector_mapping[x[5:]] if x.endswith('_supply') else sector_mapping[x[:-6]]).values,\n",
    "        value=data['tons_supply']\n",
    "    )\n",
    "))\n",
    "\n",
    "# Set Sankey diagram title\n",
    "fig.update_layout(title_text='Mass Flow Diagram of Food Produced in United States', font_size=10)\n",
    "\n",
    "# Show Sankey diagram\n",
    "fig.show()"
   ]
  },
  {
   "cell_type": "markdown",
   "id": "ce41aef5",
   "metadata": {},
   "source": [
    "## Column Description\n",
    "\n",
    "The following are the columns in the dataset:\n",
    "- Year: year from the estimate. In this dataset, it is only for the year 2019.\n",
    "- Sector: sector in the food system that the estimates come from. There are five sectors - farm, manufacturing, food service (including restaurants, catering, cafeterias, etc.), retail (generally for grocery stores), and residential (household sector).\n",
    "\n",
    "- Sub-sector: This column only applies to the food service sector. For all other sectors, it shows \"not applicable.\" This column provides a breakdown of the types of services available in the food service sector, including bars and taverns, business and industry, caterers, colleges and universities, and so forth.\n",
    "- Sub-sector category: This column only applies to the food service sector and provides a further breakdown by sub-sector. Examples of sub-sector categories include Asian/noodle in the full service sub-sector and hospitals in the healthcare sub-sector\n",
    "\n",
    "- Food type: Represents the food type of each estimate. These correspond to the aisles in a grocery store and include breads and bakery, dairy and eggs, dry goods, fresh meat and seafood, frozen, prepared foods, produce, and ready-to-drink beverages. Each sector has a row for each food type, except for farm,  which only has dry goods and produce.\n",
    "- Tons supply:  total amount in tons of a particular food type in a particular sector.\n",
    "- Tons surplus: the total amount of food for that food type was produced but is not going to its intended destination, which is typically a human belly. Tons surplus is derived from tons supply by multiplying tons supply by a surplus rate.\n",
    "- Destinations: Columns H - R represent where the surplus is actually going. These destinations include:\n",
    "    - tons_donated: The amount of surplus food that was donated.\n",
    "    - tons_industrial_uses: The amount of surplus food that went to industrial uses.\n",
    "    - tons_animal_feed: The amount of surplus food that was converted into animal feed.\n",
    "    - tons_anaerobically_digested: The amount of surplus food that was anaerobically digested.\n",
    "    - tons_composted: The amount of surplus food that was composted.\n",
    "    - tons_not_harvested: This column only applies to the farm sector. It shows the amount of surplus food that was not harvested.\n",
    "    - tons_incineration: The amount of surplus food that was incinerated.\n",
    "    - tons_land_application: The amount of surplus food that was used for land application.\n",
    "    - tons_landfilled: The amount of surplus food that was landfilled.\n",
    "    - tons_dumping: The amount of surplus food that was either dumped.\n",
    "    - tons_sewer: The amount of surplus food that was put in a sewer."
   ]
  },
  {
   "cell_type": "code",
   "execution_count": 19,
   "id": "205fd855",
   "metadata": {},
   "outputs": [
    {
     "data": {
      "text/html": [
       "<div>\n",
       "<style scoped>\n",
       "    .dataframe tbody tr th:only-of-type {\n",
       "        vertical-align: middle;\n",
       "    }\n",
       "\n",
       "    .dataframe tbody tr th {\n",
       "        vertical-align: top;\n",
       "    }\n",
       "\n",
       "    .dataframe thead th {\n",
       "        text-align: right;\n",
       "    }\n",
       "</style>\n",
       "<table border=\"1\" class=\"dataframe\">\n",
       "  <thead>\n",
       "    <tr style=\"text-align: right;\">\n",
       "      <th></th>\n",
       "      <th>year</th>\n",
       "      <th>sector</th>\n",
       "      <th>sub_sector</th>\n",
       "      <th>sub_sector_category</th>\n",
       "      <th>food_type</th>\n",
       "      <th>tons_surplus</th>\n",
       "      <th>tons_supply</th>\n",
       "      <th>us_dollars_surplus</th>\n",
       "      <th>tons_waste</th>\n",
       "      <th>tons_uneaten</th>\n",
       "      <th>...</th>\n",
       "      <th>tons_incinerated</th>\n",
       "      <th>tons_land_application</th>\n",
       "      <th>tons_landfilled</th>\n",
       "      <th>tons_sewer</th>\n",
       "      <th>tons_refuse_discards</th>\n",
       "      <th>upstream_mtco2e_footprint</th>\n",
       "      <th>downstream_mtco2e_footprint</th>\n",
       "      <th>total_mtco2e_footprint</th>\n",
       "      <th>gallons_water_footprint</th>\n",
       "      <th>meals_wasted</th>\n",
       "    </tr>\n",
       "  </thead>\n",
       "  <tbody>\n",
       "    <tr>\n",
       "      <th>0</th>\n",
       "      <td>2021</td>\n",
       "      <td>Farm</td>\n",
       "      <td>Not Applicable</td>\n",
       "      <td>Not Applicable</td>\n",
       "      <td>Dry Goods</td>\n",
       "      <td>1.725903e+05</td>\n",
       "      <td>6.469629e+06</td>\n",
       "      <td>2.620650e+08</td>\n",
       "      <td>1.724780e+05</td>\n",
       "      <td>1.725822e+05</td>\n",
       "      <td>...</td>\n",
       "      <td>1.209801</td>\n",
       "      <td>0.0</td>\n",
       "      <td>42.892939</td>\n",
       "      <td>0.0</td>\n",
       "      <td>0.0</td>\n",
       "      <td>7.200938e+05</td>\n",
       "      <td>85.917582</td>\n",
       "      <td>7.201797e+05</td>\n",
       "      <td>9.705596e+10</td>\n",
       "      <td>2.876371e+08</td>\n",
       "    </tr>\n",
       "    <tr>\n",
       "      <th>1</th>\n",
       "      <td>2021</td>\n",
       "      <td>Farm</td>\n",
       "      <td>Not Applicable</td>\n",
       "      <td>Not Applicable</td>\n",
       "      <td>Produce</td>\n",
       "      <td>1.533491e+07</td>\n",
       "      <td>9.498828e+07</td>\n",
       "      <td>1.063839e+10</td>\n",
       "      <td>1.335322e+07</td>\n",
       "      <td>1.508448e+07</td>\n",
       "      <td>...</td>\n",
       "      <td>70786.437536</td>\n",
       "      <td>0.0</td>\n",
       "      <td>734475.569894</td>\n",
       "      <td>0.0</td>\n",
       "      <td>0.0</td>\n",
       "      <td>3.095232e+06</td>\n",
       "      <td>640119.823094</td>\n",
       "      <td>3.735352e+06</td>\n",
       "      <td>4.930247e+11</td>\n",
       "      <td>2.514080e+10</td>\n",
       "    </tr>\n",
       "    <tr>\n",
       "      <th>2</th>\n",
       "      <td>2021</td>\n",
       "      <td>Foodservice</td>\n",
       "      <td>Bars And Taverns</td>\n",
       "      <td>Bars And Taverns</td>\n",
       "      <td>Breads &amp; Bakery</td>\n",
       "      <td>7.222772e+02</td>\n",
       "      <td>2.714446e+04</td>\n",
       "      <td>3.639887e+06</td>\n",
       "      <td>6.997845e+02</td>\n",
       "      <td>7.123902e+02</td>\n",
       "      <td>...</td>\n",
       "      <td>66.257490</td>\n",
       "      <td>0.0</td>\n",
       "      <td>590.558549</td>\n",
       "      <td>0.0</td>\n",
       "      <td>0.0</td>\n",
       "      <td>1.709078e+03</td>\n",
       "      <td>896.178971</td>\n",
       "      <td>2.605257e+03</td>\n",
       "      <td>1.380643e+07</td>\n",
       "      <td>1.187317e+06</td>\n",
       "    </tr>\n",
       "    <tr>\n",
       "      <th>3</th>\n",
       "      <td>2021</td>\n",
       "      <td>Foodservice</td>\n",
       "      <td>Bars And Taverns</td>\n",
       "      <td>Bars And Taverns</td>\n",
       "      <td>Dairy &amp; Eggs</td>\n",
       "      <td>3.435958e+02</td>\n",
       "      <td>1.291294e+04</td>\n",
       "      <td>1.843458e+06</td>\n",
       "      <td>3.328957e+02</td>\n",
       "      <td>3.388924e+02</td>\n",
       "      <td>...</td>\n",
       "      <td>31.519472</td>\n",
       "      <td>0.0</td>\n",
       "      <td>280.935683</td>\n",
       "      <td>0.0</td>\n",
       "      <td>0.0</td>\n",
       "      <td>1.630919e+03</td>\n",
       "      <td>145.260182</td>\n",
       "      <td>1.776180e+03</td>\n",
       "      <td>9.720613e+07</td>\n",
       "      <td>5.648207e+05</td>\n",
       "    </tr>\n",
       "    <tr>\n",
       "      <th>4</th>\n",
       "      <td>2021</td>\n",
       "      <td>Foodservice</td>\n",
       "      <td>Bars And Taverns</td>\n",
       "      <td>Bars And Taverns</td>\n",
       "      <td>Dry Goods</td>\n",
       "      <td>6.141757e+02</td>\n",
       "      <td>2.308181e+04</td>\n",
       "      <td>2.120145e+06</td>\n",
       "      <td>5.950494e+02</td>\n",
       "      <td>6.057685e+02</td>\n",
       "      <td>...</td>\n",
       "      <td>56.340890</td>\n",
       "      <td>0.0</td>\n",
       "      <td>502.171058</td>\n",
       "      <td>0.0</td>\n",
       "      <td>0.0</td>\n",
       "      <td>1.924964e+03</td>\n",
       "      <td>518.242226</td>\n",
       "      <td>2.443207e+03</td>\n",
       "      <td>7.518878e+07</td>\n",
       "      <td>1.009614e+06</td>\n",
       "    </tr>\n",
       "  </tbody>\n",
       "</table>\n",
       "<p>5 rows × 29 columns</p>\n",
       "</div>"
      ],
      "text/plain": [
       "   year       sector        sub_sector sub_sector_category        food_type  \\\n",
       "0  2021         Farm    Not Applicable      Not Applicable        Dry Goods   \n",
       "1  2021         Farm    Not Applicable      Not Applicable          Produce   \n",
       "2  2021  Foodservice  Bars And Taverns    Bars And Taverns  Breads & Bakery   \n",
       "3  2021  Foodservice  Bars And Taverns    Bars And Taverns     Dairy & Eggs   \n",
       "4  2021  Foodservice  Bars And Taverns    Bars And Taverns        Dry Goods   \n",
       "\n",
       "   tons_surplus   tons_supply  us_dollars_surplus    tons_waste  tons_uneaten  \\\n",
       "0  1.725903e+05  6.469629e+06        2.620650e+08  1.724780e+05  1.725822e+05   \n",
       "1  1.533491e+07  9.498828e+07        1.063839e+10  1.335322e+07  1.508448e+07   \n",
       "2  7.222772e+02  2.714446e+04        3.639887e+06  6.997845e+02  7.123902e+02   \n",
       "3  3.435958e+02  1.291294e+04        1.843458e+06  3.328957e+02  3.388924e+02   \n",
       "4  6.141757e+02  2.308181e+04        2.120145e+06  5.950494e+02  6.057685e+02   \n",
       "\n",
       "   ...  tons_incinerated  tons_land_application  tons_landfilled  tons_sewer  \\\n",
       "0  ...          1.209801                    0.0        42.892939         0.0   \n",
       "1  ...      70786.437536                    0.0    734475.569894         0.0   \n",
       "2  ...         66.257490                    0.0       590.558549         0.0   \n",
       "3  ...         31.519472                    0.0       280.935683         0.0   \n",
       "4  ...         56.340890                    0.0       502.171058         0.0   \n",
       "\n",
       "   tons_refuse_discards  upstream_mtco2e_footprint  \\\n",
       "0                   0.0               7.200938e+05   \n",
       "1                   0.0               3.095232e+06   \n",
       "2                   0.0               1.709078e+03   \n",
       "3                   0.0               1.630919e+03   \n",
       "4                   0.0               1.924964e+03   \n",
       "\n",
       "   downstream_mtco2e_footprint  total_mtco2e_footprint  \\\n",
       "0                    85.917582            7.201797e+05   \n",
       "1                640119.823094            3.735352e+06   \n",
       "2                   896.178971            2.605257e+03   \n",
       "3                   145.260182            1.776180e+03   \n",
       "4                   518.242226            2.443207e+03   \n",
       "\n",
       "   gallons_water_footprint  meals_wasted  \n",
       "0             9.705596e+10  2.876371e+08  \n",
       "1             4.930247e+11  2.514080e+10  \n",
       "2             1.380643e+07  1.187317e+06  \n",
       "3             9.720613e+07  5.648207e+05  \n",
       "4             7.518878e+07  1.009614e+06  \n",
       "\n",
       "[5 rows x 29 columns]"
      ]
     },
     "execution_count": 19,
     "metadata": {},
     "output_type": "execute_result"
    }
   ],
   "source": [
    "data.head()"
   ]
  },
  {
   "cell_type": "code",
   "execution_count": 22,
   "id": "cb3e5948",
   "metadata": {},
   "outputs": [
    {
     "ename": "KeyError",
     "evalue": "'farm'",
     "output_type": "error",
     "traceback": [
      "\u001b[1;31m---------------------------------------------------------------------------\u001b[0m",
      "\u001b[1;31mKeyError\u001b[0m                                  Traceback (most recent call last)",
      "Cell \u001b[1;32mIn [22], line 18\u001b[0m\n\u001b[0;32m     15\u001b[0m values \u001b[38;5;241m=\u001b[39m data[\u001b[38;5;124m'\u001b[39m\u001b[38;5;124mtons_supply\u001b[39m\u001b[38;5;124m'\u001b[39m]\u001b[38;5;241m.\u001b[39mvalues\n\u001b[0;32m     17\u001b[0m \u001b[38;5;66;03m# Create the sources, targets, and values for the Sankey diagram links\u001b[39;00m\n\u001b[1;32m---> 18\u001b[0m sources \u001b[38;5;241m=\u001b[39m [\u001b[43msector_mapping\u001b[49m\u001b[43m[\u001b[49m\u001b[38;5;124;43m'\u001b[39;49m\u001b[38;5;124;43mfarm\u001b[39;49m\u001b[38;5;124;43m'\u001b[39;49m\u001b[43m]\u001b[49m] \u001b[38;5;241m*\u001b[39m \u001b[38;5;241m3\u001b[39m\n\u001b[0;32m     19\u001b[0m targets \u001b[38;5;241m=\u001b[39m [sector_mapping[\u001b[38;5;124m'\u001b[39m\u001b[38;5;124mmanufacturing\u001b[39m\u001b[38;5;124m'\u001b[39m], sector_mapping[\u001b[38;5;124m'\u001b[39m\u001b[38;5;124mretail\u001b[39m\u001b[38;5;124m'\u001b[39m], sector_mapping[\u001b[38;5;124m'\u001b[39m\u001b[38;5;124mfood_service\u001b[39m\u001b[38;5;124m'\u001b[39m]]\n\u001b[0;32m     20\u001b[0m link_values \u001b[38;5;241m=\u001b[39m values\n",
      "\u001b[1;31mKeyError\u001b[0m: 'farm'"
     ]
    }
   ],
   "source": [
    "import pandas as pd\n",
    "import plotly.graph_objects as go\n",
    "\n",
    "# Load data into a DataFrame, skip the first three rows\n",
    "data = pd.read_csv('ReFED_US_Food_Surplus_Summary.csv', skiprows=3)\n",
    "\n",
    "# Filter rows containing the useful sectors\n",
    "data = data[data['sector'].isin(['farm', 'manufacturing', 'food_service', 'retail'])]\n",
    "\n",
    "# Create a mapping of sector names to numeric labels\n",
    "sector_mapping = {sector: i for i, sector in enumerate(data['sector'].unique())}\n",
    "\n",
    "# Create a list of labels and values for the Sankey diagram\n",
    "labels = list(sector_mapping.keys())\n",
    "values = data['tons_supply'].values\n",
    "\n",
    "# Create the sources, targets, and values for the Sankey diagram links\n",
    "sources = [sector_mapping['farm']] * 3\n",
    "targets = [sector_mapping['manufacturing'], sector_mapping['retail'], sector_mapping['food_service']]\n",
    "link_values = values\n",
    "\n",
    "# Create Sankey diagram\n",
    "fig = go.Figure(go.Sankey(\n",
    "    node=dict(\n",
    "        pad=15,\n",
    "        thickness=20,\n",
    "        line=dict(color='black', width=0.5),\n",
    "        label=labels\n",
    "    ),\n",
    "    link=dict(\n",
    "        source=sources,\n",
    "        target=targets,\n",
    "        value=link_values\n",
    "    )\n",
    "))\n",
    "\n",
    "# Set Sankey diagram title\n",
    "fig.update_layout(title_text='Mass Flow Diagram of Food Produced in United States', font_size=10)\n",
    "\n",
    "# Show Sankey diagram\n",
    "fig.show()\n"
   ]
  },
  {
   "cell_type": "code",
   "execution_count": 31,
   "id": "f5420ab8",
   "metadata": {},
   "outputs": [
    {
     "data": {
      "application/vnd.plotly.v1+json": {
       "config": {
        "plotlyServerURL": "https://plot.ly"
       },
       "data": [
        {
         "link": {
          "source": [
           0,
           0,
           0
          ],
          "target": [
           2,
           3,
           1
          ],
          "value": [
           6469628.888249967,
           94988275.7981144,
           27144.460640357425,
           12912.940822615948,
           23081.81386389337,
           55011.28431085865,
           124.3387005775605,
           0,
           43797.32548126803,
           18838.31810290066,
           120078.84281097892,
           179411.8290409208,
           394528.1716192467,
           306801.1463491416,
           18127.3966869337,
           0,
           249498.23814874204,
           163031.2186336749,
           46752.17030193984,
           69853.20801856306,
           153607.81163998297,
           119451.67947299696,
           7057.822320726571,
           0,
           97141.0437251268,
           63475.48926743541,
           164521.04523904758,
           245813.675007891,
           540546.4081064096,
           420350.86361844745,
           24836.500590631127,
           0,
           341839.661047923,
           223370.4611763257,
           47403.69970226248,
           70826.66911003795,
           155748.4610420604,
           121116.33547916624,
           7156.178797324534,
           0,
           98494.78293244484,
           64360.07167699004,
           109744.74125838156,
           38267.42476270342,
           177978.4169765283,
           372552.828355322,
           0,
           0,
           192541.1679418448,
           95319.49313659804,
           9699.95885679688,
           40491.83133165192,
           431135.4560338348,
           327824.1719448283,
           0,
           0,
           323928.2704317977,
           151717.60077564404,
           214274.71222467584,
           708971.2885225533,
           424868.1194751016,
           449224.542278972,
           25193.895281373825,
           0,
           339228.32741383195,
           219693.60043553615,
           153831.44691424773,
           301918.0264813657,
           992646.691754144,
           324938.7423366038,
           4899.879600285143,
           0,
           133949.02011917805,
           387475.5610562767,
           111496.70228034246,
           158339.50295747886,
           701343.3750159714,
           157387.5740371142,
           0,
           0,
           228012.92515871843,
           76320.91857277088,
           4711.423006897054,
           22020.973313607446,
           70352.9826337669,
           153971.26620983862,
           1261.5832987288825,
           0,
           87792.8252403129,
           32314.84196242863,
           161691.45252680106,
           76918.53544870825,
           137491.47791344847,
           327685.8060816653,
           740.6485385010777,
           0,
           260887.5994141712,
           112214.23986193564,
           39065.74252331684,
           101070.78329911848,
           262705.75649077416,
           388939.4901623206,
           0,
           0,
           374559.91480572335,
           117359.71462938396,
           482507.719048216,
           720922.9400809002,
           1585315.81194469,
           1232806.028613455,
           72840.54895051717,
           0,
           1002548.1839894216,
           655101.4283208364,
           63088.25923626707,
           94261.23466565882,
           207281.27440656663,
           161190.34629045296,
           9523.958381778804,
           0,
           131083.9541658256,
           85655.02085122874,
           21424.524804558445,
           32010.7447035371,
           70391.90586021217,
           54739.607878892464,
           3234.298822921139,
           0,
           44515.59547692961,
           29088.10832756629,
           31025.473558065616,
           46355.68454532394,
           101936.55326736507,
           79270.00819472599,
           4683.681599699809,
           0,
           64464.32035202796,
           42123.330342385896,
           205271.2477319546,
           306699.2414565034,
           674434.2979818002,
           524467.5301861272,
           30988.251126940097,
           0,
           426509.8951056348,
           278697.0700648336,
           124822.02244390552,
           1086554.8454279196,
           240080.1736992916,
           0,
           0,
           0,
           0,
           498672.6114788383,
           0,
           19886.98486598307,
           116749.11982901496,
           133662.11118078267,
           0,
           0,
           81015.04769419161,
           71389.66398501593,
           1127904.3432582307,
           2870592.561286899,
           999055.546794031,
           1546420.563726643,
           89410.0070241978,
           0,
           769830.7825099694,
           1608436.6113114771,
           460061.10940787377,
           537346.0095672886,
           410482.9281604108,
           491845.6913998968,
           0,
           0,
           338247.7579480281,
           755989.1135763992,
           243704.3864220634,
           1849809.881191233,
           747757.1012617495,
           176228.78796643807,
           0,
           0,
           282554.5350768499,
           1597450.5175434402,
           45434.93221283551,
           145869.54502761294,
           150905.5961542605,
           38376.58442886818,
           155299.313805823,
           0,
           45663.98552679306,
           38763.521339196726,
           328779.5508183221,
           479230.80489740113,
           692826.5719206475,
           298259.1332361495,
           0,
           0,
           181572.9979016982,
           102799.79410751672,
           122534.53386737392,
           185605.01485923183,
           1791516.9374093732,
           763134.613766069,
           0,
           0,
           661649.7434608134,
           0,
           538005.6723875795,
           381027.7602689148,
           326354.6744500101,
           729094.6745898317,
           0,
           0,
           637750.3899610873,
           141308.2062441114,
           177373.94340904875,
           265017.40744880505,
           582775.582674665,
           453189.98664924176,
           26776.805628972765,
           0,
           368545.24359228846,
           240820.859619358,
           49634.69431548847,
           74160.03587781564,
           163078.56354008315,
           126816.52119726104,
           7492.975217190282,
           0,
           103130.31415750364,
           67389.09629152557,
           47087.80665968179,
           70354.68797477738,
           154710.5704228713,
           120309.2295367811,
           7108.490808670974,
           0,
           97838.42452889668,
           63931.18323599384,
           82704.74721065286,
           123570.56097540566,
           271732.7377364394,
           211310.4245407028,
           12485.31152935963,
           0,
           171842.83452895106,
           112288.35495831374,
           0,
           296404.8155524049,
           107937.74918886964,
           0,
           0,
           0,
           0,
           2177294.7877668045,
           51786.71566806933,
           77375.40736177824,
           170149.1933833088,
           132314.9304297597,
           7817.849639892649,
           0,
           107601.75578167549,
           70310.8987958121,
           155509.8477935995,
           242228575.8165896,
           55564632.37891385,
           75398274.09888756,
           0,
           0,
           120561480.18539263,
           3881.187627177399,
           6269166.006790386,
           27565938.99863541,
           39261358.32796751,
           12456953.321552107,
           12959167.716982163,
           5796123.778339583,
           27799673.78863374,
           17417429.386433646,
           6434368.835980872,
           98740696.868541,
           17894.39972308937,
           8512.57749203322,
           15216.187534055029,
           36265.00168050706,
           81.96760431763339,
           0,
           28872.44139229056,
           12418.754555867878,
           94235.11532869804,
           140798.27890761464,
           309616.63922331564,
           240770.48656022464,
           14225.964186640796,
           0,
           195800.4815491443,
           127943.15243615808,
           26563.751499900834,
           39689.3501904231,
           87277.2260730488,
           67870.31937284929,
           4010.1290923483616,
           0,
           55193.813020658905,
           36065.64384808496,
           107082.5371989772,
           159993.82911653427,
           351827.8209922902,
           273595.61765877565,
           16165.442509341992,
           0,
           222494.68551007047,
           145386.11569913375,
           46300.37060496734,
           69178.16645340102,
           152123.38937031405,
           118297.33236482608,
           6989.61753012121,
           0,
           96202.30026498024,
           62862.080165120045,
           81920.57048050665,
           28565.280043804458,
           132854.59772152096,
           278097.5186878337,
           0,
           0,
           143725.17660452658,
           71152.63261023432,
           7451.733455559993,
           31106.764334318184,
           331208.2606777511,
           251842.1351767681,
           0,
           0,
           248849.2132404164,
           116552.98111960186,
           145236.4065732202,
           480544.0699910248,
           287977.6073407287,
           304486.50513965805,
           17076.540578489057,
           0,
           229930.55395995075,
           148909.35445958635,
           121455.50381005224,
           238375.226595068,
           783730.5471071065,
           256550.9162758951,
           3868.632567650316,
           0,
           105757.60710686514,
           305926.00164780737,
           83613.64446180277,
           118742.01329521638,
           525951.6595995787,
           118028.14243919637,
           0,
           0,
           170991.52949815989,
           57234.6089169218,
           3513.257865582819,
           16420.804837214902,
           52461.46848700773,
           114814.73034655946,
           940.7492048280884,
           0,
           65466.17303641456,
           24096.83285354997,
           122829.84703845192,
           58431.61030432667,
           104446.19636526731,
           248928.41772827305,
           562.6379457396553,
           0,
           198184.77371251275,
           85244.19629103816,
           28826.67536414591,
           74580.29646370222,
           193851.00780132163,
           286999.08654017583,
           0,
           0,
           276388.3743431277,
           86599.92555960813,
           350503.59060158144,
           523693.34016841673,
           1151606.2072958243,
           895535.806964184,
           52912.88188903621,
           0,
           728271.7444034772,
           475879.2321242278,
           50108.01133855887,
           74867.22684366246,
           164633.68262132033,
           128025.84502038576,
           7564.428316129468,
           0,
           104113.76603443226,
           68031.71949861877,
           22273.960305393462,
           33279.90064549598,
           73182.7908088659,
           56909.91348232065,
           3362.531689953671,
           0,
           46280.5413734598,
           30241.38813614866,
           32089.026004040265,
           47944.75623477738,
           105430.93572566433,
           81987.38206333577,
           4844.238086040119,
           0,
           66674.15561723922,
           43567.31703720287,
           149865.90020660558,
           223917.17506185736,
           492395.8143872004,
           382907.004312243,
           22624.12394468187,
           0,
           311389.39370845247,
           203473.14956037956,
           92647.9310245438,
           806484.7564765995,
           178197.17176308643,
           0,
           0,
           0,
           0,
           370134.8913240296,
           0,
           16897.463075879878,
           99198.74504589644,
           113569.28179619146,
           0,
           0,
           68836.41669305302,
           60657.97401242438,
           1003084.5062835624,
           2552917.6647744263,
           888494.7964743391,
           1375285.5168475462,
           79515.4245914132,
           0,
           684637.2522737122,
           1430438.541875883,
           398744.6995940013,
           465729.1581083963,
           355774.24070565816,
           426293.0694495673,
           0,
           0,
           293166.490001562,
           655231.7634005981,
           186316.1748101968,
           1414211.3166267278,
           571673.102973895,
           134729.9248380348,
           0,
           0,
           216017.7784392401,
           1221278.263583677,
           39037.68864410998,
           125331.09667185214,
           129658.07123312038,
           32973.15702245789,
           133433.1529448825,
           0,
           39234.4912256851,
           33305.613172267054,
           277393.956310932,
           404330.89170445537,
           584543.3614835965,
           251643.63406519464,
           0,
           0,
           153194.6014337756,
           86733.01464296597,
           109768.68294198602,
           166268.37664047544,
           1604873.7321719886,
           683629.9842721053,
           0,
           0,
           592717.976037729,
           0,
           452970.7792855125,
           320804.12968970835,
           274772.4397645285,
           613857.0648451358,
           0,
           0,
           536950.2701492008,
           118973.63092432477,
           131474.01930052167,
           196437.5548754976,
           431967.8907275897,
           335915.7940922564,
           19847.64048432542,
           0,
           273174.9857837129,
           178502.46624188466,
           49176.04152279147,
           73474.75498647639,
           161571.62490314402,
           125644.66444646624,
           7423.735866442407,
           0,
           102177.33142531633,
           66766.38273122889,
           37197.5274118549,
           55577.45455014076,
           122215.30566926926,
           95039.59052366276,
           5615.42999068719,
           0,
           77288.5325631968,
           50503.13679038687,
           53334.38579964512,
           79687.80746955665,
           175234.18132112134,
           136269.22378754316,
           8051.489719683858,
           0,
           110817.4843981765,
           72412.17277286838,
           0,
           220639.03141904407,
           80347.14412517134,
           0,
           0,
           0,
           0,
           1620743.61778264,
           27639.54205908686,
           41296.70705171752,
           90811.81778317232,
           70618.96159044134,
           4172.533074281474,
           0,
           57429.07647632424,
           37526.24624691707,
           149714.6431917913,
           244493152.4766975,
           53509181.502084784,
           68959003.3205841,
           0,
           0,
           117659813.87628524,
           3736.55192264406,
           6512843.240525195,
           29211456.406231977,
           42350079.95545276,
           13609436.432805603,
           13725598.541117497,
           5710837.965099284,
           28454704.507908177,
           17465029.594741847,
           5567834.201912976,
           101596963.33438686,
           38295.20247840416,
           18217.48053665572,
           32563.650727782297,
           77609.50932836994,
           175.4161107714185,
           0,
           61788.93990710158,
           26576.958579555994,
           194404.45515495288,
           290462.9829582667,
           638730.6244086057,
           496702.9020325184,
           29347.77346121157,
           0,
           403931.0166053011,
           263943.2100592308,
           80220.92263888363,
           119859.4366923429,
           263571.9431786035,
           204964.2589039425,
           12110.347278712325,
           0,
           166681.97654581338,
           108916.06274322935,
           197862.62159122195,
           295629.88789284887,
           650092.6932736761,
           505538.50872289593,
           29869.826749969267,
           0,
           411116.3492823693,
           268638.36763357976,
           48777.22411651119,
           72878.87515753153,
           160261.2799795393,
           124625.6869599544,
           7363.529412415555,
           0,
           101348.6738709908,
           66224.90776164956,
           134599.13641607642,
           46934.02405314503,
           218286.00578992648,
           456926.5769913445,
           0,
           0,
           236146.84979300332,
           116906.9361564908,
           10845.48806301576,
           45273.76660462411,
           482050.9561936305,
           366538.99218390393,
           0,
           0,
           362182.99913506216,
           169634.88736951188,
           248687.26451645483,
           822832.1883289219,
           493102.0059041088,
           521370.0740191628,
           29240.03880340927,
           0,
           393708.4498453621,
           254976.42702139053,
           173143.55230261802,
           339821.0226698316,
           1117264.238485401,
           365731.7749878997,
           5515.01384708048,
           0,
           150765.07200649154,
           436119.508835745,
           119640.3455389541,
           169904.51249999815,
           752569.0178476314,
           168883.0553390985,
           0,
           0,
           244666.8340445285,
           81895.34652727167,
           5944.597066754073,
           27784.77185672089,
           88767.26491971925,
           194271.9081125837,
           1591.7917720635503,
           0,
           110771.83488759508,
           40772.9712363465,
           199781.7352524313,
           95038.533236452,
           169880.87873981515,
           404880.0226204634,
           915.1259879330736,
           0,
           322345.903276273,
           138648.98366185502,
           44416.17879256496,
           114913.41753043135,
           298685.8842671645,
           442208.5648116835,
           0,
           0,
           425859.5656951666,
           133433.27763223436,
           562806.9558261706,
           840899.3872523714,
           1849145.062184024,
           1437970.379949002,
           84962.7187237831,
           0,
           1169392.8806219958,
           764123.8182839998,
           67869.9439951199,
           101405.63070079818,
           222991.8633913344,
           173407.53902111223,
           10245.813243355344,
           0,
           141019.27578276073,
           92147.12116722688,
           23891.3006784431,
           35696.39623887316,
           78496.68562437227,
           61042.214134730086,
           3606.6893603120966,
           0,
           49641.02990013487,
           32437.253500863997,
           30637.29951387898,
           45775.70714361493,
           100661.17791948577,
           78278.22447203548,
           4625.081893724803,
           0,
           63657.77743528707,
           41596.30588092162,
           266257.4688863213,
           397819.78548791725,
           874809.1663828422,
           680287.1743770292,
           40194.88068317691,
           0,
           553226.2622288265,
           361498.15077070246,
           124649.6055849564,
           1085053.985484645,
           239748.55057194005,
           0,
           0,
           0,
           0,
           497983.79420419614,
           0,
           19018.504015126888,
           111650.59053414685,
           127824.97775770248,
           0,
           0,
           77477.0544776353,
           68272.01912643827,
           1031320.4437942292,
           2624780.028514367,
           913505.1354783294,
           1413998.5820676514,
           81753.71313622956,
           0,
           703909.1825563343,
           1470704.11574154,
           374148.354665304,
           437000.914127098,
           333828.5046242715,
           399997.418654533,
           0,
           0,
           275082.6781867443,
           614814.1566530997,
           219423.46696807395,
           1665508.3780881611,
           673256.0624686233,
           158670.64275243846,
           0,
           0,
           254402.8714638748,
           1438292.2524105709,
           42890.94271576617,
           137702.02782401745,
           142456.1007337089,
           36227.80543954123,
           146603.80565862526,
           0,
           43107.17089283902,
           36593.07700587205,
           308613.62898599467,
           449836.8510242037,
           650331.5735001663,
           279965.2023890284,
           0,
           0,
           170436.09211350846,
           96494.4974210538,
           119505.74875526558,
           181017.26569174617,
           1747234.5652742784,
           744271.5987142393,
           0,
           0,
           645295.2119734415,
           0,
           567880.0402268628,
           402185.4618536139,
           344476.49005712423,
           769579.8285877397,
           0,
           0,
           673163.3804130142,
           149154.7653952661,
           294221.65426602785,
           439601.5476132416,
           966687.6244892738,
           751735.5988486002,
           44416.42270955081,
           0,
           611329.8783211668,
           399465.1657237706,
           50549.000747439175,
           75526.11657463225,
           166082.58686719878,
           129152.57186922192,
           7631.001159124744,
           0,
           105030.04802035289,
           68630.45145714932,
           51018.62828816706,
           76227.79502253846,
           167625.5838735663,
           130352.46907408796,
           7701.897284758502,
           0,
           106005.83393946083,
           69268.06544872755,
           155617.4896321079,
           232510.72205619467,
           511293.0989281583,
           397602.301066988,
           23492.397994096016,
           0,
           323339.9704680626,
           211282.09084570035,
           0,
           383487.4341395857,
           139649.45342098683,
           0,
           0,
           0,
           0,
           2816975.797002739,
           99155.45121277664,
           148149.83593292526,
           325782.777026241,
           253341.93257286152,
           14968.75016221894,
           0,
           206023.8906480318,
           134623.49958549778,
           158122.0213814981,
           245152900.5542012,
           53180856.88017115,
           69972000.47304751,
           0,
           0,
           116443492.15223892,
           3946.3817994644673,
           5856087.853386621,
           26782329.454491798,
           36784997.31890899,
           12057451.118847176,
           11584408.493456736,
           5526347.59161388,
           25328962.35028176,
           15595100.975566505,
           5470850.771940847,
           104125160.72540689,
           37551.96196475504,
           17863.91223788272,
           31931.64925170037,
           76103.24933118615,
           172.01160180334074,
           0,
           60589.72850561371,
           26061.147954007272,
           190906.7676932621,
           285237.02899147803,
           627238.7062084227,
           487766.3192199496,
           28819.75398150365,
           0,
           396663.5676621056,
           259194.3947314816,
           77723.40491402686,
           116127.85323776198,
           255366.15872475537,
           198583.10729491577,
           11733.315876083025,
           0,
           161492.66710952987,
           105525.17931438462,
           191940.2090882408,
           286781.111250595,
           630634.1565183362,
           490406.7594277489,
           28975.76482971749,
           0,
           398810.8385821214,
           260597.49960879187,
           48614.80562212541,
           72636.20293929827,
           159727.6416621878,
           124210.70810856509,
           7339.010318059691,
           0,
           101011.20286241511,
           66004.39193680903,
           131605.87458984152,
           45890.28910587467,
           213431.68661872088,
           446765.2868321529,
           0,
           0,
           230895.3350382133,
           114307.11955634873,
           10580.949179442252,
           44169.46667794802,
           470292.9586709681,
           357598.5171019992,
           0,
           0,
           353348.77372410806,
           165497.21984739488,
           242705.0370156101,
           803038.7768923832,
           481240.3273972624,
           508828.400841892,
           28536.663161734832,
           0,
           384237.70545256254,
           248842.91231664552,
           169747.0345882651,
           333154.830900875,
           1095347.1198450476,
           358557.2978795808,
           5406.827073866012,
           0,
           147807.5478540429,
           427564.25154989166,
           118518.07972581762,
           168310.7522595257,
           745509.6728001775,
           167298.8767029427,
           0,
           0,
           242371.7786247236,
           81127.14122622131,
           6227.011776572591,
           29104.765153688648,
           92984.4021086952,
           203501.33845738304,
           1667.4142922025471,
           0,
           116034.36071643591,
           42710.00527092389,
           195179.3245816181,
           92849.11207163328,
           165967.29991294522,
           395552.7228342592,
           894.0440526566586,
           0,
           314919.958041304,
           135454.90007310035,
           42546.93971394905,
           110077.32724656512,
           286115.7951176541,
           423598.3747252048,
           0,
           0,
           407937.41741857823,
           127817.78562643104,
           554081.81373851,
           827863.0049560058,
           1820477.9441940417,
           1415677.6634979686,
           83645.54986980058,
           0,
           1151263.8953027793,
           752277.6802466568,
           65748.67684851059,
           98236.20959589396,
           216022.2788310872,
           167987.70670879577,
           9925.581551032345,
           0,
           136611.73484272225,
           89267.07369288799,
           23580.29570760569,
           35231.71845423968,
           77474.85513669737,
           60247.59720355764,
           3559.739286960269,
           0,
           48994.827867678745,
           32015.00160194648,
           27775.12423922581,
           41499.28267915237,
           91257.28334881384,
           70965.37372531364,
           4193.000892804067,
           0,
           57710.78734459338,
           37710.32636907364,
           262171.1638886717,
           391714.3681097584,
           861383.3004962177,
           669846.6752161188,
           39578.00205625013,
           0,
           544735.791521536,
           355950.16856267623,
           126616.79199697176,
           1102178.0144499328,
           243532.1974496997,
           0,
           0,
           0,
           0,
           505842.83995700977,
           0,
           18022.52720884486,
           105803.57972345136,
           121130.93320988063,
           0,
           0,
           73419.67177196097,
           64696.69335350199,
           993887.305266116,
           2529510.1684001554,
           880348.2592733952,
           1362675.6347532717,
           78786.35407006265,
           0,
           678359.8684703048,
           1417322.966138921,
           333408.7270057004,
           389417.5042137487,
           297479.1560009933,
           356443.18221972184,
           0,
           0,
           245129.9448786971,
           547869.3217778893,
           207223.17138745697,
           1572903.4494292496,
           635821.9489845143,
           149848.30133064382,
           0,
           0,
           240257.66506774863,
           1358320.9036155331,
           43026.19381760818,
           138136.25355583453,
           142905.3178263719,
           36342.04519023841,
           147066.10200825232,
           0,
           43243.10384258054,
           36708.4685937332,
           289024.95336439426,
           421284.2942680171,
           609052.9874518558,
           262194.9323171799,
           0,
           0,
           159617.97843008384,
           90369.6888198881,
           116713.0886755015,
           176787.17888077075,
           1706404.460687277,
           726879.150201256,
           0,
           0,
           630215.6848635648,
           0,
           566052.7892551702,
           400891.3614734014,
           343368.07814511075,
           767103.5741150165,
           0,
           0,
           670997.3623214535,
           148674.83447553837,
           281548.19004452345,
           420665.91046820336,
           925047.9938070992,
           719354.9291123586,
           42503.20546025977,
           0,
           584997.1212718346,
           382258.385012246,
           49626.71698804208,
           74148.116818017,
           163052.35342397814,
           126796.13914536864,
           7491.770940269077,
           0,
           103113.73897159733,
           67378.26546250873,
           48937.75605805624,
           73118.72864527229,
           160788.7198840357,
           125035.84567350232,
           7387.763708126512,
           0,
           101682.22502492004,
           66442.86221096847,
           153013.9165440413,
           228620.67949051937,
           502738.8615115893,
           390950.1782673039,
           23099.356213662628,
           0,
           317930.30059485574,
           207747.21589676783,
           0,
           375982.2442712827,
           136916.38951947776,
           0,
           0,
           0,
           0,
           2761845.077378627,
           96153.10979114796,
           143663.98685868294,
           315918.3559182156,
           245670.9576673392,
           14515.509335896626,
           0,
           199785.66518314707,
           130547.21629308644,
           167479.78980155682,
           233335702.37838253,
           52223600.471676335,
           69026932.67780297,
           0,
           0,
           117830886.38986142,
           4179.93134970342,
           5889192.316371447,
           26931401.189733088,
           36546907.37300558,
           11961260.674595278,
           11434741.616340471,
           5328418.153955506,
           24638046.11411772,
           15727004.90386062,
           6241935.076966407,
           105330497.23988268,
           33509.03854001056,
           15940.645770157247,
           28493.82054726171,
           67909.81300130811,
           153.49246996913052,
           0,
           54066.51054687791,
           23255.349800561176,
           158720.7012412269,
           237147.28298283077,
           521488.936709678,
           405530.9990520308,
           23960.866431375583,
           0,
           329787.7826800498,
           215495.3257376224,
           63609.37131006053,
           95039.83702479184,
           208993.42776239204,
           162521.7863499469,
           9602.626738825473,
           0,
           132166.71396968357,
           86362.53546784612,
           157491.44601256403,
           235310.6319644687,
           517450.1251549965,
           402390.2549835431,
           23775.29504646029,
           0,
           327233.6523552822,
           213826.3641349844,
           41427.7359152341,
           61897.88058897603,
           136113.977469709,
           105847.7627857456,
           6254.032643861525,
           0,
           86078.0040794766,
           56246.49699636472,
           97756.38291112224,
           34087.146092202325,
           158536.30962516935,
           331855.6909946059,
           0,
           0,
           171508.24653331775,
           84906.92823282511,
           7557.556838082124,
           31548.51698701408,
           335911.8076676182,
           255418.5898050689,
           0,
           0,
           252383.164855852,
           118208.17058372736,
           211624.19566873636,
           700201.5176130283,
           419612.6230468583,
           443667.7639065605,
           24882.25404355072,
           0,
           335032.1705798363,
           216976.05379112496,
           143788.9859683754,
           282208.14238020324,
           927844.4953570232,
           303726.0144115051,
           4580.004499891853,
           0,
           125204.52846764616,
           362180.2897223422,
           106522.81745607647,
           151275.95367992434,
           670056.3405275401,
           150366.49045328825,
           0,
           0,
           217841.2339338794,
           72916.23080264592,
           4164.137402669368,
           19462.985701801677,
           62180.68000808966,
           136085.74471495356,
           1115.0359866073327,
           0,
           77594.68566800894,
           28561.103912790517,
           171689.73317553496,
           81674.83575084264,
           145993.3397095134,
           347948.4396507961,
           786.4469516780571,
           0,
           277019.72882456775,
           119153.06962313164,
           28509.52524225928,
           73759.76652693319,
           191718.26547237093,
           283841.5321525208,
           0,
           0,
           273347.55865752854,
           85647.15606400535,
           458373.234804,
           684863.1991652574,
           1506020.1282176855,
           1171142.481069726,
           69197.14800254056,
           0,
           952401.8704790624,
           622334.0041408457,
           53784.48961551544,
           80360.31519009414,
           176713.0316444351,
           137419.23792369297,
           8119.438495917716,
           0,
           111752.7041789038,
           73023.27937495745,
           19684.48647343481,
           29410.924016726985,
           64674.877570672,
           50293.81424711565,
           2971.6183678104885,
           0,
           40900.166748906166,
           26725.65576763493,
           21117.96756050049,
           31552.712342676,
           69384.68871717885,
           53956.3548786394,
           3188.020189315056,
           0,
           43878.634872599054,
           28671.89511373292,
           218146.9353552407,
           325937.0240048384,
           716738.3490322586,
           557364.8802136914,
           32931.99651705648,
           0,
           453262.8292758976,
           296178.40978156624,
           147977.34922590616,
           1288118.0954045516,
           284616.6646729483,
           0,
           0,
           0,
           0,
           591179.7432328946,
           0,
           11950.164044999268,
           70154.98545747188,
           80318.0656079976,
           0,
           0,
           48682.24703660584,
           42898.31774335916,
           929202.1711445604,
           2364882.143031633,
           823052.5830704174,
           1273988.6621647745,
           73658.70443315958,
           0,
           634210.1959247504,
           1325079.383116488,
           294121.8203973208,
           343530.8555434749,
           262425.9769054419,
           314442.0320494073,
           0,
           0,
           216245.2862860564,
           483311.6508627059,
           200278.8570122712,
           1520193.4365406428,
           614514.7396081256,
           144826.6924726175,
           0,
           0,
           232206.32242055508,
           1312801.8271824445,
           45483.07446450266,
           146024.10646317087,
           151065.49372280994,
           38417.24774882309,
           155463.86689933162,
           0,
           45712.37048031425,
           38804.59465237072,
           274134.72829823464,
           399580.2237873616,
           577675.2951287256,
           248686.9583240587,
           0,
           0,
           151394.6482443582,
           85713.94892607203,
           102794.78294571117,
           155704.89896946732,
           1502911.7825990757,
           640197.1305929886,
           0,
           0,
           555061.0070362315,
           0,
           499084.633620262,
           353463.00214464165,
           302745.14096722275,
           676349.6506037043,
           0,
           0,
           591613.501587045,
           131085.52188288583,
           228439.6545086713,
           341315.5496958993,
           750555.8607065309,
           583662.7521901322,
           34485.810650451655,
           0,
           474648.90557730873,
           310152.8494693256,
           41262.61207854806,
           61651.16627307668,
           135571.4505444533,
           105425.87179147116,
           6229.105144395294,
           0,
           85734.9119462989,
           56022.3081243686,
           39629.72080465264,
           59211.43581584953,
           130206.4620613691,
           101253.83862586824,
           5982.599871895878,
           0,
           82342.11196265255,
           53805.32927907343,
           127677.41994424896,
           190764.99159374856,
           419493.8747616054,
           326215.4921284339,
           19274.49653172381,
           0,
           265286.4616426385,
           173347.81780234817,
           0,
           402854.265174844,
           146702.01141324165,
           0,
           0,
           0,
           0,
           2959238.331401992,
           78800.7642851774,
           117737.5540875342,
           258905.90488591697,
           201335.75782319647,
           11895.956689718896,
           0,
           163731.19022203377,
           106987.91169149095,
           155587.07743706775,
           234498458.37909544,
           57116527.29356731,
           60995572.45857187,
           0,
           0,
           95587518.48874892,
           3883.115111133772,
           7899015.826593765,
           24354078.947345786,
           32449416.73970821,
           10051821.314675514,
           13690600.063387152,
           4833202.539573953,
           24715809.715870693,
           15470321.272207975,
           5582661.568424943,
           107830967.71271484,
           33091.39986949466,
           15741.970117357954,
           28138.68886190858,
           67063.4215423892,
           151.5794222099247,
           0,
           53392.65457941199,
           22965.50760286602,
           157672.47360088775,
           235581.1083445513,
           518044.9050659457,
           402852.7800239114,
           23802.623415288665,
           0,
           327609.7890941595,
           214072.14555359108,
           61667.87148774059,
           92139.0093181711,
           202614.48241974963,
           157561.2591065085,
           9309.533162780555,
           0,
           128132.69120850955,
           83726.55834981093,
           154832.87455025566,
           231338.41539806177,
           508715.1863965116,
           395597.6114737178,
           23373.95057652991,
           0,
           321709.7075844069,
           210216.81781376337,
           42388.48845976474,
           63333.35720779468,
           139270.60303253925,
           108302.4831604568,
           6399.070204892179,
           0,
           88074.24306334693,
           57550.91211624388,
           99363.40204645463,
           34647.50536908804,
           161142.49119230302,
           337311.0733411698,
           0,
           0,
           174327.67403092608,
           86302.71492551093,
           7549.015370761767,
           31512.86120133841,
           335532.163850286,
           255129.91853410492,
           0,
           0,
           252097.92418866156,
           118074.57301407991,
           211516.532656669,
           699845.2927295639,
           419399.1467061405,
           443442.0496035792,
           24869.595290571702,
           0,
           334861.72422558034,
           216865.66804140568,
           142034.9336844559,
           278765.5432593529,
           916525.911077132,
           300020.9231927559,
           4524.13396642023,
           0,
           123677.18416073213,
           357762.12681438605,
           102930.2507288724,
           146174.05184522443,
           647458.1576046753,
           145295.26098912506,
           0,
           0,
           210494.3650889333,
           70457.0729347766,
           4133.2026847097,
           19318.398260245995,
           61718.74957386394,
           135074.7852474802,
           1106.7525606717556,
           0,
           77018.24702437287,
           28348.92799045121,
           168735.43660060797,
           80269.44194508872,
           143481.20566696703,
           341961.22734346165,
           772.9144154411417,
           0,
           272252.9997900664,
           117102.7810067485,
           29062.8609419236,
           75191.35515113657,
           195439.2871190708,
           289350.55594203656,
           0,
           0,
           278652.9070046521,
           87309.46466515622,
           452936.311188701,
           676739.7996775387,
           1488156.7021305938,
           1157251.1546816777,
           68376.37667576964,
           0,
           941105.1021957296,
           614952.2850813466,
           52864.55200335329,
           78985.82085172551,
           173690.50664641004,
           135068.79960022145,
           7980.5624572041825,
           0,
           109841.26992397416,
           71774.27874781254,
           19725.983042318578,
           29472.924741817907,
           64811.217704095485,
           50399.837877965736,
           2977.8827916481405,
           0,
           40986.387773221126,
           26781.99571925227,
           19315.421388332343,
           28859.49763383281,
           63462.286161349526,
           49350.85386761633,
           2915.903397176731,
           0,
           40133.32817568449,
           26224.57556756912,
           218424.94802625343,
           326352.4074365513,
           717651.7808093644,
           558075.2019004233,
           32973.96599189041,
           0,
           453840.48034228815,
           296555.86798727326,
           144308.29757147434,
           1256179.6139155196,
           277559.684331971,
           0,
           0,
           0,
           0,
           576521.6281475658,
           0,
           11610.520879269066,
           68161.06627252954,
           78035.29509826205,
           0,
           0,
           47298.618122717264,
           41679.077539794605,
           906019.0917301098,
           2305879.6436506994,
           802517.8770741033,
           1242203.350802775,
           71820.9605626991,
           0,
           618387.00287359,
           1292019.3865697717,
           289944.35821433767,
           338651.62844028993,
           258698.69617232948,
           309975.95844816166,
           0,
           0,
           213173.91774737384,
           476447.0933764688,
           196226.31130563852,
           1489433.0583539107,
           602080.3313694727,
           141896.19446827873,
           0,
           0,
           227507.7399090685,
           1286237.9178024258,
           44704.40505800637,
           143524.17641990675,
           148479.25522147436,
           37759.54516701667,
           152802.328329317,
           0,
           44929.77553020319,
           38140.26069862991,
           262708.39483527746,
           382925.1399512475,
           553596.9501615311,
           238321.32485857583,
           0,
           0,
           145084.29951150747,
           82141.26709573244,
           99741.74010232557,
           151080.40622911233,
           1458274.7501484377,
           621183.0404621192,
           0,
           0,
           538575.4910731369,
           0,
           493855.8759751958,
           349759.87796446885,
           299573.3723658607,
           669263.7413849026,
           0,
           0,
           585415.3471840358,
           129712.1788093258,
           221227.18393148255,
           330539.2754758504,
           726858.7400226219,
           565234.9077065355,
           33396.99839856024,
           0,
           459662.9292005968,
           300360.4677305244,
           41230.23095227005,
           61602.78508488445,
           135465.05989105947,
           105343.1380939304,
           6224.216810135317,
           0,
           85667.63086857938,
           55978.344222366766,
           38054.36359301047,
           56857.66797367904,
           125030.50611603454,
           97228.8048470033,
           5744.780082576187,
           0,
           79068.85549582973,
           51666.46451334895,
           126773.1523525621,
           189413.9100978821,
           416522.8348077615,
           323905.09066851455,
           19137.98607774276,
           0,
           263407.5863498775,
           172120.09238467642,
           0,
           412900.4838208878,
           150360.40753778606,
           0,
           0,
           0,
           0,
           3033034.634117356,
           77659.2977202477,
           116032.06959577015,
           255155.5296634049,
           198419.3135733887,
           11723.638096843011,
           0,
           161359.46602659023,
           105438.14088463016,
           156393.8024922615,
           228021978.4187832,
           58552337.51878674,
           62306759.48900606,
           0,
           0,
           96393399.5288224,
           3903.249214196541,
           7983813.636024103,
           25013530.08439273,
           33313773.17420208,
           10978462.085614849,
           14260757.65780234,
           4712204.141659411,
           24740274.966807608,
           16174971.840950208,
           5273123.279804405,
           102079947.38172884,
           31786.555094439267,
           15121.24003226874,
           27029.13709670151,
           64419.007720609705,
           145.60241253802909,
           0,
           51287.30011785874,
           22059.94232849637,
           152634.62800549125,
           228053.97807299616,
           501492.6801683376,
           389981.0969895352,
           23042.097885416348,
           0,
           317142.219864704,
           207232.25529916328,
           57268.348003039646,
           85565.60690338274,
           188159.5133695624,
           146320.4874859745,
           8645.370304664113,
           0,
           118991.4192539256,
           77753.31894870066,
           149869.30483927607,
           223922.26198108745,
           492407.000566806,
           382915.70314029424,
           22624.637916382013,
           0,
           311396.467809376,
           203477.7720350826,
           42713.0321484335,
           63818.26341961925,
           140336.91600744528,
           109131.69148219832,
           6448.064116300871,
           0,
           88748.57566540751,
           57991.545551950985,
           96646.28412592717,
           33700.06037625348,
           156736.00810537787,
           328087.2148249411,
           0,
           0,
           169560.63871009587,
           83942.74487129874,
           7342.751148499716,
           30651.82496181488,
           326364.308517982,
           248158.9201140941,
           0,
           0,
           245209.76994432797,
           114848.38273951762,
           205757.4329821595,
           680790.1449028545,
           407979.890447787,
           431368.1614234947,
           24192.45447162873,
           0,
           325744.2239395693,
           210960.9239415351,
           138208.1559299524,
           271254.8995606914,
           891832.4016921245,
           291937.60618772754,
           4402.242437540773,
           0,
           120345.01027358563,
           348123.116799155,
           100151.81519269524,
           142228.31988365008,
           629981.0724859852,
           141373.2505644766,
           0,
           0,
           204812.41036729683,
           68555.1982785819,
           4020.565122257308,
           18791.935500854004,
           60036.797334907154,
           131393.74279211243,
           1076.591467644989,
           0,
           74919.35464697404,
           27576.36627728009,
           164159.30958100015,
           78092.52422386811,
           139589.97667982403,
           332687.19431500754,
           751.9528758167387,
           0,
           264869.4629728563,
           113926.9383323694,
           28263.42103923712,
           73123.04639911765,
           190063.2862846105,
           281391.3126745955,
           0,
           0,
           270987.9268327324,
           84907.81982795316,
           440648.34154379286,
           658380.136496385,
           1447783.643201722,
           1125855.4226350612,
           66521.35463345294,
           0,
           915573.3207006676,
           598268.8909142619,
           50678.99816353895,
           75720.34791170275,
           166509.70326579537,
           129484.71494578887,
           7650.625887967497,
           0,
           105300.154939453,
           68806.94913708896,
           19462.981346328404,
           29079.969461654706,
           63947.10562720696,
           49727.86919528472,
           2938.1794104283945,
           0,
           40439.92631303724,
           26424.91793605364,
           17447.863804268,
           26069.148275422835,
           57326.28366676855,
           44579.24886001388,
           2633.972322813224,
           0,
           36252.9416233353,
           23688.989933404984,
           214574.1300055162,
           320598.8351316304,
           704999.6252972445,
           548236.3713830117,
           32392.637056692547,
           0,
           445839.3013742516,
           291327.606788541,
           138098.42594343805,
           1202123.719171782,
           265615.7418295232,
           0,
           0,
           0,
           0,
           551712.7615624017,
           0,
           11105.788170714042,
           65197.967548926186,
           74642.94377592277,
           0,
           0,
           45242.45200543177,
           39867.20416085799,
           866719.0614932727,
           2205858.4183308976,
           767707.3779107926,
           1188320.7895052792,
           68705.61128637992,
           0,
           591563.4754967093,
           1235975.9748776287,
           277424.25058874977,
           324028.28876999806,
           247527.8096662969,
           296590.86489084264,
           0,
           0,
           203968.83988484016,
           455873.5980903069,
           187737.892495968,
           1425002.699834945,
           576035.3531210206,
           135758.00475186936,
           0,
           0,
           217666.13933093904,
           1230597.4378762664,
           42760.07821273924,
           137281.88533481152,
           142021.45309844444,
           36117.27082653401,
           146156.5029659213,
           0,
           42975.646656284654,
           36481.42791323415,
           251423.14383851303,
           366475.69866091287,
           529815.903737288,
           228083.67725467336,
           0,
           0,
           138851.86549772683,
           78612.69764537728,
           95426.81945136368,
           144544.52702623376,
           1395188.4251280755,
           594310.0830967523,
           0,
           0,
           515276.2132968588,
           0,
           472508.0135218459,
           334640.8399420056,
           286623.7417973793,
           640333.5392932771,
           0,
           0,
           560109.6519038351,
           124105.122405921,
           210482.1991041571,
           314485.01199563016,
           691555.2750760588,
           537781.49805204,
           31774.909129540367,
           0,
           437337.1412383268,
           285771.98628290795,
           41535.9013411932,
           62059.49238049586,
           136469.36320409045,
           106124.12518150776,
           6270.361561914625,
           0,
           86302.74877699073,
           56393.35335170035,
           35855.77808085908,
           53572.72419171011,
           117806.88618472769,
           91611.42430198536,
           5412.876220114335,
           0,
           74500.6634741544,
           48681.44178223707,
           121188.41929778636,
           181069.6660278436,
           398173.76956443134,
           309636.11152823194,
           18294.901075383837,
           0,
           251803.70155985697,
           164537.6922353255,
           0,
           413115.7901856816,
           150438.81275653586,
           0,
           0,
           0,
           0,
           3034616.2056750404,
           74084.50239218674,
           110690.90746228804,
           243410.26770320244,
           189285.72035298185,
           11183.978224467612,
           0,
           153931.80337416488,
           100584.63609513814,
           152013.03143258565,
           223178272.5141532,
           60123574.041467376,
           63715481.44794626,
           0,
           0,
           95099916.86351934,
           3793.9146950291297,
           7798628.0930434195,
           24973561.525828443,
           32839654.140336704,
           10855603.00146848,
           13980521.160923874,
           4537421.427510772,
           24414276.14081467,
           15984930.338445704,
           4831099.119533235,
           103877826.73967248,
           30489.198677332253,
           14504.07224758133,
           25925.95292474305,
           61789.76989343102,
           139.65970425488075,
           0,
           49194.02804964278,
           21159.573991762325,
           146153.6736661389,
           218370.67463057168,
           480199.0117252009,
           373422.2746840961,
           22063.717119336856,
           0,
           303676.17829286586,
           198433.05421494687,
           52818.55671265787,
           78917.09851032251,
           173539.38562028785,
           134951.28174627083,
           7973.6188952856255,
           0,
           109745.7015147273,
           71711.83087508206,
           144199.49873490946,
           215450.9088294498,
           473778.4213481289,
           368429.3625687477,
           21768.71007775652,
           0,
           299615.8193573315,
           195779.8680832049,
           42768.51420919231,
           63901.160104552895,
           140519.2065382035,
           109273.44801019394,
           6456.4398243010455,
           0,
           88863.85556055086,
           58066.87362612352,
           91220.8712171358,
           31808.24690151975,
           147937.35051250702,
           309669.4491899857,
           0,
           0,
           160042.04742228173,
           79230.467976817,
           6930.714023682088,
           28931.803464115084,
           308050.43561050674,
           234233.52813583668,
           0,
           0,
           231449.86898326973,
           108403.68694949154,
           194230.50529359997,
           642650.9697700678,
           385124.0712075371,
           407202.0861969116,
           22837.146576980704,
           0,
           307495.4051246353,
           199142.4866674045,
           130499.93507803643,
           256126.32296613924,
           842092.637284721,
           275655.5023687952,
           4156.718164939672,
           0,
           113633.06254971148,
           328707.4039572498,
           94564.77042634429,
           134294.00547602866,
           594837.1018334221,
           133486.63684560818,
           0,
           0,
           193386.79513281837,
           64730.79468677919,
           3795.217471181074,
           17738.670998097732,
           56671.80986519408,
           124029.28769588616,
           1016.2498611729357,
           0,
           70720.21843689712,
           26030.745406372764,
           154979.45069242682,
           73725.55682824881,
           131784.04540823968,
           314083.18394458,
           709.9033489974964,
           0,
           250057.84918019915,
           107556.09515467985,
           26672.870513199163,
           69007.97838402666,
           179367.29659670932,
           265555.75264894444,
           0,
           0,
           255737.8271022232,
           80129.55263571902,
           416004.2228925709,
           621558.9421975926,
           1366813.516866149,
           1062889.7604420884,
           62801.0180251648,
           0,
           864368.0955313403,
           564809.5353624589,
           48764.52850632093,
           72859.9064317202,
           160219.56758659234,
           124593.2497073228,
           7361.612851956494,
           0,
           101322.29509933927,
           66207.67091332423,
           18978.638656351864,
           28356.30486048863,
           62355.76087870377,
           48490.37482048847,
           2865.0618497650057,
           0,
           39433.56545061959,
           25767.325165048285,
           16020.118255061996,
           23935.9295135523,
           52635.31706616219,
           40931.36251353389,
           2418.436352174316,
           0,
           33286.39072466993,
           21750.537735358164,
           209561.99738707804,
           313110.1230536403,
           688531.8823412405,
           535430.384941159,
           31635.99322090068,
           0,
           435425.15822967904,
           284522.6270801352,
           130752.56722186804,
           1138179.246622174,
           251486.86454236388,
           0,
           0,
           0,
           0,
           522365.5479816721,
           0,
           10510.843953800122,
           61705.27048397928,
           70644.27325832538,
           0,
           0,
           42818.78474599163,
           37731.49238647215,
           820372.3244300624,
           2087902.8492715172,
           726655.1689929272,
           1124776.7951190716,
           65031.66312655663,
           0,
           559930.3453705438,
           1169883.677997248,
           262639.7251529281,
           306760.13550985884,
           234336.52883804115,
           280784.9100159344,
           0,
           0,
           193098.9087415,
           431579.12926798034,
           177715.3107692109,
           1348927.455620451,
           545283.1095147877,
           128510.42313902947,
           0,
           0,
           206045.8071668349,
           1164900.7198089876,
           40469.41007605194,
           129927.66023456075,
           134413.32816190695,
           34182.45955105325,
           138326.86236872672,
           0,
           40673.43046389811,
           34527.10865109577,
           238089.7520105408,
           347040.87650780857,
           501718.876019912,
           215988.0165610237,
           0,
           0,
           131488.31773334433,
           74443.73418259852,
           90334.02518753648,
           136830.39024226597,
           1320729.193967471,
           562592.5952926825,
           0,
           0,
           487776.65124027873,
           0,
           447312.5178153856,
           316796.8212064899,
           271340.1337967467,
           606189.1005149485,
           0,
           0,
           530242.983136666,
           117487.47785970091,
           193202.76153421463,
           288667.5122042487,
           634782.368613181,
           493632.5778041005,
           29166.362844242445,
           0,
           401434.1534264919,
           262311.6688915527,
           40777.11689832041,
           60925.77971674297,
           133976.3192015682,
           104185.43280693422,
           6155.81360097632,
           0,
           84726.15645481586,
           55363.15061568171,
           33555.97524768222,
           50136.549899264086,
           110250.70904629282,
           85735.43375212344,
           5065.69234256518,
           0,
           69722.16343588912,
           45558.99614791153,
           115631.32235931754,
           172766.71354638247,
           379915.50488331495,
           295437.74259675137,
           17455.98808893924,
           0,
           240257.23872832995,
           156992.8136810728,
           0,
           412549.9770211702,
           150232.76819776252,
           0,
           0,
           0,
           0,
           3030459.923491688,
           71634.46962192396,
           107030.27208112452,
           235360.49867952365,
           183025.89268548155,
           10814.115267073425,
           0,
           148841.1575511577,
           97258.22305785444,
           150769.70941799445,
           238731212.5555936,
           61845710.18395456,
           64747080.52051731,
           0,
           0,
           92168179.50032409,
           3762.884081289263,
           7625549.725836618,
           24958657.354504663,
           32386468.53290092,
           10740106.588857211,
           13711093.055924252,
           4374886.46419022,
           24099671.004796192,
           15800467.84282196,
           4353419.63167401,
           101335093.7524828,
           30000.35303617687,
           14271.522597055282,
           25510.271646458656,
           60799.06954738176,
           137.42048378888646,
           0,
           48405.28032171962,
           20820.313992703443,
           140994.55124686845,
           210662.34260621693,
           463248.3225980691,
           360240.7296647181,
           21284.883342617468,
           0,
           292956.62167598645,
           191428.5062412628,
           50245.873968304186,
           75073.2097294064,
           165086.6407776015,
           128378.08369836128,
           7585.240396919013,
           0,
           104400.21519085988,
           68218.8957905056,
           139352.0412508763,
           208208.24065369545,
           457851.7310719067,
           356044.1206879514,
           21036.92600423378,
           0,
           289543.8360382466,
           189198.468043059,
           42369.29194206929,
           63304.67536617852,
           139207.53141350503,
           108253.43610523036,
           6396.172251488174,
           0,
           88034.35679169836,
           57524.84897639219,
           88409.09438726868,
           30827.794835637866,
           143377.35444041446,
           300124.25004276953,
           0,
           0,
           155108.93820350093,
           76788.28132474635,
           6717.241124065723,
           28040.675081741832,
           298562.1751667548,
           227018.90201395788,
           0,
           0,
           224320.98233770052,
           105064.74534792788,
           188266.6122931551,
           622918.221741908,
           373298.7467091761,
           394698.8510950653,
           22135.92666090877,
           0,
           298053.68693768175,
           193027.77013236983,
           126522.76182452298,
           248320.50482061648,
           816428.6527625321,
           267254.50438707665,
           4030.036199173897,
           0,
           110169.93150050992,
           318689.5729562699,
           91684.85006975249,
           130204.1521575573,
           576721.6506912819,
           129421.3715142227,
           0,
           0,
           187497.30197920412,
           62759.4523731845,
           3678.568997999204,
           17193.461427390394,
           54929.96499242296,
           120217.16700730342,
           985.0147618466724,
           0,
           68546.58660515254,
           25230.67354474782,
           150236.36929519344,
           71469.21693589282,
           127750.84970754974,
           304470.7992039225,
           688.1770533278458,
           0,
           242404.93308468,
           104264.3857583182,
           25847.38516510841,
           66872.284926167,
           173816.14771702798,
           257337.20028861877,
           0,
           0,
           247823.12481620628,
           77649.66313087102,
           403271.0360349479,
           602534.0724522865,
           1324977.6629203204,
           1030356.4995182968,
           60878.78490021434,
           0,
           837911.2475752308,
           547521.66914146,
           46878.12701922365,
           70041.40207922245,
           154021.65201527177,
           119773.49857408435,
           7076.837055763464,
           0,
           97402.75493344331,
           63646.500884745896,
           18828.59678258363,
           28132.124760353418,
           61862.78688979475,
           48107.01820416156,
           2842.411160419764,
           0,
           39121.81042136237,
           25563.613095928657,
           14822.218578623684,
           22146.12735585133,
           48699.52656331365,
           37870.731803417344,
           2237.598478343961,
           0,
           30797.41055336052,
           20124.14761134569,
           206470.97245073583,
           308491.7704408223,
           678376.0848000847,
           527532.8238749155,
           31169.36451363972,
           0,
           429002.6673258886,
           280325.93805147585,
           125940.19544348844,
           1096288.3545229954,
           242230.8452130973,
           0,
           0,
           0,
           0,
           503139.78993717255,
           0,
           10120.522486298016,
           59413.83776613235,
           68020.8895861855,
           0,
           0,
           41228.70397111059,
           36330.32883156961,
           789992.6958278428,
           2010584.6472436131,
           699746.0284740478,
           1083124.6083271152,
           62623.44223180376,
           0,
           539195.277366772,
           1126561.115074314,
           252959.02975973935,
           295453.19620768324,
           225699.06718269808,
           270435.3972631113,
           0,
           0,
           185981.4335949084,
           415671.45922275697,
           171145.20041999145,
           1299057.7949921235,
           525124.068711994,
           123759.41064948216,
           0,
           0,
           198428.32230174,
           1121834.5020368483,
           38967.54635691405,
           125105.90378562668,
           129425.10370902807,
           32913.91138753542,
           133193.4024150639,
           0,
           39163.99532679551,
           33245.77018551486,
           229386.262705541,
           334354.62465707905,
           483378.29296381096,
           208092.46718826547,
           0,
           0,
           126681.69687939886,
           71722.40645298752,
           86997.56540578257,
           131776.60134027427,
           1271948.4623537457,
           541813.4086704798,
           0,
           0,
           469760.76878665,
           0,
           430816.8400179522,
           305114.209873824,
           261333.84235092832,
           583834.4833554584,
           0,
           0,
           510689.0537119091,
           113154.85692284044,
           183811.8004605719,
           274636.3185049012,
           603927.6517005273,
           469638.6954908847,
           27748.68032275573,
           0,
           381921.7381870683,
           249561.54745352865,
           40372.1491060334,
           60320.710492089886,
           132645.76671692124,
           103150.74109938908,
           6094.678669589829,
           0,
           83884.71970944645,
           54813.32525812168,
           32682.215942979437,
           48831.05135073946,
           107379.90638988868,
           83502.98088998166,
           4933.787494429864,
           0,
           67906.67786002811,
           44372.69187562233,
           112642.58892968636,
           168301.196403034,
           370095.7938680628,
           287801.5360771212,
           17004.801558471856,
           0,
           234047.2877699997,
           152935.00597908662,
           0,
           422626.66564230574,
           153902.26016271397,
           0,
           0,
           0,
           0,
           3104480.048879524,
           70105.31301075433,
           104745.5333371659,
           230336.33832120048,
           179118.90132653987,
           10583.27003373991,
           0,
           145663.8960835327,
           95182.08491424192,
           144589.35690592916,
           209074547.73219335,
           62595504.25857367,
           61074838.12977438,
           0,
           0,
           95905490.4629423,
           3608.6359224635953,
           7464027.363397815,
           24967665.52013032,
           31953307.658965334,
           10631863.15403044,
           13452160.268031798,
           4223777.83988567,
           23796066.20705092,
           15621438.541854966,
           5670531.278513024,
           102074624.1042192,
           29058.58205990976,
           13823.511010230312,
           24709.453289276207,
           58890.4653714668,
           133.1065804484526,
           0,
           46885.74193328476,
           20166.722769578457,
           138652.57081395024,
           207163.1500489625,
           455553.5677475269,
           354256.97545184963,
           20931.332231141707,
           0,
           288090.4855764596,
           188248.79601873917,
           47517.13762516747,
           70996.15862837905,
           156121.16996619987,
           121406.1690915829,
           7173.303664451023,
           0,
           98730.48275467416,
           64514.086509058216,
           135072.3841131979,
           201813.93257439812,
           443790.5920222628,
           345109.60728755273,
           20390.85846391876,
           0,
           280651.6208008607,
           183387.97135474297,
           42081.252058580285,
           62874.310106789366,
           138261.15446710805,
           107517.49491542552,
           6352.689044060179,
           0,
           87435.87131528348,
           57133.77680979715,
           86304.29575818349,
           30093.862418871548,
           139963.8995106974,
           292979.04496603704,
           0,
           0,
           151416.1837108523,
           74960.14508624862,
           6557.473989381751,
           27373.7378332986,
           291460.98252376466,
           221619.3400771492,
           0,
           0,
           218985.58943819776,
           102565.8186292783,
           183807.05751370583,
           608162.881434145,
           364456.2536628939,
           385349.44428094936,
           21611.583144361717,
           0,
           290993.5570085061,
           188455.4356946532,
           123551.53010417007,
           242489.00264585088,
           797255.8282405903,
           260978.360479126,
           3935.3957470016394,
           0,
           107582.72592277036,
           311205.5396135053,
           89536.9058367879,
           127153.7980639192,
           563210.5205243491,
           126389.35599197612,
           0,
           0,
           183104.71423786788,
           61289.15707699937,
           3591.3118937393297,
           16785.625756189467,
           53627.004606212446,
           117365.568496826,
           961.64982406279,
           0,
           66920.6345957387,
           24632.19203923893,
           146692.22409022477,
           69783.22516376396,
           124737.14827462932,
           297288.19270115683,
           671.942639416198,
           0,
           236686.48897368865,
           101804.74083633344,
           25229.24653630042,
           65273.038339115,
           169659.34521928328,
           251182.9969480648,
           0,
           0,
           241896.4500062687,
           75792.67620594552,
           393757.50967660325,
           588319.7518890343,
           1293720.2484420885,
           1006049.463205851,
           59442.59962267313,
           0,
           818144.1678014441,
           534605.1406390492,
           45322.54784590014,
           67717.18493846219,
           148910.67831921123,
           115798.99763419968,
           6842.003007627639,
           0,
           94170.59301416134,
           61534.48879026468,
           18741.22382883756,
           28001.57935307491,
           61575.71640440813,
           47883.78052347037,
           2829.2211249798206,
           0,
           38940.26804877462,
           25444.9867102025,
           14166.986537861943,
           21167.13408670126,
           46546.71185443938,
           36196.61556008519,
           2138.683042062032,
           0,
           29435.97804850204,
           19234.53812150933,
           204239.341839773,
           305157.45341807406,
           671043.8926831215,
           521831.0131841762,
           30832.472081995387,
           0,
           424365.8146331082,
           277296.04994189274,
           122140.64071011794,
           1063213.8655411524,
           234922.8578683361,
           0,
           0,
           0,
           0,
           487960.30602680624,
           0,
           9812.339231115291,
           57604.608059814826,
           65949.56380221769,
           0,
           0,
           39973.23556876436,
           35224.022411488,
           766024.861723117,
           1949584.894292549,
           678516.2160789701,
           1050263.3539582675,
           60723.49014059373,
           0,
           522836.4641445358,
           1092382.0270175044,
           245324.98477203253,
           286536.7207066762,
           218887.7000052042,
           262273.93336543656,
           0,
           0,
           180368.7040066812,
           403126.9194100204,
           165959.0143726298,
           1259692.6512745582,
           509211.3167820264,
           120009.1487247249,
           0,
           0,
           192415.3801099796,
           1087839.727847243,
           37782.896684993226,
           121302.56788868472,
           125490.46011502582,
           31913.297852114392,
           129144.19903367043,
           0,
           37973.37342337755,
           32235.06783381195,
           222542.50723606444,
           324379.13063990226,
           468956.6671991334,
           201884.01362317684,
           0,
           0,
           122902.1394391441,
           69582.56335315571,
           84365.63992205543,
           127789.981788236,
           1233468.378957827,
           525422.0014965713,
           0,
           0,
           455549.16030245833,
           0,
           417812.4338242555,
           295904.19589084527,
           253445.3590735584,
           566211.1686049832,
           0,
           0,
           495273.6676910945,
           109739.2250683546,
           177209.8694707429,
           264772.2618038247,
           582236.5052703959,
           452770.7781427317,
           26752.03662474161,
           0,
           368204.33292413794,
           240598.0961959118,
           39513.26473919253,
           59037.43683969352,
           129823.83680029564,
           100956.29366668907,
           5965.019378565192,
           0,
           82100.14108357129,
           53647.21671049103,
           32127.958141829204,
           48002.92540001644,
           105558.85022566728,
           82086.85357908208,
           4850.11537706866,
           0,
           66755.04830039902,
           43620.17525701214,
           110760.85452746136,
           165489.66522094348,
           363913.2123590828,
           282993.7093341867,
           16720.73031686039,
           0,
           230137.44481158565,
           150380.17245839248,
           0,
           415600.44831100106,
           151343.61723837603,
           0,
           0,
           0,
           0,
           3052867.7080184096,
           70685.25679862194,
           105612.0371548787,
           232241.78774853647,
           180600.6562699642,
           10670.819770668568,
           0,
           146868.8956480775,
           95969.47543418487,
           141755.93809633053,
           195217000.0901314,
           62180182.86365591,
           58517008.95220767,
           0,
           0,
           91497934.81828517,
           3537.91995056565,
           7313575.09338619,
           24999554.83534079,
           31539330.957033664,
           10530803.432761304,
           13203442.26596571,
           4083350.56549468,
           23503094.334936403,
           15447703.513965674,
           3984001.131451128,
           99077031.45110609,
           28202.55124066683,
           13416.287029703512,
           23981.54256401594,
           57155.62320973985,
           129.18542094820592,
           0,
           45504.54446139109,
           19572.635412587137,
           134662.14218155315,
           201200.9831689685,
           442442.7109515888,
           344061.4401669949,
           20328.92733551636,
           0,
           279799.22551819443,
           182830.98529054545,
           43740.622825395,
           65353.604022037216,
           143713.14333828978,
           111757.18311993632,
           6603.191725769912,
           0,
           90883.6900405814,
           59386.7069009436,
           129690.7576512684,
           193773.15349835667,
           426108.84893863706,
           331359.56498957775,
           19578.43493107492,
           0,
           269469.74821453285,
           176081.32932038634,
           42436.3432337994,
           63404.8578346904,
           139427.83353261047,
           108424.75198973944,
           6406.294478977293,
           0,
           88173.67508258656,
           57615.88461219464,
           83243.49997104844,
           29026.578728052828,
           135000.0572104986,
           282588.49582044745,
           0,
           0,
           146046.18430196075,
           72301.6714347645,
           6325.056921609325,
           26403.528284394808,
           281130.7079335897,
           213764.46832839408,
           0,
           0,
           211224.0659210544,
           98930.57023056636,
           177310.21974109032,
           586666.777674857,
           351574.19577408576,
           371728.8964133888,
           20847.7008887098,
           0,
           280708.1090048589,
           181794.29651078672,
           119206.14797648454,
           233960.517588894,
           769215.8580005708,
           251799.5935113473,
           3796.9854955869255,
           0,
           103798.97630770411,
           300260.25234160275,
           86395.69990583012,
           122692.88598649867,
           543451.5148839955,
           121955.26268775108,
           0,
           0,
           176680.88700176968,
           59138.96144633271,
           3464.250612495221,
           16191.74720200886,
           51729.671231623724,
           113213.15290375352,
           927.6264748330564,
           0,
           64552.97012520732,
           23760.700513868283,
           141520.5269135283,
           67322.98767811347,
           120339.486697392,
           286807.1701630288,
           648.2530139249835,
           0,
           228342.00545127268,
           98215.57110342554,
           24332.258696401863,
           62952.35382801886,
           163627.36287815848,
           242252.5640265936,
           0,
           0,
           233296.186266404,
           73097.98182368235,
           379876.6941039142,
           567580.190679271,
           1248113.7730607628,
           970584.013753896,
           57347.11765154528,
           0,
           789302.7920154934,
           515759.1372510328,
           42951.23688271346,
           64174.16914008533,
           141119.5557805022,
           109740.30398904873,
           6484.024087349191,
           0,
           89243.51432512705,
           58314.95646435547,
           19007.618568202222,
           28399.60423670516,
           62450.97658338879,
           48564.418423580006,
           2869.436728351159,
           0,
           39493.77952979549,
           25806.67123330028,
           13384.969035673585,
           19998.70851625765,
           43977.33386835827,
           34198.562776430736,
           2020.627761494344,
           0,
           27811.112381661715,
           18172.791827240624,
           201898.70025844587,
           301660.2612616159,
           663353.536731319,
           515850.6797338112,
           30479.123086840274,
           0,
           419502.4603817845,
           274118.1574801116,
           116384.14916113092,
           1013104.5686177866,
           223850.93751389405,
           0,
           0,
           0,
           0,
           464962.7242100299,
           0,
           9347.61196789228,
           54876.36648335342,
           62826.09246937094,
           0,
           0,
           38080.04252575037,
           33555.75930424764,
           729836.8219113623,
           1857483.8943167084,
           646462.2018200151,
           1000647.5073128012,
           57854.83118640071,
           0,
           498136.9697483104,
           1040776.437879794,
           233770.83375809243,
           273041.6070917276,
           208578.67443528812,
           249921.5321783326,
           0,
           0,
           171873.82018464236,
           384140.7190889399,
           158121.01041022153,
           1200199.1912209962,
           485162.0035601536,
           114341.29038761988,
           0,
           0,
           183327.8802990681,
           1036462.6325471514,
           35996.38090271153,
           115566.9316358268,
           119556.8047526425,
           30404.318518084037,
           123037.7813154276,
           0,
           36177.85119296357,
           30710.87401913021,
           212144.66747008509,
           309223.1846334002,
           447045.6339170653,
           192451.39937326245,
           0,
           0,
           117159.7903991528,
           66331.46156034294,
           80386.27948155816,
           121762.3809937681,
           1175288.114144286,
           500638.88446866686,
           0,
           0,
           434061.8070519624,
           0,
           398136.0708576682,
           281968.95153157035,
           241509.6614408116,
           539546.1496460373,
           0,
           0,
           471949.3631363335,
           104571.1911629175,
           168573.41156303912,
           251868.3840399861,
           553860.7658992514,
           430704.6495521139,
           25448.255752124485,
           0,
           350259.6144260608,
           228872.3647980185,
           38882.65391177074,
           58095.23054162944,
           127751.91696061452,
           99345.08456253629,
           5869.82082104957,
           0,
           80789.86621152805,
           52791.03547763222,
           31038.07375942032,
           46374.51071918114,
           101977.9521873258,
           79302.2016780188,
           4685.583757007001,
           0,
           64490.50088445753,
           42140.43765399716,
           110145.46638011093,
           164570.20338652152,
           361891.3077926596,
           281421.3941399606,
           16627.82981247246,
           0,
           228858.79942371123,
           149544.65908029312,
           0,
           409350.6938417112,
           149067.72833575812,
           0,
           0,
           0,
           0,
           3006959.014512716,
           69278.03917678162,
           103509.48951632084,
           227618.26721470695,
           177005.21872712468,
           10458.382746303683,
           0,
           143944.9974065388,
           94058.89403282553,
           137276.76583729143,
           197255435.00251576,
           61370049.357721314,
           57430365.3676786,
           0,
           0,
           85183089.72865613,
           3426.1295514466674,
           7173769.208071607,
           25053406.092086814,
           31143761.60048255,
           10436898.717125691,
           12964691.177192925,
           3952929.758363297,
           23220412.00405357,
           15279130.335757812,
           4235695.050499632,
           98877444.86358652,
           28097.820177041274,
           13366.46522462864,
           23892.486349254443,
           56943.37400009012,
           128.70568681261778,
           0,
           45335.56190018344,
           19499.95181360267,
           135639.3695223052,
           202661.0750593368,
           445653.4657105278,
           346558.25360529893,
           20476.4519722004,
           0,
           281829.6956166798,
           184157.7682650928,
           40891.14093086709,
           61096.144951408176,
           134350.9538335167,
           104476.76392803552,
           6173.026948652156,
           0,
           84963.07408793956,
           55517.96120965848,
           125539.9790974114,
           187571.40508990828,
           412471.1502790372,
           320754.3360520423,
           18951.823217937195,
           0,
           260845.31520127412,
           170445.81127180668,
           42751.554956505446,
           63875.820998408206,
           140463.4856235282,
           109230.11716153024,
           6453.879613911171,
           0,
           88828.61784867223,
           58043.848024211205,
           84268.708035009,
           29384.06348772218,
           136662.68729375408,
           286068.79163691803,
           0,
           0,
           147844.85598094008,
           73192.1224203493,
           6403.096232791836,
           26729.29818427704,
           284599.3323382862,
           216401.91998620445,
           0,
           0,
           213830.1737891642,
           100151.18747581352,
           179516.23453357338,
           593965.8244624528,
           355948.3253514191,
           376353.7818005863,
           21107.078699063382,
           0,
           284200.55428939406,
           184056.10018954508,
           120708.01893745584,
           236908.17182774996,
           778907.1615068092,
           254972.00117570427,
           3844.823483407622,
           0,
           105106.73325599372,
           304043.2128799697,
           87494.92576105037,
           124253.92655535748,
           550365.9325792076,
           123506.9183612704,
           0,
           0,
           178928.82525942926,
           59891.39560154575,
           3507.223267222261,
           16392.599403471922,
           52371.3572842903,
           114617.51715867914,
           939.1333133033684,
           0,
           65353.7241141912,
           24055.442578882918,
           143293.76131349526,
           68166.5362449749,
           121847.32532787256,
           290400.8279269022,
           656.3755426439191,
           0,
           231203.102055803,
           99446.19985454238,
           24630.130542702223,
           63723.00706238046,
           165630.46441073355,
           245218.18342995248,
           0,
           0,
           236152.1630421351,
           73992.83630794237,
           384639.4373077333,
           574696.2858168174,
           1263762.1281257148,
           982752.8108582993,
           58066.11304950671,
           0,
           799198.7571188407,
           522225.5205903541,
           40767.214860936925,
           60910.98491528905,
           133943.7853045655,
           104160.13312591356,
           6154.318765121332,
           0,
           84705.58213195074,
           55349.7066051983,
           20164.925415025413,
           30128.75596143468,
           66253.39625692216,
           51521.33455444233,
           3044.146609040901,
           0,
           41898.41645434005,
           27377.948413808124,
           13028.19675251627,
           19465.649016566116,
           42805.13139485466,
           33287.0104754932,
           1966.7685423988012,
           0,
           27069.815630424902,
           17688.40158216293,
           198342.91571295235,
           296347.5034597552,
           651670.7361432601,
           506765.6590158381,
           29942.33312883832,
           0,
           412114.2980830049,
           269290.4636576192,
           113582.01240051586,
           988712.436402766,
           218461.3638870129,
           0,
           0,
           0,
           0,
           453767.9940752515,
           0,
           9120.732254578405,
           53544.43974760363,
           61301.21468271887,
           0,
           0,
           37155.78623859402,
           32741.31374562506,
           712221.9962746998,
           1812652.9760360855,
           630859.6470791753,
           976496.5864002132,
           56458.48787651114,
           0,
           486114.2879626584,
           1015656.993464826,
           228159.79260452572,
           266487.97647237906,
           203572.3034214265,
           243922.8368763079,
           0,
           0,
           167748.45063886442,
           374920.4526043741,
           154303.39082322468,
           1171221.9924994854,
           473448.418105237,
           111580.6733851494,
           0,
           0,
           178901.67466797202,
           1011438.6332890078,
           35126.711715334466,
           112774.84540374063,
           116668.32356016804,
           29669.7530335749,
           120065.2000555931,
           0,
           35303.79770038973,
           29968.90218246024,
           207141.7764512958,
           301930.9443350575,
           436503.2025960987,
           187912.9238652052,
           0,
           0,
           114396.8754970669,
           64767.20318297787,
           78451.14578312573,
           118831.2030840296,
           1146995.479509174,
           488587.0370348869,
           0,
           0,
           423612.6652898856,
           0,
           388584.7314660348,
           275204.4773954304,
           235715.81126840567,
           526602.3629109722,
           0,
           0,
           460627.2326564958,
           102062.51382747086,
           161400.40863241977,
           241151.07909789815,
           530293.3191701762,
           412377.64480787306,
           24365.401632980807,
           0,
           335355.6434056001,
           219133.56834007276,
           38195.43897535033,
           57068.45108738778,
           125494.02001533688,
           97589.25209991063,
           5766.077168378895,
           0,
           79361.98006728619,
           51858.00276408212,
           30469.0256239748,
           45524.28627994902,
           100108.3012547792,
           77848.28509958084,
           4599.678854497082,
           0,
           63308.14016301907,
           41367.840177113234,
           110295.9743771299,
           164795.07992928574,
           362385.8132649637,
           281805.94170004013,
           16650.550868927123,
           0,
           229171.52295772,
           149749.00400562477,
           0,
           412010.1210464145,
           150036.17611914632,
           0,
           0,
           0,
           0,
           3026494.314505917,
           68056.98246850447,
           101685.08804586744,
           223606.39252235732,
           173885.42185794227,
           10274.049030138343,
           0,
           141407.90185945385,
           92401.06357317818,
           135697.62699114654,
           173203359.95394266,
           54605164.62656589,
           52607856.08562708,
           0,
           0,
           79968144.08593214,
           3386.717679862898,
           7044245.776186454,
           25128404.09368713,
           30765882.61819565,
           10350161.666709498,
           12735692.167604322,
           3831905.0359978834,
           22947698.14836572,
           15115592.723401636
          ]
         },
         "node": {
          "label": [
           "Farm",
           "Foodservice",
           "Manufacturing",
           "Retail"
          ],
          "line": {
           "color": "black",
           "width": 0.5
          },
          "pad": 15,
          "thickness": 20
         },
         "type": "sankey"
        }
       ],
       "layout": {
        "font": {
         "size": 13
        },
        "template": {
         "data": {
          "bar": [
           {
            "error_x": {
             "color": "#2a3f5f"
            },
            "error_y": {
             "color": "#2a3f5f"
            },
            "marker": {
             "line": {
              "color": "#E5ECF6",
              "width": 0.5
             },
             "pattern": {
              "fillmode": "overlay",
              "size": 10,
              "solidity": 0.2
             }
            },
            "type": "bar"
           }
          ],
          "barpolar": [
           {
            "marker": {
             "line": {
              "color": "#E5ECF6",
              "width": 0.5
             },
             "pattern": {
              "fillmode": "overlay",
              "size": 10,
              "solidity": 0.2
             }
            },
            "type": "barpolar"
           }
          ],
          "carpet": [
           {
            "aaxis": {
             "endlinecolor": "#2a3f5f",
             "gridcolor": "white",
             "linecolor": "white",
             "minorgridcolor": "white",
             "startlinecolor": "#2a3f5f"
            },
            "baxis": {
             "endlinecolor": "#2a3f5f",
             "gridcolor": "white",
             "linecolor": "white",
             "minorgridcolor": "white",
             "startlinecolor": "#2a3f5f"
            },
            "type": "carpet"
           }
          ],
          "choropleth": [
           {
            "colorbar": {
             "outlinewidth": 0,
             "ticks": ""
            },
            "type": "choropleth"
           }
          ],
          "contour": [
           {
            "colorbar": {
             "outlinewidth": 0,
             "ticks": ""
            },
            "colorscale": [
             [
              0,
              "#0d0887"
             ],
             [
              0.1111111111111111,
              "#46039f"
             ],
             [
              0.2222222222222222,
              "#7201a8"
             ],
             [
              0.3333333333333333,
              "#9c179e"
             ],
             [
              0.4444444444444444,
              "#bd3786"
             ],
             [
              0.5555555555555556,
              "#d8576b"
             ],
             [
              0.6666666666666666,
              "#ed7953"
             ],
             [
              0.7777777777777778,
              "#fb9f3a"
             ],
             [
              0.8888888888888888,
              "#fdca26"
             ],
             [
              1,
              "#f0f921"
             ]
            ],
            "type": "contour"
           }
          ],
          "contourcarpet": [
           {
            "colorbar": {
             "outlinewidth": 0,
             "ticks": ""
            },
            "type": "contourcarpet"
           }
          ],
          "heatmap": [
           {
            "colorbar": {
             "outlinewidth": 0,
             "ticks": ""
            },
            "colorscale": [
             [
              0,
              "#0d0887"
             ],
             [
              0.1111111111111111,
              "#46039f"
             ],
             [
              0.2222222222222222,
              "#7201a8"
             ],
             [
              0.3333333333333333,
              "#9c179e"
             ],
             [
              0.4444444444444444,
              "#bd3786"
             ],
             [
              0.5555555555555556,
              "#d8576b"
             ],
             [
              0.6666666666666666,
              "#ed7953"
             ],
             [
              0.7777777777777778,
              "#fb9f3a"
             ],
             [
              0.8888888888888888,
              "#fdca26"
             ],
             [
              1,
              "#f0f921"
             ]
            ],
            "type": "heatmap"
           }
          ],
          "heatmapgl": [
           {
            "colorbar": {
             "outlinewidth": 0,
             "ticks": ""
            },
            "colorscale": [
             [
              0,
              "#0d0887"
             ],
             [
              0.1111111111111111,
              "#46039f"
             ],
             [
              0.2222222222222222,
              "#7201a8"
             ],
             [
              0.3333333333333333,
              "#9c179e"
             ],
             [
              0.4444444444444444,
              "#bd3786"
             ],
             [
              0.5555555555555556,
              "#d8576b"
             ],
             [
              0.6666666666666666,
              "#ed7953"
             ],
             [
              0.7777777777777778,
              "#fb9f3a"
             ],
             [
              0.8888888888888888,
              "#fdca26"
             ],
             [
              1,
              "#f0f921"
             ]
            ],
            "type": "heatmapgl"
           }
          ],
          "histogram": [
           {
            "marker": {
             "pattern": {
              "fillmode": "overlay",
              "size": 10,
              "solidity": 0.2
             }
            },
            "type": "histogram"
           }
          ],
          "histogram2d": [
           {
            "colorbar": {
             "outlinewidth": 0,
             "ticks": ""
            },
            "colorscale": [
             [
              0,
              "#0d0887"
             ],
             [
              0.1111111111111111,
              "#46039f"
             ],
             [
              0.2222222222222222,
              "#7201a8"
             ],
             [
              0.3333333333333333,
              "#9c179e"
             ],
             [
              0.4444444444444444,
              "#bd3786"
             ],
             [
              0.5555555555555556,
              "#d8576b"
             ],
             [
              0.6666666666666666,
              "#ed7953"
             ],
             [
              0.7777777777777778,
              "#fb9f3a"
             ],
             [
              0.8888888888888888,
              "#fdca26"
             ],
             [
              1,
              "#f0f921"
             ]
            ],
            "type": "histogram2d"
           }
          ],
          "histogram2dcontour": [
           {
            "colorbar": {
             "outlinewidth": 0,
             "ticks": ""
            },
            "colorscale": [
             [
              0,
              "#0d0887"
             ],
             [
              0.1111111111111111,
              "#46039f"
             ],
             [
              0.2222222222222222,
              "#7201a8"
             ],
             [
              0.3333333333333333,
              "#9c179e"
             ],
             [
              0.4444444444444444,
              "#bd3786"
             ],
             [
              0.5555555555555556,
              "#d8576b"
             ],
             [
              0.6666666666666666,
              "#ed7953"
             ],
             [
              0.7777777777777778,
              "#fb9f3a"
             ],
             [
              0.8888888888888888,
              "#fdca26"
             ],
             [
              1,
              "#f0f921"
             ]
            ],
            "type": "histogram2dcontour"
           }
          ],
          "mesh3d": [
           {
            "colorbar": {
             "outlinewidth": 0,
             "ticks": ""
            },
            "type": "mesh3d"
           }
          ],
          "parcoords": [
           {
            "line": {
             "colorbar": {
              "outlinewidth": 0,
              "ticks": ""
             }
            },
            "type": "parcoords"
           }
          ],
          "pie": [
           {
            "automargin": true,
            "type": "pie"
           }
          ],
          "scatter": [
           {
            "fillpattern": {
             "fillmode": "overlay",
             "size": 10,
             "solidity": 0.2
            },
            "type": "scatter"
           }
          ],
          "scatter3d": [
           {
            "line": {
             "colorbar": {
              "outlinewidth": 0,
              "ticks": ""
             }
            },
            "marker": {
             "colorbar": {
              "outlinewidth": 0,
              "ticks": ""
             }
            },
            "type": "scatter3d"
           }
          ],
          "scattercarpet": [
           {
            "marker": {
             "colorbar": {
              "outlinewidth": 0,
              "ticks": ""
             }
            },
            "type": "scattercarpet"
           }
          ],
          "scattergeo": [
           {
            "marker": {
             "colorbar": {
              "outlinewidth": 0,
              "ticks": ""
             }
            },
            "type": "scattergeo"
           }
          ],
          "scattergl": [
           {
            "marker": {
             "colorbar": {
              "outlinewidth": 0,
              "ticks": ""
             }
            },
            "type": "scattergl"
           }
          ],
          "scattermapbox": [
           {
            "marker": {
             "colorbar": {
              "outlinewidth": 0,
              "ticks": ""
             }
            },
            "type": "scattermapbox"
           }
          ],
          "scatterpolar": [
           {
            "marker": {
             "colorbar": {
              "outlinewidth": 0,
              "ticks": ""
             }
            },
            "type": "scatterpolar"
           }
          ],
          "scatterpolargl": [
           {
            "marker": {
             "colorbar": {
              "outlinewidth": 0,
              "ticks": ""
             }
            },
            "type": "scatterpolargl"
           }
          ],
          "scatterternary": [
           {
            "marker": {
             "colorbar": {
              "outlinewidth": 0,
              "ticks": ""
             }
            },
            "type": "scatterternary"
           }
          ],
          "surface": [
           {
            "colorbar": {
             "outlinewidth": 0,
             "ticks": ""
            },
            "colorscale": [
             [
              0,
              "#0d0887"
             ],
             [
              0.1111111111111111,
              "#46039f"
             ],
             [
              0.2222222222222222,
              "#7201a8"
             ],
             [
              0.3333333333333333,
              "#9c179e"
             ],
             [
              0.4444444444444444,
              "#bd3786"
             ],
             [
              0.5555555555555556,
              "#d8576b"
             ],
             [
              0.6666666666666666,
              "#ed7953"
             ],
             [
              0.7777777777777778,
              "#fb9f3a"
             ],
             [
              0.8888888888888888,
              "#fdca26"
             ],
             [
              1,
              "#f0f921"
             ]
            ],
            "type": "surface"
           }
          ],
          "table": [
           {
            "cells": {
             "fill": {
              "color": "#EBF0F8"
             },
             "line": {
              "color": "white"
             }
            },
            "header": {
             "fill": {
              "color": "#C8D4E3"
             },
             "line": {
              "color": "white"
             }
            },
            "type": "table"
           }
          ]
         },
         "layout": {
          "annotationdefaults": {
           "arrowcolor": "#2a3f5f",
           "arrowhead": 0,
           "arrowwidth": 1
          },
          "autotypenumbers": "strict",
          "coloraxis": {
           "colorbar": {
            "outlinewidth": 0,
            "ticks": ""
           }
          },
          "colorscale": {
           "diverging": [
            [
             0,
             "#8e0152"
            ],
            [
             0.1,
             "#c51b7d"
            ],
            [
             0.2,
             "#de77ae"
            ],
            [
             0.3,
             "#f1b6da"
            ],
            [
             0.4,
             "#fde0ef"
            ],
            [
             0.5,
             "#f7f7f7"
            ],
            [
             0.6,
             "#e6f5d0"
            ],
            [
             0.7,
             "#b8e186"
            ],
            [
             0.8,
             "#7fbc41"
            ],
            [
             0.9,
             "#4d9221"
            ],
            [
             1,
             "#276419"
            ]
           ],
           "sequential": [
            [
             0,
             "#0d0887"
            ],
            [
             0.1111111111111111,
             "#46039f"
            ],
            [
             0.2222222222222222,
             "#7201a8"
            ],
            [
             0.3333333333333333,
             "#9c179e"
            ],
            [
             0.4444444444444444,
             "#bd3786"
            ],
            [
             0.5555555555555556,
             "#d8576b"
            ],
            [
             0.6666666666666666,
             "#ed7953"
            ],
            [
             0.7777777777777778,
             "#fb9f3a"
            ],
            [
             0.8888888888888888,
             "#fdca26"
            ],
            [
             1,
             "#f0f921"
            ]
           ],
           "sequentialminus": [
            [
             0,
             "#0d0887"
            ],
            [
             0.1111111111111111,
             "#46039f"
            ],
            [
             0.2222222222222222,
             "#7201a8"
            ],
            [
             0.3333333333333333,
             "#9c179e"
            ],
            [
             0.4444444444444444,
             "#bd3786"
            ],
            [
             0.5555555555555556,
             "#d8576b"
            ],
            [
             0.6666666666666666,
             "#ed7953"
            ],
            [
             0.7777777777777778,
             "#fb9f3a"
            ],
            [
             0.8888888888888888,
             "#fdca26"
            ],
            [
             1,
             "#f0f921"
            ]
           ]
          },
          "colorway": [
           "#636efa",
           "#EF553B",
           "#00cc96",
           "#ab63fa",
           "#FFA15A",
           "#19d3f3",
           "#FF6692",
           "#B6E880",
           "#FF97FF",
           "#FECB52"
          ],
          "font": {
           "color": "#2a3f5f"
          },
          "geo": {
           "bgcolor": "white",
           "lakecolor": "white",
           "landcolor": "#E5ECF6",
           "showlakes": true,
           "showland": true,
           "subunitcolor": "white"
          },
          "hoverlabel": {
           "align": "left"
          },
          "hovermode": "closest",
          "mapbox": {
           "style": "light"
          },
          "paper_bgcolor": "white",
          "plot_bgcolor": "#E5ECF6",
          "polar": {
           "angularaxis": {
            "gridcolor": "white",
            "linecolor": "white",
            "ticks": ""
           },
           "bgcolor": "#E5ECF6",
           "radialaxis": {
            "gridcolor": "white",
            "linecolor": "white",
            "ticks": ""
           }
          },
          "scene": {
           "xaxis": {
            "backgroundcolor": "#E5ECF6",
            "gridcolor": "white",
            "gridwidth": 2,
            "linecolor": "white",
            "showbackground": true,
            "ticks": "",
            "zerolinecolor": "white"
           },
           "yaxis": {
            "backgroundcolor": "#E5ECF6",
            "gridcolor": "white",
            "gridwidth": 2,
            "linecolor": "white",
            "showbackground": true,
            "ticks": "",
            "zerolinecolor": "white"
           },
           "zaxis": {
            "backgroundcolor": "#E5ECF6",
            "gridcolor": "white",
            "gridwidth": 2,
            "linecolor": "white",
            "showbackground": true,
            "ticks": "",
            "zerolinecolor": "white"
           }
          },
          "shapedefaults": {
           "line": {
            "color": "#2a3f5f"
           }
          },
          "ternary": {
           "aaxis": {
            "gridcolor": "white",
            "linecolor": "white",
            "ticks": ""
           },
           "baxis": {
            "gridcolor": "white",
            "linecolor": "white",
            "ticks": ""
           },
           "bgcolor": "#E5ECF6",
           "caxis": {
            "gridcolor": "white",
            "linecolor": "white",
            "ticks": ""
           }
          },
          "title": {
           "x": 0.05
          },
          "xaxis": {
           "automargin": true,
           "gridcolor": "white",
           "linecolor": "white",
           "ticks": "",
           "title": {
            "standoff": 15
           },
           "zerolinecolor": "white",
           "zerolinewidth": 2
          },
          "yaxis": {
           "automargin": true,
           "gridcolor": "white",
           "linecolor": "white",
           "ticks": "",
           "title": {
            "standoff": 15
           },
           "zerolinecolor": "white",
           "zerolinewidth": 2
          }
         }
        },
        "title": {
         "text": "Mass Flow Diagram of Food Produced in United States"
        }
       }
      },
      "text/html": [
       "<div>                            <div id=\"d759c53c-2fc5-4af3-8f6f-8417b3e67e32\" class=\"plotly-graph-div\" style=\"height:525px; width:100%;\"></div>            <script type=\"text/javascript\">                require([\"plotly\"], function(Plotly) {                    window.PLOTLYENV=window.PLOTLYENV || {};                                    if (document.getElementById(\"d759c53c-2fc5-4af3-8f6f-8417b3e67e32\")) {                    Plotly.newPlot(                        \"d759c53c-2fc5-4af3-8f6f-8417b3e67e32\",                        [{\"link\":{\"source\":[0,0,0],\"target\":[2,3,1],\"value\":[6469628.888249967,94988275.7981144,27144.460640357425,12912.940822615948,23081.81386389337,55011.28431085865,124.3387005775605,0.0,43797.32548126803,18838.31810290066,120078.84281097892,179411.8290409208,394528.1716192467,306801.1463491416,18127.3966869337,0.0,249498.23814874204,163031.2186336749,46752.17030193984,69853.20801856306,153607.81163998297,119451.67947299696,7057.822320726571,0.0,97141.0437251268,63475.48926743541,164521.04523904758,245813.675007891,540546.4081064096,420350.86361844745,24836.500590631127,0.0,341839.661047923,223370.4611763257,47403.69970226248,70826.66911003795,155748.4610420604,121116.33547916624,7156.178797324534,0.0,98494.78293244484,64360.07167699004,109744.74125838156,38267.42476270342,177978.4169765283,372552.828355322,0.0,0.0,192541.1679418448,95319.49313659804,9699.95885679688,40491.83133165192,431135.4560338348,327824.1719448283,0.0,0.0,323928.2704317977,151717.60077564404,214274.71222467584,708971.2885225533,424868.1194751016,449224.542278972,25193.895281373825,0.0,339228.32741383195,219693.60043553615,153831.44691424773,301918.0264813657,992646.691754144,324938.7423366038,4899.879600285143,0.0,133949.02011917805,387475.5610562767,111496.70228034246,158339.50295747886,701343.3750159714,157387.5740371142,0.0,0.0,228012.92515871843,76320.91857277088,4711.423006897054,22020.973313607446,70352.9826337669,153971.26620983862,1261.5832987288825,0.0,87792.8252403129,32314.84196242863,161691.45252680106,76918.53544870825,137491.47791344847,327685.8060816653,740.6485385010777,0.0,260887.5994141712,112214.23986193564,39065.74252331684,101070.78329911848,262705.75649077416,388939.4901623206,0.0,0.0,374559.91480572335,117359.71462938396,482507.719048216,720922.9400809002,1585315.81194469,1232806.028613455,72840.54895051717,0.0,1002548.1839894216,655101.4283208364,63088.25923626707,94261.23466565882,207281.27440656663,161190.34629045296,9523.958381778804,0.0,131083.9541658256,85655.02085122874,21424.524804558445,32010.7447035371,70391.90586021217,54739.607878892464,3234.298822921139,0.0,44515.59547692961,29088.10832756629,31025.473558065616,46355.68454532394,101936.55326736507,79270.00819472599,4683.681599699809,0.0,64464.32035202796,42123.330342385896,205271.2477319546,306699.2414565034,674434.2979818002,524467.5301861272,30988.251126940097,0.0,426509.8951056348,278697.0700648336,124822.02244390552,1086554.8454279196,240080.1736992916,0.0,0.0,0.0,0.0,498672.6114788383,0.0,19886.98486598307,116749.11982901496,133662.11118078267,0.0,0.0,81015.04769419161,71389.66398501593,1127904.3432582307,2870592.561286899,999055.546794031,1546420.563726643,89410.0070241978,0.0,769830.7825099694,1608436.6113114771,460061.10940787377,537346.0095672886,410482.9281604108,491845.6913998968,0.0,0.0,338247.7579480281,755989.1135763992,243704.3864220634,1849809.881191233,747757.1012617495,176228.78796643807,0.0,0.0,282554.5350768499,1597450.5175434402,45434.93221283551,145869.54502761294,150905.5961542605,38376.58442886818,155299.313805823,0.0,45663.98552679306,38763.521339196726,328779.5508183221,479230.80489740113,692826.5719206475,298259.1332361495,0.0,0.0,181572.9979016982,102799.79410751672,122534.53386737392,185605.01485923183,1791516.9374093732,763134.613766069,0.0,0.0,661649.7434608134,0.0,538005.6723875795,381027.7602689148,326354.6744500101,729094.6745898317,0.0,0.0,637750.3899610873,141308.2062441114,177373.94340904875,265017.40744880505,582775.582674665,453189.98664924176,26776.805628972765,0.0,368545.24359228846,240820.859619358,49634.69431548847,74160.03587781564,163078.56354008315,126816.52119726104,7492.975217190282,0.0,103130.31415750364,67389.09629152557,47087.80665968179,70354.68797477738,154710.5704228713,120309.2295367811,7108.490808670974,0.0,97838.42452889668,63931.18323599384,82704.74721065286,123570.56097540566,271732.7377364394,211310.4245407028,12485.31152935963,0.0,171842.83452895106,112288.35495831374,0.0,296404.8155524049,107937.74918886964,0.0,0.0,0.0,0.0,2177294.7877668045,51786.71566806933,77375.40736177824,170149.1933833088,132314.9304297597,7817.849639892649,0.0,107601.75578167549,70310.8987958121,155509.8477935995,242228575.8165896,55564632.37891385,75398274.09888756,0.0,0.0,120561480.18539263,3881.187627177399,6269166.006790386,27565938.99863541,39261358.32796751,12456953.321552107,12959167.716982163,5796123.778339583,27799673.78863374,17417429.386433646,6434368.835980872,98740696.868541,17894.39972308937,8512.57749203322,15216.187534055029,36265.00168050706,81.96760431763339,0.0,28872.44139229056,12418.754555867878,94235.11532869804,140798.27890761464,309616.63922331564,240770.48656022464,14225.964186640796,0.0,195800.4815491443,127943.15243615808,26563.751499900834,39689.3501904231,87277.2260730488,67870.31937284929,4010.1290923483616,0.0,55193.813020658905,36065.64384808496,107082.5371989772,159993.82911653427,351827.8209922902,273595.61765877565,16165.442509341992,0.0,222494.68551007047,145386.11569913375,46300.37060496734,69178.16645340102,152123.38937031405,118297.33236482608,6989.61753012121,0.0,96202.30026498024,62862.080165120045,81920.57048050665,28565.280043804458,132854.59772152096,278097.5186878337,0.0,0.0,143725.17660452658,71152.63261023432,7451.733455559993,31106.764334318184,331208.2606777511,251842.1351767681,0.0,0.0,248849.2132404164,116552.98111960186,145236.4065732202,480544.0699910248,287977.6073407287,304486.50513965805,17076.540578489057,0.0,229930.55395995075,148909.35445958635,121455.50381005224,238375.226595068,783730.5471071065,256550.9162758951,3868.632567650316,0.0,105757.60710686514,305926.00164780737,83613.64446180277,118742.01329521638,525951.6595995787,118028.14243919637,0.0,0.0,170991.52949815989,57234.6089169218,3513.257865582819,16420.804837214902,52461.46848700773,114814.73034655946,940.7492048280884,0.0,65466.17303641456,24096.83285354997,122829.84703845192,58431.61030432667,104446.19636526731,248928.41772827305,562.6379457396553,0.0,198184.77371251275,85244.19629103816,28826.67536414591,74580.29646370222,193851.00780132163,286999.08654017583,0.0,0.0,276388.3743431277,86599.92555960813,350503.59060158144,523693.34016841673,1151606.2072958243,895535.806964184,52912.88188903621,0.0,728271.7444034772,475879.2321242278,50108.01133855887,74867.22684366246,164633.68262132033,128025.84502038576,7564.428316129468,0.0,104113.76603443226,68031.71949861877,22273.960305393462,33279.90064549598,73182.7908088659,56909.91348232065,3362.531689953671,0.0,46280.5413734598,30241.38813614866,32089.026004040265,47944.75623477738,105430.93572566433,81987.38206333577,4844.238086040119,0.0,66674.15561723922,43567.31703720287,149865.90020660558,223917.17506185736,492395.8143872004,382907.004312243,22624.12394468187,0.0,311389.39370845247,203473.14956037956,92647.9310245438,806484.7564765995,178197.17176308643,0.0,0.0,0.0,0.0,370134.8913240296,0.0,16897.463075879878,99198.74504589644,113569.28179619146,0.0,0.0,68836.41669305302,60657.97401242438,1003084.5062835624,2552917.6647744263,888494.7964743391,1375285.5168475462,79515.4245914132,0.0,684637.2522737122,1430438.541875883,398744.6995940013,465729.1581083963,355774.24070565816,426293.0694495673,0.0,0.0,293166.490001562,655231.7634005981,186316.1748101968,1414211.3166267278,571673.102973895,134729.9248380348,0.0,0.0,216017.7784392401,1221278.263583677,39037.68864410998,125331.09667185214,129658.07123312038,32973.15702245789,133433.1529448825,0.0,39234.4912256851,33305.613172267054,277393.956310932,404330.89170445537,584543.3614835965,251643.63406519464,0.0,0.0,153194.6014337756,86733.01464296597,109768.68294198602,166268.37664047544,1604873.7321719886,683629.9842721053,0.0,0.0,592717.976037729,0.0,452970.7792855125,320804.12968970835,274772.4397645285,613857.0648451358,0.0,0.0,536950.2701492008,118973.63092432477,131474.01930052167,196437.5548754976,431967.8907275897,335915.7940922564,19847.64048432542,0.0,273174.9857837129,178502.46624188466,49176.04152279147,73474.75498647639,161571.62490314402,125644.66444646624,7423.735866442407,0.0,102177.33142531633,66766.38273122889,37197.5274118549,55577.45455014076,122215.30566926926,95039.59052366276,5615.42999068719,0.0,77288.5325631968,50503.13679038687,53334.38579964512,79687.80746955665,175234.18132112134,136269.22378754316,8051.489719683858,0.0,110817.4843981765,72412.17277286838,0.0,220639.03141904407,80347.14412517134,0.0,0.0,0.0,0.0,1620743.61778264,27639.54205908686,41296.70705171752,90811.81778317232,70618.96159044134,4172.533074281474,0.0,57429.07647632424,37526.24624691707,149714.6431917913,244493152.4766975,53509181.502084784,68959003.3205841,0.0,0.0,117659813.87628524,3736.55192264406,6512843.240525195,29211456.406231977,42350079.95545276,13609436.432805603,13725598.541117497,5710837.965099284,28454704.507908177,17465029.594741847,5567834.201912976,101596963.33438686,38295.20247840416,18217.48053665572,32563.650727782297,77609.50932836994,175.4161107714185,0.0,61788.93990710158,26576.958579555994,194404.45515495288,290462.9829582667,638730.6244086057,496702.9020325184,29347.77346121157,0.0,403931.0166053011,263943.2100592308,80220.92263888363,119859.4366923429,263571.9431786035,204964.2589039425,12110.347278712325,0.0,166681.97654581338,108916.06274322935,197862.62159122195,295629.88789284887,650092.6932736761,505538.50872289593,29869.826749969267,0.0,411116.3492823693,268638.36763357976,48777.22411651119,72878.87515753153,160261.2799795393,124625.6869599544,7363.529412415555,0.0,101348.6738709908,66224.90776164956,134599.13641607642,46934.02405314503,218286.00578992648,456926.5769913445,0.0,0.0,236146.84979300332,116906.9361564908,10845.48806301576,45273.76660462411,482050.9561936305,366538.99218390393,0.0,0.0,362182.99913506216,169634.88736951188,248687.26451645483,822832.1883289219,493102.0059041088,521370.0740191628,29240.03880340927,0.0,393708.4498453621,254976.42702139053,173143.55230261802,339821.0226698316,1117264.238485401,365731.7749878997,5515.01384708048,0.0,150765.07200649154,436119.508835745,119640.3455389541,169904.51249999815,752569.0178476314,168883.0553390985,0.0,0.0,244666.8340445285,81895.34652727167,5944.597066754073,27784.77185672089,88767.26491971925,194271.9081125837,1591.7917720635503,0.0,110771.83488759508,40772.9712363465,199781.7352524313,95038.533236452,169880.87873981515,404880.0226204634,915.1259879330736,0.0,322345.903276273,138648.98366185502,44416.17879256496,114913.41753043135,298685.8842671645,442208.5648116835,0.0,0.0,425859.5656951666,133433.27763223436,562806.9558261706,840899.3872523714,1849145.062184024,1437970.379949002,84962.7187237831,0.0,1169392.8806219958,764123.8182839998,67869.9439951199,101405.63070079818,222991.8633913344,173407.53902111223,10245.813243355344,0.0,141019.27578276073,92147.12116722688,23891.3006784431,35696.39623887316,78496.68562437227,61042.214134730086,3606.6893603120966,0.0,49641.02990013487,32437.253500863997,30637.29951387898,45775.70714361493,100661.17791948577,78278.22447203548,4625.081893724803,0.0,63657.77743528707,41596.30588092162,266257.4688863213,397819.78548791725,874809.1663828422,680287.1743770292,40194.88068317691,0.0,553226.2622288265,361498.15077070246,124649.6055849564,1085053.985484645,239748.55057194005,0.0,0.0,0.0,0.0,497983.79420419614,0.0,19018.504015126888,111650.59053414685,127824.97775770248,0.0,0.0,77477.0544776353,68272.01912643827,1031320.4437942292,2624780.028514367,913505.1354783294,1413998.5820676514,81753.71313622956,0.0,703909.1825563343,1470704.11574154,374148.354665304,437000.914127098,333828.5046242715,399997.418654533,0.0,0.0,275082.6781867443,614814.1566530997,219423.46696807395,1665508.3780881611,673256.0624686233,158670.64275243846,0.0,0.0,254402.8714638748,1438292.2524105709,42890.94271576617,137702.02782401745,142456.1007337089,36227.80543954123,146603.80565862526,0.0,43107.17089283902,36593.07700587205,308613.62898599467,449836.8510242037,650331.5735001663,279965.2023890284,0.0,0.0,170436.09211350846,96494.4974210538,119505.74875526558,181017.26569174617,1747234.5652742784,744271.5987142393,0.0,0.0,645295.2119734415,0.0,567880.0402268628,402185.4618536139,344476.49005712423,769579.8285877397,0.0,0.0,673163.3804130142,149154.7653952661,294221.65426602785,439601.5476132416,966687.6244892738,751735.5988486002,44416.42270955081,0.0,611329.8783211668,399465.1657237706,50549.000747439175,75526.11657463225,166082.58686719878,129152.57186922192,7631.001159124744,0.0,105030.04802035289,68630.45145714932,51018.62828816706,76227.79502253846,167625.5838735663,130352.46907408796,7701.897284758502,0.0,106005.83393946083,69268.06544872755,155617.4896321079,232510.72205619467,511293.0989281583,397602.301066988,23492.397994096016,0.0,323339.9704680626,211282.09084570035,0.0,383487.4341395857,139649.45342098683,0.0,0.0,0.0,0.0,2816975.797002739,99155.45121277664,148149.83593292526,325782.777026241,253341.93257286152,14968.75016221894,0.0,206023.8906480318,134623.49958549778,158122.0213814981,245152900.5542012,53180856.88017115,69972000.47304751,0.0,0.0,116443492.15223892,3946.3817994644673,5856087.853386621,26782329.454491798,36784997.31890899,12057451.118847176,11584408.493456736,5526347.59161388,25328962.35028176,15595100.975566505,5470850.771940847,104125160.72540689,37551.96196475504,17863.91223788272,31931.64925170037,76103.24933118615,172.01160180334074,0.0,60589.72850561371,26061.147954007272,190906.7676932621,285237.02899147803,627238.7062084227,487766.3192199496,28819.75398150365,0.0,396663.5676621056,259194.3947314816,77723.40491402686,116127.85323776198,255366.15872475537,198583.10729491577,11733.315876083025,0.0,161492.66710952987,105525.17931438462,191940.2090882408,286781.111250595,630634.1565183362,490406.7594277489,28975.76482971749,0.0,398810.8385821214,260597.49960879187,48614.80562212541,72636.20293929827,159727.6416621878,124210.70810856509,7339.010318059691,0.0,101011.20286241511,66004.39193680903,131605.87458984152,45890.28910587467,213431.68661872088,446765.2868321529,0.0,0.0,230895.3350382133,114307.11955634873,10580.949179442252,44169.46667794802,470292.9586709681,357598.5171019992,0.0,0.0,353348.77372410806,165497.21984739488,242705.0370156101,803038.7768923832,481240.3273972624,508828.400841892,28536.663161734832,0.0,384237.70545256254,248842.91231664552,169747.0345882651,333154.830900875,1095347.1198450476,358557.2978795808,5406.827073866012,0.0,147807.5478540429,427564.25154989166,118518.07972581762,168310.7522595257,745509.6728001775,167298.8767029427,0.0,0.0,242371.7786247236,81127.14122622131,6227.011776572591,29104.765153688648,92984.4021086952,203501.33845738304,1667.4142922025471,0.0,116034.36071643591,42710.00527092389,195179.3245816181,92849.11207163328,165967.29991294522,395552.7228342592,894.0440526566586,0.0,314919.958041304,135454.90007310035,42546.93971394905,110077.32724656512,286115.7951176541,423598.3747252048,0.0,0.0,407937.41741857823,127817.78562643104,554081.81373851,827863.0049560058,1820477.9441940417,1415677.6634979686,83645.54986980058,0.0,1151263.8953027793,752277.6802466568,65748.67684851059,98236.20959589396,216022.2788310872,167987.70670879577,9925.581551032345,0.0,136611.73484272225,89267.07369288799,23580.29570760569,35231.71845423968,77474.85513669737,60247.59720355764,3559.739286960269,0.0,48994.827867678745,32015.00160194648,27775.12423922581,41499.28267915237,91257.28334881384,70965.37372531364,4193.000892804067,0.0,57710.78734459338,37710.32636907364,262171.1638886717,391714.3681097584,861383.3004962177,669846.6752161188,39578.00205625013,0.0,544735.791521536,355950.16856267623,126616.79199697176,1102178.0144499328,243532.1974496997,0.0,0.0,0.0,0.0,505842.83995700977,0.0,18022.52720884486,105803.57972345136,121130.93320988063,0.0,0.0,73419.67177196097,64696.69335350199,993887.305266116,2529510.1684001554,880348.2592733952,1362675.6347532717,78786.35407006265,0.0,678359.8684703048,1417322.966138921,333408.7270057004,389417.5042137487,297479.1560009933,356443.18221972184,0.0,0.0,245129.9448786971,547869.3217778893,207223.17138745697,1572903.4494292496,635821.9489845143,149848.30133064382,0.0,0.0,240257.66506774863,1358320.9036155331,43026.19381760818,138136.25355583453,142905.3178263719,36342.04519023841,147066.10200825232,0.0,43243.10384258054,36708.4685937332,289024.95336439426,421284.2942680171,609052.9874518558,262194.9323171799,0.0,0.0,159617.97843008384,90369.6888198881,116713.0886755015,176787.17888077075,1706404.460687277,726879.150201256,0.0,0.0,630215.6848635648,0.0,566052.7892551702,400891.3614734014,343368.07814511075,767103.5741150165,0.0,0.0,670997.3623214535,148674.83447553837,281548.19004452345,420665.91046820336,925047.9938070992,719354.9291123586,42503.20546025977,0.0,584997.1212718346,382258.385012246,49626.71698804208,74148.116818017,163052.35342397814,126796.13914536864,7491.770940269077,0.0,103113.73897159733,67378.26546250873,48937.75605805624,73118.72864527229,160788.7198840357,125035.84567350232,7387.763708126512,0.0,101682.22502492004,66442.86221096847,153013.9165440413,228620.67949051937,502738.8615115893,390950.1782673039,23099.356213662628,0.0,317930.30059485574,207747.21589676783,0.0,375982.2442712827,136916.38951947776,0.0,0.0,0.0,0.0,2761845.077378627,96153.10979114796,143663.98685868294,315918.3559182156,245670.9576673392,14515.509335896626,0.0,199785.66518314707,130547.21629308644,167479.78980155682,233335702.37838253,52223600.471676335,69026932.67780297,0.0,0.0,117830886.38986142,4179.93134970342,5889192.316371447,26931401.189733088,36546907.37300558,11961260.674595278,11434741.616340471,5328418.153955506,24638046.11411772,15727004.90386062,6241935.076966407,105330497.23988268,33509.03854001056,15940.645770157247,28493.82054726171,67909.81300130811,153.49246996913052,0.0,54066.51054687791,23255.349800561176,158720.7012412269,237147.28298283077,521488.936709678,405530.9990520308,23960.866431375583,0.0,329787.7826800498,215495.3257376224,63609.37131006053,95039.83702479184,208993.42776239204,162521.7863499469,9602.626738825473,0.0,132166.71396968357,86362.53546784612,157491.44601256403,235310.6319644687,517450.1251549965,402390.2549835431,23775.29504646029,0.0,327233.6523552822,213826.3641349844,41427.7359152341,61897.88058897603,136113.977469709,105847.7627857456,6254.032643861525,0.0,86078.0040794766,56246.49699636472,97756.38291112224,34087.146092202325,158536.30962516935,331855.6909946059,0.0,0.0,171508.24653331775,84906.92823282511,7557.556838082124,31548.51698701408,335911.8076676182,255418.5898050689,0.0,0.0,252383.164855852,118208.17058372736,211624.19566873636,700201.5176130283,419612.6230468583,443667.7639065605,24882.25404355072,0.0,335032.1705798363,216976.05379112496,143788.9859683754,282208.14238020324,927844.4953570232,303726.0144115051,4580.004499891853,0.0,125204.52846764616,362180.2897223422,106522.81745607647,151275.95367992434,670056.3405275401,150366.49045328825,0.0,0.0,217841.2339338794,72916.23080264592,4164.137402669368,19462.985701801677,62180.68000808966,136085.74471495356,1115.0359866073327,0.0,77594.68566800894,28561.103912790517,171689.73317553496,81674.83575084264,145993.3397095134,347948.4396507961,786.4469516780571,0.0,277019.72882456775,119153.06962313164,28509.52524225928,73759.76652693319,191718.26547237093,283841.5321525208,0.0,0.0,273347.55865752854,85647.15606400535,458373.234804,684863.1991652574,1506020.1282176855,1171142.481069726,69197.14800254056,0.0,952401.8704790624,622334.0041408457,53784.48961551544,80360.31519009414,176713.0316444351,137419.23792369297,8119.438495917716,0.0,111752.7041789038,73023.27937495745,19684.48647343481,29410.924016726985,64674.877570672,50293.81424711565,2971.6183678104885,0.0,40900.166748906166,26725.65576763493,21117.96756050049,31552.712342676,69384.68871717885,53956.3548786394,3188.020189315056,0.0,43878.634872599054,28671.89511373292,218146.9353552407,325937.0240048384,716738.3490322586,557364.8802136914,32931.99651705648,0.0,453262.8292758976,296178.40978156624,147977.34922590616,1288118.0954045516,284616.6646729483,0.0,0.0,0.0,0.0,591179.7432328946,0.0,11950.164044999268,70154.98545747188,80318.0656079976,0.0,0.0,48682.24703660584,42898.31774335916,929202.1711445604,2364882.143031633,823052.5830704174,1273988.6621647745,73658.70443315958,0.0,634210.1959247504,1325079.383116488,294121.8203973208,343530.8555434749,262425.9769054419,314442.0320494073,0.0,0.0,216245.2862860564,483311.6508627059,200278.8570122712,1520193.4365406428,614514.7396081256,144826.6924726175,0.0,0.0,232206.32242055508,1312801.8271824445,45483.07446450266,146024.10646317087,151065.49372280994,38417.24774882309,155463.86689933162,0.0,45712.37048031425,38804.59465237072,274134.72829823464,399580.2237873616,577675.2951287256,248686.9583240587,0.0,0.0,151394.6482443582,85713.94892607203,102794.78294571117,155704.89896946732,1502911.7825990757,640197.1305929886,0.0,0.0,555061.0070362315,0.0,499084.633620262,353463.00214464165,302745.14096722275,676349.6506037043,0.0,0.0,591613.501587045,131085.52188288583,228439.6545086713,341315.5496958993,750555.8607065309,583662.7521901322,34485.810650451655,0.0,474648.90557730873,310152.8494693256,41262.61207854806,61651.16627307668,135571.4505444533,105425.87179147116,6229.105144395294,0.0,85734.9119462989,56022.3081243686,39629.72080465264,59211.43581584953,130206.4620613691,101253.83862586824,5982.599871895878,0.0,82342.11196265255,53805.32927907343,127677.41994424896,190764.99159374856,419493.8747616054,326215.4921284339,19274.49653172381,0.0,265286.4616426385,173347.81780234817,0.0,402854.265174844,146702.01141324165,0.0,0.0,0.0,0.0,2959238.331401992,78800.7642851774,117737.5540875342,258905.90488591697,201335.75782319647,11895.956689718896,0.0,163731.19022203377,106987.91169149095,155587.07743706775,234498458.37909544,57116527.29356731,60995572.45857187,0.0,0.0,95587518.48874892,3883.115111133772,7899015.826593765,24354078.947345786,32449416.73970821,10051821.314675514,13690600.063387152,4833202.539573953,24715809.715870693,15470321.272207975,5582661.568424943,107830967.71271484,33091.39986949466,15741.970117357954,28138.68886190858,67063.4215423892,151.5794222099247,0.0,53392.65457941199,22965.50760286602,157672.47360088775,235581.1083445513,518044.9050659457,402852.7800239114,23802.623415288665,0.0,327609.7890941595,214072.14555359108,61667.87148774059,92139.0093181711,202614.48241974963,157561.2591065085,9309.533162780555,0.0,128132.69120850955,83726.55834981093,154832.87455025566,231338.41539806177,508715.1863965116,395597.6114737178,23373.95057652991,0.0,321709.7075844069,210216.81781376337,42388.48845976474,63333.35720779468,139270.60303253925,108302.4831604568,6399.070204892179,0.0,88074.24306334693,57550.91211624388,99363.40204645463,34647.50536908804,161142.49119230302,337311.0733411698,0.0,0.0,174327.67403092608,86302.71492551093,7549.015370761767,31512.86120133841,335532.163850286,255129.91853410492,0.0,0.0,252097.92418866156,118074.57301407991,211516.532656669,699845.2927295639,419399.1467061405,443442.0496035792,24869.595290571702,0.0,334861.72422558034,216865.66804140568,142034.9336844559,278765.5432593529,916525.911077132,300020.9231927559,4524.13396642023,0.0,123677.18416073213,357762.12681438605,102930.2507288724,146174.05184522443,647458.1576046753,145295.26098912506,0.0,0.0,210494.3650889333,70457.0729347766,4133.2026847097,19318.398260245995,61718.74957386394,135074.7852474802,1106.7525606717556,0.0,77018.24702437287,28348.92799045121,168735.43660060797,80269.44194508872,143481.20566696703,341961.22734346165,772.9144154411417,0.0,272252.9997900664,117102.7810067485,29062.8609419236,75191.35515113657,195439.2871190708,289350.55594203656,0.0,0.0,278652.9070046521,87309.46466515622,452936.311188701,676739.7996775387,1488156.7021305938,1157251.1546816777,68376.37667576964,0.0,941105.1021957296,614952.2850813466,52864.55200335329,78985.82085172551,173690.50664641004,135068.79960022145,7980.5624572041825,0.0,109841.26992397416,71774.27874781254,19725.983042318578,29472.924741817907,64811.217704095485,50399.837877965736,2977.8827916481405,0.0,40986.387773221126,26781.99571925227,19315.421388332343,28859.49763383281,63462.286161349526,49350.85386761633,2915.903397176731,0.0,40133.32817568449,26224.57556756912,218424.94802625343,326352.4074365513,717651.7808093644,558075.2019004233,32973.96599189041,0.0,453840.48034228815,296555.86798727326,144308.29757147434,1256179.6139155196,277559.684331971,0.0,0.0,0.0,0.0,576521.6281475658,0.0,11610.520879269066,68161.06627252954,78035.29509826205,0.0,0.0,47298.618122717264,41679.077539794605,906019.0917301098,2305879.6436506994,802517.8770741033,1242203.350802775,71820.9605626991,0.0,618387.00287359,1292019.3865697717,289944.35821433767,338651.62844028993,258698.69617232948,309975.95844816166,0.0,0.0,213173.91774737384,476447.0933764688,196226.31130563852,1489433.0583539107,602080.3313694727,141896.19446827873,0.0,0.0,227507.7399090685,1286237.9178024258,44704.40505800637,143524.17641990675,148479.25522147436,37759.54516701667,152802.328329317,0.0,44929.77553020319,38140.26069862991,262708.39483527746,382925.1399512475,553596.9501615311,238321.32485857583,0.0,0.0,145084.29951150747,82141.26709573244,99741.74010232557,151080.40622911233,1458274.7501484377,621183.0404621192,0.0,0.0,538575.4910731369,0.0,493855.8759751958,349759.87796446885,299573.3723658607,669263.7413849026,0.0,0.0,585415.3471840358,129712.1788093258,221227.18393148255,330539.2754758504,726858.7400226219,565234.9077065355,33396.99839856024,0.0,459662.9292005968,300360.4677305244,41230.23095227005,61602.78508488445,135465.05989105947,105343.1380939304,6224.216810135317,0.0,85667.63086857938,55978.344222366766,38054.36359301047,56857.66797367904,125030.50611603454,97228.8048470033,5744.780082576187,0.0,79068.85549582973,51666.46451334895,126773.1523525621,189413.9100978821,416522.8348077615,323905.09066851455,19137.98607774276,0.0,263407.5863498775,172120.09238467642,0.0,412900.4838208878,150360.40753778606,0.0,0.0,0.0,0.0,3033034.634117356,77659.2977202477,116032.06959577015,255155.5296634049,198419.3135733887,11723.638096843011,0.0,161359.46602659023,105438.14088463016,156393.8024922615,228021978.4187832,58552337.51878674,62306759.48900606,0.0,0.0,96393399.5288224,3903.249214196541,7983813.636024103,25013530.08439273,33313773.17420208,10978462.085614849,14260757.65780234,4712204.141659411,24740274.966807608,16174971.840950208,5273123.279804405,102079947.38172884,31786.555094439267,15121.24003226874,27029.13709670151,64419.007720609705,145.60241253802909,0.0,51287.30011785874,22059.94232849637,152634.62800549125,228053.97807299616,501492.6801683376,389981.0969895352,23042.097885416348,0.0,317142.219864704,207232.25529916328,57268.348003039646,85565.60690338274,188159.5133695624,146320.4874859745,8645.370304664113,0.0,118991.4192539256,77753.31894870066,149869.30483927607,223922.26198108745,492407.000566806,382915.70314029424,22624.637916382013,0.0,311396.467809376,203477.7720350826,42713.0321484335,63818.26341961925,140336.91600744528,109131.69148219832,6448.064116300871,0.0,88748.57566540751,57991.545551950985,96646.28412592717,33700.06037625348,156736.00810537787,328087.2148249411,0.0,0.0,169560.63871009587,83942.74487129874,7342.751148499716,30651.82496181488,326364.308517982,248158.9201140941,0.0,0.0,245209.76994432797,114848.38273951762,205757.4329821595,680790.1449028545,407979.890447787,431368.1614234947,24192.45447162873,0.0,325744.2239395693,210960.9239415351,138208.1559299524,271254.8995606914,891832.4016921245,291937.60618772754,4402.242437540773,0.0,120345.01027358563,348123.116799155,100151.81519269524,142228.31988365008,629981.0724859852,141373.2505644766,0.0,0.0,204812.41036729683,68555.1982785819,4020.565122257308,18791.935500854004,60036.797334907154,131393.74279211243,1076.591467644989,0.0,74919.35464697404,27576.36627728009,164159.30958100015,78092.52422386811,139589.97667982403,332687.19431500754,751.9528758167387,0.0,264869.4629728563,113926.9383323694,28263.42103923712,73123.04639911765,190063.2862846105,281391.3126745955,0.0,0.0,270987.9268327324,84907.81982795316,440648.34154379286,658380.136496385,1447783.643201722,1125855.4226350612,66521.35463345294,0.0,915573.3207006676,598268.8909142619,50678.99816353895,75720.34791170275,166509.70326579537,129484.71494578887,7650.625887967497,0.0,105300.154939453,68806.94913708896,19462.981346328404,29079.969461654706,63947.10562720696,49727.86919528472,2938.1794104283945,0.0,40439.92631303724,26424.91793605364,17447.863804268,26069.148275422835,57326.28366676855,44579.24886001388,2633.972322813224,0.0,36252.9416233353,23688.989933404984,214574.1300055162,320598.8351316304,704999.6252972445,548236.3713830117,32392.637056692547,0.0,445839.3013742516,291327.606788541,138098.42594343805,1202123.719171782,265615.7418295232,0.0,0.0,0.0,0.0,551712.7615624017,0.0,11105.788170714042,65197.967548926186,74642.94377592277,0.0,0.0,45242.45200543177,39867.20416085799,866719.0614932727,2205858.4183308976,767707.3779107926,1188320.7895052792,68705.61128637992,0.0,591563.4754967093,1235975.9748776287,277424.25058874977,324028.28876999806,247527.8096662969,296590.86489084264,0.0,0.0,203968.83988484016,455873.5980903069,187737.892495968,1425002.699834945,576035.3531210206,135758.00475186936,0.0,0.0,217666.13933093904,1230597.4378762664,42760.07821273924,137281.88533481152,142021.45309844444,36117.27082653401,146156.5029659213,0.0,42975.646656284654,36481.42791323415,251423.14383851303,366475.69866091287,529815.903737288,228083.67725467336,0.0,0.0,138851.86549772683,78612.69764537728,95426.81945136368,144544.52702623376,1395188.4251280755,594310.0830967523,0.0,0.0,515276.2132968588,0.0,472508.0135218459,334640.8399420056,286623.7417973793,640333.5392932771,0.0,0.0,560109.6519038351,124105.122405921,210482.1991041571,314485.01199563016,691555.2750760588,537781.49805204,31774.909129540367,0.0,437337.1412383268,285771.98628290795,41535.9013411932,62059.49238049586,136469.36320409045,106124.12518150776,6270.361561914625,0.0,86302.74877699073,56393.35335170035,35855.77808085908,53572.72419171011,117806.88618472769,91611.42430198536,5412.876220114335,0.0,74500.6634741544,48681.44178223707,121188.41929778636,181069.6660278436,398173.76956443134,309636.11152823194,18294.901075383837,0.0,251803.70155985697,164537.6922353255,0.0,413115.7901856816,150438.81275653586,0.0,0.0,0.0,0.0,3034616.2056750404,74084.50239218674,110690.90746228804,243410.26770320244,189285.72035298185,11183.978224467612,0.0,153931.80337416488,100584.63609513814,152013.03143258565,223178272.5141532,60123574.041467376,63715481.44794626,0.0,0.0,95099916.86351934,3793.9146950291297,7798628.0930434195,24973561.525828443,32839654.140336704,10855603.00146848,13980521.160923874,4537421.427510772,24414276.14081467,15984930.338445704,4831099.119533235,103877826.73967248,30489.198677332253,14504.07224758133,25925.95292474305,61789.76989343102,139.65970425488075,0.0,49194.02804964278,21159.573991762325,146153.6736661389,218370.67463057168,480199.0117252009,373422.2746840961,22063.717119336856,0.0,303676.17829286586,198433.05421494687,52818.55671265787,78917.09851032251,173539.38562028785,134951.28174627083,7973.6188952856255,0.0,109745.7015147273,71711.83087508206,144199.49873490946,215450.9088294498,473778.4213481289,368429.3625687477,21768.71007775652,0.0,299615.8193573315,195779.8680832049,42768.51420919231,63901.160104552895,140519.2065382035,109273.44801019394,6456.4398243010455,0.0,88863.85556055086,58066.87362612352,91220.8712171358,31808.24690151975,147937.35051250702,309669.4491899857,0.0,0.0,160042.04742228173,79230.467976817,6930.714023682088,28931.803464115084,308050.43561050674,234233.52813583668,0.0,0.0,231449.86898326973,108403.68694949154,194230.50529359997,642650.9697700678,385124.0712075371,407202.0861969116,22837.146576980704,0.0,307495.4051246353,199142.4866674045,130499.93507803643,256126.32296613924,842092.637284721,275655.5023687952,4156.718164939672,0.0,113633.06254971148,328707.4039572498,94564.77042634429,134294.00547602866,594837.1018334221,133486.63684560818,0.0,0.0,193386.79513281837,64730.79468677919,3795.217471181074,17738.670998097732,56671.80986519408,124029.28769588616,1016.2498611729357,0.0,70720.21843689712,26030.745406372764,154979.45069242682,73725.55682824881,131784.04540823968,314083.18394458,709.9033489974964,0.0,250057.84918019915,107556.09515467985,26672.870513199163,69007.97838402666,179367.29659670932,265555.75264894444,0.0,0.0,255737.8271022232,80129.55263571902,416004.2228925709,621558.9421975926,1366813.516866149,1062889.7604420884,62801.0180251648,0.0,864368.0955313403,564809.5353624589,48764.52850632093,72859.9064317202,160219.56758659234,124593.2497073228,7361.612851956494,0.0,101322.29509933927,66207.67091332423,18978.638656351864,28356.30486048863,62355.76087870377,48490.37482048847,2865.0618497650057,0.0,39433.56545061959,25767.325165048285,16020.118255061996,23935.9295135523,52635.31706616219,40931.36251353389,2418.436352174316,0.0,33286.39072466993,21750.537735358164,209561.99738707804,313110.1230536403,688531.8823412405,535430.384941159,31635.99322090068,0.0,435425.15822967904,284522.6270801352,130752.56722186804,1138179.246622174,251486.86454236388,0.0,0.0,0.0,0.0,522365.5479816721,0.0,10510.843953800122,61705.27048397928,70644.27325832538,0.0,0.0,42818.78474599163,37731.49238647215,820372.3244300624,2087902.8492715172,726655.1689929272,1124776.7951190716,65031.66312655663,0.0,559930.3453705438,1169883.677997248,262639.7251529281,306760.13550985884,234336.52883804115,280784.9100159344,0.0,0.0,193098.9087415,431579.12926798034,177715.3107692109,1348927.455620451,545283.1095147877,128510.42313902947,0.0,0.0,206045.8071668349,1164900.7198089876,40469.41007605194,129927.66023456075,134413.32816190695,34182.45955105325,138326.86236872672,0.0,40673.43046389811,34527.10865109577,238089.7520105408,347040.87650780857,501718.876019912,215988.0165610237,0.0,0.0,131488.31773334433,74443.73418259852,90334.02518753648,136830.39024226597,1320729.193967471,562592.5952926825,0.0,0.0,487776.65124027873,0.0,447312.5178153856,316796.8212064899,271340.1337967467,606189.1005149485,0.0,0.0,530242.983136666,117487.47785970091,193202.76153421463,288667.5122042487,634782.368613181,493632.5778041005,29166.362844242445,0.0,401434.1534264919,262311.6688915527,40777.11689832041,60925.77971674297,133976.3192015682,104185.43280693422,6155.81360097632,0.0,84726.15645481586,55363.15061568171,33555.97524768222,50136.549899264086,110250.70904629282,85735.43375212344,5065.69234256518,0.0,69722.16343588912,45558.99614791153,115631.32235931754,172766.71354638247,379915.50488331495,295437.74259675137,17455.98808893924,0.0,240257.23872832995,156992.8136810728,0.0,412549.9770211702,150232.76819776252,0.0,0.0,0.0,0.0,3030459.923491688,71634.46962192396,107030.27208112452,235360.49867952365,183025.89268548155,10814.115267073425,0.0,148841.1575511577,97258.22305785444,150769.70941799445,238731212.5555936,61845710.18395456,64747080.52051731,0.0,0.0,92168179.50032409,3762.884081289263,7625549.725836618,24958657.354504663,32386468.53290092,10740106.588857211,13711093.055924252,4374886.46419022,24099671.004796192,15800467.84282196,4353419.63167401,101335093.7524828,30000.35303617687,14271.522597055282,25510.271646458656,60799.06954738176,137.42048378888646,0.0,48405.28032171962,20820.313992703443,140994.55124686845,210662.34260621693,463248.3225980691,360240.7296647181,21284.883342617468,0.0,292956.62167598645,191428.5062412628,50245.873968304186,75073.2097294064,165086.6407776015,128378.08369836128,7585.240396919013,0.0,104400.21519085988,68218.8957905056,139352.0412508763,208208.24065369545,457851.7310719067,356044.1206879514,21036.92600423378,0.0,289543.8360382466,189198.468043059,42369.29194206929,63304.67536617852,139207.53141350503,108253.43610523036,6396.172251488174,0.0,88034.35679169836,57524.84897639219,88409.09438726868,30827.794835637866,143377.35444041446,300124.25004276953,0.0,0.0,155108.93820350093,76788.28132474635,6717.241124065723,28040.675081741832,298562.1751667548,227018.90201395788,0.0,0.0,224320.98233770052,105064.74534792788,188266.6122931551,622918.221741908,373298.7467091761,394698.8510950653,22135.92666090877,0.0,298053.68693768175,193027.77013236983,126522.76182452298,248320.50482061648,816428.6527625321,267254.50438707665,4030.036199173897,0.0,110169.93150050992,318689.5729562699,91684.85006975249,130204.1521575573,576721.6506912819,129421.3715142227,0.0,0.0,187497.30197920412,62759.4523731845,3678.568997999204,17193.461427390394,54929.96499242296,120217.16700730342,985.0147618466724,0.0,68546.58660515254,25230.67354474782,150236.36929519344,71469.21693589282,127750.84970754974,304470.7992039225,688.1770533278458,0.0,242404.93308468,104264.3857583182,25847.38516510841,66872.284926167,173816.14771702798,257337.20028861877,0.0,0.0,247823.12481620628,77649.66313087102,403271.0360349479,602534.0724522865,1324977.6629203204,1030356.4995182968,60878.78490021434,0.0,837911.2475752308,547521.66914146,46878.12701922365,70041.40207922245,154021.65201527177,119773.49857408435,7076.837055763464,0.0,97402.75493344331,63646.500884745896,18828.59678258363,28132.124760353418,61862.78688979475,48107.01820416156,2842.411160419764,0.0,39121.81042136237,25563.613095928657,14822.218578623684,22146.12735585133,48699.52656331365,37870.731803417344,2237.598478343961,0.0,30797.41055336052,20124.14761134569,206470.97245073583,308491.7704408223,678376.0848000847,527532.8238749155,31169.36451363972,0.0,429002.6673258886,280325.93805147585,125940.19544348844,1096288.3545229954,242230.8452130973,0.0,0.0,0.0,0.0,503139.78993717255,0.0,10120.522486298016,59413.83776613235,68020.8895861855,0.0,0.0,41228.70397111059,36330.32883156961,789992.6958278428,2010584.6472436131,699746.0284740478,1083124.6083271152,62623.44223180376,0.0,539195.277366772,1126561.115074314,252959.02975973935,295453.19620768324,225699.06718269808,270435.3972631113,0.0,0.0,185981.4335949084,415671.45922275697,171145.20041999145,1299057.7949921235,525124.068711994,123759.41064948216,0.0,0.0,198428.32230174,1121834.5020368483,38967.54635691405,125105.90378562668,129425.10370902807,32913.91138753542,133193.4024150639,0.0,39163.99532679551,33245.77018551486,229386.262705541,334354.62465707905,483378.29296381096,208092.46718826547,0.0,0.0,126681.69687939886,71722.40645298752,86997.56540578257,131776.60134027427,1271948.4623537457,541813.4086704798,0.0,0.0,469760.76878665,0.0,430816.8400179522,305114.209873824,261333.84235092832,583834.4833554584,0.0,0.0,510689.0537119091,113154.85692284044,183811.8004605719,274636.3185049012,603927.6517005273,469638.6954908847,27748.68032275573,0.0,381921.7381870683,249561.54745352865,40372.1491060334,60320.710492089886,132645.76671692124,103150.74109938908,6094.678669589829,0.0,83884.71970944645,54813.32525812168,32682.215942979437,48831.05135073946,107379.90638988868,83502.98088998166,4933.787494429864,0.0,67906.67786002811,44372.69187562233,112642.58892968636,168301.196403034,370095.7938680628,287801.5360771212,17004.801558471856,0.0,234047.2877699997,152935.00597908662,0.0,422626.66564230574,153902.26016271397,0.0,0.0,0.0,0.0,3104480.048879524,70105.31301075433,104745.5333371659,230336.33832120048,179118.90132653987,10583.27003373991,0.0,145663.8960835327,95182.08491424192,144589.35690592916,209074547.73219335,62595504.25857367,61074838.12977438,0.0,0.0,95905490.4629423,3608.6359224635953,7464027.363397815,24967665.52013032,31953307.658965334,10631863.15403044,13452160.268031798,4223777.83988567,23796066.20705092,15621438.541854966,5670531.278513024,102074624.1042192,29058.58205990976,13823.511010230312,24709.453289276207,58890.4653714668,133.1065804484526,0.0,46885.74193328476,20166.722769578457,138652.57081395024,207163.1500489625,455553.5677475269,354256.97545184963,20931.332231141707,0.0,288090.4855764596,188248.79601873917,47517.13762516747,70996.15862837905,156121.16996619987,121406.1690915829,7173.303664451023,0.0,98730.48275467416,64514.086509058216,135072.3841131979,201813.93257439812,443790.5920222628,345109.60728755273,20390.85846391876,0.0,280651.6208008607,183387.97135474297,42081.252058580285,62874.310106789366,138261.15446710805,107517.49491542552,6352.689044060179,0.0,87435.87131528348,57133.77680979715,86304.29575818349,30093.862418871548,139963.8995106974,292979.04496603704,0.0,0.0,151416.1837108523,74960.14508624862,6557.473989381751,27373.7378332986,291460.98252376466,221619.3400771492,0.0,0.0,218985.58943819776,102565.8186292783,183807.05751370583,608162.881434145,364456.2536628939,385349.44428094936,21611.583144361717,0.0,290993.5570085061,188455.4356946532,123551.53010417007,242489.00264585088,797255.8282405903,260978.360479126,3935.3957470016394,0.0,107582.72592277036,311205.5396135053,89536.9058367879,127153.7980639192,563210.5205243491,126389.35599197612,0.0,0.0,183104.71423786788,61289.15707699937,3591.3118937393297,16785.625756189467,53627.004606212446,117365.568496826,961.64982406279,0.0,66920.6345957387,24632.19203923893,146692.22409022477,69783.22516376396,124737.14827462932,297288.19270115683,671.942639416198,0.0,236686.48897368865,101804.74083633344,25229.24653630042,65273.038339115,169659.34521928328,251182.9969480648,0.0,0.0,241896.4500062687,75792.67620594552,393757.50967660325,588319.7518890343,1293720.2484420885,1006049.463205851,59442.59962267313,0.0,818144.1678014441,534605.1406390492,45322.54784590014,67717.18493846219,148910.67831921123,115798.99763419968,6842.003007627639,0.0,94170.59301416134,61534.48879026468,18741.22382883756,28001.57935307491,61575.71640440813,47883.78052347037,2829.2211249798206,0.0,38940.26804877462,25444.9867102025,14166.986537861943,21167.13408670126,46546.71185443938,36196.61556008519,2138.683042062032,0.0,29435.97804850204,19234.53812150933,204239.341839773,305157.45341807406,671043.8926831215,521831.0131841762,30832.472081995387,0.0,424365.8146331082,277296.04994189274,122140.64071011794,1063213.8655411524,234922.8578683361,0.0,0.0,0.0,0.0,487960.30602680624,0.0,9812.339231115291,57604.608059814826,65949.56380221769,0.0,0.0,39973.23556876436,35224.022411488,766024.861723117,1949584.894292549,678516.2160789701,1050263.3539582675,60723.49014059373,0.0,522836.4641445358,1092382.0270175044,245324.98477203253,286536.7207066762,218887.7000052042,262273.93336543656,0.0,0.0,180368.7040066812,403126.9194100204,165959.0143726298,1259692.6512745582,509211.3167820264,120009.1487247249,0.0,0.0,192415.3801099796,1087839.727847243,37782.896684993226,121302.56788868472,125490.46011502582,31913.297852114392,129144.19903367043,0.0,37973.37342337755,32235.06783381195,222542.50723606444,324379.13063990226,468956.6671991334,201884.01362317684,0.0,0.0,122902.1394391441,69582.56335315571,84365.63992205543,127789.981788236,1233468.378957827,525422.0014965713,0.0,0.0,455549.16030245833,0.0,417812.4338242555,295904.19589084527,253445.3590735584,566211.1686049832,0.0,0.0,495273.6676910945,109739.2250683546,177209.8694707429,264772.2618038247,582236.5052703959,452770.7781427317,26752.03662474161,0.0,368204.33292413794,240598.0961959118,39513.26473919253,59037.43683969352,129823.83680029564,100956.29366668907,5965.019378565192,0.0,82100.14108357129,53647.21671049103,32127.958141829204,48002.92540001644,105558.85022566728,82086.85357908208,4850.11537706866,0.0,66755.04830039902,43620.17525701214,110760.85452746136,165489.66522094348,363913.2123590828,282993.7093341867,16720.73031686039,0.0,230137.44481158565,150380.17245839248,0.0,415600.44831100106,151343.61723837603,0.0,0.0,0.0,0.0,3052867.7080184096,70685.25679862194,105612.0371548787,232241.78774853647,180600.6562699642,10670.819770668568,0.0,146868.8956480775,95969.47543418487,141755.93809633053,195217000.0901314,62180182.86365591,58517008.95220767,0.0,0.0,91497934.81828517,3537.91995056565,7313575.09338619,24999554.83534079,31539330.957033664,10530803.432761304,13203442.26596571,4083350.56549468,23503094.334936403,15447703.513965674,3984001.131451128,99077031.45110609,28202.55124066683,13416.287029703512,23981.54256401594,57155.62320973985,129.18542094820592,0.0,45504.54446139109,19572.635412587137,134662.14218155315,201200.9831689685,442442.7109515888,344061.4401669949,20328.92733551636,0.0,279799.22551819443,182830.98529054545,43740.622825395,65353.604022037216,143713.14333828978,111757.18311993632,6603.191725769912,0.0,90883.6900405814,59386.7069009436,129690.7576512684,193773.15349835667,426108.84893863706,331359.56498957775,19578.43493107492,0.0,269469.74821453285,176081.32932038634,42436.3432337994,63404.8578346904,139427.83353261047,108424.75198973944,6406.294478977293,0.0,88173.67508258656,57615.88461219464,83243.49997104844,29026.578728052828,135000.0572104986,282588.49582044745,0.0,0.0,146046.18430196075,72301.6714347645,6325.056921609325,26403.528284394808,281130.7079335897,213764.46832839408,0.0,0.0,211224.0659210544,98930.57023056636,177310.21974109032,586666.777674857,351574.19577408576,371728.8964133888,20847.7008887098,0.0,280708.1090048589,181794.29651078672,119206.14797648454,233960.517588894,769215.8580005708,251799.5935113473,3796.9854955869255,0.0,103798.97630770411,300260.25234160275,86395.69990583012,122692.88598649867,543451.5148839955,121955.26268775108,0.0,0.0,176680.88700176968,59138.96144633271,3464.250612495221,16191.74720200886,51729.671231623724,113213.15290375352,927.6264748330564,0.0,64552.97012520732,23760.700513868283,141520.5269135283,67322.98767811347,120339.486697392,286807.1701630288,648.2530139249835,0.0,228342.00545127268,98215.57110342554,24332.258696401863,62952.35382801886,163627.36287815848,242252.5640265936,0.0,0.0,233296.186266404,73097.98182368235,379876.6941039142,567580.190679271,1248113.7730607628,970584.013753896,57347.11765154528,0.0,789302.7920154934,515759.1372510328,42951.23688271346,64174.16914008533,141119.5557805022,109740.30398904873,6484.024087349191,0.0,89243.51432512705,58314.95646435547,19007.618568202222,28399.60423670516,62450.97658338879,48564.418423580006,2869.436728351159,0.0,39493.77952979549,25806.67123330028,13384.969035673585,19998.70851625765,43977.33386835827,34198.562776430736,2020.627761494344,0.0,27811.112381661715,18172.791827240624,201898.70025844587,301660.2612616159,663353.536731319,515850.6797338112,30479.123086840274,0.0,419502.4603817845,274118.1574801116,116384.14916113092,1013104.5686177866,223850.93751389405,0.0,0.0,0.0,0.0,464962.7242100299,0.0,9347.61196789228,54876.36648335342,62826.09246937094,0.0,0.0,38080.04252575037,33555.75930424764,729836.8219113623,1857483.8943167084,646462.2018200151,1000647.5073128012,57854.83118640071,0.0,498136.9697483104,1040776.437879794,233770.83375809243,273041.6070917276,208578.67443528812,249921.5321783326,0.0,0.0,171873.82018464236,384140.7190889399,158121.01041022153,1200199.1912209962,485162.0035601536,114341.29038761988,0.0,0.0,183327.8802990681,1036462.6325471514,35996.38090271153,115566.9316358268,119556.8047526425,30404.318518084037,123037.7813154276,0.0,36177.85119296357,30710.87401913021,212144.66747008509,309223.1846334002,447045.6339170653,192451.39937326245,0.0,0.0,117159.7903991528,66331.46156034294,80386.27948155816,121762.3809937681,1175288.114144286,500638.88446866686,0.0,0.0,434061.8070519624,0.0,398136.0708576682,281968.95153157035,241509.6614408116,539546.1496460373,0.0,0.0,471949.3631363335,104571.1911629175,168573.41156303912,251868.3840399861,553860.7658992514,430704.6495521139,25448.255752124485,0.0,350259.6144260608,228872.3647980185,38882.65391177074,58095.23054162944,127751.91696061452,99345.08456253629,5869.82082104957,0.0,80789.86621152805,52791.03547763222,31038.07375942032,46374.51071918114,101977.9521873258,79302.2016780188,4685.583757007001,0.0,64490.50088445753,42140.43765399716,110145.46638011093,164570.20338652152,361891.3077926596,281421.3941399606,16627.82981247246,0.0,228858.79942371123,149544.65908029312,0.0,409350.6938417112,149067.72833575812,0.0,0.0,0.0,0.0,3006959.014512716,69278.03917678162,103509.48951632084,227618.26721470695,177005.21872712468,10458.382746303683,0.0,143944.9974065388,94058.89403282553,137276.76583729143,197255435.00251576,61370049.357721314,57430365.3676786,0.0,0.0,85183089.72865613,3426.1295514466674,7173769.208071607,25053406.092086814,31143761.60048255,10436898.717125691,12964691.177192925,3952929.758363297,23220412.00405357,15279130.335757812,4235695.050499632,98877444.86358652,28097.820177041274,13366.46522462864,23892.486349254443,56943.37400009012,128.70568681261778,0.0,45335.56190018344,19499.95181360267,135639.3695223052,202661.0750593368,445653.4657105278,346558.25360529893,20476.4519722004,0.0,281829.6956166798,184157.7682650928,40891.14093086709,61096.144951408176,134350.9538335167,104476.76392803552,6173.026948652156,0.0,84963.07408793956,55517.96120965848,125539.9790974114,187571.40508990828,412471.1502790372,320754.3360520423,18951.823217937195,0.0,260845.31520127412,170445.81127180668,42751.554956505446,63875.820998408206,140463.4856235282,109230.11716153024,6453.879613911171,0.0,88828.61784867223,58043.848024211205,84268.708035009,29384.06348772218,136662.68729375408,286068.79163691803,0.0,0.0,147844.85598094008,73192.1224203493,6403.096232791836,26729.29818427704,284599.3323382862,216401.91998620445,0.0,0.0,213830.1737891642,100151.18747581352,179516.23453357338,593965.8244624528,355948.3253514191,376353.7818005863,21107.078699063382,0.0,284200.55428939406,184056.10018954508,120708.01893745584,236908.17182774996,778907.1615068092,254972.00117570427,3844.823483407622,0.0,105106.73325599372,304043.2128799697,87494.92576105037,124253.92655535748,550365.9325792076,123506.9183612704,0.0,0.0,178928.82525942926,59891.39560154575,3507.223267222261,16392.599403471922,52371.3572842903,114617.51715867914,939.1333133033684,0.0,65353.7241141912,24055.442578882918,143293.76131349526,68166.5362449749,121847.32532787256,290400.8279269022,656.3755426439191,0.0,231203.102055803,99446.19985454238,24630.130542702223,63723.00706238046,165630.46441073355,245218.18342995248,0.0,0.0,236152.1630421351,73992.83630794237,384639.4373077333,574696.2858168174,1263762.1281257148,982752.8108582993,58066.11304950671,0.0,799198.7571188407,522225.5205903541,40767.214860936925,60910.98491528905,133943.7853045655,104160.13312591356,6154.318765121332,0.0,84705.58213195074,55349.7066051983,20164.925415025413,30128.75596143468,66253.39625692216,51521.33455444233,3044.146609040901,0.0,41898.41645434005,27377.948413808124,13028.19675251627,19465.649016566116,42805.13139485466,33287.0104754932,1966.7685423988012,0.0,27069.815630424902,17688.40158216293,198342.91571295235,296347.5034597552,651670.7361432601,506765.6590158381,29942.33312883832,0.0,412114.2980830049,269290.4636576192,113582.01240051586,988712.436402766,218461.3638870129,0.0,0.0,0.0,0.0,453767.9940752515,0.0,9120.732254578405,53544.43974760363,61301.21468271887,0.0,0.0,37155.78623859402,32741.31374562506,712221.9962746998,1812652.9760360855,630859.6470791753,976496.5864002132,56458.48787651114,0.0,486114.2879626584,1015656.993464826,228159.79260452572,266487.97647237906,203572.3034214265,243922.8368763079,0.0,0.0,167748.45063886442,374920.4526043741,154303.39082322468,1171221.9924994854,473448.418105237,111580.6733851494,0.0,0.0,178901.67466797202,1011438.6332890078,35126.711715334466,112774.84540374063,116668.32356016804,29669.7530335749,120065.2000555931,0.0,35303.79770038973,29968.90218246024,207141.7764512958,301930.9443350575,436503.2025960987,187912.9238652052,0.0,0.0,114396.8754970669,64767.20318297787,78451.14578312573,118831.2030840296,1146995.479509174,488587.0370348869,0.0,0.0,423612.6652898856,0.0,388584.7314660348,275204.4773954304,235715.81126840567,526602.3629109722,0.0,0.0,460627.2326564958,102062.51382747086,161400.40863241977,241151.07909789815,530293.3191701762,412377.64480787306,24365.401632980807,0.0,335355.6434056001,219133.56834007276,38195.43897535033,57068.45108738778,125494.02001533688,97589.25209991063,5766.077168378895,0.0,79361.98006728619,51858.00276408212,30469.0256239748,45524.28627994902,100108.3012547792,77848.28509958084,4599.678854497082,0.0,63308.14016301907,41367.840177113234,110295.9743771299,164795.07992928574,362385.8132649637,281805.94170004013,16650.550868927123,0.0,229171.52295772,149749.00400562477,0.0,412010.1210464145,150036.17611914632,0.0,0.0,0.0,0.0,3026494.314505917,68056.98246850447,101685.08804586744,223606.39252235732,173885.42185794227,10274.049030138343,0.0,141407.90185945385,92401.06357317818,135697.62699114654,173203359.95394266,54605164.62656589,52607856.08562708,0.0,0.0,79968144.08593214,3386.717679862898,7044245.776186454,25128404.09368713,30765882.61819565,10350161.666709498,12735692.167604322,3831905.0359978834,22947698.14836572,15115592.723401636]},\"node\":{\"label\":[\"Farm\",\"Foodservice\",\"Manufacturing\",\"Retail\"],\"line\":{\"color\":\"black\",\"width\":0.5},\"pad\":15,\"thickness\":20},\"type\":\"sankey\"}],                        {\"template\":{\"data\":{\"histogram2dcontour\":[{\"type\":\"histogram2dcontour\",\"colorbar\":{\"outlinewidth\":0,\"ticks\":\"\"},\"colorscale\":[[0.0,\"#0d0887\"],[0.1111111111111111,\"#46039f\"],[0.2222222222222222,\"#7201a8\"],[0.3333333333333333,\"#9c179e\"],[0.4444444444444444,\"#bd3786\"],[0.5555555555555556,\"#d8576b\"],[0.6666666666666666,\"#ed7953\"],[0.7777777777777778,\"#fb9f3a\"],[0.8888888888888888,\"#fdca26\"],[1.0,\"#f0f921\"]]}],\"choropleth\":[{\"type\":\"choropleth\",\"colorbar\":{\"outlinewidth\":0,\"ticks\":\"\"}}],\"histogram2d\":[{\"type\":\"histogram2d\",\"colorbar\":{\"outlinewidth\":0,\"ticks\":\"\"},\"colorscale\":[[0.0,\"#0d0887\"],[0.1111111111111111,\"#46039f\"],[0.2222222222222222,\"#7201a8\"],[0.3333333333333333,\"#9c179e\"],[0.4444444444444444,\"#bd3786\"],[0.5555555555555556,\"#d8576b\"],[0.6666666666666666,\"#ed7953\"],[0.7777777777777778,\"#fb9f3a\"],[0.8888888888888888,\"#fdca26\"],[1.0,\"#f0f921\"]]}],\"heatmap\":[{\"type\":\"heatmap\",\"colorbar\":{\"outlinewidth\":0,\"ticks\":\"\"},\"colorscale\":[[0.0,\"#0d0887\"],[0.1111111111111111,\"#46039f\"],[0.2222222222222222,\"#7201a8\"],[0.3333333333333333,\"#9c179e\"],[0.4444444444444444,\"#bd3786\"],[0.5555555555555556,\"#d8576b\"],[0.6666666666666666,\"#ed7953\"],[0.7777777777777778,\"#fb9f3a\"],[0.8888888888888888,\"#fdca26\"],[1.0,\"#f0f921\"]]}],\"heatmapgl\":[{\"type\":\"heatmapgl\",\"colorbar\":{\"outlinewidth\":0,\"ticks\":\"\"},\"colorscale\":[[0.0,\"#0d0887\"],[0.1111111111111111,\"#46039f\"],[0.2222222222222222,\"#7201a8\"],[0.3333333333333333,\"#9c179e\"],[0.4444444444444444,\"#bd3786\"],[0.5555555555555556,\"#d8576b\"],[0.6666666666666666,\"#ed7953\"],[0.7777777777777778,\"#fb9f3a\"],[0.8888888888888888,\"#fdca26\"],[1.0,\"#f0f921\"]]}],\"contourcarpet\":[{\"type\":\"contourcarpet\",\"colorbar\":{\"outlinewidth\":0,\"ticks\":\"\"}}],\"contour\":[{\"type\":\"contour\",\"colorbar\":{\"outlinewidth\":0,\"ticks\":\"\"},\"colorscale\":[[0.0,\"#0d0887\"],[0.1111111111111111,\"#46039f\"],[0.2222222222222222,\"#7201a8\"],[0.3333333333333333,\"#9c179e\"],[0.4444444444444444,\"#bd3786\"],[0.5555555555555556,\"#d8576b\"],[0.6666666666666666,\"#ed7953\"],[0.7777777777777778,\"#fb9f3a\"],[0.8888888888888888,\"#fdca26\"],[1.0,\"#f0f921\"]]}],\"surface\":[{\"type\":\"surface\",\"colorbar\":{\"outlinewidth\":0,\"ticks\":\"\"},\"colorscale\":[[0.0,\"#0d0887\"],[0.1111111111111111,\"#46039f\"],[0.2222222222222222,\"#7201a8\"],[0.3333333333333333,\"#9c179e\"],[0.4444444444444444,\"#bd3786\"],[0.5555555555555556,\"#d8576b\"],[0.6666666666666666,\"#ed7953\"],[0.7777777777777778,\"#fb9f3a\"],[0.8888888888888888,\"#fdca26\"],[1.0,\"#f0f921\"]]}],\"mesh3d\":[{\"type\":\"mesh3d\",\"colorbar\":{\"outlinewidth\":0,\"ticks\":\"\"}}],\"scatter\":[{\"fillpattern\":{\"fillmode\":\"overlay\",\"size\":10,\"solidity\":0.2},\"type\":\"scatter\"}],\"parcoords\":[{\"type\":\"parcoords\",\"line\":{\"colorbar\":{\"outlinewidth\":0,\"ticks\":\"\"}}}],\"scatterpolargl\":[{\"type\":\"scatterpolargl\",\"marker\":{\"colorbar\":{\"outlinewidth\":0,\"ticks\":\"\"}}}],\"bar\":[{\"error_x\":{\"color\":\"#2a3f5f\"},\"error_y\":{\"color\":\"#2a3f5f\"},\"marker\":{\"line\":{\"color\":\"#E5ECF6\",\"width\":0.5},\"pattern\":{\"fillmode\":\"overlay\",\"size\":10,\"solidity\":0.2}},\"type\":\"bar\"}],\"scattergeo\":[{\"type\":\"scattergeo\",\"marker\":{\"colorbar\":{\"outlinewidth\":0,\"ticks\":\"\"}}}],\"scatterpolar\":[{\"type\":\"scatterpolar\",\"marker\":{\"colorbar\":{\"outlinewidth\":0,\"ticks\":\"\"}}}],\"histogram\":[{\"marker\":{\"pattern\":{\"fillmode\":\"overlay\",\"size\":10,\"solidity\":0.2}},\"type\":\"histogram\"}],\"scattergl\":[{\"type\":\"scattergl\",\"marker\":{\"colorbar\":{\"outlinewidth\":0,\"ticks\":\"\"}}}],\"scatter3d\":[{\"type\":\"scatter3d\",\"line\":{\"colorbar\":{\"outlinewidth\":0,\"ticks\":\"\"}},\"marker\":{\"colorbar\":{\"outlinewidth\":0,\"ticks\":\"\"}}}],\"scattermapbox\":[{\"type\":\"scattermapbox\",\"marker\":{\"colorbar\":{\"outlinewidth\":0,\"ticks\":\"\"}}}],\"scatterternary\":[{\"type\":\"scatterternary\",\"marker\":{\"colorbar\":{\"outlinewidth\":0,\"ticks\":\"\"}}}],\"scattercarpet\":[{\"type\":\"scattercarpet\",\"marker\":{\"colorbar\":{\"outlinewidth\":0,\"ticks\":\"\"}}}],\"carpet\":[{\"aaxis\":{\"endlinecolor\":\"#2a3f5f\",\"gridcolor\":\"white\",\"linecolor\":\"white\",\"minorgridcolor\":\"white\",\"startlinecolor\":\"#2a3f5f\"},\"baxis\":{\"endlinecolor\":\"#2a3f5f\",\"gridcolor\":\"white\",\"linecolor\":\"white\",\"minorgridcolor\":\"white\",\"startlinecolor\":\"#2a3f5f\"},\"type\":\"carpet\"}],\"table\":[{\"cells\":{\"fill\":{\"color\":\"#EBF0F8\"},\"line\":{\"color\":\"white\"}},\"header\":{\"fill\":{\"color\":\"#C8D4E3\"},\"line\":{\"color\":\"white\"}},\"type\":\"table\"}],\"barpolar\":[{\"marker\":{\"line\":{\"color\":\"#E5ECF6\",\"width\":0.5},\"pattern\":{\"fillmode\":\"overlay\",\"size\":10,\"solidity\":0.2}},\"type\":\"barpolar\"}],\"pie\":[{\"automargin\":true,\"type\":\"pie\"}]},\"layout\":{\"autotypenumbers\":\"strict\",\"colorway\":[\"#636efa\",\"#EF553B\",\"#00cc96\",\"#ab63fa\",\"#FFA15A\",\"#19d3f3\",\"#FF6692\",\"#B6E880\",\"#FF97FF\",\"#FECB52\"],\"font\":{\"color\":\"#2a3f5f\"},\"hovermode\":\"closest\",\"hoverlabel\":{\"align\":\"left\"},\"paper_bgcolor\":\"white\",\"plot_bgcolor\":\"#E5ECF6\",\"polar\":{\"bgcolor\":\"#E5ECF6\",\"angularaxis\":{\"gridcolor\":\"white\",\"linecolor\":\"white\",\"ticks\":\"\"},\"radialaxis\":{\"gridcolor\":\"white\",\"linecolor\":\"white\",\"ticks\":\"\"}},\"ternary\":{\"bgcolor\":\"#E5ECF6\",\"aaxis\":{\"gridcolor\":\"white\",\"linecolor\":\"white\",\"ticks\":\"\"},\"baxis\":{\"gridcolor\":\"white\",\"linecolor\":\"white\",\"ticks\":\"\"},\"caxis\":{\"gridcolor\":\"white\",\"linecolor\":\"white\",\"ticks\":\"\"}},\"coloraxis\":{\"colorbar\":{\"outlinewidth\":0,\"ticks\":\"\"}},\"colorscale\":{\"sequential\":[[0.0,\"#0d0887\"],[0.1111111111111111,\"#46039f\"],[0.2222222222222222,\"#7201a8\"],[0.3333333333333333,\"#9c179e\"],[0.4444444444444444,\"#bd3786\"],[0.5555555555555556,\"#d8576b\"],[0.6666666666666666,\"#ed7953\"],[0.7777777777777778,\"#fb9f3a\"],[0.8888888888888888,\"#fdca26\"],[1.0,\"#f0f921\"]],\"sequentialminus\":[[0.0,\"#0d0887\"],[0.1111111111111111,\"#46039f\"],[0.2222222222222222,\"#7201a8\"],[0.3333333333333333,\"#9c179e\"],[0.4444444444444444,\"#bd3786\"],[0.5555555555555556,\"#d8576b\"],[0.6666666666666666,\"#ed7953\"],[0.7777777777777778,\"#fb9f3a\"],[0.8888888888888888,\"#fdca26\"],[1.0,\"#f0f921\"]],\"diverging\":[[0,\"#8e0152\"],[0.1,\"#c51b7d\"],[0.2,\"#de77ae\"],[0.3,\"#f1b6da\"],[0.4,\"#fde0ef\"],[0.5,\"#f7f7f7\"],[0.6,\"#e6f5d0\"],[0.7,\"#b8e186\"],[0.8,\"#7fbc41\"],[0.9,\"#4d9221\"],[1,\"#276419\"]]},\"xaxis\":{\"gridcolor\":\"white\",\"linecolor\":\"white\",\"ticks\":\"\",\"title\":{\"standoff\":15},\"zerolinecolor\":\"white\",\"automargin\":true,\"zerolinewidth\":2},\"yaxis\":{\"gridcolor\":\"white\",\"linecolor\":\"white\",\"ticks\":\"\",\"title\":{\"standoff\":15},\"zerolinecolor\":\"white\",\"automargin\":true,\"zerolinewidth\":2},\"scene\":{\"xaxis\":{\"backgroundcolor\":\"#E5ECF6\",\"gridcolor\":\"white\",\"linecolor\":\"white\",\"showbackground\":true,\"ticks\":\"\",\"zerolinecolor\":\"white\",\"gridwidth\":2},\"yaxis\":{\"backgroundcolor\":\"#E5ECF6\",\"gridcolor\":\"white\",\"linecolor\":\"white\",\"showbackground\":true,\"ticks\":\"\",\"zerolinecolor\":\"white\",\"gridwidth\":2},\"zaxis\":{\"backgroundcolor\":\"#E5ECF6\",\"gridcolor\":\"white\",\"linecolor\":\"white\",\"showbackground\":true,\"ticks\":\"\",\"zerolinecolor\":\"white\",\"gridwidth\":2}},\"shapedefaults\":{\"line\":{\"color\":\"#2a3f5f\"}},\"annotationdefaults\":{\"arrowcolor\":\"#2a3f5f\",\"arrowhead\":0,\"arrowwidth\":1},\"geo\":{\"bgcolor\":\"white\",\"landcolor\":\"#E5ECF6\",\"subunitcolor\":\"white\",\"showland\":true,\"showlakes\":true,\"lakecolor\":\"white\"},\"title\":{\"x\":0.05},\"mapbox\":{\"style\":\"light\"}}},\"title\":{\"text\":\"Mass Flow Diagram of Food Produced in United States\"},\"font\":{\"size\":13}},                        {\"responsive\": true}                    ).then(function(){\n",
       "                            \n",
       "var gd = document.getElementById('d759c53c-2fc5-4af3-8f6f-8417b3e67e32');\n",
       "var x = new MutationObserver(function (mutations, observer) {{\n",
       "        var display = window.getComputedStyle(gd).display;\n",
       "        if (!display || display === 'none') {{\n",
       "            console.log([gd, 'removed!']);\n",
       "            Plotly.purge(gd);\n",
       "            observer.disconnect();\n",
       "        }}\n",
       "}});\n",
       "\n",
       "// Listen for the removal of the full notebook cells\n",
       "var notebookContainer = gd.closest('#notebook-container');\n",
       "if (notebookContainer) {{\n",
       "    x.observe(notebookContainer, {childList: true});\n",
       "}}\n",
       "\n",
       "// Listen for the clearing of the current output cell\n",
       "var outputEl = gd.closest('.output');\n",
       "if (outputEl) {{\n",
       "    x.observe(outputEl, {childList: true});\n",
       "}}\n",
       "\n",
       "                        })                };                });            </script>        </div>"
      ]
     },
     "metadata": {},
     "output_type": "display_data"
    }
   ],
   "source": [
    "import pandas as pd\n",
    "import plotly.graph_objects as go\n",
    "\n",
    "# Load data into a DataFrame, skip the first three rows\n",
    "data = pd.read_csv('ReFED_US_Food_Surplus_Summary.csv', skiprows=3)\n",
    "\n",
    "# Filter rows containing the useful sectors\n",
    "data = data[data['sector'].isin(['Farm', 'Manufacturing', 'Foodservice', 'Retail'])]\n",
    "\n",
    "# Create a mapping of sector names to numeric labels\n",
    "sector_mapping = {sector: i for i, sector in enumerate(data['sector'].unique())}\n",
    "\n",
    "# Create a list of labels and values for the Sankey diagram\n",
    "labels = list(sector_mapping.keys())\n",
    "values = data['tons_supply'].values\n",
    "\n",
    "# Create the sources, targets, and values for the Sankey diagram links\n",
    "sources = [sector_mapping['Farm']] * 3\n",
    "targets = [sector_mapping['Manufacturing'], sector_mapping['Retail'], sector_mapping['Foodservice']]\n",
    "link_values = values\n",
    "\n",
    "# Create Sankey diagram\n",
    "fig = go.Figure(go.Sankey(\n",
    "    node=dict(\n",
    "        pad=15,\n",
    "        thickness=20,\n",
    "        line=dict(color='black', width=0.5),\n",
    "        label=labels\n",
    "    ),\n",
    "    link=dict(\n",
    "        source=sources,\n",
    "        target=targets,\n",
    "        value=link_values\n",
    "    )\n",
    "))\n",
    "\n",
    "# Set Sankey diagram title\n",
    "fig.update_layout(title_text='Mass Flow Diagram of Food Produced in United States', font_size=13)\n",
    "\n",
    "# Show Sankey diagram\n",
    "fig.show()\n"
   ]
  },
  {
   "cell_type": "code",
   "execution_count": 35,
   "id": "e7f5baca",
   "metadata": {},
   "outputs": [
    {
     "data": {
      "application/vnd.plotly.v1+json": {
       "config": {
        "plotlyServerURL": "https://plot.ly"
       },
       "data": [
        {
         "link": {
          "source": [
           0,
           0,
           0
          ],
          "target": [
           2,
           3,
           1
          ],
          "value": [
           662860859.216364,
           5328158392.581762,
           1644137748.5482848
          ]
         },
         "node": {
          "label": [
           "Farm",
           "Foodservice",
           "Manufacturing",
           "Retail"
          ],
          "line": {
           "color": "black",
           "width": 0.5
          },
          "pad": 15,
          "thickness": 20
         },
         "type": "sankey"
        }
       ],
       "layout": {
        "font": {
         "size": 10
        },
        "template": {
         "data": {
          "bar": [
           {
            "error_x": {
             "color": "#2a3f5f"
            },
            "error_y": {
             "color": "#2a3f5f"
            },
            "marker": {
             "line": {
              "color": "#E5ECF6",
              "width": 0.5
             },
             "pattern": {
              "fillmode": "overlay",
              "size": 10,
              "solidity": 0.2
             }
            },
            "type": "bar"
           }
          ],
          "barpolar": [
           {
            "marker": {
             "line": {
              "color": "#E5ECF6",
              "width": 0.5
             },
             "pattern": {
              "fillmode": "overlay",
              "size": 10,
              "solidity": 0.2
             }
            },
            "type": "barpolar"
           }
          ],
          "carpet": [
           {
            "aaxis": {
             "endlinecolor": "#2a3f5f",
             "gridcolor": "white",
             "linecolor": "white",
             "minorgridcolor": "white",
             "startlinecolor": "#2a3f5f"
            },
            "baxis": {
             "endlinecolor": "#2a3f5f",
             "gridcolor": "white",
             "linecolor": "white",
             "minorgridcolor": "white",
             "startlinecolor": "#2a3f5f"
            },
            "type": "carpet"
           }
          ],
          "choropleth": [
           {
            "colorbar": {
             "outlinewidth": 0,
             "ticks": ""
            },
            "type": "choropleth"
           }
          ],
          "contour": [
           {
            "colorbar": {
             "outlinewidth": 0,
             "ticks": ""
            },
            "colorscale": [
             [
              0,
              "#0d0887"
             ],
             [
              0.1111111111111111,
              "#46039f"
             ],
             [
              0.2222222222222222,
              "#7201a8"
             ],
             [
              0.3333333333333333,
              "#9c179e"
             ],
             [
              0.4444444444444444,
              "#bd3786"
             ],
             [
              0.5555555555555556,
              "#d8576b"
             ],
             [
              0.6666666666666666,
              "#ed7953"
             ],
             [
              0.7777777777777778,
              "#fb9f3a"
             ],
             [
              0.8888888888888888,
              "#fdca26"
             ],
             [
              1,
              "#f0f921"
             ]
            ],
            "type": "contour"
           }
          ],
          "contourcarpet": [
           {
            "colorbar": {
             "outlinewidth": 0,
             "ticks": ""
            },
            "type": "contourcarpet"
           }
          ],
          "heatmap": [
           {
            "colorbar": {
             "outlinewidth": 0,
             "ticks": ""
            },
            "colorscale": [
             [
              0,
              "#0d0887"
             ],
             [
              0.1111111111111111,
              "#46039f"
             ],
             [
              0.2222222222222222,
              "#7201a8"
             ],
             [
              0.3333333333333333,
              "#9c179e"
             ],
             [
              0.4444444444444444,
              "#bd3786"
             ],
             [
              0.5555555555555556,
              "#d8576b"
             ],
             [
              0.6666666666666666,
              "#ed7953"
             ],
             [
              0.7777777777777778,
              "#fb9f3a"
             ],
             [
              0.8888888888888888,
              "#fdca26"
             ],
             [
              1,
              "#f0f921"
             ]
            ],
            "type": "heatmap"
           }
          ],
          "heatmapgl": [
           {
            "colorbar": {
             "outlinewidth": 0,
             "ticks": ""
            },
            "colorscale": [
             [
              0,
              "#0d0887"
             ],
             [
              0.1111111111111111,
              "#46039f"
             ],
             [
              0.2222222222222222,
              "#7201a8"
             ],
             [
              0.3333333333333333,
              "#9c179e"
             ],
             [
              0.4444444444444444,
              "#bd3786"
             ],
             [
              0.5555555555555556,
              "#d8576b"
             ],
             [
              0.6666666666666666,
              "#ed7953"
             ],
             [
              0.7777777777777778,
              "#fb9f3a"
             ],
             [
              0.8888888888888888,
              "#fdca26"
             ],
             [
              1,
              "#f0f921"
             ]
            ],
            "type": "heatmapgl"
           }
          ],
          "histogram": [
           {
            "marker": {
             "pattern": {
              "fillmode": "overlay",
              "size": 10,
              "solidity": 0.2
             }
            },
            "type": "histogram"
           }
          ],
          "histogram2d": [
           {
            "colorbar": {
             "outlinewidth": 0,
             "ticks": ""
            },
            "colorscale": [
             [
              0,
              "#0d0887"
             ],
             [
              0.1111111111111111,
              "#46039f"
             ],
             [
              0.2222222222222222,
              "#7201a8"
             ],
             [
              0.3333333333333333,
              "#9c179e"
             ],
             [
              0.4444444444444444,
              "#bd3786"
             ],
             [
              0.5555555555555556,
              "#d8576b"
             ],
             [
              0.6666666666666666,
              "#ed7953"
             ],
             [
              0.7777777777777778,
              "#fb9f3a"
             ],
             [
              0.8888888888888888,
              "#fdca26"
             ],
             [
              1,
              "#f0f921"
             ]
            ],
            "type": "histogram2d"
           }
          ],
          "histogram2dcontour": [
           {
            "colorbar": {
             "outlinewidth": 0,
             "ticks": ""
            },
            "colorscale": [
             [
              0,
              "#0d0887"
             ],
             [
              0.1111111111111111,
              "#46039f"
             ],
             [
              0.2222222222222222,
              "#7201a8"
             ],
             [
              0.3333333333333333,
              "#9c179e"
             ],
             [
              0.4444444444444444,
              "#bd3786"
             ],
             [
              0.5555555555555556,
              "#d8576b"
             ],
             [
              0.6666666666666666,
              "#ed7953"
             ],
             [
              0.7777777777777778,
              "#fb9f3a"
             ],
             [
              0.8888888888888888,
              "#fdca26"
             ],
             [
              1,
              "#f0f921"
             ]
            ],
            "type": "histogram2dcontour"
           }
          ],
          "mesh3d": [
           {
            "colorbar": {
             "outlinewidth": 0,
             "ticks": ""
            },
            "type": "mesh3d"
           }
          ],
          "parcoords": [
           {
            "line": {
             "colorbar": {
              "outlinewidth": 0,
              "ticks": ""
             }
            },
            "type": "parcoords"
           }
          ],
          "pie": [
           {
            "automargin": true,
            "type": "pie"
           }
          ],
          "scatter": [
           {
            "fillpattern": {
             "fillmode": "overlay",
             "size": 10,
             "solidity": 0.2
            },
            "type": "scatter"
           }
          ],
          "scatter3d": [
           {
            "line": {
             "colorbar": {
              "outlinewidth": 0,
              "ticks": ""
             }
            },
            "marker": {
             "colorbar": {
              "outlinewidth": 0,
              "ticks": ""
             }
            },
            "type": "scatter3d"
           }
          ],
          "scattercarpet": [
           {
            "marker": {
             "colorbar": {
              "outlinewidth": 0,
              "ticks": ""
             }
            },
            "type": "scattercarpet"
           }
          ],
          "scattergeo": [
           {
            "marker": {
             "colorbar": {
              "outlinewidth": 0,
              "ticks": ""
             }
            },
            "type": "scattergeo"
           }
          ],
          "scattergl": [
           {
            "marker": {
             "colorbar": {
              "outlinewidth": 0,
              "ticks": ""
             }
            },
            "type": "scattergl"
           }
          ],
          "scattermapbox": [
           {
            "marker": {
             "colorbar": {
              "outlinewidth": 0,
              "ticks": ""
             }
            },
            "type": "scattermapbox"
           }
          ],
          "scatterpolar": [
           {
            "marker": {
             "colorbar": {
              "outlinewidth": 0,
              "ticks": ""
             }
            },
            "type": "scatterpolar"
           }
          ],
          "scatterpolargl": [
           {
            "marker": {
             "colorbar": {
              "outlinewidth": 0,
              "ticks": ""
             }
            },
            "type": "scatterpolargl"
           }
          ],
          "scatterternary": [
           {
            "marker": {
             "colorbar": {
              "outlinewidth": 0,
              "ticks": ""
             }
            },
            "type": "scatterternary"
           }
          ],
          "surface": [
           {
            "colorbar": {
             "outlinewidth": 0,
             "ticks": ""
            },
            "colorscale": [
             [
              0,
              "#0d0887"
             ],
             [
              0.1111111111111111,
              "#46039f"
             ],
             [
              0.2222222222222222,
              "#7201a8"
             ],
             [
              0.3333333333333333,
              "#9c179e"
             ],
             [
              0.4444444444444444,
              "#bd3786"
             ],
             [
              0.5555555555555556,
              "#d8576b"
             ],
             [
              0.6666666666666666,
              "#ed7953"
             ],
             [
              0.7777777777777778,
              "#fb9f3a"
             ],
             [
              0.8888888888888888,
              "#fdca26"
             ],
             [
              1,
              "#f0f921"
             ]
            ],
            "type": "surface"
           }
          ],
          "table": [
           {
            "cells": {
             "fill": {
              "color": "#EBF0F8"
             },
             "line": {
              "color": "white"
             }
            },
            "header": {
             "fill": {
              "color": "#C8D4E3"
             },
             "line": {
              "color": "white"
             }
            },
            "type": "table"
           }
          ]
         },
         "layout": {
          "annotationdefaults": {
           "arrowcolor": "#2a3f5f",
           "arrowhead": 0,
           "arrowwidth": 1
          },
          "autotypenumbers": "strict",
          "coloraxis": {
           "colorbar": {
            "outlinewidth": 0,
            "ticks": ""
           }
          },
          "colorscale": {
           "diverging": [
            [
             0,
             "#8e0152"
            ],
            [
             0.1,
             "#c51b7d"
            ],
            [
             0.2,
             "#de77ae"
            ],
            [
             0.3,
             "#f1b6da"
            ],
            [
             0.4,
             "#fde0ef"
            ],
            [
             0.5,
             "#f7f7f7"
            ],
            [
             0.6,
             "#e6f5d0"
            ],
            [
             0.7,
             "#b8e186"
            ],
            [
             0.8,
             "#7fbc41"
            ],
            [
             0.9,
             "#4d9221"
            ],
            [
             1,
             "#276419"
            ]
           ],
           "sequential": [
            [
             0,
             "#0d0887"
            ],
            [
             0.1111111111111111,
             "#46039f"
            ],
            [
             0.2222222222222222,
             "#7201a8"
            ],
            [
             0.3333333333333333,
             "#9c179e"
            ],
            [
             0.4444444444444444,
             "#bd3786"
            ],
            [
             0.5555555555555556,
             "#d8576b"
            ],
            [
             0.6666666666666666,
             "#ed7953"
            ],
            [
             0.7777777777777778,
             "#fb9f3a"
            ],
            [
             0.8888888888888888,
             "#fdca26"
            ],
            [
             1,
             "#f0f921"
            ]
           ],
           "sequentialminus": [
            [
             0,
             "#0d0887"
            ],
            [
             0.1111111111111111,
             "#46039f"
            ],
            [
             0.2222222222222222,
             "#7201a8"
            ],
            [
             0.3333333333333333,
             "#9c179e"
            ],
            [
             0.4444444444444444,
             "#bd3786"
            ],
            [
             0.5555555555555556,
             "#d8576b"
            ],
            [
             0.6666666666666666,
             "#ed7953"
            ],
            [
             0.7777777777777778,
             "#fb9f3a"
            ],
            [
             0.8888888888888888,
             "#fdca26"
            ],
            [
             1,
             "#f0f921"
            ]
           ]
          },
          "colorway": [
           "#636efa",
           "#EF553B",
           "#00cc96",
           "#ab63fa",
           "#FFA15A",
           "#19d3f3",
           "#FF6692",
           "#B6E880",
           "#FF97FF",
           "#FECB52"
          ],
          "font": {
           "color": "#2a3f5f"
          },
          "geo": {
           "bgcolor": "white",
           "lakecolor": "white",
           "landcolor": "#E5ECF6",
           "showlakes": true,
           "showland": true,
           "subunitcolor": "white"
          },
          "hoverlabel": {
           "align": "left"
          },
          "hovermode": "closest",
          "mapbox": {
           "style": "light"
          },
          "paper_bgcolor": "white",
          "plot_bgcolor": "#E5ECF6",
          "polar": {
           "angularaxis": {
            "gridcolor": "white",
            "linecolor": "white",
            "ticks": ""
           },
           "bgcolor": "#E5ECF6",
           "radialaxis": {
            "gridcolor": "white",
            "linecolor": "white",
            "ticks": ""
           }
          },
          "scene": {
           "xaxis": {
            "backgroundcolor": "#E5ECF6",
            "gridcolor": "white",
            "gridwidth": 2,
            "linecolor": "white",
            "showbackground": true,
            "ticks": "",
            "zerolinecolor": "white"
           },
           "yaxis": {
            "backgroundcolor": "#E5ECF6",
            "gridcolor": "white",
            "gridwidth": 2,
            "linecolor": "white",
            "showbackground": true,
            "ticks": "",
            "zerolinecolor": "white"
           },
           "zaxis": {
            "backgroundcolor": "#E5ECF6",
            "gridcolor": "white",
            "gridwidth": 2,
            "linecolor": "white",
            "showbackground": true,
            "ticks": "",
            "zerolinecolor": "white"
           }
          },
          "shapedefaults": {
           "line": {
            "color": "#2a3f5f"
           }
          },
          "ternary": {
           "aaxis": {
            "gridcolor": "white",
            "linecolor": "white",
            "ticks": ""
           },
           "baxis": {
            "gridcolor": "white",
            "linecolor": "white",
            "ticks": ""
           },
           "bgcolor": "#E5ECF6",
           "caxis": {
            "gridcolor": "white",
            "linecolor": "white",
            "ticks": ""
           }
          },
          "title": {
           "x": 0.05
          },
          "xaxis": {
           "automargin": true,
           "gridcolor": "white",
           "linecolor": "white",
           "ticks": "",
           "title": {
            "standoff": 15
           },
           "zerolinecolor": "white",
           "zerolinewidth": 2
          },
          "yaxis": {
           "automargin": true,
           "gridcolor": "white",
           "linecolor": "white",
           "ticks": "",
           "title": {
            "standoff": 15
           },
           "zerolinecolor": "white",
           "zerolinewidth": 2
          }
         }
        },
        "title": {
         "text": "Mass Flow Diagram of Food Produced in United States"
        }
       }
      },
      "text/html": [
       "<div>                            <div id=\"7cf41618-0be2-4f60-82ba-d6daa5f0b0a0\" class=\"plotly-graph-div\" style=\"height:525px; width:100%;\"></div>            <script type=\"text/javascript\">                require([\"plotly\"], function(Plotly) {                    window.PLOTLYENV=window.PLOTLYENV || {};                                    if (document.getElementById(\"7cf41618-0be2-4f60-82ba-d6daa5f0b0a0\")) {                    Plotly.newPlot(                        \"7cf41618-0be2-4f60-82ba-d6daa5f0b0a0\",                        [{\"link\":{\"source\":[0,0,0],\"target\":[2,3,1],\"value\":[662860859.216364,5328158392.581762,1644137748.5482848]},\"node\":{\"label\":[\"Farm\",\"Foodservice\",\"Manufacturing\",\"Retail\"],\"line\":{\"color\":\"black\",\"width\":0.5},\"pad\":15,\"thickness\":20},\"type\":\"sankey\"}],                        {\"template\":{\"data\":{\"histogram2dcontour\":[{\"type\":\"histogram2dcontour\",\"colorbar\":{\"outlinewidth\":0,\"ticks\":\"\"},\"colorscale\":[[0.0,\"#0d0887\"],[0.1111111111111111,\"#46039f\"],[0.2222222222222222,\"#7201a8\"],[0.3333333333333333,\"#9c179e\"],[0.4444444444444444,\"#bd3786\"],[0.5555555555555556,\"#d8576b\"],[0.6666666666666666,\"#ed7953\"],[0.7777777777777778,\"#fb9f3a\"],[0.8888888888888888,\"#fdca26\"],[1.0,\"#f0f921\"]]}],\"choropleth\":[{\"type\":\"choropleth\",\"colorbar\":{\"outlinewidth\":0,\"ticks\":\"\"}}],\"histogram2d\":[{\"type\":\"histogram2d\",\"colorbar\":{\"outlinewidth\":0,\"ticks\":\"\"},\"colorscale\":[[0.0,\"#0d0887\"],[0.1111111111111111,\"#46039f\"],[0.2222222222222222,\"#7201a8\"],[0.3333333333333333,\"#9c179e\"],[0.4444444444444444,\"#bd3786\"],[0.5555555555555556,\"#d8576b\"],[0.6666666666666666,\"#ed7953\"],[0.7777777777777778,\"#fb9f3a\"],[0.8888888888888888,\"#fdca26\"],[1.0,\"#f0f921\"]]}],\"heatmap\":[{\"type\":\"heatmap\",\"colorbar\":{\"outlinewidth\":0,\"ticks\":\"\"},\"colorscale\":[[0.0,\"#0d0887\"],[0.1111111111111111,\"#46039f\"],[0.2222222222222222,\"#7201a8\"],[0.3333333333333333,\"#9c179e\"],[0.4444444444444444,\"#bd3786\"],[0.5555555555555556,\"#d8576b\"],[0.6666666666666666,\"#ed7953\"],[0.7777777777777778,\"#fb9f3a\"],[0.8888888888888888,\"#fdca26\"],[1.0,\"#f0f921\"]]}],\"heatmapgl\":[{\"type\":\"heatmapgl\",\"colorbar\":{\"outlinewidth\":0,\"ticks\":\"\"},\"colorscale\":[[0.0,\"#0d0887\"],[0.1111111111111111,\"#46039f\"],[0.2222222222222222,\"#7201a8\"],[0.3333333333333333,\"#9c179e\"],[0.4444444444444444,\"#bd3786\"],[0.5555555555555556,\"#d8576b\"],[0.6666666666666666,\"#ed7953\"],[0.7777777777777778,\"#fb9f3a\"],[0.8888888888888888,\"#fdca26\"],[1.0,\"#f0f921\"]]}],\"contourcarpet\":[{\"type\":\"contourcarpet\",\"colorbar\":{\"outlinewidth\":0,\"ticks\":\"\"}}],\"contour\":[{\"type\":\"contour\",\"colorbar\":{\"outlinewidth\":0,\"ticks\":\"\"},\"colorscale\":[[0.0,\"#0d0887\"],[0.1111111111111111,\"#46039f\"],[0.2222222222222222,\"#7201a8\"],[0.3333333333333333,\"#9c179e\"],[0.4444444444444444,\"#bd3786\"],[0.5555555555555556,\"#d8576b\"],[0.6666666666666666,\"#ed7953\"],[0.7777777777777778,\"#fb9f3a\"],[0.8888888888888888,\"#fdca26\"],[1.0,\"#f0f921\"]]}],\"surface\":[{\"type\":\"surface\",\"colorbar\":{\"outlinewidth\":0,\"ticks\":\"\"},\"colorscale\":[[0.0,\"#0d0887\"],[0.1111111111111111,\"#46039f\"],[0.2222222222222222,\"#7201a8\"],[0.3333333333333333,\"#9c179e\"],[0.4444444444444444,\"#bd3786\"],[0.5555555555555556,\"#d8576b\"],[0.6666666666666666,\"#ed7953\"],[0.7777777777777778,\"#fb9f3a\"],[0.8888888888888888,\"#fdca26\"],[1.0,\"#f0f921\"]]}],\"mesh3d\":[{\"type\":\"mesh3d\",\"colorbar\":{\"outlinewidth\":0,\"ticks\":\"\"}}],\"scatter\":[{\"fillpattern\":{\"fillmode\":\"overlay\",\"size\":10,\"solidity\":0.2},\"type\":\"scatter\"}],\"parcoords\":[{\"type\":\"parcoords\",\"line\":{\"colorbar\":{\"outlinewidth\":0,\"ticks\":\"\"}}}],\"scatterpolargl\":[{\"type\":\"scatterpolargl\",\"marker\":{\"colorbar\":{\"outlinewidth\":0,\"ticks\":\"\"}}}],\"bar\":[{\"error_x\":{\"color\":\"#2a3f5f\"},\"error_y\":{\"color\":\"#2a3f5f\"},\"marker\":{\"line\":{\"color\":\"#E5ECF6\",\"width\":0.5},\"pattern\":{\"fillmode\":\"overlay\",\"size\":10,\"solidity\":0.2}},\"type\":\"bar\"}],\"scattergeo\":[{\"type\":\"scattergeo\",\"marker\":{\"colorbar\":{\"outlinewidth\":0,\"ticks\":\"\"}}}],\"scatterpolar\":[{\"type\":\"scatterpolar\",\"marker\":{\"colorbar\":{\"outlinewidth\":0,\"ticks\":\"\"}}}],\"histogram\":[{\"marker\":{\"pattern\":{\"fillmode\":\"overlay\",\"size\":10,\"solidity\":0.2}},\"type\":\"histogram\"}],\"scattergl\":[{\"type\":\"scattergl\",\"marker\":{\"colorbar\":{\"outlinewidth\":0,\"ticks\":\"\"}}}],\"scatter3d\":[{\"type\":\"scatter3d\",\"line\":{\"colorbar\":{\"outlinewidth\":0,\"ticks\":\"\"}},\"marker\":{\"colorbar\":{\"outlinewidth\":0,\"ticks\":\"\"}}}],\"scattermapbox\":[{\"type\":\"scattermapbox\",\"marker\":{\"colorbar\":{\"outlinewidth\":0,\"ticks\":\"\"}}}],\"scatterternary\":[{\"type\":\"scatterternary\",\"marker\":{\"colorbar\":{\"outlinewidth\":0,\"ticks\":\"\"}}}],\"scattercarpet\":[{\"type\":\"scattercarpet\",\"marker\":{\"colorbar\":{\"outlinewidth\":0,\"ticks\":\"\"}}}],\"carpet\":[{\"aaxis\":{\"endlinecolor\":\"#2a3f5f\",\"gridcolor\":\"white\",\"linecolor\":\"white\",\"minorgridcolor\":\"white\",\"startlinecolor\":\"#2a3f5f\"},\"baxis\":{\"endlinecolor\":\"#2a3f5f\",\"gridcolor\":\"white\",\"linecolor\":\"white\",\"minorgridcolor\":\"white\",\"startlinecolor\":\"#2a3f5f\"},\"type\":\"carpet\"}],\"table\":[{\"cells\":{\"fill\":{\"color\":\"#EBF0F8\"},\"line\":{\"color\":\"white\"}},\"header\":{\"fill\":{\"color\":\"#C8D4E3\"},\"line\":{\"color\":\"white\"}},\"type\":\"table\"}],\"barpolar\":[{\"marker\":{\"line\":{\"color\":\"#E5ECF6\",\"width\":0.5},\"pattern\":{\"fillmode\":\"overlay\",\"size\":10,\"solidity\":0.2}},\"type\":\"barpolar\"}],\"pie\":[{\"automargin\":true,\"type\":\"pie\"}]},\"layout\":{\"autotypenumbers\":\"strict\",\"colorway\":[\"#636efa\",\"#EF553B\",\"#00cc96\",\"#ab63fa\",\"#FFA15A\",\"#19d3f3\",\"#FF6692\",\"#B6E880\",\"#FF97FF\",\"#FECB52\"],\"font\":{\"color\":\"#2a3f5f\"},\"hovermode\":\"closest\",\"hoverlabel\":{\"align\":\"left\"},\"paper_bgcolor\":\"white\",\"plot_bgcolor\":\"#E5ECF6\",\"polar\":{\"bgcolor\":\"#E5ECF6\",\"angularaxis\":{\"gridcolor\":\"white\",\"linecolor\":\"white\",\"ticks\":\"\"},\"radialaxis\":{\"gridcolor\":\"white\",\"linecolor\":\"white\",\"ticks\":\"\"}},\"ternary\":{\"bgcolor\":\"#E5ECF6\",\"aaxis\":{\"gridcolor\":\"white\",\"linecolor\":\"white\",\"ticks\":\"\"},\"baxis\":{\"gridcolor\":\"white\",\"linecolor\":\"white\",\"ticks\":\"\"},\"caxis\":{\"gridcolor\":\"white\",\"linecolor\":\"white\",\"ticks\":\"\"}},\"coloraxis\":{\"colorbar\":{\"outlinewidth\":0,\"ticks\":\"\"}},\"colorscale\":{\"sequential\":[[0.0,\"#0d0887\"],[0.1111111111111111,\"#46039f\"],[0.2222222222222222,\"#7201a8\"],[0.3333333333333333,\"#9c179e\"],[0.4444444444444444,\"#bd3786\"],[0.5555555555555556,\"#d8576b\"],[0.6666666666666666,\"#ed7953\"],[0.7777777777777778,\"#fb9f3a\"],[0.8888888888888888,\"#fdca26\"],[1.0,\"#f0f921\"]],\"sequentialminus\":[[0.0,\"#0d0887\"],[0.1111111111111111,\"#46039f\"],[0.2222222222222222,\"#7201a8\"],[0.3333333333333333,\"#9c179e\"],[0.4444444444444444,\"#bd3786\"],[0.5555555555555556,\"#d8576b\"],[0.6666666666666666,\"#ed7953\"],[0.7777777777777778,\"#fb9f3a\"],[0.8888888888888888,\"#fdca26\"],[1.0,\"#f0f921\"]],\"diverging\":[[0,\"#8e0152\"],[0.1,\"#c51b7d\"],[0.2,\"#de77ae\"],[0.3,\"#f1b6da\"],[0.4,\"#fde0ef\"],[0.5,\"#f7f7f7\"],[0.6,\"#e6f5d0\"],[0.7,\"#b8e186\"],[0.8,\"#7fbc41\"],[0.9,\"#4d9221\"],[1,\"#276419\"]]},\"xaxis\":{\"gridcolor\":\"white\",\"linecolor\":\"white\",\"ticks\":\"\",\"title\":{\"standoff\":15},\"zerolinecolor\":\"white\",\"automargin\":true,\"zerolinewidth\":2},\"yaxis\":{\"gridcolor\":\"white\",\"linecolor\":\"white\",\"ticks\":\"\",\"title\":{\"standoff\":15},\"zerolinecolor\":\"white\",\"automargin\":true,\"zerolinewidth\":2},\"scene\":{\"xaxis\":{\"backgroundcolor\":\"#E5ECF6\",\"gridcolor\":\"white\",\"linecolor\":\"white\",\"showbackground\":true,\"ticks\":\"\",\"zerolinecolor\":\"white\",\"gridwidth\":2},\"yaxis\":{\"backgroundcolor\":\"#E5ECF6\",\"gridcolor\":\"white\",\"linecolor\":\"white\",\"showbackground\":true,\"ticks\":\"\",\"zerolinecolor\":\"white\",\"gridwidth\":2},\"zaxis\":{\"backgroundcolor\":\"#E5ECF6\",\"gridcolor\":\"white\",\"linecolor\":\"white\",\"showbackground\":true,\"ticks\":\"\",\"zerolinecolor\":\"white\",\"gridwidth\":2}},\"shapedefaults\":{\"line\":{\"color\":\"#2a3f5f\"}},\"annotationdefaults\":{\"arrowcolor\":\"#2a3f5f\",\"arrowhead\":0,\"arrowwidth\":1},\"geo\":{\"bgcolor\":\"white\",\"landcolor\":\"#E5ECF6\",\"subunitcolor\":\"white\",\"showland\":true,\"showlakes\":true,\"lakecolor\":\"white\"},\"title\":{\"x\":0.05},\"mapbox\":{\"style\":\"light\"}}},\"title\":{\"text\":\"Mass Flow Diagram of Food Produced in United States\"},\"font\":{\"size\":10}},                        {\"responsive\": true}                    ).then(function(){\n",
       "                            \n",
       "var gd = document.getElementById('7cf41618-0be2-4f60-82ba-d6daa5f0b0a0');\n",
       "var x = new MutationObserver(function (mutations, observer) {{\n",
       "        var display = window.getComputedStyle(gd).display;\n",
       "        if (!display || display === 'none') {{\n",
       "            console.log([gd, 'removed!']);\n",
       "            Plotly.purge(gd);\n",
       "            observer.disconnect();\n",
       "        }}\n",
       "}});\n",
       "\n",
       "// Listen for the removal of the full notebook cells\n",
       "var notebookContainer = gd.closest('#notebook-container');\n",
       "if (notebookContainer) {{\n",
       "    x.observe(notebookContainer, {childList: true});\n",
       "}}\n",
       "\n",
       "// Listen for the clearing of the current output cell\n",
       "var outputEl = gd.closest('.output');\n",
       "if (outputEl) {{\n",
       "    x.observe(outputEl, {childList: true});\n",
       "}}\n",
       "\n",
       "                        })                };                });            </script>        </div>"
      ]
     },
     "metadata": {},
     "output_type": "display_data"
    }
   ],
   "source": [
    "import pandas as pd\n",
    "import plotly.graph_objects as go\n",
    "\n",
    "# Load data into a DataFrame, skip the first three rows\n",
    "data = pd.read_csv('ReFED_US_Food_Surplus_Summary.csv', skiprows=3)\n",
    "\n",
    "# Filter rows containing the useful sectors\n",
    "data = data[data['sector'].isin(['Farm', 'Manufacturing', 'Foodservice', 'Retail'])]\n",
    "\n",
    "# Calculate the total sum of tons_supply for each sector\n",
    "grouped_data = data.groupby('sector')['tons_supply'].sum().reset_index()\n",
    "\n",
    "# Create a mapping of sector names to numeric labels\n",
    "sector_mapping = {sector: i for i, sector in enumerate(grouped_data['sector'].unique())}\n",
    "\n",
    "# Create a list of labels and values for the Sankey diagram\n",
    "labels = list(sector_mapping.keys())\n",
    "values = grouped_data['tons_supply'].values\n",
    "\n",
    "# Create the sources, targets, and values for the Sankey diagram links\n",
    "sources = [sector_mapping['Farm']] * 3\n",
    "targets = [sector_mapping['Manufacturing'], sector_mapping['Retail'], sector_mapping['Foodservice']]\n",
    "link_values = values[1:]\n",
    "\n",
    "# Create Sankey diagram\n",
    "fig = go.Figure(go.Sankey(\n",
    "    node=dict(\n",
    "        pad=15,\n",
    "        thickness=20,\n",
    "        line=dict(color='black', width=0.5),\n",
    "        label=labels\n",
    "    ),\n",
    "    link=dict(\n",
    "        source=sources,\n",
    "        target=targets,\n",
    "        value=link_values\n",
    "    )\n",
    "))\n",
    "\n",
    "# Set Sankey diagram title\n",
    "fig.update_layout(title_text='Mass Flow Diagram of Food Produced in United States', font_size=10)\n",
    "\n",
    "# Show Sankey diagram\n",
    "fig.show()\n"
   ]
  },
  {
   "cell_type": "code",
   "execution_count": 33,
   "id": "50e69e4e",
   "metadata": {},
   "outputs": [
    {
     "name": "stdout",
     "output_type": "stream",
     "text": [
      "          sector   tons_supply\n",
      "0           Farm  1.284050e+09\n",
      "1    Foodservice  6.628609e+08\n",
      "2  Manufacturing  5.328158e+09\n",
      "3         Retail  1.644138e+09\n"
     ]
    }
   ],
   "source": [
    "print(grouped_data)"
   ]
  },
  {
   "cell_type": "code",
   "execution_count": 36,
   "id": "b96da20f",
   "metadata": {},
   "outputs": [
    {
     "data": {
      "application/vnd.plotly.v1+json": {
       "config": {
        "plotlyServerURL": "https://plot.ly"
       },
       "data": [
        {
         "link": {
          "source": [
           0,
           0,
           0
          ],
          "target": [
           2,
           3,
           1
          ],
          "value": [
           5328158392.581762,
           1644137748.5482848,
           662860859.216364
          ]
         },
         "node": {
          "label": [
           "Farm",
           "Foodservice",
           "Manufacturing",
           "Retail"
          ],
          "line": {
           "color": "black",
           "width": 0.5
          },
          "pad": 15,
          "thickness": 20
         },
         "type": "sankey"
        }
       ],
       "layout": {
        "font": {
         "size": 10
        },
        "template": {
         "data": {
          "bar": [
           {
            "error_x": {
             "color": "#2a3f5f"
            },
            "error_y": {
             "color": "#2a3f5f"
            },
            "marker": {
             "line": {
              "color": "#E5ECF6",
              "width": 0.5
             },
             "pattern": {
              "fillmode": "overlay",
              "size": 10,
              "solidity": 0.2
             }
            },
            "type": "bar"
           }
          ],
          "barpolar": [
           {
            "marker": {
             "line": {
              "color": "#E5ECF6",
              "width": 0.5
             },
             "pattern": {
              "fillmode": "overlay",
              "size": 10,
              "solidity": 0.2
             }
            },
            "type": "barpolar"
           }
          ],
          "carpet": [
           {
            "aaxis": {
             "endlinecolor": "#2a3f5f",
             "gridcolor": "white",
             "linecolor": "white",
             "minorgridcolor": "white",
             "startlinecolor": "#2a3f5f"
            },
            "baxis": {
             "endlinecolor": "#2a3f5f",
             "gridcolor": "white",
             "linecolor": "white",
             "minorgridcolor": "white",
             "startlinecolor": "#2a3f5f"
            },
            "type": "carpet"
           }
          ],
          "choropleth": [
           {
            "colorbar": {
             "outlinewidth": 0,
             "ticks": ""
            },
            "type": "choropleth"
           }
          ],
          "contour": [
           {
            "colorbar": {
             "outlinewidth": 0,
             "ticks": ""
            },
            "colorscale": [
             [
              0,
              "#0d0887"
             ],
             [
              0.1111111111111111,
              "#46039f"
             ],
             [
              0.2222222222222222,
              "#7201a8"
             ],
             [
              0.3333333333333333,
              "#9c179e"
             ],
             [
              0.4444444444444444,
              "#bd3786"
             ],
             [
              0.5555555555555556,
              "#d8576b"
             ],
             [
              0.6666666666666666,
              "#ed7953"
             ],
             [
              0.7777777777777778,
              "#fb9f3a"
             ],
             [
              0.8888888888888888,
              "#fdca26"
             ],
             [
              1,
              "#f0f921"
             ]
            ],
            "type": "contour"
           }
          ],
          "contourcarpet": [
           {
            "colorbar": {
             "outlinewidth": 0,
             "ticks": ""
            },
            "type": "contourcarpet"
           }
          ],
          "heatmap": [
           {
            "colorbar": {
             "outlinewidth": 0,
             "ticks": ""
            },
            "colorscale": [
             [
              0,
              "#0d0887"
             ],
             [
              0.1111111111111111,
              "#46039f"
             ],
             [
              0.2222222222222222,
              "#7201a8"
             ],
             [
              0.3333333333333333,
              "#9c179e"
             ],
             [
              0.4444444444444444,
              "#bd3786"
             ],
             [
              0.5555555555555556,
              "#d8576b"
             ],
             [
              0.6666666666666666,
              "#ed7953"
             ],
             [
              0.7777777777777778,
              "#fb9f3a"
             ],
             [
              0.8888888888888888,
              "#fdca26"
             ],
             [
              1,
              "#f0f921"
             ]
            ],
            "type": "heatmap"
           }
          ],
          "heatmapgl": [
           {
            "colorbar": {
             "outlinewidth": 0,
             "ticks": ""
            },
            "colorscale": [
             [
              0,
              "#0d0887"
             ],
             [
              0.1111111111111111,
              "#46039f"
             ],
             [
              0.2222222222222222,
              "#7201a8"
             ],
             [
              0.3333333333333333,
              "#9c179e"
             ],
             [
              0.4444444444444444,
              "#bd3786"
             ],
             [
              0.5555555555555556,
              "#d8576b"
             ],
             [
              0.6666666666666666,
              "#ed7953"
             ],
             [
              0.7777777777777778,
              "#fb9f3a"
             ],
             [
              0.8888888888888888,
              "#fdca26"
             ],
             [
              1,
              "#f0f921"
             ]
            ],
            "type": "heatmapgl"
           }
          ],
          "histogram": [
           {
            "marker": {
             "pattern": {
              "fillmode": "overlay",
              "size": 10,
              "solidity": 0.2
             }
            },
            "type": "histogram"
           }
          ],
          "histogram2d": [
           {
            "colorbar": {
             "outlinewidth": 0,
             "ticks": ""
            },
            "colorscale": [
             [
              0,
              "#0d0887"
             ],
             [
              0.1111111111111111,
              "#46039f"
             ],
             [
              0.2222222222222222,
              "#7201a8"
             ],
             [
              0.3333333333333333,
              "#9c179e"
             ],
             [
              0.4444444444444444,
              "#bd3786"
             ],
             [
              0.5555555555555556,
              "#d8576b"
             ],
             [
              0.6666666666666666,
              "#ed7953"
             ],
             [
              0.7777777777777778,
              "#fb9f3a"
             ],
             [
              0.8888888888888888,
              "#fdca26"
             ],
             [
              1,
              "#f0f921"
             ]
            ],
            "type": "histogram2d"
           }
          ],
          "histogram2dcontour": [
           {
            "colorbar": {
             "outlinewidth": 0,
             "ticks": ""
            },
            "colorscale": [
             [
              0,
              "#0d0887"
             ],
             [
              0.1111111111111111,
              "#46039f"
             ],
             [
              0.2222222222222222,
              "#7201a8"
             ],
             [
              0.3333333333333333,
              "#9c179e"
             ],
             [
              0.4444444444444444,
              "#bd3786"
             ],
             [
              0.5555555555555556,
              "#d8576b"
             ],
             [
              0.6666666666666666,
              "#ed7953"
             ],
             [
              0.7777777777777778,
              "#fb9f3a"
             ],
             [
              0.8888888888888888,
              "#fdca26"
             ],
             [
              1,
              "#f0f921"
             ]
            ],
            "type": "histogram2dcontour"
           }
          ],
          "mesh3d": [
           {
            "colorbar": {
             "outlinewidth": 0,
             "ticks": ""
            },
            "type": "mesh3d"
           }
          ],
          "parcoords": [
           {
            "line": {
             "colorbar": {
              "outlinewidth": 0,
              "ticks": ""
             }
            },
            "type": "parcoords"
           }
          ],
          "pie": [
           {
            "automargin": true,
            "type": "pie"
           }
          ],
          "scatter": [
           {
            "fillpattern": {
             "fillmode": "overlay",
             "size": 10,
             "solidity": 0.2
            },
            "type": "scatter"
           }
          ],
          "scatter3d": [
           {
            "line": {
             "colorbar": {
              "outlinewidth": 0,
              "ticks": ""
             }
            },
            "marker": {
             "colorbar": {
              "outlinewidth": 0,
              "ticks": ""
             }
            },
            "type": "scatter3d"
           }
          ],
          "scattercarpet": [
           {
            "marker": {
             "colorbar": {
              "outlinewidth": 0,
              "ticks": ""
             }
            },
            "type": "scattercarpet"
           }
          ],
          "scattergeo": [
           {
            "marker": {
             "colorbar": {
              "outlinewidth": 0,
              "ticks": ""
             }
            },
            "type": "scattergeo"
           }
          ],
          "scattergl": [
           {
            "marker": {
             "colorbar": {
              "outlinewidth": 0,
              "ticks": ""
             }
            },
            "type": "scattergl"
           }
          ],
          "scattermapbox": [
           {
            "marker": {
             "colorbar": {
              "outlinewidth": 0,
              "ticks": ""
             }
            },
            "type": "scattermapbox"
           }
          ],
          "scatterpolar": [
           {
            "marker": {
             "colorbar": {
              "outlinewidth": 0,
              "ticks": ""
             }
            },
            "type": "scatterpolar"
           }
          ],
          "scatterpolargl": [
           {
            "marker": {
             "colorbar": {
              "outlinewidth": 0,
              "ticks": ""
             }
            },
            "type": "scatterpolargl"
           }
          ],
          "scatterternary": [
           {
            "marker": {
             "colorbar": {
              "outlinewidth": 0,
              "ticks": ""
             }
            },
            "type": "scatterternary"
           }
          ],
          "surface": [
           {
            "colorbar": {
             "outlinewidth": 0,
             "ticks": ""
            },
            "colorscale": [
             [
              0,
              "#0d0887"
             ],
             [
              0.1111111111111111,
              "#46039f"
             ],
             [
              0.2222222222222222,
              "#7201a8"
             ],
             [
              0.3333333333333333,
              "#9c179e"
             ],
             [
              0.4444444444444444,
              "#bd3786"
             ],
             [
              0.5555555555555556,
              "#d8576b"
             ],
             [
              0.6666666666666666,
              "#ed7953"
             ],
             [
              0.7777777777777778,
              "#fb9f3a"
             ],
             [
              0.8888888888888888,
              "#fdca26"
             ],
             [
              1,
              "#f0f921"
             ]
            ],
            "type": "surface"
           }
          ],
          "table": [
           {
            "cells": {
             "fill": {
              "color": "#EBF0F8"
             },
             "line": {
              "color": "white"
             }
            },
            "header": {
             "fill": {
              "color": "#C8D4E3"
             },
             "line": {
              "color": "white"
             }
            },
            "type": "table"
           }
          ]
         },
         "layout": {
          "annotationdefaults": {
           "arrowcolor": "#2a3f5f",
           "arrowhead": 0,
           "arrowwidth": 1
          },
          "autotypenumbers": "strict",
          "coloraxis": {
           "colorbar": {
            "outlinewidth": 0,
            "ticks": ""
           }
          },
          "colorscale": {
           "diverging": [
            [
             0,
             "#8e0152"
            ],
            [
             0.1,
             "#c51b7d"
            ],
            [
             0.2,
             "#de77ae"
            ],
            [
             0.3,
             "#f1b6da"
            ],
            [
             0.4,
             "#fde0ef"
            ],
            [
             0.5,
             "#f7f7f7"
            ],
            [
             0.6,
             "#e6f5d0"
            ],
            [
             0.7,
             "#b8e186"
            ],
            [
             0.8,
             "#7fbc41"
            ],
            [
             0.9,
             "#4d9221"
            ],
            [
             1,
             "#276419"
            ]
           ],
           "sequential": [
            [
             0,
             "#0d0887"
            ],
            [
             0.1111111111111111,
             "#46039f"
            ],
            [
             0.2222222222222222,
             "#7201a8"
            ],
            [
             0.3333333333333333,
             "#9c179e"
            ],
            [
             0.4444444444444444,
             "#bd3786"
            ],
            [
             0.5555555555555556,
             "#d8576b"
            ],
            [
             0.6666666666666666,
             "#ed7953"
            ],
            [
             0.7777777777777778,
             "#fb9f3a"
            ],
            [
             0.8888888888888888,
             "#fdca26"
            ],
            [
             1,
             "#f0f921"
            ]
           ],
           "sequentialminus": [
            [
             0,
             "#0d0887"
            ],
            [
             0.1111111111111111,
             "#46039f"
            ],
            [
             0.2222222222222222,
             "#7201a8"
            ],
            [
             0.3333333333333333,
             "#9c179e"
            ],
            [
             0.4444444444444444,
             "#bd3786"
            ],
            [
             0.5555555555555556,
             "#d8576b"
            ],
            [
             0.6666666666666666,
             "#ed7953"
            ],
            [
             0.7777777777777778,
             "#fb9f3a"
            ],
            [
             0.8888888888888888,
             "#fdca26"
            ],
            [
             1,
             "#f0f921"
            ]
           ]
          },
          "colorway": [
           "#636efa",
           "#EF553B",
           "#00cc96",
           "#ab63fa",
           "#FFA15A",
           "#19d3f3",
           "#FF6692",
           "#B6E880",
           "#FF97FF",
           "#FECB52"
          ],
          "font": {
           "color": "#2a3f5f"
          },
          "geo": {
           "bgcolor": "white",
           "lakecolor": "white",
           "landcolor": "#E5ECF6",
           "showlakes": true,
           "showland": true,
           "subunitcolor": "white"
          },
          "hoverlabel": {
           "align": "left"
          },
          "hovermode": "closest",
          "mapbox": {
           "style": "light"
          },
          "paper_bgcolor": "white",
          "plot_bgcolor": "#E5ECF6",
          "polar": {
           "angularaxis": {
            "gridcolor": "white",
            "linecolor": "white",
            "ticks": ""
           },
           "bgcolor": "#E5ECF6",
           "radialaxis": {
            "gridcolor": "white",
            "linecolor": "white",
            "ticks": ""
           }
          },
          "scene": {
           "xaxis": {
            "backgroundcolor": "#E5ECF6",
            "gridcolor": "white",
            "gridwidth": 2,
            "linecolor": "white",
            "showbackground": true,
            "ticks": "",
            "zerolinecolor": "white"
           },
           "yaxis": {
            "backgroundcolor": "#E5ECF6",
            "gridcolor": "white",
            "gridwidth": 2,
            "linecolor": "white",
            "showbackground": true,
            "ticks": "",
            "zerolinecolor": "white"
           },
           "zaxis": {
            "backgroundcolor": "#E5ECF6",
            "gridcolor": "white",
            "gridwidth": 2,
            "linecolor": "white",
            "showbackground": true,
            "ticks": "",
            "zerolinecolor": "white"
           }
          },
          "shapedefaults": {
           "line": {
            "color": "#2a3f5f"
           }
          },
          "ternary": {
           "aaxis": {
            "gridcolor": "white",
            "linecolor": "white",
            "ticks": ""
           },
           "baxis": {
            "gridcolor": "white",
            "linecolor": "white",
            "ticks": ""
           },
           "bgcolor": "#E5ECF6",
           "caxis": {
            "gridcolor": "white",
            "linecolor": "white",
            "ticks": ""
           }
          },
          "title": {
           "x": 0.05
          },
          "xaxis": {
           "automargin": true,
           "gridcolor": "white",
           "linecolor": "white",
           "ticks": "",
           "title": {
            "standoff": 15
           },
           "zerolinecolor": "white",
           "zerolinewidth": 2
          },
          "yaxis": {
           "automargin": true,
           "gridcolor": "white",
           "linecolor": "white",
           "ticks": "",
           "title": {
            "standoff": 15
           },
           "zerolinecolor": "white",
           "zerolinewidth": 2
          }
         }
        },
        "title": {
         "text": "Mass Flow Diagram of Food Produced in United States"
        }
       }
      },
      "text/html": [
       "<div>                            <div id=\"d4cb199b-4a6a-4764-a237-42dd7ab53468\" class=\"plotly-graph-div\" style=\"height:525px; width:100%;\"></div>            <script type=\"text/javascript\">                require([\"plotly\"], function(Plotly) {                    window.PLOTLYENV=window.PLOTLYENV || {};                                    if (document.getElementById(\"d4cb199b-4a6a-4764-a237-42dd7ab53468\")) {                    Plotly.newPlot(                        \"d4cb199b-4a6a-4764-a237-42dd7ab53468\",                        [{\"link\":{\"source\":[0,0,0],\"target\":[2,3,1],\"value\":[5328158392.581762,1644137748.5482848,662860859.216364]},\"node\":{\"label\":[\"Farm\",\"Foodservice\",\"Manufacturing\",\"Retail\"],\"line\":{\"color\":\"black\",\"width\":0.5},\"pad\":15,\"thickness\":20},\"type\":\"sankey\"}],                        {\"template\":{\"data\":{\"histogram2dcontour\":[{\"type\":\"histogram2dcontour\",\"colorbar\":{\"outlinewidth\":0,\"ticks\":\"\"},\"colorscale\":[[0.0,\"#0d0887\"],[0.1111111111111111,\"#46039f\"],[0.2222222222222222,\"#7201a8\"],[0.3333333333333333,\"#9c179e\"],[0.4444444444444444,\"#bd3786\"],[0.5555555555555556,\"#d8576b\"],[0.6666666666666666,\"#ed7953\"],[0.7777777777777778,\"#fb9f3a\"],[0.8888888888888888,\"#fdca26\"],[1.0,\"#f0f921\"]]}],\"choropleth\":[{\"type\":\"choropleth\",\"colorbar\":{\"outlinewidth\":0,\"ticks\":\"\"}}],\"histogram2d\":[{\"type\":\"histogram2d\",\"colorbar\":{\"outlinewidth\":0,\"ticks\":\"\"},\"colorscale\":[[0.0,\"#0d0887\"],[0.1111111111111111,\"#46039f\"],[0.2222222222222222,\"#7201a8\"],[0.3333333333333333,\"#9c179e\"],[0.4444444444444444,\"#bd3786\"],[0.5555555555555556,\"#d8576b\"],[0.6666666666666666,\"#ed7953\"],[0.7777777777777778,\"#fb9f3a\"],[0.8888888888888888,\"#fdca26\"],[1.0,\"#f0f921\"]]}],\"heatmap\":[{\"type\":\"heatmap\",\"colorbar\":{\"outlinewidth\":0,\"ticks\":\"\"},\"colorscale\":[[0.0,\"#0d0887\"],[0.1111111111111111,\"#46039f\"],[0.2222222222222222,\"#7201a8\"],[0.3333333333333333,\"#9c179e\"],[0.4444444444444444,\"#bd3786\"],[0.5555555555555556,\"#d8576b\"],[0.6666666666666666,\"#ed7953\"],[0.7777777777777778,\"#fb9f3a\"],[0.8888888888888888,\"#fdca26\"],[1.0,\"#f0f921\"]]}],\"heatmapgl\":[{\"type\":\"heatmapgl\",\"colorbar\":{\"outlinewidth\":0,\"ticks\":\"\"},\"colorscale\":[[0.0,\"#0d0887\"],[0.1111111111111111,\"#46039f\"],[0.2222222222222222,\"#7201a8\"],[0.3333333333333333,\"#9c179e\"],[0.4444444444444444,\"#bd3786\"],[0.5555555555555556,\"#d8576b\"],[0.6666666666666666,\"#ed7953\"],[0.7777777777777778,\"#fb9f3a\"],[0.8888888888888888,\"#fdca26\"],[1.0,\"#f0f921\"]]}],\"contourcarpet\":[{\"type\":\"contourcarpet\",\"colorbar\":{\"outlinewidth\":0,\"ticks\":\"\"}}],\"contour\":[{\"type\":\"contour\",\"colorbar\":{\"outlinewidth\":0,\"ticks\":\"\"},\"colorscale\":[[0.0,\"#0d0887\"],[0.1111111111111111,\"#46039f\"],[0.2222222222222222,\"#7201a8\"],[0.3333333333333333,\"#9c179e\"],[0.4444444444444444,\"#bd3786\"],[0.5555555555555556,\"#d8576b\"],[0.6666666666666666,\"#ed7953\"],[0.7777777777777778,\"#fb9f3a\"],[0.8888888888888888,\"#fdca26\"],[1.0,\"#f0f921\"]]}],\"surface\":[{\"type\":\"surface\",\"colorbar\":{\"outlinewidth\":0,\"ticks\":\"\"},\"colorscale\":[[0.0,\"#0d0887\"],[0.1111111111111111,\"#46039f\"],[0.2222222222222222,\"#7201a8\"],[0.3333333333333333,\"#9c179e\"],[0.4444444444444444,\"#bd3786\"],[0.5555555555555556,\"#d8576b\"],[0.6666666666666666,\"#ed7953\"],[0.7777777777777778,\"#fb9f3a\"],[0.8888888888888888,\"#fdca26\"],[1.0,\"#f0f921\"]]}],\"mesh3d\":[{\"type\":\"mesh3d\",\"colorbar\":{\"outlinewidth\":0,\"ticks\":\"\"}}],\"scatter\":[{\"fillpattern\":{\"fillmode\":\"overlay\",\"size\":10,\"solidity\":0.2},\"type\":\"scatter\"}],\"parcoords\":[{\"type\":\"parcoords\",\"line\":{\"colorbar\":{\"outlinewidth\":0,\"ticks\":\"\"}}}],\"scatterpolargl\":[{\"type\":\"scatterpolargl\",\"marker\":{\"colorbar\":{\"outlinewidth\":0,\"ticks\":\"\"}}}],\"bar\":[{\"error_x\":{\"color\":\"#2a3f5f\"},\"error_y\":{\"color\":\"#2a3f5f\"},\"marker\":{\"line\":{\"color\":\"#E5ECF6\",\"width\":0.5},\"pattern\":{\"fillmode\":\"overlay\",\"size\":10,\"solidity\":0.2}},\"type\":\"bar\"}],\"scattergeo\":[{\"type\":\"scattergeo\",\"marker\":{\"colorbar\":{\"outlinewidth\":0,\"ticks\":\"\"}}}],\"scatterpolar\":[{\"type\":\"scatterpolar\",\"marker\":{\"colorbar\":{\"outlinewidth\":0,\"ticks\":\"\"}}}],\"histogram\":[{\"marker\":{\"pattern\":{\"fillmode\":\"overlay\",\"size\":10,\"solidity\":0.2}},\"type\":\"histogram\"}],\"scattergl\":[{\"type\":\"scattergl\",\"marker\":{\"colorbar\":{\"outlinewidth\":0,\"ticks\":\"\"}}}],\"scatter3d\":[{\"type\":\"scatter3d\",\"line\":{\"colorbar\":{\"outlinewidth\":0,\"ticks\":\"\"}},\"marker\":{\"colorbar\":{\"outlinewidth\":0,\"ticks\":\"\"}}}],\"scattermapbox\":[{\"type\":\"scattermapbox\",\"marker\":{\"colorbar\":{\"outlinewidth\":0,\"ticks\":\"\"}}}],\"scatterternary\":[{\"type\":\"scatterternary\",\"marker\":{\"colorbar\":{\"outlinewidth\":0,\"ticks\":\"\"}}}],\"scattercarpet\":[{\"type\":\"scattercarpet\",\"marker\":{\"colorbar\":{\"outlinewidth\":0,\"ticks\":\"\"}}}],\"carpet\":[{\"aaxis\":{\"endlinecolor\":\"#2a3f5f\",\"gridcolor\":\"white\",\"linecolor\":\"white\",\"minorgridcolor\":\"white\",\"startlinecolor\":\"#2a3f5f\"},\"baxis\":{\"endlinecolor\":\"#2a3f5f\",\"gridcolor\":\"white\",\"linecolor\":\"white\",\"minorgridcolor\":\"white\",\"startlinecolor\":\"#2a3f5f\"},\"type\":\"carpet\"}],\"table\":[{\"cells\":{\"fill\":{\"color\":\"#EBF0F8\"},\"line\":{\"color\":\"white\"}},\"header\":{\"fill\":{\"color\":\"#C8D4E3\"},\"line\":{\"color\":\"white\"}},\"type\":\"table\"}],\"barpolar\":[{\"marker\":{\"line\":{\"color\":\"#E5ECF6\",\"width\":0.5},\"pattern\":{\"fillmode\":\"overlay\",\"size\":10,\"solidity\":0.2}},\"type\":\"barpolar\"}],\"pie\":[{\"automargin\":true,\"type\":\"pie\"}]},\"layout\":{\"autotypenumbers\":\"strict\",\"colorway\":[\"#636efa\",\"#EF553B\",\"#00cc96\",\"#ab63fa\",\"#FFA15A\",\"#19d3f3\",\"#FF6692\",\"#B6E880\",\"#FF97FF\",\"#FECB52\"],\"font\":{\"color\":\"#2a3f5f\"},\"hovermode\":\"closest\",\"hoverlabel\":{\"align\":\"left\"},\"paper_bgcolor\":\"white\",\"plot_bgcolor\":\"#E5ECF6\",\"polar\":{\"bgcolor\":\"#E5ECF6\",\"angularaxis\":{\"gridcolor\":\"white\",\"linecolor\":\"white\",\"ticks\":\"\"},\"radialaxis\":{\"gridcolor\":\"white\",\"linecolor\":\"white\",\"ticks\":\"\"}},\"ternary\":{\"bgcolor\":\"#E5ECF6\",\"aaxis\":{\"gridcolor\":\"white\",\"linecolor\":\"white\",\"ticks\":\"\"},\"baxis\":{\"gridcolor\":\"white\",\"linecolor\":\"white\",\"ticks\":\"\"},\"caxis\":{\"gridcolor\":\"white\",\"linecolor\":\"white\",\"ticks\":\"\"}},\"coloraxis\":{\"colorbar\":{\"outlinewidth\":0,\"ticks\":\"\"}},\"colorscale\":{\"sequential\":[[0.0,\"#0d0887\"],[0.1111111111111111,\"#46039f\"],[0.2222222222222222,\"#7201a8\"],[0.3333333333333333,\"#9c179e\"],[0.4444444444444444,\"#bd3786\"],[0.5555555555555556,\"#d8576b\"],[0.6666666666666666,\"#ed7953\"],[0.7777777777777778,\"#fb9f3a\"],[0.8888888888888888,\"#fdca26\"],[1.0,\"#f0f921\"]],\"sequentialminus\":[[0.0,\"#0d0887\"],[0.1111111111111111,\"#46039f\"],[0.2222222222222222,\"#7201a8\"],[0.3333333333333333,\"#9c179e\"],[0.4444444444444444,\"#bd3786\"],[0.5555555555555556,\"#d8576b\"],[0.6666666666666666,\"#ed7953\"],[0.7777777777777778,\"#fb9f3a\"],[0.8888888888888888,\"#fdca26\"],[1.0,\"#f0f921\"]],\"diverging\":[[0,\"#8e0152\"],[0.1,\"#c51b7d\"],[0.2,\"#de77ae\"],[0.3,\"#f1b6da\"],[0.4,\"#fde0ef\"],[0.5,\"#f7f7f7\"],[0.6,\"#e6f5d0\"],[0.7,\"#b8e186\"],[0.8,\"#7fbc41\"],[0.9,\"#4d9221\"],[1,\"#276419\"]]},\"xaxis\":{\"gridcolor\":\"white\",\"linecolor\":\"white\",\"ticks\":\"\",\"title\":{\"standoff\":15},\"zerolinecolor\":\"white\",\"automargin\":true,\"zerolinewidth\":2},\"yaxis\":{\"gridcolor\":\"white\",\"linecolor\":\"white\",\"ticks\":\"\",\"title\":{\"standoff\":15},\"zerolinecolor\":\"white\",\"automargin\":true,\"zerolinewidth\":2},\"scene\":{\"xaxis\":{\"backgroundcolor\":\"#E5ECF6\",\"gridcolor\":\"white\",\"linecolor\":\"white\",\"showbackground\":true,\"ticks\":\"\",\"zerolinecolor\":\"white\",\"gridwidth\":2},\"yaxis\":{\"backgroundcolor\":\"#E5ECF6\",\"gridcolor\":\"white\",\"linecolor\":\"white\",\"showbackground\":true,\"ticks\":\"\",\"zerolinecolor\":\"white\",\"gridwidth\":2},\"zaxis\":{\"backgroundcolor\":\"#E5ECF6\",\"gridcolor\":\"white\",\"linecolor\":\"white\",\"showbackground\":true,\"ticks\":\"\",\"zerolinecolor\":\"white\",\"gridwidth\":2}},\"shapedefaults\":{\"line\":{\"color\":\"#2a3f5f\"}},\"annotationdefaults\":{\"arrowcolor\":\"#2a3f5f\",\"arrowhead\":0,\"arrowwidth\":1},\"geo\":{\"bgcolor\":\"white\",\"landcolor\":\"#E5ECF6\",\"subunitcolor\":\"white\",\"showland\":true,\"showlakes\":true,\"lakecolor\":\"white\"},\"title\":{\"x\":0.05},\"mapbox\":{\"style\":\"light\"}}},\"title\":{\"text\":\"Mass Flow Diagram of Food Produced in United States\"},\"font\":{\"size\":10}},                        {\"responsive\": true}                    ).then(function(){\n",
       "                            \n",
       "var gd = document.getElementById('d4cb199b-4a6a-4764-a237-42dd7ab53468');\n",
       "var x = new MutationObserver(function (mutations, observer) {{\n",
       "        var display = window.getComputedStyle(gd).display;\n",
       "        if (!display || display === 'none') {{\n",
       "            console.log([gd, 'removed!']);\n",
       "            Plotly.purge(gd);\n",
       "            observer.disconnect();\n",
       "        }}\n",
       "}});\n",
       "\n",
       "// Listen for the removal of the full notebook cells\n",
       "var notebookContainer = gd.closest('#notebook-container');\n",
       "if (notebookContainer) {{\n",
       "    x.observe(notebookContainer, {childList: true});\n",
       "}}\n",
       "\n",
       "// Listen for the clearing of the current output cell\n",
       "var outputEl = gd.closest('.output');\n",
       "if (outputEl) {{\n",
       "    x.observe(outputEl, {childList: true});\n",
       "}}\n",
       "\n",
       "                        })                };                });            </script>        </div>"
      ]
     },
     "metadata": {},
     "output_type": "display_data"
    }
   ],
   "source": [
    "import pandas as pd\n",
    "import plotly.graph_objects as go\n",
    "\n",
    "# Load data into a DataFrame, skip the first three rows\n",
    "data = pd.read_csv('ReFED_US_Food_Surplus_Summary.csv', skiprows=3)\n",
    "\n",
    "# Filter rows containing the useful sectors\n",
    "data = data[data['sector'].isin(['Farm', 'Manufacturing', 'Foodservice', 'Retail'])]\n",
    "\n",
    "# Calculate the total sum of tons_supply for each sector\n",
    "grouped_data = data.groupby('sector')['tons_supply'].sum().reset_index()\n",
    "\n",
    "# Create a mapping of sector names to numeric labels\n",
    "sector_mapping = {sector: i for i, sector in enumerate(grouped_data['sector'].unique())}\n",
    "\n",
    "# Create a list of labels and values for the Sankey diagram\n",
    "labels = list(sector_mapping.keys())\n",
    "values = grouped_data['tons_supply'].values\n",
    "\n",
    "# Create the sources, targets, and values for the Sankey diagram links\n",
    "sources = [sector_mapping['Farm']] * 3\n",
    "targets = [sector_mapping['Manufacturing'], sector_mapping['Retail'], sector_mapping['Foodservice']]\n",
    "link_values = [values[sector_mapping[sector]] for sector in ['Manufacturing', 'Retail', 'Foodservice']]\n",
    "\n",
    "# Create Sankey diagram\n",
    "fig = go.Figure(go.Sankey(\n",
    "    node=dict(\n",
    "        pad=15,\n",
    "        thickness=20,\n",
    "        line=dict(color='black', width=0.5),\n",
    "        label=labels\n",
    "    ),\n",
    "    link=dict(\n",
    "        source=sources,\n",
    "        target=targets,\n",
    "        value=link_values\n",
    "    )\n",
    "))\n",
    "\n",
    "# Set Sankey diagram title\n",
    "fig.update_layout(title_text='Mass Flow Diagram of Food Produced in United States', font_size=10)\n",
    "\n",
    "# Show Sankey diagram\n",
    "fig.show()\n"
   ]
  },
  {
   "cell_type": "code",
   "execution_count": 37,
   "id": "1cbc114f",
   "metadata": {},
   "outputs": [
    {
     "data": {
      "application/vnd.plotly.v1+json": {
       "config": {
        "plotlyServerURL": "https://plot.ly"
       },
       "data": [
        {
         "link": {
          "source": [
           0,
           0,
           0,
           0
          ],
          "target": [
           2,
           3,
           1,
           4
          ],
          "value": [
           5328158392.581762,
           1644137748.5482848,
           662860859.216364,
           199927161.46108085
          ]
         },
         "node": {
          "label": [
           "Farm",
           "Foodservice",
           "Manufacturing",
           "Retail",
           "Farm_surplus"
          ],
          "line": {
           "color": "black",
           "width": 0.5
          },
          "pad": 15,
          "thickness": 20
         },
         "type": "sankey"
        }
       ],
       "layout": {
        "font": {
         "size": 10
        },
        "template": {
         "data": {
          "bar": [
           {
            "error_x": {
             "color": "#2a3f5f"
            },
            "error_y": {
             "color": "#2a3f5f"
            },
            "marker": {
             "line": {
              "color": "#E5ECF6",
              "width": 0.5
             },
             "pattern": {
              "fillmode": "overlay",
              "size": 10,
              "solidity": 0.2
             }
            },
            "type": "bar"
           }
          ],
          "barpolar": [
           {
            "marker": {
             "line": {
              "color": "#E5ECF6",
              "width": 0.5
             },
             "pattern": {
              "fillmode": "overlay",
              "size": 10,
              "solidity": 0.2
             }
            },
            "type": "barpolar"
           }
          ],
          "carpet": [
           {
            "aaxis": {
             "endlinecolor": "#2a3f5f",
             "gridcolor": "white",
             "linecolor": "white",
             "minorgridcolor": "white",
             "startlinecolor": "#2a3f5f"
            },
            "baxis": {
             "endlinecolor": "#2a3f5f",
             "gridcolor": "white",
             "linecolor": "white",
             "minorgridcolor": "white",
             "startlinecolor": "#2a3f5f"
            },
            "type": "carpet"
           }
          ],
          "choropleth": [
           {
            "colorbar": {
             "outlinewidth": 0,
             "ticks": ""
            },
            "type": "choropleth"
           }
          ],
          "contour": [
           {
            "colorbar": {
             "outlinewidth": 0,
             "ticks": ""
            },
            "colorscale": [
             [
              0,
              "#0d0887"
             ],
             [
              0.1111111111111111,
              "#46039f"
             ],
             [
              0.2222222222222222,
              "#7201a8"
             ],
             [
              0.3333333333333333,
              "#9c179e"
             ],
             [
              0.4444444444444444,
              "#bd3786"
             ],
             [
              0.5555555555555556,
              "#d8576b"
             ],
             [
              0.6666666666666666,
              "#ed7953"
             ],
             [
              0.7777777777777778,
              "#fb9f3a"
             ],
             [
              0.8888888888888888,
              "#fdca26"
             ],
             [
              1,
              "#f0f921"
             ]
            ],
            "type": "contour"
           }
          ],
          "contourcarpet": [
           {
            "colorbar": {
             "outlinewidth": 0,
             "ticks": ""
            },
            "type": "contourcarpet"
           }
          ],
          "heatmap": [
           {
            "colorbar": {
             "outlinewidth": 0,
             "ticks": ""
            },
            "colorscale": [
             [
              0,
              "#0d0887"
             ],
             [
              0.1111111111111111,
              "#46039f"
             ],
             [
              0.2222222222222222,
              "#7201a8"
             ],
             [
              0.3333333333333333,
              "#9c179e"
             ],
             [
              0.4444444444444444,
              "#bd3786"
             ],
             [
              0.5555555555555556,
              "#d8576b"
             ],
             [
              0.6666666666666666,
              "#ed7953"
             ],
             [
              0.7777777777777778,
              "#fb9f3a"
             ],
             [
              0.8888888888888888,
              "#fdca26"
             ],
             [
              1,
              "#f0f921"
             ]
            ],
            "type": "heatmap"
           }
          ],
          "heatmapgl": [
           {
            "colorbar": {
             "outlinewidth": 0,
             "ticks": ""
            },
            "colorscale": [
             [
              0,
              "#0d0887"
             ],
             [
              0.1111111111111111,
              "#46039f"
             ],
             [
              0.2222222222222222,
              "#7201a8"
             ],
             [
              0.3333333333333333,
              "#9c179e"
             ],
             [
              0.4444444444444444,
              "#bd3786"
             ],
             [
              0.5555555555555556,
              "#d8576b"
             ],
             [
              0.6666666666666666,
              "#ed7953"
             ],
             [
              0.7777777777777778,
              "#fb9f3a"
             ],
             [
              0.8888888888888888,
              "#fdca26"
             ],
             [
              1,
              "#f0f921"
             ]
            ],
            "type": "heatmapgl"
           }
          ],
          "histogram": [
           {
            "marker": {
             "pattern": {
              "fillmode": "overlay",
              "size": 10,
              "solidity": 0.2
             }
            },
            "type": "histogram"
           }
          ],
          "histogram2d": [
           {
            "colorbar": {
             "outlinewidth": 0,
             "ticks": ""
            },
            "colorscale": [
             [
              0,
              "#0d0887"
             ],
             [
              0.1111111111111111,
              "#46039f"
             ],
             [
              0.2222222222222222,
              "#7201a8"
             ],
             [
              0.3333333333333333,
              "#9c179e"
             ],
             [
              0.4444444444444444,
              "#bd3786"
             ],
             [
              0.5555555555555556,
              "#d8576b"
             ],
             [
              0.6666666666666666,
              "#ed7953"
             ],
             [
              0.7777777777777778,
              "#fb9f3a"
             ],
             [
              0.8888888888888888,
              "#fdca26"
             ],
             [
              1,
              "#f0f921"
             ]
            ],
            "type": "histogram2d"
           }
          ],
          "histogram2dcontour": [
           {
            "colorbar": {
             "outlinewidth": 0,
             "ticks": ""
            },
            "colorscale": [
             [
              0,
              "#0d0887"
             ],
             [
              0.1111111111111111,
              "#46039f"
             ],
             [
              0.2222222222222222,
              "#7201a8"
             ],
             [
              0.3333333333333333,
              "#9c179e"
             ],
             [
              0.4444444444444444,
              "#bd3786"
             ],
             [
              0.5555555555555556,
              "#d8576b"
             ],
             [
              0.6666666666666666,
              "#ed7953"
             ],
             [
              0.7777777777777778,
              "#fb9f3a"
             ],
             [
              0.8888888888888888,
              "#fdca26"
             ],
             [
              1,
              "#f0f921"
             ]
            ],
            "type": "histogram2dcontour"
           }
          ],
          "mesh3d": [
           {
            "colorbar": {
             "outlinewidth": 0,
             "ticks": ""
            },
            "type": "mesh3d"
           }
          ],
          "parcoords": [
           {
            "line": {
             "colorbar": {
              "outlinewidth": 0,
              "ticks": ""
             }
            },
            "type": "parcoords"
           }
          ],
          "pie": [
           {
            "automargin": true,
            "type": "pie"
           }
          ],
          "scatter": [
           {
            "fillpattern": {
             "fillmode": "overlay",
             "size": 10,
             "solidity": 0.2
            },
            "type": "scatter"
           }
          ],
          "scatter3d": [
           {
            "line": {
             "colorbar": {
              "outlinewidth": 0,
              "ticks": ""
             }
            },
            "marker": {
             "colorbar": {
              "outlinewidth": 0,
              "ticks": ""
             }
            },
            "type": "scatter3d"
           }
          ],
          "scattercarpet": [
           {
            "marker": {
             "colorbar": {
              "outlinewidth": 0,
              "ticks": ""
             }
            },
            "type": "scattercarpet"
           }
          ],
          "scattergeo": [
           {
            "marker": {
             "colorbar": {
              "outlinewidth": 0,
              "ticks": ""
             }
            },
            "type": "scattergeo"
           }
          ],
          "scattergl": [
           {
            "marker": {
             "colorbar": {
              "outlinewidth": 0,
              "ticks": ""
             }
            },
            "type": "scattergl"
           }
          ],
          "scattermapbox": [
           {
            "marker": {
             "colorbar": {
              "outlinewidth": 0,
              "ticks": ""
             }
            },
            "type": "scattermapbox"
           }
          ],
          "scatterpolar": [
           {
            "marker": {
             "colorbar": {
              "outlinewidth": 0,
              "ticks": ""
             }
            },
            "type": "scatterpolar"
           }
          ],
          "scatterpolargl": [
           {
            "marker": {
             "colorbar": {
              "outlinewidth": 0,
              "ticks": ""
             }
            },
            "type": "scatterpolargl"
           }
          ],
          "scatterternary": [
           {
            "marker": {
             "colorbar": {
              "outlinewidth": 0,
              "ticks": ""
             }
            },
            "type": "scatterternary"
           }
          ],
          "surface": [
           {
            "colorbar": {
             "outlinewidth": 0,
             "ticks": ""
            },
            "colorscale": [
             [
              0,
              "#0d0887"
             ],
             [
              0.1111111111111111,
              "#46039f"
             ],
             [
              0.2222222222222222,
              "#7201a8"
             ],
             [
              0.3333333333333333,
              "#9c179e"
             ],
             [
              0.4444444444444444,
              "#bd3786"
             ],
             [
              0.5555555555555556,
              "#d8576b"
             ],
             [
              0.6666666666666666,
              "#ed7953"
             ],
             [
              0.7777777777777778,
              "#fb9f3a"
             ],
             [
              0.8888888888888888,
              "#fdca26"
             ],
             [
              1,
              "#f0f921"
             ]
            ],
            "type": "surface"
           }
          ],
          "table": [
           {
            "cells": {
             "fill": {
              "color": "#EBF0F8"
             },
             "line": {
              "color": "white"
             }
            },
            "header": {
             "fill": {
              "color": "#C8D4E3"
             },
             "line": {
              "color": "white"
             }
            },
            "type": "table"
           }
          ]
         },
         "layout": {
          "annotationdefaults": {
           "arrowcolor": "#2a3f5f",
           "arrowhead": 0,
           "arrowwidth": 1
          },
          "autotypenumbers": "strict",
          "coloraxis": {
           "colorbar": {
            "outlinewidth": 0,
            "ticks": ""
           }
          },
          "colorscale": {
           "diverging": [
            [
             0,
             "#8e0152"
            ],
            [
             0.1,
             "#c51b7d"
            ],
            [
             0.2,
             "#de77ae"
            ],
            [
             0.3,
             "#f1b6da"
            ],
            [
             0.4,
             "#fde0ef"
            ],
            [
             0.5,
             "#f7f7f7"
            ],
            [
             0.6,
             "#e6f5d0"
            ],
            [
             0.7,
             "#b8e186"
            ],
            [
             0.8,
             "#7fbc41"
            ],
            [
             0.9,
             "#4d9221"
            ],
            [
             1,
             "#276419"
            ]
           ],
           "sequential": [
            [
             0,
             "#0d0887"
            ],
            [
             0.1111111111111111,
             "#46039f"
            ],
            [
             0.2222222222222222,
             "#7201a8"
            ],
            [
             0.3333333333333333,
             "#9c179e"
            ],
            [
             0.4444444444444444,
             "#bd3786"
            ],
            [
             0.5555555555555556,
             "#d8576b"
            ],
            [
             0.6666666666666666,
             "#ed7953"
            ],
            [
             0.7777777777777778,
             "#fb9f3a"
            ],
            [
             0.8888888888888888,
             "#fdca26"
            ],
            [
             1,
             "#f0f921"
            ]
           ],
           "sequentialminus": [
            [
             0,
             "#0d0887"
            ],
            [
             0.1111111111111111,
             "#46039f"
            ],
            [
             0.2222222222222222,
             "#7201a8"
            ],
            [
             0.3333333333333333,
             "#9c179e"
            ],
            [
             0.4444444444444444,
             "#bd3786"
            ],
            [
             0.5555555555555556,
             "#d8576b"
            ],
            [
             0.6666666666666666,
             "#ed7953"
            ],
            [
             0.7777777777777778,
             "#fb9f3a"
            ],
            [
             0.8888888888888888,
             "#fdca26"
            ],
            [
             1,
             "#f0f921"
            ]
           ]
          },
          "colorway": [
           "#636efa",
           "#EF553B",
           "#00cc96",
           "#ab63fa",
           "#FFA15A",
           "#19d3f3",
           "#FF6692",
           "#B6E880",
           "#FF97FF",
           "#FECB52"
          ],
          "font": {
           "color": "#2a3f5f"
          },
          "geo": {
           "bgcolor": "white",
           "lakecolor": "white",
           "landcolor": "#E5ECF6",
           "showlakes": true,
           "showland": true,
           "subunitcolor": "white"
          },
          "hoverlabel": {
           "align": "left"
          },
          "hovermode": "closest",
          "mapbox": {
           "style": "light"
          },
          "paper_bgcolor": "white",
          "plot_bgcolor": "#E5ECF6",
          "polar": {
           "angularaxis": {
            "gridcolor": "white",
            "linecolor": "white",
            "ticks": ""
           },
           "bgcolor": "#E5ECF6",
           "radialaxis": {
            "gridcolor": "white",
            "linecolor": "white",
            "ticks": ""
           }
          },
          "scene": {
           "xaxis": {
            "backgroundcolor": "#E5ECF6",
            "gridcolor": "white",
            "gridwidth": 2,
            "linecolor": "white",
            "showbackground": true,
            "ticks": "",
            "zerolinecolor": "white"
           },
           "yaxis": {
            "backgroundcolor": "#E5ECF6",
            "gridcolor": "white",
            "gridwidth": 2,
            "linecolor": "white",
            "showbackground": true,
            "ticks": "",
            "zerolinecolor": "white"
           },
           "zaxis": {
            "backgroundcolor": "#E5ECF6",
            "gridcolor": "white",
            "gridwidth": 2,
            "linecolor": "white",
            "showbackground": true,
            "ticks": "",
            "zerolinecolor": "white"
           }
          },
          "shapedefaults": {
           "line": {
            "color": "#2a3f5f"
           }
          },
          "ternary": {
           "aaxis": {
            "gridcolor": "white",
            "linecolor": "white",
            "ticks": ""
           },
           "baxis": {
            "gridcolor": "white",
            "linecolor": "white",
            "ticks": ""
           },
           "bgcolor": "#E5ECF6",
           "caxis": {
            "gridcolor": "white",
            "linecolor": "white",
            "ticks": ""
           }
          },
          "title": {
           "x": 0.05
          },
          "xaxis": {
           "automargin": true,
           "gridcolor": "white",
           "linecolor": "white",
           "ticks": "",
           "title": {
            "standoff": 15
           },
           "zerolinecolor": "white",
           "zerolinewidth": 2
          },
          "yaxis": {
           "automargin": true,
           "gridcolor": "white",
           "linecolor": "white",
           "ticks": "",
           "title": {
            "standoff": 15
           },
           "zerolinecolor": "white",
           "zerolinewidth": 2
          }
         }
        },
        "title": {
         "text": "Mass Flow Diagram of Food Produced in United States"
        }
       }
      },
      "text/html": [
       "<div>                            <div id=\"b38e207d-8fa5-4bd7-84ff-7a559954165b\" class=\"plotly-graph-div\" style=\"height:525px; width:100%;\"></div>            <script type=\"text/javascript\">                require([\"plotly\"], function(Plotly) {                    window.PLOTLYENV=window.PLOTLYENV || {};                                    if (document.getElementById(\"b38e207d-8fa5-4bd7-84ff-7a559954165b\")) {                    Plotly.newPlot(                        \"b38e207d-8fa5-4bd7-84ff-7a559954165b\",                        [{\"link\":{\"source\":[0,0,0,0],\"target\":[2,3,1,4],\"value\":[5328158392.581762,1644137748.5482848,662860859.216364,199927161.46108085]},\"node\":{\"label\":[\"Farm\",\"Foodservice\",\"Manufacturing\",\"Retail\",\"Farm_surplus\"],\"line\":{\"color\":\"black\",\"width\":0.5},\"pad\":15,\"thickness\":20},\"type\":\"sankey\"}],                        {\"template\":{\"data\":{\"histogram2dcontour\":[{\"type\":\"histogram2dcontour\",\"colorbar\":{\"outlinewidth\":0,\"ticks\":\"\"},\"colorscale\":[[0.0,\"#0d0887\"],[0.1111111111111111,\"#46039f\"],[0.2222222222222222,\"#7201a8\"],[0.3333333333333333,\"#9c179e\"],[0.4444444444444444,\"#bd3786\"],[0.5555555555555556,\"#d8576b\"],[0.6666666666666666,\"#ed7953\"],[0.7777777777777778,\"#fb9f3a\"],[0.8888888888888888,\"#fdca26\"],[1.0,\"#f0f921\"]]}],\"choropleth\":[{\"type\":\"choropleth\",\"colorbar\":{\"outlinewidth\":0,\"ticks\":\"\"}}],\"histogram2d\":[{\"type\":\"histogram2d\",\"colorbar\":{\"outlinewidth\":0,\"ticks\":\"\"},\"colorscale\":[[0.0,\"#0d0887\"],[0.1111111111111111,\"#46039f\"],[0.2222222222222222,\"#7201a8\"],[0.3333333333333333,\"#9c179e\"],[0.4444444444444444,\"#bd3786\"],[0.5555555555555556,\"#d8576b\"],[0.6666666666666666,\"#ed7953\"],[0.7777777777777778,\"#fb9f3a\"],[0.8888888888888888,\"#fdca26\"],[1.0,\"#f0f921\"]]}],\"heatmap\":[{\"type\":\"heatmap\",\"colorbar\":{\"outlinewidth\":0,\"ticks\":\"\"},\"colorscale\":[[0.0,\"#0d0887\"],[0.1111111111111111,\"#46039f\"],[0.2222222222222222,\"#7201a8\"],[0.3333333333333333,\"#9c179e\"],[0.4444444444444444,\"#bd3786\"],[0.5555555555555556,\"#d8576b\"],[0.6666666666666666,\"#ed7953\"],[0.7777777777777778,\"#fb9f3a\"],[0.8888888888888888,\"#fdca26\"],[1.0,\"#f0f921\"]]}],\"heatmapgl\":[{\"type\":\"heatmapgl\",\"colorbar\":{\"outlinewidth\":0,\"ticks\":\"\"},\"colorscale\":[[0.0,\"#0d0887\"],[0.1111111111111111,\"#46039f\"],[0.2222222222222222,\"#7201a8\"],[0.3333333333333333,\"#9c179e\"],[0.4444444444444444,\"#bd3786\"],[0.5555555555555556,\"#d8576b\"],[0.6666666666666666,\"#ed7953\"],[0.7777777777777778,\"#fb9f3a\"],[0.8888888888888888,\"#fdca26\"],[1.0,\"#f0f921\"]]}],\"contourcarpet\":[{\"type\":\"contourcarpet\",\"colorbar\":{\"outlinewidth\":0,\"ticks\":\"\"}}],\"contour\":[{\"type\":\"contour\",\"colorbar\":{\"outlinewidth\":0,\"ticks\":\"\"},\"colorscale\":[[0.0,\"#0d0887\"],[0.1111111111111111,\"#46039f\"],[0.2222222222222222,\"#7201a8\"],[0.3333333333333333,\"#9c179e\"],[0.4444444444444444,\"#bd3786\"],[0.5555555555555556,\"#d8576b\"],[0.6666666666666666,\"#ed7953\"],[0.7777777777777778,\"#fb9f3a\"],[0.8888888888888888,\"#fdca26\"],[1.0,\"#f0f921\"]]}],\"surface\":[{\"type\":\"surface\",\"colorbar\":{\"outlinewidth\":0,\"ticks\":\"\"},\"colorscale\":[[0.0,\"#0d0887\"],[0.1111111111111111,\"#46039f\"],[0.2222222222222222,\"#7201a8\"],[0.3333333333333333,\"#9c179e\"],[0.4444444444444444,\"#bd3786\"],[0.5555555555555556,\"#d8576b\"],[0.6666666666666666,\"#ed7953\"],[0.7777777777777778,\"#fb9f3a\"],[0.8888888888888888,\"#fdca26\"],[1.0,\"#f0f921\"]]}],\"mesh3d\":[{\"type\":\"mesh3d\",\"colorbar\":{\"outlinewidth\":0,\"ticks\":\"\"}}],\"scatter\":[{\"fillpattern\":{\"fillmode\":\"overlay\",\"size\":10,\"solidity\":0.2},\"type\":\"scatter\"}],\"parcoords\":[{\"type\":\"parcoords\",\"line\":{\"colorbar\":{\"outlinewidth\":0,\"ticks\":\"\"}}}],\"scatterpolargl\":[{\"type\":\"scatterpolargl\",\"marker\":{\"colorbar\":{\"outlinewidth\":0,\"ticks\":\"\"}}}],\"bar\":[{\"error_x\":{\"color\":\"#2a3f5f\"},\"error_y\":{\"color\":\"#2a3f5f\"},\"marker\":{\"line\":{\"color\":\"#E5ECF6\",\"width\":0.5},\"pattern\":{\"fillmode\":\"overlay\",\"size\":10,\"solidity\":0.2}},\"type\":\"bar\"}],\"scattergeo\":[{\"type\":\"scattergeo\",\"marker\":{\"colorbar\":{\"outlinewidth\":0,\"ticks\":\"\"}}}],\"scatterpolar\":[{\"type\":\"scatterpolar\",\"marker\":{\"colorbar\":{\"outlinewidth\":0,\"ticks\":\"\"}}}],\"histogram\":[{\"marker\":{\"pattern\":{\"fillmode\":\"overlay\",\"size\":10,\"solidity\":0.2}},\"type\":\"histogram\"}],\"scattergl\":[{\"type\":\"scattergl\",\"marker\":{\"colorbar\":{\"outlinewidth\":0,\"ticks\":\"\"}}}],\"scatter3d\":[{\"type\":\"scatter3d\",\"line\":{\"colorbar\":{\"outlinewidth\":0,\"ticks\":\"\"}},\"marker\":{\"colorbar\":{\"outlinewidth\":0,\"ticks\":\"\"}}}],\"scattermapbox\":[{\"type\":\"scattermapbox\",\"marker\":{\"colorbar\":{\"outlinewidth\":0,\"ticks\":\"\"}}}],\"scatterternary\":[{\"type\":\"scatterternary\",\"marker\":{\"colorbar\":{\"outlinewidth\":0,\"ticks\":\"\"}}}],\"scattercarpet\":[{\"type\":\"scattercarpet\",\"marker\":{\"colorbar\":{\"outlinewidth\":0,\"ticks\":\"\"}}}],\"carpet\":[{\"aaxis\":{\"endlinecolor\":\"#2a3f5f\",\"gridcolor\":\"white\",\"linecolor\":\"white\",\"minorgridcolor\":\"white\",\"startlinecolor\":\"#2a3f5f\"},\"baxis\":{\"endlinecolor\":\"#2a3f5f\",\"gridcolor\":\"white\",\"linecolor\":\"white\",\"minorgridcolor\":\"white\",\"startlinecolor\":\"#2a3f5f\"},\"type\":\"carpet\"}],\"table\":[{\"cells\":{\"fill\":{\"color\":\"#EBF0F8\"},\"line\":{\"color\":\"white\"}},\"header\":{\"fill\":{\"color\":\"#C8D4E3\"},\"line\":{\"color\":\"white\"}},\"type\":\"table\"}],\"barpolar\":[{\"marker\":{\"line\":{\"color\":\"#E5ECF6\",\"width\":0.5},\"pattern\":{\"fillmode\":\"overlay\",\"size\":10,\"solidity\":0.2}},\"type\":\"barpolar\"}],\"pie\":[{\"automargin\":true,\"type\":\"pie\"}]},\"layout\":{\"autotypenumbers\":\"strict\",\"colorway\":[\"#636efa\",\"#EF553B\",\"#00cc96\",\"#ab63fa\",\"#FFA15A\",\"#19d3f3\",\"#FF6692\",\"#B6E880\",\"#FF97FF\",\"#FECB52\"],\"font\":{\"color\":\"#2a3f5f\"},\"hovermode\":\"closest\",\"hoverlabel\":{\"align\":\"left\"},\"paper_bgcolor\":\"white\",\"plot_bgcolor\":\"#E5ECF6\",\"polar\":{\"bgcolor\":\"#E5ECF6\",\"angularaxis\":{\"gridcolor\":\"white\",\"linecolor\":\"white\",\"ticks\":\"\"},\"radialaxis\":{\"gridcolor\":\"white\",\"linecolor\":\"white\",\"ticks\":\"\"}},\"ternary\":{\"bgcolor\":\"#E5ECF6\",\"aaxis\":{\"gridcolor\":\"white\",\"linecolor\":\"white\",\"ticks\":\"\"},\"baxis\":{\"gridcolor\":\"white\",\"linecolor\":\"white\",\"ticks\":\"\"},\"caxis\":{\"gridcolor\":\"white\",\"linecolor\":\"white\",\"ticks\":\"\"}},\"coloraxis\":{\"colorbar\":{\"outlinewidth\":0,\"ticks\":\"\"}},\"colorscale\":{\"sequential\":[[0.0,\"#0d0887\"],[0.1111111111111111,\"#46039f\"],[0.2222222222222222,\"#7201a8\"],[0.3333333333333333,\"#9c179e\"],[0.4444444444444444,\"#bd3786\"],[0.5555555555555556,\"#d8576b\"],[0.6666666666666666,\"#ed7953\"],[0.7777777777777778,\"#fb9f3a\"],[0.8888888888888888,\"#fdca26\"],[1.0,\"#f0f921\"]],\"sequentialminus\":[[0.0,\"#0d0887\"],[0.1111111111111111,\"#46039f\"],[0.2222222222222222,\"#7201a8\"],[0.3333333333333333,\"#9c179e\"],[0.4444444444444444,\"#bd3786\"],[0.5555555555555556,\"#d8576b\"],[0.6666666666666666,\"#ed7953\"],[0.7777777777777778,\"#fb9f3a\"],[0.8888888888888888,\"#fdca26\"],[1.0,\"#f0f921\"]],\"diverging\":[[0,\"#8e0152\"],[0.1,\"#c51b7d\"],[0.2,\"#de77ae\"],[0.3,\"#f1b6da\"],[0.4,\"#fde0ef\"],[0.5,\"#f7f7f7\"],[0.6,\"#e6f5d0\"],[0.7,\"#b8e186\"],[0.8,\"#7fbc41\"],[0.9,\"#4d9221\"],[1,\"#276419\"]]},\"xaxis\":{\"gridcolor\":\"white\",\"linecolor\":\"white\",\"ticks\":\"\",\"title\":{\"standoff\":15},\"zerolinecolor\":\"white\",\"automargin\":true,\"zerolinewidth\":2},\"yaxis\":{\"gridcolor\":\"white\",\"linecolor\":\"white\",\"ticks\":\"\",\"title\":{\"standoff\":15},\"zerolinecolor\":\"white\",\"automargin\":true,\"zerolinewidth\":2},\"scene\":{\"xaxis\":{\"backgroundcolor\":\"#E5ECF6\",\"gridcolor\":\"white\",\"linecolor\":\"white\",\"showbackground\":true,\"ticks\":\"\",\"zerolinecolor\":\"white\",\"gridwidth\":2},\"yaxis\":{\"backgroundcolor\":\"#E5ECF6\",\"gridcolor\":\"white\",\"linecolor\":\"white\",\"showbackground\":true,\"ticks\":\"\",\"zerolinecolor\":\"white\",\"gridwidth\":2},\"zaxis\":{\"backgroundcolor\":\"#E5ECF6\",\"gridcolor\":\"white\",\"linecolor\":\"white\",\"showbackground\":true,\"ticks\":\"\",\"zerolinecolor\":\"white\",\"gridwidth\":2}},\"shapedefaults\":{\"line\":{\"color\":\"#2a3f5f\"}},\"annotationdefaults\":{\"arrowcolor\":\"#2a3f5f\",\"arrowhead\":0,\"arrowwidth\":1},\"geo\":{\"bgcolor\":\"white\",\"landcolor\":\"#E5ECF6\",\"subunitcolor\":\"white\",\"showland\":true,\"showlakes\":true,\"lakecolor\":\"white\"},\"title\":{\"x\":0.05},\"mapbox\":{\"style\":\"light\"}}},\"title\":{\"text\":\"Mass Flow Diagram of Food Produced in United States\"},\"font\":{\"size\":10}},                        {\"responsive\": true}                    ).then(function(){\n",
       "                            \n",
       "var gd = document.getElementById('b38e207d-8fa5-4bd7-84ff-7a559954165b');\n",
       "var x = new MutationObserver(function (mutations, observer) {{\n",
       "        var display = window.getComputedStyle(gd).display;\n",
       "        if (!display || display === 'none') {{\n",
       "            console.log([gd, 'removed!']);\n",
       "            Plotly.purge(gd);\n",
       "            observer.disconnect();\n",
       "        }}\n",
       "}});\n",
       "\n",
       "// Listen for the removal of the full notebook cells\n",
       "var notebookContainer = gd.closest('#notebook-container');\n",
       "if (notebookContainer) {{\n",
       "    x.observe(notebookContainer, {childList: true});\n",
       "}}\n",
       "\n",
       "// Listen for the clearing of the current output cell\n",
       "var outputEl = gd.closest('.output');\n",
       "if (outputEl) {{\n",
       "    x.observe(outputEl, {childList: true});\n",
       "}}\n",
       "\n",
       "                        })                };                });            </script>        </div>"
      ]
     },
     "metadata": {},
     "output_type": "display_data"
    }
   ],
   "source": [
    "import pandas as pd\n",
    "import plotly.graph_objects as go\n",
    "\n",
    "# Load data into a DataFrame, skip the first three rows\n",
    "data = pd.read_csv('ReFED_US_Food_Surplus_Summary.csv', skiprows=3)\n",
    "\n",
    "# Filter rows containing the useful sectors\n",
    "data = data[data['sector'].isin(['Farm', 'Manufacturing', 'Foodservice', 'Retail'])]\n",
    "\n",
    "# Calculate the total sum of tons_supply and tons_surplus for each sector\n",
    "grouped_data_supply = data.groupby('sector')['tons_supply'].sum().reset_index()\n",
    "grouped_data_surplus = data.groupby('sector')['tons_surplus'].sum().reset_index()\n",
    "\n",
    "# Create a mapping of sector names to numeric labels\n",
    "sector_mapping = {sector: i for i, sector in enumerate(grouped_data_supply['sector'].unique())}\n",
    "sector_mapping['Farm_surplus'] = len(sector_mapping)\n",
    "\n",
    "# Create a list of labels and values for the Sankey diagram\n",
    "labels = list(sector_mapping.keys())\n",
    "values_supply = grouped_data_supply['tons_supply'].values\n",
    "values_surplus = grouped_data_surplus['tons_surplus'].values\n",
    "\n",
    "# Create the sources, targets, and values for the Sankey diagram links\n",
    "sources = [sector_mapping['Farm']] * 4\n",
    "targets = [sector_mapping['Manufacturing'], sector_mapping['Retail'], sector_mapping['Foodservice'], sector_mapping['Farm_surplus']]\n",
    "link_values = [values_supply[sector_mapping[sector]] for sector in ['Manufacturing', 'Retail', 'Foodservice']] + [values_surplus[sector_mapping['Farm']]]\n",
    "\n",
    "# Create Sankey diagram\n",
    "fig = go.Figure(go.Sankey(\n",
    "    node=dict(\n",
    "        pad=15,\n",
    "        thickness=20,\n",
    "        line=dict(color='black', width=0.5),\n",
    "        label=labels\n",
    "    ),\n",
    "    link=dict(\n",
    "        source=sources,\n",
    "        target=targets,\n",
    "        value=link_values\n",
    "    )\n",
    "))\n",
    "\n",
    "# Set Sankey diagram title\n",
    "fig.update_layout(title_text='Mass Flow Diagram of Food Produced in United States', font_size=10)\n",
    "\n",
    "# Show Sankey diagram\n",
    "fig.show()\n"
   ]
  },
  {
   "cell_type": "code",
   "execution_count": 39,
   "id": "c05779ac",
   "metadata": {},
   "outputs": [
    {
     "data": {
      "application/vnd.plotly.v1+json": {
       "config": {
        "plotlyServerURL": "https://plot.ly"
       },
       "data": [
        {
         "link": {
          "source": [
           0,
           0,
           0,
           0,
           0
          ],
          "target": [
           2,
           3,
           1,
           4,
           5
          ],
          "value": [
           662860859.216364,
           5328158392.581762,
           1644137748.5482848,
           199927161.46108085,
           -6351107321.539617
          ]
         },
         "node": {
          "label": [
           "Farm",
           "Foodservice",
           "Manufacturing",
           "Retail",
           "Farm_surplus",
           "Gap"
          ],
          "line": {
           "color": "black",
           "width": 0.5
          },
          "pad": 15,
          "thickness": 20
         },
         "type": "sankey"
        }
       ],
       "layout": {
        "font": {
         "size": 10
        },
        "template": {
         "data": {
          "bar": [
           {
            "error_x": {
             "color": "#2a3f5f"
            },
            "error_y": {
             "color": "#2a3f5f"
            },
            "marker": {
             "line": {
              "color": "#E5ECF6",
              "width": 0.5
             },
             "pattern": {
              "fillmode": "overlay",
              "size": 10,
              "solidity": 0.2
             }
            },
            "type": "bar"
           }
          ],
          "barpolar": [
           {
            "marker": {
             "line": {
              "color": "#E5ECF6",
              "width": 0.5
             },
             "pattern": {
              "fillmode": "overlay",
              "size": 10,
              "solidity": 0.2
             }
            },
            "type": "barpolar"
           }
          ],
          "carpet": [
           {
            "aaxis": {
             "endlinecolor": "#2a3f5f",
             "gridcolor": "white",
             "linecolor": "white",
             "minorgridcolor": "white",
             "startlinecolor": "#2a3f5f"
            },
            "baxis": {
             "endlinecolor": "#2a3f5f",
             "gridcolor": "white",
             "linecolor": "white",
             "minorgridcolor": "white",
             "startlinecolor": "#2a3f5f"
            },
            "type": "carpet"
           }
          ],
          "choropleth": [
           {
            "colorbar": {
             "outlinewidth": 0,
             "ticks": ""
            },
            "type": "choropleth"
           }
          ],
          "contour": [
           {
            "colorbar": {
             "outlinewidth": 0,
             "ticks": ""
            },
            "colorscale": [
             [
              0,
              "#0d0887"
             ],
             [
              0.1111111111111111,
              "#46039f"
             ],
             [
              0.2222222222222222,
              "#7201a8"
             ],
             [
              0.3333333333333333,
              "#9c179e"
             ],
             [
              0.4444444444444444,
              "#bd3786"
             ],
             [
              0.5555555555555556,
              "#d8576b"
             ],
             [
              0.6666666666666666,
              "#ed7953"
             ],
             [
              0.7777777777777778,
              "#fb9f3a"
             ],
             [
              0.8888888888888888,
              "#fdca26"
             ],
             [
              1,
              "#f0f921"
             ]
            ],
            "type": "contour"
           }
          ],
          "contourcarpet": [
           {
            "colorbar": {
             "outlinewidth": 0,
             "ticks": ""
            },
            "type": "contourcarpet"
           }
          ],
          "heatmap": [
           {
            "colorbar": {
             "outlinewidth": 0,
             "ticks": ""
            },
            "colorscale": [
             [
              0,
              "#0d0887"
             ],
             [
              0.1111111111111111,
              "#46039f"
             ],
             [
              0.2222222222222222,
              "#7201a8"
             ],
             [
              0.3333333333333333,
              "#9c179e"
             ],
             [
              0.4444444444444444,
              "#bd3786"
             ],
             [
              0.5555555555555556,
              "#d8576b"
             ],
             [
              0.6666666666666666,
              "#ed7953"
             ],
             [
              0.7777777777777778,
              "#fb9f3a"
             ],
             [
              0.8888888888888888,
              "#fdca26"
             ],
             [
              1,
              "#f0f921"
             ]
            ],
            "type": "heatmap"
           }
          ],
          "heatmapgl": [
           {
            "colorbar": {
             "outlinewidth": 0,
             "ticks": ""
            },
            "colorscale": [
             [
              0,
              "#0d0887"
             ],
             [
              0.1111111111111111,
              "#46039f"
             ],
             [
              0.2222222222222222,
              "#7201a8"
             ],
             [
              0.3333333333333333,
              "#9c179e"
             ],
             [
              0.4444444444444444,
              "#bd3786"
             ],
             [
              0.5555555555555556,
              "#d8576b"
             ],
             [
              0.6666666666666666,
              "#ed7953"
             ],
             [
              0.7777777777777778,
              "#fb9f3a"
             ],
             [
              0.8888888888888888,
              "#fdca26"
             ],
             [
              1,
              "#f0f921"
             ]
            ],
            "type": "heatmapgl"
           }
          ],
          "histogram": [
           {
            "marker": {
             "pattern": {
              "fillmode": "overlay",
              "size": 10,
              "solidity": 0.2
             }
            },
            "type": "histogram"
           }
          ],
          "histogram2d": [
           {
            "colorbar": {
             "outlinewidth": 0,
             "ticks": ""
            },
            "colorscale": [
             [
              0,
              "#0d0887"
             ],
             [
              0.1111111111111111,
              "#46039f"
             ],
             [
              0.2222222222222222,
              "#7201a8"
             ],
             [
              0.3333333333333333,
              "#9c179e"
             ],
             [
              0.4444444444444444,
              "#bd3786"
             ],
             [
              0.5555555555555556,
              "#d8576b"
             ],
             [
              0.6666666666666666,
              "#ed7953"
             ],
             [
              0.7777777777777778,
              "#fb9f3a"
             ],
             [
              0.8888888888888888,
              "#fdca26"
             ],
             [
              1,
              "#f0f921"
             ]
            ],
            "type": "histogram2d"
           }
          ],
          "histogram2dcontour": [
           {
            "colorbar": {
             "outlinewidth": 0,
             "ticks": ""
            },
            "colorscale": [
             [
              0,
              "#0d0887"
             ],
             [
              0.1111111111111111,
              "#46039f"
             ],
             [
              0.2222222222222222,
              "#7201a8"
             ],
             [
              0.3333333333333333,
              "#9c179e"
             ],
             [
              0.4444444444444444,
              "#bd3786"
             ],
             [
              0.5555555555555556,
              "#d8576b"
             ],
             [
              0.6666666666666666,
              "#ed7953"
             ],
             [
              0.7777777777777778,
              "#fb9f3a"
             ],
             [
              0.8888888888888888,
              "#fdca26"
             ],
             [
              1,
              "#f0f921"
             ]
            ],
            "type": "histogram2dcontour"
           }
          ],
          "mesh3d": [
           {
            "colorbar": {
             "outlinewidth": 0,
             "ticks": ""
            },
            "type": "mesh3d"
           }
          ],
          "parcoords": [
           {
            "line": {
             "colorbar": {
              "outlinewidth": 0,
              "ticks": ""
             }
            },
            "type": "parcoords"
           }
          ],
          "pie": [
           {
            "automargin": true,
            "type": "pie"
           }
          ],
          "scatter": [
           {
            "fillpattern": {
             "fillmode": "overlay",
             "size": 10,
             "solidity": 0.2
            },
            "type": "scatter"
           }
          ],
          "scatter3d": [
           {
            "line": {
             "colorbar": {
              "outlinewidth": 0,
              "ticks": ""
             }
            },
            "marker": {
             "colorbar": {
              "outlinewidth": 0,
              "ticks": ""
             }
            },
            "type": "scatter3d"
           }
          ],
          "scattercarpet": [
           {
            "marker": {
             "colorbar": {
              "outlinewidth": 0,
              "ticks": ""
             }
            },
            "type": "scattercarpet"
           }
          ],
          "scattergeo": [
           {
            "marker": {
             "colorbar": {
              "outlinewidth": 0,
              "ticks": ""
             }
            },
            "type": "scattergeo"
           }
          ],
          "scattergl": [
           {
            "marker": {
             "colorbar": {
              "outlinewidth": 0,
              "ticks": ""
             }
            },
            "type": "scattergl"
           }
          ],
          "scattermapbox": [
           {
            "marker": {
             "colorbar": {
              "outlinewidth": 0,
              "ticks": ""
             }
            },
            "type": "scattermapbox"
           }
          ],
          "scatterpolar": [
           {
            "marker": {
             "colorbar": {
              "outlinewidth": 0,
              "ticks": ""
             }
            },
            "type": "scatterpolar"
           }
          ],
          "scatterpolargl": [
           {
            "marker": {
             "colorbar": {
              "outlinewidth": 0,
              "ticks": ""
             }
            },
            "type": "scatterpolargl"
           }
          ],
          "scatterternary": [
           {
            "marker": {
             "colorbar": {
              "outlinewidth": 0,
              "ticks": ""
             }
            },
            "type": "scatterternary"
           }
          ],
          "surface": [
           {
            "colorbar": {
             "outlinewidth": 0,
             "ticks": ""
            },
            "colorscale": [
             [
              0,
              "#0d0887"
             ],
             [
              0.1111111111111111,
              "#46039f"
             ],
             [
              0.2222222222222222,
              "#7201a8"
             ],
             [
              0.3333333333333333,
              "#9c179e"
             ],
             [
              0.4444444444444444,
              "#bd3786"
             ],
             [
              0.5555555555555556,
              "#d8576b"
             ],
             [
              0.6666666666666666,
              "#ed7953"
             ],
             [
              0.7777777777777778,
              "#fb9f3a"
             ],
             [
              0.8888888888888888,
              "#fdca26"
             ],
             [
              1,
              "#f0f921"
             ]
            ],
            "type": "surface"
           }
          ],
          "table": [
           {
            "cells": {
             "fill": {
              "color": "#EBF0F8"
             },
             "line": {
              "color": "white"
             }
            },
            "header": {
             "fill": {
              "color": "#C8D4E3"
             },
             "line": {
              "color": "white"
             }
            },
            "type": "table"
           }
          ]
         },
         "layout": {
          "annotationdefaults": {
           "arrowcolor": "#2a3f5f",
           "arrowhead": 0,
           "arrowwidth": 1
          },
          "autotypenumbers": "strict",
          "coloraxis": {
           "colorbar": {
            "outlinewidth": 0,
            "ticks": ""
           }
          },
          "colorscale": {
           "diverging": [
            [
             0,
             "#8e0152"
            ],
            [
             0.1,
             "#c51b7d"
            ],
            [
             0.2,
             "#de77ae"
            ],
            [
             0.3,
             "#f1b6da"
            ],
            [
             0.4,
             "#fde0ef"
            ],
            [
             0.5,
             "#f7f7f7"
            ],
            [
             0.6,
             "#e6f5d0"
            ],
            [
             0.7,
             "#b8e186"
            ],
            [
             0.8,
             "#7fbc41"
            ],
            [
             0.9,
             "#4d9221"
            ],
            [
             1,
             "#276419"
            ]
           ],
           "sequential": [
            [
             0,
             "#0d0887"
            ],
            [
             0.1111111111111111,
             "#46039f"
            ],
            [
             0.2222222222222222,
             "#7201a8"
            ],
            [
             0.3333333333333333,
             "#9c179e"
            ],
            [
             0.4444444444444444,
             "#bd3786"
            ],
            [
             0.5555555555555556,
             "#d8576b"
            ],
            [
             0.6666666666666666,
             "#ed7953"
            ],
            [
             0.7777777777777778,
             "#fb9f3a"
            ],
            [
             0.8888888888888888,
             "#fdca26"
            ],
            [
             1,
             "#f0f921"
            ]
           ],
           "sequentialminus": [
            [
             0,
             "#0d0887"
            ],
            [
             0.1111111111111111,
             "#46039f"
            ],
            [
             0.2222222222222222,
             "#7201a8"
            ],
            [
             0.3333333333333333,
             "#9c179e"
            ],
            [
             0.4444444444444444,
             "#bd3786"
            ],
            [
             0.5555555555555556,
             "#d8576b"
            ],
            [
             0.6666666666666666,
             "#ed7953"
            ],
            [
             0.7777777777777778,
             "#fb9f3a"
            ],
            [
             0.8888888888888888,
             "#fdca26"
            ],
            [
             1,
             "#f0f921"
            ]
           ]
          },
          "colorway": [
           "#636efa",
           "#EF553B",
           "#00cc96",
           "#ab63fa",
           "#FFA15A",
           "#19d3f3",
           "#FF6692",
           "#B6E880",
           "#FF97FF",
           "#FECB52"
          ],
          "font": {
           "color": "#2a3f5f"
          },
          "geo": {
           "bgcolor": "white",
           "lakecolor": "white",
           "landcolor": "#E5ECF6",
           "showlakes": true,
           "showland": true,
           "subunitcolor": "white"
          },
          "hoverlabel": {
           "align": "left"
          },
          "hovermode": "closest",
          "mapbox": {
           "style": "light"
          },
          "paper_bgcolor": "white",
          "plot_bgcolor": "#E5ECF6",
          "polar": {
           "angularaxis": {
            "gridcolor": "white",
            "linecolor": "white",
            "ticks": ""
           },
           "bgcolor": "#E5ECF6",
           "radialaxis": {
            "gridcolor": "white",
            "linecolor": "white",
            "ticks": ""
           }
          },
          "scene": {
           "xaxis": {
            "backgroundcolor": "#E5ECF6",
            "gridcolor": "white",
            "gridwidth": 2,
            "linecolor": "white",
            "showbackground": true,
            "ticks": "",
            "zerolinecolor": "white"
           },
           "yaxis": {
            "backgroundcolor": "#E5ECF6",
            "gridcolor": "white",
            "gridwidth": 2,
            "linecolor": "white",
            "showbackground": true,
            "ticks": "",
            "zerolinecolor": "white"
           },
           "zaxis": {
            "backgroundcolor": "#E5ECF6",
            "gridcolor": "white",
            "gridwidth": 2,
            "linecolor": "white",
            "showbackground": true,
            "ticks": "",
            "zerolinecolor": "white"
           }
          },
          "shapedefaults": {
           "line": {
            "color": "#2a3f5f"
           }
          },
          "ternary": {
           "aaxis": {
            "gridcolor": "white",
            "linecolor": "white",
            "ticks": ""
           },
           "baxis": {
            "gridcolor": "white",
            "linecolor": "white",
            "ticks": ""
           },
           "bgcolor": "#E5ECF6",
           "caxis": {
            "gridcolor": "white",
            "linecolor": "white",
            "ticks": ""
           }
          },
          "title": {
           "x": 0.05
          },
          "xaxis": {
           "automargin": true,
           "gridcolor": "white",
           "linecolor": "white",
           "ticks": "",
           "title": {
            "standoff": 15
           },
           "zerolinecolor": "white",
           "zerolinewidth": 2
          },
          "yaxis": {
           "automargin": true,
           "gridcolor": "white",
           "linecolor": "white",
           "ticks": "",
           "title": {
            "standoff": 15
           },
           "zerolinecolor": "white",
           "zerolinewidth": 2
          }
         }
        },
        "title": {
         "text": "Mass Flow Diagram of Food Produced in United States"
        }
       }
      },
      "text/html": [
       "<div>                            <div id=\"f6653bd6-8f66-44bb-80fa-77749019034e\" class=\"plotly-graph-div\" style=\"height:525px; width:100%;\"></div>            <script type=\"text/javascript\">                require([\"plotly\"], function(Plotly) {                    window.PLOTLYENV=window.PLOTLYENV || {};                                    if (document.getElementById(\"f6653bd6-8f66-44bb-80fa-77749019034e\")) {                    Plotly.newPlot(                        \"f6653bd6-8f66-44bb-80fa-77749019034e\",                        [{\"link\":{\"source\":[0,0,0,0,0],\"target\":[2,3,1,4,5],\"value\":[662860859.216364,5328158392.581762,1644137748.5482848,199927161.46108085,-6351107321.539617]},\"node\":{\"label\":[\"Farm\",\"Foodservice\",\"Manufacturing\",\"Retail\",\"Farm_surplus\",\"Gap\"],\"line\":{\"color\":\"black\",\"width\":0.5},\"pad\":15,\"thickness\":20},\"type\":\"sankey\"}],                        {\"template\":{\"data\":{\"histogram2dcontour\":[{\"type\":\"histogram2dcontour\",\"colorbar\":{\"outlinewidth\":0,\"ticks\":\"\"},\"colorscale\":[[0.0,\"#0d0887\"],[0.1111111111111111,\"#46039f\"],[0.2222222222222222,\"#7201a8\"],[0.3333333333333333,\"#9c179e\"],[0.4444444444444444,\"#bd3786\"],[0.5555555555555556,\"#d8576b\"],[0.6666666666666666,\"#ed7953\"],[0.7777777777777778,\"#fb9f3a\"],[0.8888888888888888,\"#fdca26\"],[1.0,\"#f0f921\"]]}],\"choropleth\":[{\"type\":\"choropleth\",\"colorbar\":{\"outlinewidth\":0,\"ticks\":\"\"}}],\"histogram2d\":[{\"type\":\"histogram2d\",\"colorbar\":{\"outlinewidth\":0,\"ticks\":\"\"},\"colorscale\":[[0.0,\"#0d0887\"],[0.1111111111111111,\"#46039f\"],[0.2222222222222222,\"#7201a8\"],[0.3333333333333333,\"#9c179e\"],[0.4444444444444444,\"#bd3786\"],[0.5555555555555556,\"#d8576b\"],[0.6666666666666666,\"#ed7953\"],[0.7777777777777778,\"#fb9f3a\"],[0.8888888888888888,\"#fdca26\"],[1.0,\"#f0f921\"]]}],\"heatmap\":[{\"type\":\"heatmap\",\"colorbar\":{\"outlinewidth\":0,\"ticks\":\"\"},\"colorscale\":[[0.0,\"#0d0887\"],[0.1111111111111111,\"#46039f\"],[0.2222222222222222,\"#7201a8\"],[0.3333333333333333,\"#9c179e\"],[0.4444444444444444,\"#bd3786\"],[0.5555555555555556,\"#d8576b\"],[0.6666666666666666,\"#ed7953\"],[0.7777777777777778,\"#fb9f3a\"],[0.8888888888888888,\"#fdca26\"],[1.0,\"#f0f921\"]]}],\"heatmapgl\":[{\"type\":\"heatmapgl\",\"colorbar\":{\"outlinewidth\":0,\"ticks\":\"\"},\"colorscale\":[[0.0,\"#0d0887\"],[0.1111111111111111,\"#46039f\"],[0.2222222222222222,\"#7201a8\"],[0.3333333333333333,\"#9c179e\"],[0.4444444444444444,\"#bd3786\"],[0.5555555555555556,\"#d8576b\"],[0.6666666666666666,\"#ed7953\"],[0.7777777777777778,\"#fb9f3a\"],[0.8888888888888888,\"#fdca26\"],[1.0,\"#f0f921\"]]}],\"contourcarpet\":[{\"type\":\"contourcarpet\",\"colorbar\":{\"outlinewidth\":0,\"ticks\":\"\"}}],\"contour\":[{\"type\":\"contour\",\"colorbar\":{\"outlinewidth\":0,\"ticks\":\"\"},\"colorscale\":[[0.0,\"#0d0887\"],[0.1111111111111111,\"#46039f\"],[0.2222222222222222,\"#7201a8\"],[0.3333333333333333,\"#9c179e\"],[0.4444444444444444,\"#bd3786\"],[0.5555555555555556,\"#d8576b\"],[0.6666666666666666,\"#ed7953\"],[0.7777777777777778,\"#fb9f3a\"],[0.8888888888888888,\"#fdca26\"],[1.0,\"#f0f921\"]]}],\"surface\":[{\"type\":\"surface\",\"colorbar\":{\"outlinewidth\":0,\"ticks\":\"\"},\"colorscale\":[[0.0,\"#0d0887\"],[0.1111111111111111,\"#46039f\"],[0.2222222222222222,\"#7201a8\"],[0.3333333333333333,\"#9c179e\"],[0.4444444444444444,\"#bd3786\"],[0.5555555555555556,\"#d8576b\"],[0.6666666666666666,\"#ed7953\"],[0.7777777777777778,\"#fb9f3a\"],[0.8888888888888888,\"#fdca26\"],[1.0,\"#f0f921\"]]}],\"mesh3d\":[{\"type\":\"mesh3d\",\"colorbar\":{\"outlinewidth\":0,\"ticks\":\"\"}}],\"scatter\":[{\"fillpattern\":{\"fillmode\":\"overlay\",\"size\":10,\"solidity\":0.2},\"type\":\"scatter\"}],\"parcoords\":[{\"type\":\"parcoords\",\"line\":{\"colorbar\":{\"outlinewidth\":0,\"ticks\":\"\"}}}],\"scatterpolargl\":[{\"type\":\"scatterpolargl\",\"marker\":{\"colorbar\":{\"outlinewidth\":0,\"ticks\":\"\"}}}],\"bar\":[{\"error_x\":{\"color\":\"#2a3f5f\"},\"error_y\":{\"color\":\"#2a3f5f\"},\"marker\":{\"line\":{\"color\":\"#E5ECF6\",\"width\":0.5},\"pattern\":{\"fillmode\":\"overlay\",\"size\":10,\"solidity\":0.2}},\"type\":\"bar\"}],\"scattergeo\":[{\"type\":\"scattergeo\",\"marker\":{\"colorbar\":{\"outlinewidth\":0,\"ticks\":\"\"}}}],\"scatterpolar\":[{\"type\":\"scatterpolar\",\"marker\":{\"colorbar\":{\"outlinewidth\":0,\"ticks\":\"\"}}}],\"histogram\":[{\"marker\":{\"pattern\":{\"fillmode\":\"overlay\",\"size\":10,\"solidity\":0.2}},\"type\":\"histogram\"}],\"scattergl\":[{\"type\":\"scattergl\",\"marker\":{\"colorbar\":{\"outlinewidth\":0,\"ticks\":\"\"}}}],\"scatter3d\":[{\"type\":\"scatter3d\",\"line\":{\"colorbar\":{\"outlinewidth\":0,\"ticks\":\"\"}},\"marker\":{\"colorbar\":{\"outlinewidth\":0,\"ticks\":\"\"}}}],\"scattermapbox\":[{\"type\":\"scattermapbox\",\"marker\":{\"colorbar\":{\"outlinewidth\":0,\"ticks\":\"\"}}}],\"scatterternary\":[{\"type\":\"scatterternary\",\"marker\":{\"colorbar\":{\"outlinewidth\":0,\"ticks\":\"\"}}}],\"scattercarpet\":[{\"type\":\"scattercarpet\",\"marker\":{\"colorbar\":{\"outlinewidth\":0,\"ticks\":\"\"}}}],\"carpet\":[{\"aaxis\":{\"endlinecolor\":\"#2a3f5f\",\"gridcolor\":\"white\",\"linecolor\":\"white\",\"minorgridcolor\":\"white\",\"startlinecolor\":\"#2a3f5f\"},\"baxis\":{\"endlinecolor\":\"#2a3f5f\",\"gridcolor\":\"white\",\"linecolor\":\"white\",\"minorgridcolor\":\"white\",\"startlinecolor\":\"#2a3f5f\"},\"type\":\"carpet\"}],\"table\":[{\"cells\":{\"fill\":{\"color\":\"#EBF0F8\"},\"line\":{\"color\":\"white\"}},\"header\":{\"fill\":{\"color\":\"#C8D4E3\"},\"line\":{\"color\":\"white\"}},\"type\":\"table\"}],\"barpolar\":[{\"marker\":{\"line\":{\"color\":\"#E5ECF6\",\"width\":0.5},\"pattern\":{\"fillmode\":\"overlay\",\"size\":10,\"solidity\":0.2}},\"type\":\"barpolar\"}],\"pie\":[{\"automargin\":true,\"type\":\"pie\"}]},\"layout\":{\"autotypenumbers\":\"strict\",\"colorway\":[\"#636efa\",\"#EF553B\",\"#00cc96\",\"#ab63fa\",\"#FFA15A\",\"#19d3f3\",\"#FF6692\",\"#B6E880\",\"#FF97FF\",\"#FECB52\"],\"font\":{\"color\":\"#2a3f5f\"},\"hovermode\":\"closest\",\"hoverlabel\":{\"align\":\"left\"},\"paper_bgcolor\":\"white\",\"plot_bgcolor\":\"#E5ECF6\",\"polar\":{\"bgcolor\":\"#E5ECF6\",\"angularaxis\":{\"gridcolor\":\"white\",\"linecolor\":\"white\",\"ticks\":\"\"},\"radialaxis\":{\"gridcolor\":\"white\",\"linecolor\":\"white\",\"ticks\":\"\"}},\"ternary\":{\"bgcolor\":\"#E5ECF6\",\"aaxis\":{\"gridcolor\":\"white\",\"linecolor\":\"white\",\"ticks\":\"\"},\"baxis\":{\"gridcolor\":\"white\",\"linecolor\":\"white\",\"ticks\":\"\"},\"caxis\":{\"gridcolor\":\"white\",\"linecolor\":\"white\",\"ticks\":\"\"}},\"coloraxis\":{\"colorbar\":{\"outlinewidth\":0,\"ticks\":\"\"}},\"colorscale\":{\"sequential\":[[0.0,\"#0d0887\"],[0.1111111111111111,\"#46039f\"],[0.2222222222222222,\"#7201a8\"],[0.3333333333333333,\"#9c179e\"],[0.4444444444444444,\"#bd3786\"],[0.5555555555555556,\"#d8576b\"],[0.6666666666666666,\"#ed7953\"],[0.7777777777777778,\"#fb9f3a\"],[0.8888888888888888,\"#fdca26\"],[1.0,\"#f0f921\"]],\"sequentialminus\":[[0.0,\"#0d0887\"],[0.1111111111111111,\"#46039f\"],[0.2222222222222222,\"#7201a8\"],[0.3333333333333333,\"#9c179e\"],[0.4444444444444444,\"#bd3786\"],[0.5555555555555556,\"#d8576b\"],[0.6666666666666666,\"#ed7953\"],[0.7777777777777778,\"#fb9f3a\"],[0.8888888888888888,\"#fdca26\"],[1.0,\"#f0f921\"]],\"diverging\":[[0,\"#8e0152\"],[0.1,\"#c51b7d\"],[0.2,\"#de77ae\"],[0.3,\"#f1b6da\"],[0.4,\"#fde0ef\"],[0.5,\"#f7f7f7\"],[0.6,\"#e6f5d0\"],[0.7,\"#b8e186\"],[0.8,\"#7fbc41\"],[0.9,\"#4d9221\"],[1,\"#276419\"]]},\"xaxis\":{\"gridcolor\":\"white\",\"linecolor\":\"white\",\"ticks\":\"\",\"title\":{\"standoff\":15},\"zerolinecolor\":\"white\",\"automargin\":true,\"zerolinewidth\":2},\"yaxis\":{\"gridcolor\":\"white\",\"linecolor\":\"white\",\"ticks\":\"\",\"title\":{\"standoff\":15},\"zerolinecolor\":\"white\",\"automargin\":true,\"zerolinewidth\":2},\"scene\":{\"xaxis\":{\"backgroundcolor\":\"#E5ECF6\",\"gridcolor\":\"white\",\"linecolor\":\"white\",\"showbackground\":true,\"ticks\":\"\",\"zerolinecolor\":\"white\",\"gridwidth\":2},\"yaxis\":{\"backgroundcolor\":\"#E5ECF6\",\"gridcolor\":\"white\",\"linecolor\":\"white\",\"showbackground\":true,\"ticks\":\"\",\"zerolinecolor\":\"white\",\"gridwidth\":2},\"zaxis\":{\"backgroundcolor\":\"#E5ECF6\",\"gridcolor\":\"white\",\"linecolor\":\"white\",\"showbackground\":true,\"ticks\":\"\",\"zerolinecolor\":\"white\",\"gridwidth\":2}},\"shapedefaults\":{\"line\":{\"color\":\"#2a3f5f\"}},\"annotationdefaults\":{\"arrowcolor\":\"#2a3f5f\",\"arrowhead\":0,\"arrowwidth\":1},\"geo\":{\"bgcolor\":\"white\",\"landcolor\":\"#E5ECF6\",\"subunitcolor\":\"white\",\"showland\":true,\"showlakes\":true,\"lakecolor\":\"white\"},\"title\":{\"x\":0.05},\"mapbox\":{\"style\":\"light\"}}},\"title\":{\"text\":\"Mass Flow Diagram of Food Produced in United States\"},\"font\":{\"size\":10}},                        {\"responsive\": true}                    ).then(function(){\n",
       "                            \n",
       "var gd = document.getElementById('f6653bd6-8f66-44bb-80fa-77749019034e');\n",
       "var x = new MutationObserver(function (mutations, observer) {{\n",
       "        var display = window.getComputedStyle(gd).display;\n",
       "        if (!display || display === 'none') {{\n",
       "            console.log([gd, 'removed!']);\n",
       "            Plotly.purge(gd);\n",
       "            observer.disconnect();\n",
       "        }}\n",
       "}});\n",
       "\n",
       "// Listen for the removal of the full notebook cells\n",
       "var notebookContainer = gd.closest('#notebook-container');\n",
       "if (notebookContainer) {{\n",
       "    x.observe(notebookContainer, {childList: true});\n",
       "}}\n",
       "\n",
       "// Listen for the clearing of the current output cell\n",
       "var outputEl = gd.closest('.output');\n",
       "if (outputEl) {{\n",
       "    x.observe(outputEl, {childList: true});\n",
       "}}\n",
       "\n",
       "                        })                };                });            </script>        </div>"
      ]
     },
     "metadata": {},
     "output_type": "display_data"
    }
   ],
   "source": [
    "import pandas as pd\n",
    "import plotly.graph_objects as go\n",
    "\n",
    "# Load data into a DataFrame, skip the first three rows\n",
    "data = pd.read_csv('ReFED_US_Food_Surplus_Summary.csv', skiprows=3)\n",
    "\n",
    "# Filter rows containing the useful sectors\n",
    "data = data[data['sector'].isin(['Farm', 'Manufacturing', 'Foodservice', 'Retail'])]\n",
    "\n",
    "# Calculate the total sum of tons_supply and tons_surplus for each sector\n",
    "grouped_data_supply = data.groupby('sector')['tons_supply'].sum().reset_index()\n",
    "grouped_data_surplus = data.groupby('sector')['tons_surplus'].sum().reset_index()\n",
    "\n",
    "# Create a mapping of sector names to numeric labels\n",
    "sector_mapping = {sector: i for i, sector in enumerate(grouped_data_supply['sector'].unique())}\n",
    "sector_mapping['Farm_surplus'] = len(sector_mapping)\n",
    "sector_mapping['Gap'] = len(sector_mapping)\n",
    "\n",
    "# Create a list of labels for the Sankey diagram\n",
    "labels = list(sector_mapping.keys())\n",
    "\n",
    "# Calculate the gap between the Farm's tons_supply and the sum of the other sectors\n",
    "farm_supply = grouped_data_supply.loc[grouped_data_supply['sector'] == 'Farm', 'tons_supply'].values[0]\n",
    "sum_others = grouped_data_supply.loc[grouped_data_supply['sector'].isin(['Manufacturing', 'Retail', 'Foodservice']), 'tons_supply'].sum()\n",
    "gap = farm_supply - sum_others\n",
    "\n",
    "# Create the sources, targets, and values for the Sankey diagram links\n",
    "sources = [sector_mapping['Farm']] * 5\n",
    "targets = [sector_mapping['Manufacturing'], sector_mapping['Retail'], sector_mapping['Foodservice'], sector_mapping['Farm_surplus'], sector_mapping['Gap']]\n",
    "link_values = grouped_data_supply.loc[grouped_data_supply['sector'].isin(['Manufacturing', 'Retail', 'Foodservice']), 'tons_supply'].tolist() + [grouped_data_surplus.loc[grouped_data_surplus['sector'] == 'Farm', 'tons_surplus'].values[0]] + [gap]\n",
    "\n",
    "# Create Sankey diagram\n",
    "fig = go.Figure(go.Sankey(\n",
    "    node=dict(\n",
    "        pad=15,\n",
    "        thickness=20,\n",
    "        line=dict(color='black', width=0.5),\n",
    "        label=labels\n",
    "    ),\n",
    "    link=dict(\n",
    "        source=sources,\n",
    "        target=targets,\n",
    "        value=link_values\n",
    "    )\n",
    "))\n",
    "\n",
    "# Set Sankey diagram title\n",
    "fig.update_layout(title_text='Mass Flow Diagram of Food Produced in United States', font_size=10)\n",
    "\n",
    "# Show Sankey diagram\n",
    "fig.show()\n"
   ]
  },
  {
   "cell_type": "code",
   "execution_count": 42,
   "id": "7adb5728",
   "metadata": {},
   "outputs": [
    {
     "data": {
      "application/vnd.plotly.v1+json": {
       "config": {
        "plotlyServerURL": "https://plot.ly"
       },
       "data": [
        {
         "link": {
          "source": [
           0,
           0,
           0,
           0,
           0,
           0,
           4,
           5,
           6,
           4,
           5,
           6
          ],
          "target": [
           4,
           5,
           6,
           7,
           8,
           9,
           4,
           5,
           6
          ],
          "value": [
           662860859.216364,
           5328158392.581762,
           1644137748.5482848,
           662860859.216364,
           5328158392.581762,
           1644137748.5482848,
           144190197.36661595,
           147095528.97370628,
           53634789.27211524
          ]
         },
         "node": {
          "label": [
           "Farm",
           "Foodservice",
           "Manufacturing",
           "Retail",
           "Manufacturing_supply",
           "Retail_supply",
           "Foodservice_supply",
           "Manufacturing_surplus",
           "Retail_surplus",
           "Foodservice_surplus"
          ],
          "line": {
           "color": "black",
           "width": 0.5
          },
          "pad": 15,
          "thickness": 20
         },
         "type": "sankey"
        }
       ],
       "layout": {
        "font": {
         "size": 10
        },
        "template": {
         "data": {
          "bar": [
           {
            "error_x": {
             "color": "#2a3f5f"
            },
            "error_y": {
             "color": "#2a3f5f"
            },
            "marker": {
             "line": {
              "color": "#E5ECF6",
              "width": 0.5
             },
             "pattern": {
              "fillmode": "overlay",
              "size": 10,
              "solidity": 0.2
             }
            },
            "type": "bar"
           }
          ],
          "barpolar": [
           {
            "marker": {
             "line": {
              "color": "#E5ECF6",
              "width": 0.5
             },
             "pattern": {
              "fillmode": "overlay",
              "size": 10,
              "solidity": 0.2
             }
            },
            "type": "barpolar"
           }
          ],
          "carpet": [
           {
            "aaxis": {
             "endlinecolor": "#2a3f5f",
             "gridcolor": "white",
             "linecolor": "white",
             "minorgridcolor": "white",
             "startlinecolor": "#2a3f5f"
            },
            "baxis": {
             "endlinecolor": "#2a3f5f",
             "gridcolor": "white",
             "linecolor": "white",
             "minorgridcolor": "white",
             "startlinecolor": "#2a3f5f"
            },
            "type": "carpet"
           }
          ],
          "choropleth": [
           {
            "colorbar": {
             "outlinewidth": 0,
             "ticks": ""
            },
            "type": "choropleth"
           }
          ],
          "contour": [
           {
            "colorbar": {
             "outlinewidth": 0,
             "ticks": ""
            },
            "colorscale": [
             [
              0,
              "#0d0887"
             ],
             [
              0.1111111111111111,
              "#46039f"
             ],
             [
              0.2222222222222222,
              "#7201a8"
             ],
             [
              0.3333333333333333,
              "#9c179e"
             ],
             [
              0.4444444444444444,
              "#bd3786"
             ],
             [
              0.5555555555555556,
              "#d8576b"
             ],
             [
              0.6666666666666666,
              "#ed7953"
             ],
             [
              0.7777777777777778,
              "#fb9f3a"
             ],
             [
              0.8888888888888888,
              "#fdca26"
             ],
             [
              1,
              "#f0f921"
             ]
            ],
            "type": "contour"
           }
          ],
          "contourcarpet": [
           {
            "colorbar": {
             "outlinewidth": 0,
             "ticks": ""
            },
            "type": "contourcarpet"
           }
          ],
          "heatmap": [
           {
            "colorbar": {
             "outlinewidth": 0,
             "ticks": ""
            },
            "colorscale": [
             [
              0,
              "#0d0887"
             ],
             [
              0.1111111111111111,
              "#46039f"
             ],
             [
              0.2222222222222222,
              "#7201a8"
             ],
             [
              0.3333333333333333,
              "#9c179e"
             ],
             [
              0.4444444444444444,
              "#bd3786"
             ],
             [
              0.5555555555555556,
              "#d8576b"
             ],
             [
              0.6666666666666666,
              "#ed7953"
             ],
             [
              0.7777777777777778,
              "#fb9f3a"
             ],
             [
              0.8888888888888888,
              "#fdca26"
             ],
             [
              1,
              "#f0f921"
             ]
            ],
            "type": "heatmap"
           }
          ],
          "heatmapgl": [
           {
            "colorbar": {
             "outlinewidth": 0,
             "ticks": ""
            },
            "colorscale": [
             [
              0,
              "#0d0887"
             ],
             [
              0.1111111111111111,
              "#46039f"
             ],
             [
              0.2222222222222222,
              "#7201a8"
             ],
             [
              0.3333333333333333,
              "#9c179e"
             ],
             [
              0.4444444444444444,
              "#bd3786"
             ],
             [
              0.5555555555555556,
              "#d8576b"
             ],
             [
              0.6666666666666666,
              "#ed7953"
             ],
             [
              0.7777777777777778,
              "#fb9f3a"
             ],
             [
              0.8888888888888888,
              "#fdca26"
             ],
             [
              1,
              "#f0f921"
             ]
            ],
            "type": "heatmapgl"
           }
          ],
          "histogram": [
           {
            "marker": {
             "pattern": {
              "fillmode": "overlay",
              "size": 10,
              "solidity": 0.2
             }
            },
            "type": "histogram"
           }
          ],
          "histogram2d": [
           {
            "colorbar": {
             "outlinewidth": 0,
             "ticks": ""
            },
            "colorscale": [
             [
              0,
              "#0d0887"
             ],
             [
              0.1111111111111111,
              "#46039f"
             ],
             [
              0.2222222222222222,
              "#7201a8"
             ],
             [
              0.3333333333333333,
              "#9c179e"
             ],
             [
              0.4444444444444444,
              "#bd3786"
             ],
             [
              0.5555555555555556,
              "#d8576b"
             ],
             [
              0.6666666666666666,
              "#ed7953"
             ],
             [
              0.7777777777777778,
              "#fb9f3a"
             ],
             [
              0.8888888888888888,
              "#fdca26"
             ],
             [
              1,
              "#f0f921"
             ]
            ],
            "type": "histogram2d"
           }
          ],
          "histogram2dcontour": [
           {
            "colorbar": {
             "outlinewidth": 0,
             "ticks": ""
            },
            "colorscale": [
             [
              0,
              "#0d0887"
             ],
             [
              0.1111111111111111,
              "#46039f"
             ],
             [
              0.2222222222222222,
              "#7201a8"
             ],
             [
              0.3333333333333333,
              "#9c179e"
             ],
             [
              0.4444444444444444,
              "#bd3786"
             ],
             [
              0.5555555555555556,
              "#d8576b"
             ],
             [
              0.6666666666666666,
              "#ed7953"
             ],
             [
              0.7777777777777778,
              "#fb9f3a"
             ],
             [
              0.8888888888888888,
              "#fdca26"
             ],
             [
              1,
              "#f0f921"
             ]
            ],
            "type": "histogram2dcontour"
           }
          ],
          "mesh3d": [
           {
            "colorbar": {
             "outlinewidth": 0,
             "ticks": ""
            },
            "type": "mesh3d"
           }
          ],
          "parcoords": [
           {
            "line": {
             "colorbar": {
              "outlinewidth": 0,
              "ticks": ""
             }
            },
            "type": "parcoords"
           }
          ],
          "pie": [
           {
            "automargin": true,
            "type": "pie"
           }
          ],
          "scatter": [
           {
            "fillpattern": {
             "fillmode": "overlay",
             "size": 10,
             "solidity": 0.2
            },
            "type": "scatter"
           }
          ],
          "scatter3d": [
           {
            "line": {
             "colorbar": {
              "outlinewidth": 0,
              "ticks": ""
             }
            },
            "marker": {
             "colorbar": {
              "outlinewidth": 0,
              "ticks": ""
             }
            },
            "type": "scatter3d"
           }
          ],
          "scattercarpet": [
           {
            "marker": {
             "colorbar": {
              "outlinewidth": 0,
              "ticks": ""
             }
            },
            "type": "scattercarpet"
           }
          ],
          "scattergeo": [
           {
            "marker": {
             "colorbar": {
              "outlinewidth": 0,
              "ticks": ""
             }
            },
            "type": "scattergeo"
           }
          ],
          "scattergl": [
           {
            "marker": {
             "colorbar": {
              "outlinewidth": 0,
              "ticks": ""
             }
            },
            "type": "scattergl"
           }
          ],
          "scattermapbox": [
           {
            "marker": {
             "colorbar": {
              "outlinewidth": 0,
              "ticks": ""
             }
            },
            "type": "scattermapbox"
           }
          ],
          "scatterpolar": [
           {
            "marker": {
             "colorbar": {
              "outlinewidth": 0,
              "ticks": ""
             }
            },
            "type": "scatterpolar"
           }
          ],
          "scatterpolargl": [
           {
            "marker": {
             "colorbar": {
              "outlinewidth": 0,
              "ticks": ""
             }
            },
            "type": "scatterpolargl"
           }
          ],
          "scatterternary": [
           {
            "marker": {
             "colorbar": {
              "outlinewidth": 0,
              "ticks": ""
             }
            },
            "type": "scatterternary"
           }
          ],
          "surface": [
           {
            "colorbar": {
             "outlinewidth": 0,
             "ticks": ""
            },
            "colorscale": [
             [
              0,
              "#0d0887"
             ],
             [
              0.1111111111111111,
              "#46039f"
             ],
             [
              0.2222222222222222,
              "#7201a8"
             ],
             [
              0.3333333333333333,
              "#9c179e"
             ],
             [
              0.4444444444444444,
              "#bd3786"
             ],
             [
              0.5555555555555556,
              "#d8576b"
             ],
             [
              0.6666666666666666,
              "#ed7953"
             ],
             [
              0.7777777777777778,
              "#fb9f3a"
             ],
             [
              0.8888888888888888,
              "#fdca26"
             ],
             [
              1,
              "#f0f921"
             ]
            ],
            "type": "surface"
           }
          ],
          "table": [
           {
            "cells": {
             "fill": {
              "color": "#EBF0F8"
             },
             "line": {
              "color": "white"
             }
            },
            "header": {
             "fill": {
              "color": "#C8D4E3"
             },
             "line": {
              "color": "white"
             }
            },
            "type": "table"
           }
          ]
         },
         "layout": {
          "annotationdefaults": {
           "arrowcolor": "#2a3f5f",
           "arrowhead": 0,
           "arrowwidth": 1
          },
          "autotypenumbers": "strict",
          "coloraxis": {
           "colorbar": {
            "outlinewidth": 0,
            "ticks": ""
           }
          },
          "colorscale": {
           "diverging": [
            [
             0,
             "#8e0152"
            ],
            [
             0.1,
             "#c51b7d"
            ],
            [
             0.2,
             "#de77ae"
            ],
            [
             0.3,
             "#f1b6da"
            ],
            [
             0.4,
             "#fde0ef"
            ],
            [
             0.5,
             "#f7f7f7"
            ],
            [
             0.6,
             "#e6f5d0"
            ],
            [
             0.7,
             "#b8e186"
            ],
            [
             0.8,
             "#7fbc41"
            ],
            [
             0.9,
             "#4d9221"
            ],
            [
             1,
             "#276419"
            ]
           ],
           "sequential": [
            [
             0,
             "#0d0887"
            ],
            [
             0.1111111111111111,
             "#46039f"
            ],
            [
             0.2222222222222222,
             "#7201a8"
            ],
            [
             0.3333333333333333,
             "#9c179e"
            ],
            [
             0.4444444444444444,
             "#bd3786"
            ],
            [
             0.5555555555555556,
             "#d8576b"
            ],
            [
             0.6666666666666666,
             "#ed7953"
            ],
            [
             0.7777777777777778,
             "#fb9f3a"
            ],
            [
             0.8888888888888888,
             "#fdca26"
            ],
            [
             1,
             "#f0f921"
            ]
           ],
           "sequentialminus": [
            [
             0,
             "#0d0887"
            ],
            [
             0.1111111111111111,
             "#46039f"
            ],
            [
             0.2222222222222222,
             "#7201a8"
            ],
            [
             0.3333333333333333,
             "#9c179e"
            ],
            [
             0.4444444444444444,
             "#bd3786"
            ],
            [
             0.5555555555555556,
             "#d8576b"
            ],
            [
             0.6666666666666666,
             "#ed7953"
            ],
            [
             0.7777777777777778,
             "#fb9f3a"
            ],
            [
             0.8888888888888888,
             "#fdca26"
            ],
            [
             1,
             "#f0f921"
            ]
           ]
          },
          "colorway": [
           "#636efa",
           "#EF553B",
           "#00cc96",
           "#ab63fa",
           "#FFA15A",
           "#19d3f3",
           "#FF6692",
           "#B6E880",
           "#FF97FF",
           "#FECB52"
          ],
          "font": {
           "color": "#2a3f5f"
          },
          "geo": {
           "bgcolor": "white",
           "lakecolor": "white",
           "landcolor": "#E5ECF6",
           "showlakes": true,
           "showland": true,
           "subunitcolor": "white"
          },
          "hoverlabel": {
           "align": "left"
          },
          "hovermode": "closest",
          "mapbox": {
           "style": "light"
          },
          "paper_bgcolor": "white",
          "plot_bgcolor": "#E5ECF6",
          "polar": {
           "angularaxis": {
            "gridcolor": "white",
            "linecolor": "white",
            "ticks": ""
           },
           "bgcolor": "#E5ECF6",
           "radialaxis": {
            "gridcolor": "white",
            "linecolor": "white",
            "ticks": ""
           }
          },
          "scene": {
           "xaxis": {
            "backgroundcolor": "#E5ECF6",
            "gridcolor": "white",
            "gridwidth": 2,
            "linecolor": "white",
            "showbackground": true,
            "ticks": "",
            "zerolinecolor": "white"
           },
           "yaxis": {
            "backgroundcolor": "#E5ECF6",
            "gridcolor": "white",
            "gridwidth": 2,
            "linecolor": "white",
            "showbackground": true,
            "ticks": "",
            "zerolinecolor": "white"
           },
           "zaxis": {
            "backgroundcolor": "#E5ECF6",
            "gridcolor": "white",
            "gridwidth": 2,
            "linecolor": "white",
            "showbackground": true,
            "ticks": "",
            "zerolinecolor": "white"
           }
          },
          "shapedefaults": {
           "line": {
            "color": "#2a3f5f"
           }
          },
          "ternary": {
           "aaxis": {
            "gridcolor": "white",
            "linecolor": "white",
            "ticks": ""
           },
           "baxis": {
            "gridcolor": "white",
            "linecolor": "white",
            "ticks": ""
           },
           "bgcolor": "#E5ECF6",
           "caxis": {
            "gridcolor": "white",
            "linecolor": "white",
            "ticks": ""
           }
          },
          "title": {
           "x": 0.05
          },
          "xaxis": {
           "automargin": true,
           "gridcolor": "white",
           "linecolor": "white",
           "ticks": "",
           "title": {
            "standoff": 15
           },
           "zerolinecolor": "white",
           "zerolinewidth": 2
          },
          "yaxis": {
           "automargin": true,
           "gridcolor": "white",
           "linecolor": "white",
           "ticks": "",
           "title": {
            "standoff": 15
           },
           "zerolinecolor": "white",
           "zerolinewidth": 2
          }
         }
        },
        "title": {
         "text": "Mass Flow Diagram of Food Produced in United States"
        }
       }
      },
      "text/html": [
       "<div>                            <div id=\"4efaf5a6-caa2-4d15-afcb-c9892b5ceb0a\" class=\"plotly-graph-div\" style=\"height:525px; width:100%;\"></div>            <script type=\"text/javascript\">                require([\"plotly\"], function(Plotly) {                    window.PLOTLYENV=window.PLOTLYENV || {};                                    if (document.getElementById(\"4efaf5a6-caa2-4d15-afcb-c9892b5ceb0a\")) {                    Plotly.newPlot(                        \"4efaf5a6-caa2-4d15-afcb-c9892b5ceb0a\",                        [{\"link\":{\"source\":[0,0,0,0,0,0,4,5,6,4,5,6],\"target\":[4,5,6,7,8,9,4,5,6],\"value\":[662860859.216364,5328158392.581762,1644137748.5482848,662860859.216364,5328158392.581762,1644137748.5482848,144190197.36661595,147095528.97370628,53634789.27211524]},\"node\":{\"label\":[\"Farm\",\"Foodservice\",\"Manufacturing\",\"Retail\",\"Manufacturing_supply\",\"Retail_supply\",\"Foodservice_supply\",\"Manufacturing_surplus\",\"Retail_surplus\",\"Foodservice_surplus\"],\"line\":{\"color\":\"black\",\"width\":0.5},\"pad\":15,\"thickness\":20},\"type\":\"sankey\"}],                        {\"template\":{\"data\":{\"histogram2dcontour\":[{\"type\":\"histogram2dcontour\",\"colorbar\":{\"outlinewidth\":0,\"ticks\":\"\"},\"colorscale\":[[0.0,\"#0d0887\"],[0.1111111111111111,\"#46039f\"],[0.2222222222222222,\"#7201a8\"],[0.3333333333333333,\"#9c179e\"],[0.4444444444444444,\"#bd3786\"],[0.5555555555555556,\"#d8576b\"],[0.6666666666666666,\"#ed7953\"],[0.7777777777777778,\"#fb9f3a\"],[0.8888888888888888,\"#fdca26\"],[1.0,\"#f0f921\"]]}],\"choropleth\":[{\"type\":\"choropleth\",\"colorbar\":{\"outlinewidth\":0,\"ticks\":\"\"}}],\"histogram2d\":[{\"type\":\"histogram2d\",\"colorbar\":{\"outlinewidth\":0,\"ticks\":\"\"},\"colorscale\":[[0.0,\"#0d0887\"],[0.1111111111111111,\"#46039f\"],[0.2222222222222222,\"#7201a8\"],[0.3333333333333333,\"#9c179e\"],[0.4444444444444444,\"#bd3786\"],[0.5555555555555556,\"#d8576b\"],[0.6666666666666666,\"#ed7953\"],[0.7777777777777778,\"#fb9f3a\"],[0.8888888888888888,\"#fdca26\"],[1.0,\"#f0f921\"]]}],\"heatmap\":[{\"type\":\"heatmap\",\"colorbar\":{\"outlinewidth\":0,\"ticks\":\"\"},\"colorscale\":[[0.0,\"#0d0887\"],[0.1111111111111111,\"#46039f\"],[0.2222222222222222,\"#7201a8\"],[0.3333333333333333,\"#9c179e\"],[0.4444444444444444,\"#bd3786\"],[0.5555555555555556,\"#d8576b\"],[0.6666666666666666,\"#ed7953\"],[0.7777777777777778,\"#fb9f3a\"],[0.8888888888888888,\"#fdca26\"],[1.0,\"#f0f921\"]]}],\"heatmapgl\":[{\"type\":\"heatmapgl\",\"colorbar\":{\"outlinewidth\":0,\"ticks\":\"\"},\"colorscale\":[[0.0,\"#0d0887\"],[0.1111111111111111,\"#46039f\"],[0.2222222222222222,\"#7201a8\"],[0.3333333333333333,\"#9c179e\"],[0.4444444444444444,\"#bd3786\"],[0.5555555555555556,\"#d8576b\"],[0.6666666666666666,\"#ed7953\"],[0.7777777777777778,\"#fb9f3a\"],[0.8888888888888888,\"#fdca26\"],[1.0,\"#f0f921\"]]}],\"contourcarpet\":[{\"type\":\"contourcarpet\",\"colorbar\":{\"outlinewidth\":0,\"ticks\":\"\"}}],\"contour\":[{\"type\":\"contour\",\"colorbar\":{\"outlinewidth\":0,\"ticks\":\"\"},\"colorscale\":[[0.0,\"#0d0887\"],[0.1111111111111111,\"#46039f\"],[0.2222222222222222,\"#7201a8\"],[0.3333333333333333,\"#9c179e\"],[0.4444444444444444,\"#bd3786\"],[0.5555555555555556,\"#d8576b\"],[0.6666666666666666,\"#ed7953\"],[0.7777777777777778,\"#fb9f3a\"],[0.8888888888888888,\"#fdca26\"],[1.0,\"#f0f921\"]]}],\"surface\":[{\"type\":\"surface\",\"colorbar\":{\"outlinewidth\":0,\"ticks\":\"\"},\"colorscale\":[[0.0,\"#0d0887\"],[0.1111111111111111,\"#46039f\"],[0.2222222222222222,\"#7201a8\"],[0.3333333333333333,\"#9c179e\"],[0.4444444444444444,\"#bd3786\"],[0.5555555555555556,\"#d8576b\"],[0.6666666666666666,\"#ed7953\"],[0.7777777777777778,\"#fb9f3a\"],[0.8888888888888888,\"#fdca26\"],[1.0,\"#f0f921\"]]}],\"mesh3d\":[{\"type\":\"mesh3d\",\"colorbar\":{\"outlinewidth\":0,\"ticks\":\"\"}}],\"scatter\":[{\"fillpattern\":{\"fillmode\":\"overlay\",\"size\":10,\"solidity\":0.2},\"type\":\"scatter\"}],\"parcoords\":[{\"type\":\"parcoords\",\"line\":{\"colorbar\":{\"outlinewidth\":0,\"ticks\":\"\"}}}],\"scatterpolargl\":[{\"type\":\"scatterpolargl\",\"marker\":{\"colorbar\":{\"outlinewidth\":0,\"ticks\":\"\"}}}],\"bar\":[{\"error_x\":{\"color\":\"#2a3f5f\"},\"error_y\":{\"color\":\"#2a3f5f\"},\"marker\":{\"line\":{\"color\":\"#E5ECF6\",\"width\":0.5},\"pattern\":{\"fillmode\":\"overlay\",\"size\":10,\"solidity\":0.2}},\"type\":\"bar\"}],\"scattergeo\":[{\"type\":\"scattergeo\",\"marker\":{\"colorbar\":{\"outlinewidth\":0,\"ticks\":\"\"}}}],\"scatterpolar\":[{\"type\":\"scatterpolar\",\"marker\":{\"colorbar\":{\"outlinewidth\":0,\"ticks\":\"\"}}}],\"histogram\":[{\"marker\":{\"pattern\":{\"fillmode\":\"overlay\",\"size\":10,\"solidity\":0.2}},\"type\":\"histogram\"}],\"scattergl\":[{\"type\":\"scattergl\",\"marker\":{\"colorbar\":{\"outlinewidth\":0,\"ticks\":\"\"}}}],\"scatter3d\":[{\"type\":\"scatter3d\",\"line\":{\"colorbar\":{\"outlinewidth\":0,\"ticks\":\"\"}},\"marker\":{\"colorbar\":{\"outlinewidth\":0,\"ticks\":\"\"}}}],\"scattermapbox\":[{\"type\":\"scattermapbox\",\"marker\":{\"colorbar\":{\"outlinewidth\":0,\"ticks\":\"\"}}}],\"scatterternary\":[{\"type\":\"scatterternary\",\"marker\":{\"colorbar\":{\"outlinewidth\":0,\"ticks\":\"\"}}}],\"scattercarpet\":[{\"type\":\"scattercarpet\",\"marker\":{\"colorbar\":{\"outlinewidth\":0,\"ticks\":\"\"}}}],\"carpet\":[{\"aaxis\":{\"endlinecolor\":\"#2a3f5f\",\"gridcolor\":\"white\",\"linecolor\":\"white\",\"minorgridcolor\":\"white\",\"startlinecolor\":\"#2a3f5f\"},\"baxis\":{\"endlinecolor\":\"#2a3f5f\",\"gridcolor\":\"white\",\"linecolor\":\"white\",\"minorgridcolor\":\"white\",\"startlinecolor\":\"#2a3f5f\"},\"type\":\"carpet\"}],\"table\":[{\"cells\":{\"fill\":{\"color\":\"#EBF0F8\"},\"line\":{\"color\":\"white\"}},\"header\":{\"fill\":{\"color\":\"#C8D4E3\"},\"line\":{\"color\":\"white\"}},\"type\":\"table\"}],\"barpolar\":[{\"marker\":{\"line\":{\"color\":\"#E5ECF6\",\"width\":0.5},\"pattern\":{\"fillmode\":\"overlay\",\"size\":10,\"solidity\":0.2}},\"type\":\"barpolar\"}],\"pie\":[{\"automargin\":true,\"type\":\"pie\"}]},\"layout\":{\"autotypenumbers\":\"strict\",\"colorway\":[\"#636efa\",\"#EF553B\",\"#00cc96\",\"#ab63fa\",\"#FFA15A\",\"#19d3f3\",\"#FF6692\",\"#B6E880\",\"#FF97FF\",\"#FECB52\"],\"font\":{\"color\":\"#2a3f5f\"},\"hovermode\":\"closest\",\"hoverlabel\":{\"align\":\"left\"},\"paper_bgcolor\":\"white\",\"plot_bgcolor\":\"#E5ECF6\",\"polar\":{\"bgcolor\":\"#E5ECF6\",\"angularaxis\":{\"gridcolor\":\"white\",\"linecolor\":\"white\",\"ticks\":\"\"},\"radialaxis\":{\"gridcolor\":\"white\",\"linecolor\":\"white\",\"ticks\":\"\"}},\"ternary\":{\"bgcolor\":\"#E5ECF6\",\"aaxis\":{\"gridcolor\":\"white\",\"linecolor\":\"white\",\"ticks\":\"\"},\"baxis\":{\"gridcolor\":\"white\",\"linecolor\":\"white\",\"ticks\":\"\"},\"caxis\":{\"gridcolor\":\"white\",\"linecolor\":\"white\",\"ticks\":\"\"}},\"coloraxis\":{\"colorbar\":{\"outlinewidth\":0,\"ticks\":\"\"}},\"colorscale\":{\"sequential\":[[0.0,\"#0d0887\"],[0.1111111111111111,\"#46039f\"],[0.2222222222222222,\"#7201a8\"],[0.3333333333333333,\"#9c179e\"],[0.4444444444444444,\"#bd3786\"],[0.5555555555555556,\"#d8576b\"],[0.6666666666666666,\"#ed7953\"],[0.7777777777777778,\"#fb9f3a\"],[0.8888888888888888,\"#fdca26\"],[1.0,\"#f0f921\"]],\"sequentialminus\":[[0.0,\"#0d0887\"],[0.1111111111111111,\"#46039f\"],[0.2222222222222222,\"#7201a8\"],[0.3333333333333333,\"#9c179e\"],[0.4444444444444444,\"#bd3786\"],[0.5555555555555556,\"#d8576b\"],[0.6666666666666666,\"#ed7953\"],[0.7777777777777778,\"#fb9f3a\"],[0.8888888888888888,\"#fdca26\"],[1.0,\"#f0f921\"]],\"diverging\":[[0,\"#8e0152\"],[0.1,\"#c51b7d\"],[0.2,\"#de77ae\"],[0.3,\"#f1b6da\"],[0.4,\"#fde0ef\"],[0.5,\"#f7f7f7\"],[0.6,\"#e6f5d0\"],[0.7,\"#b8e186\"],[0.8,\"#7fbc41\"],[0.9,\"#4d9221\"],[1,\"#276419\"]]},\"xaxis\":{\"gridcolor\":\"white\",\"linecolor\":\"white\",\"ticks\":\"\",\"title\":{\"standoff\":15},\"zerolinecolor\":\"white\",\"automargin\":true,\"zerolinewidth\":2},\"yaxis\":{\"gridcolor\":\"white\",\"linecolor\":\"white\",\"ticks\":\"\",\"title\":{\"standoff\":15},\"zerolinecolor\":\"white\",\"automargin\":true,\"zerolinewidth\":2},\"scene\":{\"xaxis\":{\"backgroundcolor\":\"#E5ECF6\",\"gridcolor\":\"white\",\"linecolor\":\"white\",\"showbackground\":true,\"ticks\":\"\",\"zerolinecolor\":\"white\",\"gridwidth\":2},\"yaxis\":{\"backgroundcolor\":\"#E5ECF6\",\"gridcolor\":\"white\",\"linecolor\":\"white\",\"showbackground\":true,\"ticks\":\"\",\"zerolinecolor\":\"white\",\"gridwidth\":2},\"zaxis\":{\"backgroundcolor\":\"#E5ECF6\",\"gridcolor\":\"white\",\"linecolor\":\"white\",\"showbackground\":true,\"ticks\":\"\",\"zerolinecolor\":\"white\",\"gridwidth\":2}},\"shapedefaults\":{\"line\":{\"color\":\"#2a3f5f\"}},\"annotationdefaults\":{\"arrowcolor\":\"#2a3f5f\",\"arrowhead\":0,\"arrowwidth\":1},\"geo\":{\"bgcolor\":\"white\",\"landcolor\":\"#E5ECF6\",\"subunitcolor\":\"white\",\"showland\":true,\"showlakes\":true,\"lakecolor\":\"white\"},\"title\":{\"x\":0.05},\"mapbox\":{\"style\":\"light\"}}},\"title\":{\"text\":\"Mass Flow Diagram of Food Produced in United States\"},\"font\":{\"size\":10}},                        {\"responsive\": true}                    ).then(function(){\n",
       "                            \n",
       "var gd = document.getElementById('4efaf5a6-caa2-4d15-afcb-c9892b5ceb0a');\n",
       "var x = new MutationObserver(function (mutations, observer) {{\n",
       "        var display = window.getComputedStyle(gd).display;\n",
       "        if (!display || display === 'none') {{\n",
       "            console.log([gd, 'removed!']);\n",
       "            Plotly.purge(gd);\n",
       "            observer.disconnect();\n",
       "        }}\n",
       "}});\n",
       "\n",
       "// Listen for the removal of the full notebook cells\n",
       "var notebookContainer = gd.closest('#notebook-container');\n",
       "if (notebookContainer) {{\n",
       "    x.observe(notebookContainer, {childList: true});\n",
       "}}\n",
       "\n",
       "// Listen for the clearing of the current output cell\n",
       "var outputEl = gd.closest('.output');\n",
       "if (outputEl) {{\n",
       "    x.observe(outputEl, {childList: true});\n",
       "}}\n",
       "\n",
       "                        })                };                });            </script>        </div>"
      ]
     },
     "metadata": {},
     "output_type": "display_data"
    }
   ],
   "source": [
    "import pandas as pd\n",
    "import plotly.graph_objects as go\n",
    "\n",
    "# Load data into a DataFrame, skip the first three rows\n",
    "data = pd.read_csv('ReFED_US_Food_Surplus_Summary.csv', skiprows=3)\n",
    "\n",
    "# Filter rows containing the useful sectors\n",
    "data = data[data['sector'].isin(['Farm', 'Manufacturing', 'Foodservice', 'Retail'])]\n",
    "\n",
    "# Calculate the total sum of tons_supply and tons_surplus for each sector\n",
    "grouped_data_supply = data.groupby('sector')['tons_supply'].sum().reset_index()\n",
    "grouped_data_surplus = data.groupby('sector')['tons_surplus'].sum().reset_index()\n",
    "\n",
    "# Create a mapping of sector names to numeric labels\n",
    "sector_mapping = {sector: i for i, sector in enumerate(grouped_data_supply['sector'].unique())}\n",
    "sector_mapping.update({f\"{sector}_supply\": idx + len(sector_mapping) for idx, sector in enumerate(['Manufacturing', 'Retail', 'Foodservice'])})\n",
    "sector_mapping.update({f\"{sector}_surplus\": idx + len(sector_mapping) for idx, sector in enumerate(['Manufacturing', 'Retail', 'Foodservice'])})\n",
    "\n",
    "# Create a list of labels for the Sankey diagram\n",
    "labels = list(sector_mapping.keys())\n",
    "\n",
    "# Create the sources, targets, and values for the Sankey diagram links\n",
    "sources = (\n",
    "    [sector_mapping['Farm']] * 6\n",
    "    + [sector_mapping[sector] for sector in ['Manufacturing_supply', 'Retail_supply', 'Foodservice_supply']] * 2\n",
    ")\n",
    "targets = (\n",
    "    [sector_mapping[f\"{sector}_supply\"] for sector in ['Manufacturing', 'Retail', 'Foodservice']]\n",
    "    + [sector_mapping[f\"{sector}_surplus\"] for sector in ['Manufacturing', 'Retail', 'Foodservice']]\n",
    "    + [sector_mapping[sector] for sector in ['Manufacturing_supply', 'Retail_supply', 'Foodservice_supply']]\n",
    ")\n",
    "link_values = (\n",
    "    grouped_data_supply.loc[grouped_data_supply['sector'].isin(['Manufacturing', 'Retail', 'Foodservice']), 'tons_supply'].tolist() * 2\n",
    "    + grouped_data_surplus.loc[grouped_data_surplus['sector'].isin(['Manufacturing', 'Retail', 'Foodservice']), 'tons_surplus'].tolist()\n",
    ")\n",
    "\n",
    "# Create Sankey diagram\n",
    "fig = go.Figure(go.Sankey(\n",
    "    node=dict(\n",
    "        pad=15,\n",
    "        thickness=20,\n",
    "        line=dict(color='black', width=0.5),\n",
    "        label=labels\n",
    "    ),\n",
    "    link=dict(\n",
    "        source=sources,\n",
    "        target=targets,\n",
    "        value=link_values\n",
    "    )\n",
    "))\n",
    "\n",
    "# Set Sankey diagram title\n",
    "fig.update_layout(title_text='Mass Flow Diagram of Food Produced in United States', font_size=10)\n",
    "\n",
    "# Show Sankey diagram\n",
    "fig.show()\n"
   ]
  },
  {
   "cell_type": "code",
   "execution_count": null,
   "id": "71dd3037",
   "metadata": {},
   "outputs": [],
   "source": []
  },
  {
   "cell_type": "code",
   "execution_count": null,
   "id": "4cf35d0a",
   "metadata": {},
   "outputs": [],
   "source": []
  },
  {
   "cell_type": "markdown",
   "id": "ef0c3de0",
   "metadata": {},
   "source": [
    "Looks like there are no null values as there are no null values in data set. We have got ourselves a tidy data"
   ]
  },
  {
   "cell_type": "markdown",
   "id": "3fa63794",
   "metadata": {},
   "source": [
    "# EDA of Dataset"
   ]
  },
  {
   "cell_type": "markdown",
   "id": "cabf2679",
   "metadata": {},
   "source": [
    "### 1. Proportional Distribution(by occurances) of Food Types in Dataset\n",
    "\n",
    "To gain insights into the proportion of each food type in the dataset, we created a treemap to showcase the distribution. The treemap provides a clear visual representation of the relative proportions of each food type, making it easy to identify the most and least popular categories.\n",
    "\n",
    "Analyzing the dataset further, we found that in 2019, a significant portion of the food produced belonged to the Dry Foods sector, followed by Produce, Dairy & Eggs, and Prepared Foods. In contrast, Frozen Foods had the lowest preference in terms of food production. Interestingly, Breads and Bakery, Fresh Meat & Seafood, and Beverages were the third most popular choices, indicating that they are relatively more in demand among consumers. "
   ]
  },
  {
   "cell_type": "code",
   "execution_count": 8,
   "id": "e8e14eaf",
   "metadata": {},
   "outputs": [
    {
     "data": {
      "image/png": "[encoded data removed]",
      "text/plain": [
       "<Figure size 1000x600 with 1 Axes>"
      ]
     },
     "metadata": {},
     "output_type": "display_data"
    }
   ],
   "source": [
    "import squarify\n",
    "import matplotlib.pyplot as plt\n",
    "\n",
    "# Group the data by food type and count the number of instances for each type\n",
    "food_type_counts = data.groupby('food_type').size().reset_index(name='count')\n",
    "\n",
    "# Calculate the percentage of each food type in the dataset\n",
    "total_count = food_type_counts['count'].sum()\n",
    "food_type_counts['percent'] = food_type_counts['count'] / total_count * 100\n",
    "\n",
    "# Define a custom color palette\n",
    "colors = ['#4bacc6', '#f79646', '#9bbb59', '#8064a2', '#4f81bd', '#c0504d', '#00a040', '#e46c0a']\n",
    "\n",
    "# Define the size of the figure\n",
    "fig = plt.figure(figsize=(10, 6))\n",
    "\n",
    "# Generate the treemap with percentage labels\n",
    "squarify.plot(sizes=food_type_counts['count'], label=[f\"{n}\\n{v:.2f}%\" for n, v in zip(food_type_counts['food_type'], food_type_counts['percent'])], alpha=0.8, color=colors)\n",
    "\n",
    "# Add a title and axis labels\n",
    "plt.title('Proportional Distribution (by occurances) of Food Types in Dataset')\n",
    "plt.axis('off')\n",
    "\n",
    "# Show the treemap\n",
    "plt.show()\n"
   ]
  },
  {
   "cell_type": "markdown",
   "id": "3196f34c",
   "metadata": {},
   "source": [
    "### 2. Food type v/s Tons supply\n",
    "\n",
    "The given dataset provides insights into the distribution levels of different food categories in the year 2019. The data suggests that Dairy & Eggs had the highest distribution, with a total of 250 million units supplied. Dairy & Eggs are a common staple in many households, and their high distribution levels indicate that they are a popular food category among consumers.\n",
    "\n",
    "Produce was the second-highest distributed food category in 2019, indicating that fruits and vegetables are also in high demand among consumers. It is worth noting that Produce had a lower distribution level than Dairy & Eggs, which could be due to the perishable nature of many types of produce.\n",
    "\n",
    "In contrast, Breads & Bakery, Prepared Foods, and Frozen Foods had the lowest distribution levels in 2019, with each having around 25 million units supplied. This suggests that these food categories are relatively less in demand among consumers. However, it is worth noting that these categories still represent a significant amount of food, and their distribution levels could vary by region or demographic."
   ]
  },
  {
   "cell_type": "code",
   "execution_count": 9,
   "id": "7220d57a",
   "metadata": {},
   "outputs": [
    {
     "data": {
      "image/png": "[encoded data removed]",
      "text/plain": [
       "<Figure size 640x480 with 1 Axes>"
      ]
     },
     "metadata": {},
     "output_type": "display_data"
    }
   ],
   "source": [
    "# Assuming 'data' is a pandas DataFrame\n",
    "n = data.groupby('food_type')['tons_supply'].sum()\n",
    "\n",
    "# Define custom colors\n",
    "colors = ['#2c7fb8', '#7fcdbb', '#edf8b1', '#fee08b', '#fd8d3c', '#bd0026', '#253494', '#6baed6']\n",
    "\n",
    "# Create a bar chart\n",
    "fig, ax = plt.subplots()\n",
    "n.plot(kind='bar', ax=ax, color=colors)\n",
    "\n",
    "# Set chart title and labels\n",
    "ax.set_title('Tons Supply per Food Type')\n",
    "ax.set_xlabel('Food Type')\n",
    "ax.set_ylabel('Tons Supply (in millions)')\n",
    "\n",
    "# Show the chart\n",
    "plt.xticks(rotation=45)\n",
    "plt.show()\n"
   ]
  },
  {
   "cell_type": "markdown",
   "id": "1c5b9b7a",
   "metadata": {},
   "source": [
    "### 3. Food_type v/s Tons surplus\n",
    "\n",
    "To gain insights into the surplus food after distribution, we created a bar chart comparing the different food categories. The chart showed that Produce food had the highest surplus, indicating that there was a significant excess of produce that was not being consumed. This could be due to factors such as oversupply, spoilage, or low demand.\n",
    "\n",
    "The proportion of surplus for other food types varied significantly when compared to Produce, with most food categories having around half or less of the surplus compared to Produce. This suggests that there is a relatively lower excess of these food categories, possibly due to better demand or supply management.\n",
    "\n",
    "Interestingly, Ready to drink beverages and Breads & Bakery had the least amount of surplus stock. This could be due to the short shelf life of these food categories, which limits their ability to accumulate excess stock. Additionally, it could also indicate that there is relatively better management of supply and demand for these categories."
   ]
  },
  {
   "cell_type": "code",
   "execution_count": 45,
   "id": "e8c80de0",
   "metadata": {},
   "outputs": [
    {
     "data": {
      "image/png": "[encoded data removed]",
      "text/plain": [
       "<Figure size 640x480 with 1 Axes>"
      ]
     },
     "metadata": {},
     "output_type": "display_data"
    }
   ],
   "source": [
    "# Define custom colors\n",
    "colors = ['#2c7fb8', '#7fcdbb', '#edf8b1', '#fee08b', '#fd8d3c', '#bd0026', '#253494', '#6baed6']\n",
    "\n",
    "# Assuming 'data' is a pandas DataFrame\n",
    "n = data.groupby('food_type')['tons_surplus'].sum()\n",
    "\n",
    "# Create a bar chart\n",
    "fig, ax = plt.subplots()\n",
    "n.plot(kind='bar', ax=ax, color=colors)\n",
    "\n",
    "# Set chart title and labels\n",
    "ax.set_title('Total Tons Surplus per Food Type')\n",
    "ax.set_xlabel('Food Type')\n",
    "ax.set_ylabel('Tons Surplus')\n",
    "\n",
    "# Show the chart\n",
    "plt.xticks(rotation=45)\n",
    "plt.show()\n"
   ]
  },
  {
   "cell_type": "markdown",
   "id": "5fb030cd",
   "metadata": {},
   "source": [
    "### 4. Comaring Tons supply, Tons surplus together\n",
    "\n",
    "We used a stacked bar chart to compare the total tons of food supply and surplus across different food categories. The chart revealed that Dairy & Eggs had the highest supply among all food categories, but had the least amount of surplus. This could indicate that there is a high demand for Dairy & Eggs and that the supply is being closely managed to avoid excess.\n",
    "\n",
    "On the other hand, Produce food had the second-highest supply but the highest surplus, suggesting that there may be an oversupply of produce or a lower demand compared to other food categories.\n",
    "\n",
    "Interestingly, Breads & Bakery had the lowest supply and also the lowest surplus, indicating that there is relatively less demand for this category. Similarly, Beverages had a low supply and low surplus, suggesting that there is not much demand for this category.\n",
    "\n",
    "Finally, Prepared Foods had almost equal supply and surplus, which could suggest that there is not much demand for this category"
   ]
  },
  {
   "cell_type": "code",
   "execution_count": 51,
   "id": "fa883133",
   "metadata": {},
   "outputs": [
    {
     "data": {
      "image/png": "[encoded data removed]",
      "text/plain": [
       "<Figure size 640x480 with 1 Axes>"
      ]
     },
     "metadata": {},
     "output_type": "display_data"
    }
   ],
   "source": [
    "# Assuming 'data' is a pandas DataFrame\n",
    "df = data.groupby('food_type')[['tons_supply', 'tons_surplus']].sum()\n",
    "\n",
    "# Define custom colors\n",
    "colors = ['#2c7fb8', '#7fcdbb']\n",
    "\n",
    "# Create a stacked bar chart\n",
    "fig, ax = plt.subplots()\n",
    "df.plot(kind='bar', stacked=True, ax=ax, color=colors)\n",
    "\n",
    "# Set chart title and labels\n",
    "ax.set_title('Tons Supply and Surplus per Food Type')\n",
    "ax.set_xlabel('Food Type')\n",
    "ax.set_ylabel('Tons (in millions)')\n",
    "\n",
    "# Show the chart\n",
    "plt.xticks(rotation=45)\n",
    "plt.show()\n"
   ]
  },
  {
   "cell_type": "markdown",
   "id": "3f1b8851",
   "metadata": {},
   "source": [
    "### 5. Tons surplus v/s Destination\n",
    "\n",
    "The goal was to identify the distribution destinations of Produce foods, and we achieved this by creating a pie chart that visually displayed the data. From the chart, we noticed that the highest proportion of Produce foods, 47.3%, goes to Residential places. This indicates that a significant amount of Produce food is distributed to individual households, possibly through supermarkets and grocery stores.\n",
    "\n",
    "The second-highest proportion, 22.2%, goes to the Retail sector. This could include food markets, specialty stores, and other retailers that sell Produce food to consumers. This suggests that the retail sector is a major destination for Produce food distribution.\n",
    "\n",
    "In contrast, the Foodservice sector received the lowest share of Produce foods, with only 1.3% of the total distribution. This could include restaurants, cafes, and other foodservice businesses that prepare and serve meals to customers."
   ]
  },
  {
   "cell_type": "code",
   "execution_count": 10,
   "id": "7709776b",
   "metadata": {},
   "outputs": [
    {
     "ename": "KeyError",
     "evalue": "\"Columns not found: 'tons_incineration'\"",
     "output_type": "error",
     "traceback": [
      "\u001b[1;31m---------------------------------------------------------------------------\u001b[0m",
      "\u001b[1;31mKeyError\u001b[0m                                  Traceback (most recent call last)",
      "Cell \u001b[1;32mIn [10], line 5\u001b[0m\n\u001b[0;32m      2\u001b[0m food_type \u001b[38;5;241m=\u001b[39m \u001b[38;5;124m'\u001b[39m\u001b[38;5;124mProduce\u001b[39m\u001b[38;5;124m'\u001b[39m\n\u001b[0;32m      3\u001b[0m destinations \u001b[38;5;241m=\u001b[39m [\u001b[38;5;124m'\u001b[39m\u001b[38;5;124mtons_donated\u001b[39m\u001b[38;5;124m'\u001b[39m, \u001b[38;5;124m'\u001b[39m\u001b[38;5;124mtons_landfilled\u001b[39m\u001b[38;5;124m'\u001b[39m, \u001b[38;5;124m'\u001b[39m\u001b[38;5;124mtons_composted\u001b[39m\u001b[38;5;124m'\u001b[39m, \u001b[38;5;124m'\u001b[39m\u001b[38;5;124mtons_animal_feed\u001b[39m\u001b[38;5;124m'\u001b[39m, \u001b[38;5;124m'\u001b[39m\u001b[38;5;124mtons_incineration\u001b[39m\u001b[38;5;124m'\u001b[39m]\n\u001b[1;32m----> 5\u001b[0m surplus_df \u001b[38;5;241m=\u001b[39m \u001b[43mdata\u001b[49m\u001b[43m[\u001b[49m\u001b[43mdata\u001b[49m\u001b[43m[\u001b[49m\u001b[38;5;124;43m'\u001b[39;49m\u001b[38;5;124;43mfood_type\u001b[39;49m\u001b[38;5;124;43m'\u001b[39;49m\u001b[43m]\u001b[49m\u001b[38;5;241;43m==\u001b[39;49m\u001b[43mfood_type\u001b[49m\u001b[43m]\u001b[49m\u001b[38;5;241;43m.\u001b[39;49m\u001b[43mgroupby\u001b[49m\u001b[43m(\u001b[49m\u001b[38;5;124;43m'\u001b[39;49m\u001b[38;5;124;43msector\u001b[39;49m\u001b[38;5;124;43m'\u001b[39;49m\u001b[43m)\u001b[49m\u001b[43m[\u001b[49m\u001b[43mdestinations\u001b[49m\u001b[43m]\u001b[49m\u001b[38;5;241m.\u001b[39msum()\u001b[38;5;241m.\u001b[39mT\n\u001b[0;32m      6\u001b[0m plt\u001b[38;5;241m.\u001b[39mfigure(figsize\u001b[38;5;241m=\u001b[39m(\u001b[38;5;241m10\u001b[39m,\u001b[38;5;241m6\u001b[39m))\n\u001b[0;32m      7\u001b[0m plt\u001b[38;5;241m.\u001b[39mpie(surplus_df\u001b[38;5;241m.\u001b[39msum(), labels\u001b[38;5;241m=\u001b[39msurplus_df\u001b[38;5;241m.\u001b[39mcolumns, autopct\u001b[38;5;241m=\u001b[39m\u001b[38;5;124m'\u001b[39m\u001b[38;5;132;01m%1.1f\u001b[39;00m\u001b[38;5;132;01m%%\u001b[39;00m\u001b[38;5;124m'\u001b[39m)\n",
      "File \u001b[1;32m~\\AppData\\Local\\Programs\\Python\\Python311\\Lib\\site-packages\\pandas\\core\\groupby\\generic.py:1415\u001b[0m, in \u001b[0;36mDataFrameGroupBy.__getitem__\u001b[1;34m(self, key)\u001b[0m\n\u001b[0;32m   1406\u001b[0m \u001b[38;5;28;01mif\u001b[39;00m \u001b[38;5;28misinstance\u001b[39m(key, \u001b[38;5;28mtuple\u001b[39m) \u001b[38;5;129;01mand\u001b[39;00m \u001b[38;5;28mlen\u001b[39m(key) \u001b[38;5;241m>\u001b[39m \u001b[38;5;241m1\u001b[39m:\n\u001b[0;32m   1407\u001b[0m     \u001b[38;5;66;03m# if len == 1, then it becomes a SeriesGroupBy and this is actually\u001b[39;00m\n\u001b[0;32m   1408\u001b[0m     \u001b[38;5;66;03m# valid syntax, so don't raise warning\u001b[39;00m\n\u001b[0;32m   1409\u001b[0m     warnings\u001b[38;5;241m.\u001b[39mwarn(\n\u001b[0;32m   1410\u001b[0m         \u001b[38;5;124m\"\u001b[39m\u001b[38;5;124mIndexing with multiple keys (implicitly converted to a tuple \u001b[39m\u001b[38;5;124m\"\u001b[39m\n\u001b[0;32m   1411\u001b[0m         \u001b[38;5;124m\"\u001b[39m\u001b[38;5;124mof keys) will be deprecated, use a list instead.\u001b[39m\u001b[38;5;124m\"\u001b[39m,\n\u001b[0;32m   1412\u001b[0m         \u001b[38;5;167;01mFutureWarning\u001b[39;00m,\n\u001b[0;32m   1413\u001b[0m         stacklevel\u001b[38;5;241m=\u001b[39mfind_stack_level(),\n\u001b[0;32m   1414\u001b[0m     )\n\u001b[1;32m-> 1415\u001b[0m \u001b[38;5;28;01mreturn\u001b[39;00m \u001b[38;5;28;43msuper\u001b[39;49m\u001b[43m(\u001b[49m\u001b[43m)\u001b[49m\u001b[38;5;241;43m.\u001b[39;49m\u001b[38;5;21;43m__getitem__\u001b[39;49m\u001b[43m(\u001b[49m\u001b[43mkey\u001b[49m\u001b[43m)\u001b[49m\n",
      "File \u001b[1;32m~\\AppData\\Local\\Programs\\Python\\Python311\\Lib\\site-packages\\pandas\\core\\base.py:238\u001b[0m, in \u001b[0;36mSelectionMixin.__getitem__\u001b[1;34m(self, key)\u001b[0m\n\u001b[0;32m    236\u001b[0m     \u001b[38;5;28;01mif\u001b[39;00m \u001b[38;5;28mlen\u001b[39m(\u001b[38;5;28mself\u001b[39m\u001b[38;5;241m.\u001b[39mobj\u001b[38;5;241m.\u001b[39mcolumns\u001b[38;5;241m.\u001b[39mintersection(key)) \u001b[38;5;241m!=\u001b[39m \u001b[38;5;28mlen\u001b[39m(\u001b[38;5;28mset\u001b[39m(key)):\n\u001b[0;32m    237\u001b[0m         bad_keys \u001b[38;5;241m=\u001b[39m \u001b[38;5;28mlist\u001b[39m(\u001b[38;5;28mset\u001b[39m(key)\u001b[38;5;241m.\u001b[39mdifference(\u001b[38;5;28mself\u001b[39m\u001b[38;5;241m.\u001b[39mobj\u001b[38;5;241m.\u001b[39mcolumns))\n\u001b[1;32m--> 238\u001b[0m         \u001b[38;5;28;01mraise\u001b[39;00m \u001b[38;5;167;01mKeyError\u001b[39;00m(\u001b[38;5;124mf\u001b[39m\u001b[38;5;124m\"\u001b[39m\u001b[38;5;124mColumns not found: \u001b[39m\u001b[38;5;132;01m{\u001b[39;00m\u001b[38;5;28mstr\u001b[39m(bad_keys)[\u001b[38;5;241m1\u001b[39m:\u001b[38;5;241m-\u001b[39m\u001b[38;5;241m1\u001b[39m]\u001b[38;5;132;01m}\u001b[39;00m\u001b[38;5;124m\"\u001b[39m)\n\u001b[0;32m    239\u001b[0m     \u001b[38;5;28;01mreturn\u001b[39;00m \u001b[38;5;28mself\u001b[39m\u001b[38;5;241m.\u001b[39m_gotitem(\u001b[38;5;28mlist\u001b[39m(key), ndim\u001b[38;5;241m=\u001b[39m\u001b[38;5;241m2\u001b[39m)\n\u001b[0;32m    241\u001b[0m \u001b[38;5;28;01melif\u001b[39;00m \u001b[38;5;129;01mnot\u001b[39;00m \u001b[38;5;28mgetattr\u001b[39m(\u001b[38;5;28mself\u001b[39m, \u001b[38;5;124m\"\u001b[39m\u001b[38;5;124mas_index\u001b[39m\u001b[38;5;124m\"\u001b[39m, \u001b[38;5;28;01mFalse\u001b[39;00m):\n",
      "\u001b[1;31mKeyError\u001b[0m: \"Columns not found: 'tons_incineration'\""
     ]
    }
   ],
   "source": [
    "# To see distributions of produce\n",
    "food_type = 'Produce'\n",
    "destinations = ['tons_donated', 'tons_landfilled', 'tons_composted', 'tons_animal_feed', 'tons_incineration']\n",
    "\n",
    "surplus_df = data[data['food_type']==food_type].groupby('sector')[destinations].sum().T\n",
    "plt.figure(figsize=(10,6))\n",
    "plt.pie(surplus_df.sum(), labels=surplus_df.columns, autopct='%1.1f%%')\n",
    "plt.title(f'Percentage of Total Tons Surplus for {food_type} by Destination')\n",
    "plt.show()"
   ]
  },
  {
   "cell_type": "markdown",
   "id": "e5660f6d",
   "metadata": {},
   "source": [
    "### 6. Sub sectors for each Sector\n",
    "\n",
    "Looks like food service "
   ]
  },
  {
   "cell_type": "code",
   "execution_count": 58,
   "id": "37946321",
   "metadata": {},
   "outputs": [
    {
     "data": {
      "image/png": "[encoded data removed]",
      "text/plain": [
       "<Figure size 1000x600 with 1 Axes>"
      ]
     },
     "metadata": {},
     "output_type": "display_data"
    }
   ],
   "source": [
    "# Create a new DataFrame with the sub-sector counts\n",
    "sub_sector_counts = data.groupby(['sub_sector', 'sub_sector_category'])['tons_supply'].count().unstack()\n",
    "\n",
    "# Define custom colors\n",
    "colors = ['#FFC107', '#FF5722', '#4CAF50', '#F44336', '#2196F3', '#9C27B0']\n",
    "\n",
    "# Create a stacked bar chart\n",
    "sub_sector_counts.plot(kind='bar', stacked=True, figsize=(10, 6), color=colors)\n",
    "\n",
    "# Set chart title and labels\n",
    "plt.title('Distribution of Sub-Sectors within each Sector')\n",
    "plt.xlabel('Sector')\n",
    "plt.ylabel('Count')\n",
    "\n",
    "# Show the chart\n",
    "plt.xticks(rotation=45)\n",
    "plt.show()"
   ]
  },
  {
   "cell_type": "code",
   "execution_count": 1,
   "id": "80e5c6ec",
   "metadata": {},
   "outputs": [],
   "source": [
    "import pandas as pd\n",
    "import plotly.graph_objects as go"
   ]
  },
  {
   "cell_type": "code",
   "execution_count": 23,
   "id": "c7160e70",
   "metadata": {},
   "outputs": [
    {
     "data": {
      "application/vnd.plotly.v1+json": {
       "config": {
        "plotlyServerURL": "https://plot.ly"
       },
       "data": [
        {
         "link": {
          "color": "#F8FD3C",
          "source": [
           0,
           0,
           2,
           2,
           2,
           2,
           2,
           2,
           2,
           2,
           2,
           2,
           2,
           2,
           2,
           2,
           2,
           2,
           2,
           2,
           2,
           2,
           2,
           2,
           2,
           2,
           2,
           2,
           2,
           2,
           2,
           2,
           2,
           2,
           2,
           2,
           2,
           2,
           2,
           2,
           2,
           2,
           2,
           2,
           2,
           2,
           2,
           2,
           2,
           2,
           2,
           2,
           2,
           2,
           2,
           2,
           2,
           2,
           2,
           2,
           2,
           2,
           2,
           2,
           2,
           2,
           2,
           2,
           2,
           2,
           2,
           2,
           2,
           2,
           2,
           2,
           2,
           2,
           2,
           2,
           2,
           2,
           2,
           2,
           2,
           2,
           2,
           2,
           2,
           2,
           2,
           2,
           2,
           2,
           2,
           2,
           2,
           2,
           2,
           2,
           2,
           2,
           2,
           2,
           2,
           2,
           2,
           2,
           2,
           2,
           2,
           2,
           2,
           2,
           2,
           2,
           2,
           2,
           2,
           2,
           2,
           2,
           2,
           2,
           2,
           2,
           2,
           2,
           2,
           2,
           2,
           2,
           2,
           2,
           2,
           2,
           2,
           2,
           2,
           2,
           2,
           2,
           2,
           2,
           2,
           2,
           2,
           2,
           2,
           2,
           2,
           2,
           2,
           2,
           2,
           2,
           2,
           2,
           2,
           2,
           2,
           2,
           2,
           2,
           2,
           2,
           2,
           2,
           2,
           2,
           2,
           2,
           2,
           2,
           2,
           2,
           2,
           2,
           2,
           2,
           2,
           2,
           2,
           2,
           2,
           2,
           2,
           2,
           2,
           2,
           2,
           2,
           2,
           2,
           2,
           2,
           2,
           2,
           2,
           2,
           2,
           2,
           2,
           2,
           2,
           2,
           2,
           2,
           2,
           2,
           2,
           2,
           2,
           2,
           2,
           2,
           2,
           2,
           2,
           2,
           2,
           2,
           2,
           2,
           2,
           2,
           2,
           2,
           2,
           2,
           2,
           2,
           2,
           2,
           2,
           2,
           2,
           2,
           2,
           2,
           2,
           2,
           2,
           2,
           2,
           2,
           2,
           2,
           2,
           2,
           2,
           2,
           2,
           2,
           2,
           2,
           2,
           2,
           2,
           2,
           2,
           2,
           2,
           2,
           2,
           2,
           18,
           18,
           18,
           18,
           18,
           18,
           18,
           18,
           19,
           19,
           19,
           19,
           19,
           19,
           19,
           19,
           20,
           20,
           20,
           20,
           20,
           20,
           20,
           20
          ],
          "target": [
           1,
           1,
           3,
           3,
           3,
           3,
           3,
           3,
           3,
           3,
           4,
           4,
           4,
           4,
           4,
           4,
           4,
           4,
           5,
           5,
           5,
           5,
           5,
           5,
           5,
           5,
           6,
           6,
           6,
           6,
           6,
           6,
           6,
           6,
           7,
           7,
           7,
           7,
           7,
           7,
           7,
           7,
           8,
           8,
           8,
           8,
           8,
           8,
           8,
           8,
           8,
           8,
           8,
           8,
           8,
           8,
           8,
           8,
           8,
           8,
           8,
           8,
           8,
           8,
           8,
           8,
           8,
           8,
           8,
           8,
           8,
           8,
           8,
           8,
           8,
           8,
           8,
           8,
           8,
           8,
           8,
           8,
           8,
           8,
           8,
           8,
           8,
           8,
           8,
           8,
           8,
           8,
           8,
           8,
           8,
           8,
           8,
           8,
           8,
           8,
           8,
           8,
           8,
           8,
           8,
           8,
           8,
           8,
           8,
           8,
           9,
           9,
           9,
           9,
           9,
           9,
           9,
           9,
           9,
           9,
           9,
           9,
           9,
           9,
           9,
           9,
           9,
           9,
           9,
           9,
           9,
           9,
           9,
           9,
           10,
           10,
           10,
           10,
           10,
           10,
           10,
           10,
           11,
           11,
           11,
           11,
           11,
           11,
           11,
           11,
           11,
           11,
           11,
           11,
           11,
           11,
           11,
           11,
           11,
           11,
           11,
           11,
           11,
           11,
           11,
           11,
           11,
           11,
           11,
           11,
           11,
           11,
           11,
           11,
           11,
           11,
           11,
           11,
           11,
           11,
           11,
           11,
           11,
           11,
           11,
           11,
           11,
           11,
           11,
           11,
           11,
           11,
           11,
           11,
           11,
           11,
           11,
           11,
           11,
           11,
           11,
           11,
           11,
           11,
           11,
           11,
           11,
           11,
           11,
           11,
           11,
           11,
           11,
           11,
           11,
           11,
           11,
           11,
           12,
           12,
           12,
           12,
           12,
           12,
           12,
           12,
           13,
           13,
           13,
           13,
           13,
           13,
           13,
           13,
           14,
           14,
           14,
           14,
           14,
           14,
           14,
           14,
           15,
           15,
           15,
           15,
           15,
           15,
           15,
           15,
           16,
           16,
           16,
           16,
           16,
           16,
           16,
           16,
           17,
           17,
           17,
           17,
           17,
           17,
           17,
           17,
           1,
           1,
           1,
           1,
           1,
           1,
           1,
           1,
           1,
           1,
           1,
           1,
           1,
           1,
           1,
           1,
           1,
           1,
           1,
           1,
           1,
           1,
           1,
           1
          ],
          "value": [
           1,
           1,
           1,
           1,
           1,
           1,
           1,
           1,
           1,
           1,
           1,
           1,
           1,
           1,
           1,
           1,
           1,
           1,
           1,
           1,
           1,
           1,
           1,
           1,
           1,
           1,
           1,
           1,
           1,
           1,
           1,
           1,
           1,
           1,
           1,
           1,
           1,
           1,
           1,
           1,
           1,
           1,
           1,
           1,
           1,
           1,
           1,
           1,
           1,
           1,
           1,
           1,
           1,
           1,
           1,
           1,
           1,
           1,
           1,
           1,
           1,
           1,
           1,
           1,
           1,
           1,
           1,
           1,
           1,
           1,
           1,
           1,
           1,
           1,
           1,
           1,
           1,
           1,
           1,
           1,
           1,
           1,
           1,
           1,
           1,
           1,
           1,
           1,
           1,
           1,
           1,
           1,
           1,
           1,
           1,
           1,
           1,
           1,
           1,
           1,
           1,
           1,
           1,
           1,
           1,
           1,
           1,
           1,
           1,
           1,
           1,
           1,
           1,
           1,
           1,
           1,
           1,
           1,
           1,
           1,
           1,
           1,
           1,
           1,
           1,
           1,
           1,
           1,
           1,
           1,
           1,
           1,
           1,
           1,
           1,
           1,
           1,
           1,
           1,
           1,
           1,
           1,
           1,
           1,
           1,
           1,
           1,
           1,
           1,
           1,
           1,
           1,
           1,
           1,
           1,
           1,
           1,
           1,
           1,
           1,
           1,
           1,
           1,
           1,
           1,
           1,
           1,
           1,
           1,
           1,
           1,
           1,
           1,
           1,
           1,
           1,
           1,
           1,
           1,
           1,
           1,
           1,
           1,
           1,
           1,
           1,
           1,
           1,
           1,
           1,
           1,
           1,
           1,
           1,
           1,
           1,
           1,
           1,
           1,
           1,
           1,
           1,
           1,
           1,
           1,
           1,
           1,
           1,
           1,
           1,
           1,
           1,
           1,
           1,
           1,
           1,
           1,
           1,
           1,
           1,
           1,
           1,
           1,
           1,
           1,
           1,
           1,
           1,
           1,
           1,
           1,
           1,
           1,
           1,
           1,
           1,
           1,
           1,
           1,
           1,
           1,
           1,
           1,
           1,
           1,
           1,
           1,
           1,
           1,
           1,
           1,
           1,
           1,
           1,
           1,
           1,
           1,
           1,
           1,
           1,
           1,
           1,
           1,
           1,
           1,
           1,
           1,
           1,
           1,
           1,
           1,
           1,
           1,
           1,
           1,
           1,
           1,
           1,
           1,
           1,
           1,
           1,
           1,
           1,
           1,
           1,
           1,
           1,
           1,
           1
          ]
         },
         "node": {
          "color": [
           "#636EFA",
           "#EF553B",
           "#00CC96",
           "#AB63FA",
           "#FFA15A",
           "#19D3F3",
           "#FF6692",
           "#B6E880",
           "#FF97FF",
           "#FECB52",
           "#636EFA",
           "#EF553B",
           "#00CC96",
           "#AB63FA",
           "#FFA15A",
           "#19D3F3",
           "#FF6692",
           "#B6E880",
           "#FF97FF",
           "#FECB52",
           "#636EFA",
           "#EF553B",
           "#00CC96",
           "#AB63FA",
           "#FFA15A",
           "#19D3F3",
           "#FF6692",
           "#B6E880",
           "#FF97FF",
           "#FECB52"
          ],
          "label": [
           "Farm",
           "Not Applicable",
           "Foodservice",
           "Bars And Taverns",
           "Business & Industry",
           "Caterers",
           "Colleges & Universities",
           "Corrections",
           "Full Service Restaurants",
           "Healthcare",
           "K-12 Education",
           "Limited Service Restaurants",
           "Lodging",
           "Military",
           "Other",
           "Recreation",
           "Refreshment Services",
           "Transportation",
           "Manufacturing",
           "Residential",
           "Retail"
          ],
          "line": {
           "color": "black",
           "width": 0.5
          },
          "pad": 15,
          "thickness": 20
         },
         "type": "sankey"
        }
       ],
       "layout": {
        "font": {
         "color": "black",
         "size": 10
        },
        "template": {
         "data": {
          "bar": [
           {
            "error_x": {
             "color": "#2a3f5f"
            },
            "error_y": {
             "color": "#2a3f5f"
            },
            "marker": {
             "line": {
              "color": "#E5ECF6",
              "width": 0.5
             },
             "pattern": {
              "fillmode": "overlay",
              "size": 10,
              "solidity": 0.2
             }
            },
            "type": "bar"
           }
          ],
          "barpolar": [
           {
            "marker": {
             "line": {
              "color": "#E5ECF6",
              "width": 0.5
             },
             "pattern": {
              "fillmode": "overlay",
              "size": 10,
              "solidity": 0.2
             }
            },
            "type": "barpolar"
           }
          ],
          "carpet": [
           {
            "aaxis": {
             "endlinecolor": "#2a3f5f",
             "gridcolor": "white",
             "linecolor": "white",
             "minorgridcolor": "white",
             "startlinecolor": "#2a3f5f"
            },
            "baxis": {
             "endlinecolor": "#2a3f5f",
             "gridcolor": "white",
             "linecolor": "white",
             "minorgridcolor": "white",
             "startlinecolor": "#2a3f5f"
            },
            "type": "carpet"
           }
          ],
          "choropleth": [
           {
            "colorbar": {
             "outlinewidth": 0,
             "ticks": ""
            },
            "type": "choropleth"
           }
          ],
          "contour": [
           {
            "colorbar": {
             "outlinewidth": 0,
             "ticks": ""
            },
            "colorscale": [
             [
              0,
              "#0d0887"
             ],
             [
              0.1111111111111111,
              "#46039f"
             ],
             [
              0.2222222222222222,
              "#7201a8"
             ],
             [
              0.3333333333333333,
              "#9c179e"
             ],
             [
              0.4444444444444444,
              "#bd3786"
             ],
             [
              0.5555555555555556,
              "#d8576b"
             ],
             [
              0.6666666666666666,
              "#ed7953"
             ],
             [
              0.7777777777777778,
              "#fb9f3a"
             ],
             [
              0.8888888888888888,
              "#fdca26"
             ],
             [
              1,
              "#f0f921"
             ]
            ],
            "type": "contour"
           }
          ],
          "contourcarpet": [
           {
            "colorbar": {
             "outlinewidth": 0,
             "ticks": ""
            },
            "type": "contourcarpet"
           }
          ],
          "heatmap": [
           {
            "colorbar": {
             "outlinewidth": 0,
             "ticks": ""
            },
            "colorscale": [
             [
              0,
              "#0d0887"
             ],
             [
              0.1111111111111111,
              "#46039f"
             ],
             [
              0.2222222222222222,
              "#7201a8"
             ],
             [
              0.3333333333333333,
              "#9c179e"
             ],
             [
              0.4444444444444444,
              "#bd3786"
             ],
             [
              0.5555555555555556,
              "#d8576b"
             ],
             [
              0.6666666666666666,
              "#ed7953"
             ],
             [
              0.7777777777777778,
              "#fb9f3a"
             ],
             [
              0.8888888888888888,
              "#fdca26"
             ],
             [
              1,
              "#f0f921"
             ]
            ],
            "type": "heatmap"
           }
          ],
          "heatmapgl": [
           {
            "colorbar": {
             "outlinewidth": 0,
             "ticks": ""
            },
            "colorscale": [
             [
              0,
              "#0d0887"
             ],
             [
              0.1111111111111111,
              "#46039f"
             ],
             [
              0.2222222222222222,
              "#7201a8"
             ],
             [
              0.3333333333333333,
              "#9c179e"
             ],
             [
              0.4444444444444444,
              "#bd3786"
             ],
             [
              0.5555555555555556,
              "#d8576b"
             ],
             [
              0.6666666666666666,
              "#ed7953"
             ],
             [
              0.7777777777777778,
              "#fb9f3a"
             ],
             [
              0.8888888888888888,
              "#fdca26"
             ],
             [
              1,
              "#f0f921"
             ]
            ],
            "type": "heatmapgl"
           }
          ],
          "histogram": [
           {
            "marker": {
             "pattern": {
              "fillmode": "overlay",
              "size": 10,
              "solidity": 0.2
             }
            },
            "type": "histogram"
           }
          ],
          "histogram2d": [
           {
            "colorbar": {
             "outlinewidth": 0,
             "ticks": ""
            },
            "colorscale": [
             [
              0,
              "#0d0887"
             ],
             [
              0.1111111111111111,
              "#46039f"
             ],
             [
              0.2222222222222222,
              "#7201a8"
             ],
             [
              0.3333333333333333,
              "#9c179e"
             ],
             [
              0.4444444444444444,
              "#bd3786"
             ],
             [
              0.5555555555555556,
              "#d8576b"
             ],
             [
              0.6666666666666666,
              "#ed7953"
             ],
             [
              0.7777777777777778,
              "#fb9f3a"
             ],
             [
              0.8888888888888888,
              "#fdca26"
             ],
             [
              1,
              "#f0f921"
             ]
            ],
            "type": "histogram2d"
           }
          ],
          "histogram2dcontour": [
           {
            "colorbar": {
             "outlinewidth": 0,
             "ticks": ""
            },
            "colorscale": [
             [
              0,
              "#0d0887"
             ],
             [
              0.1111111111111111,
              "#46039f"
             ],
             [
              0.2222222222222222,
              "#7201a8"
             ],
             [
              0.3333333333333333,
              "#9c179e"
             ],
             [
              0.4444444444444444,
              "#bd3786"
             ],
             [
              0.5555555555555556,
              "#d8576b"
             ],
             [
              0.6666666666666666,
              "#ed7953"
             ],
             [
              0.7777777777777778,
              "#fb9f3a"
             ],
             [
              0.8888888888888888,
              "#fdca26"
             ],
             [
              1,
              "#f0f921"
             ]
            ],
            "type": "histogram2dcontour"
           }
          ],
          "mesh3d": [
           {
            "colorbar": {
             "outlinewidth": 0,
             "ticks": ""
            },
            "type": "mesh3d"
           }
          ],
          "parcoords": [
           {
            "line": {
             "colorbar": {
              "outlinewidth": 0,
              "ticks": ""
             }
            },
            "type": "parcoords"
           }
          ],
          "pie": [
           {
            "automargin": true,
            "type": "pie"
           }
          ],
          "scatter": [
           {
            "fillpattern": {
             "fillmode": "overlay",
             "size": 10,
             "solidity": 0.2
            },
            "type": "scatter"
           }
          ],
          "scatter3d": [
           {
            "line": {
             "colorbar": {
              "outlinewidth": 0,
              "ticks": ""
             }
            },
            "marker": {
             "colorbar": {
              "outlinewidth": 0,
              "ticks": ""
             }
            },
            "type": "scatter3d"
           }
          ],
          "scattercarpet": [
           {
            "marker": {
             "colorbar": {
              "outlinewidth": 0,
              "ticks": ""
             }
            },
            "type": "scattercarpet"
           }
          ],
          "scattergeo": [
           {
            "marker": {
             "colorbar": {
              "outlinewidth": 0,
              "ticks": ""
             }
            },
            "type": "scattergeo"
           }
          ],
          "scattergl": [
           {
            "marker": {
             "colorbar": {
              "outlinewidth": 0,
              "ticks": ""
             }
            },
            "type": "scattergl"
           }
          ],
          "scattermapbox": [
           {
            "marker": {
             "colorbar": {
              "outlinewidth": 0,
              "ticks": ""
             }
            },
            "type": "scattermapbox"
           }
          ],
          "scatterpolar": [
           {
            "marker": {
             "colorbar": {
              "outlinewidth": 0,
              "ticks": ""
             }
            },
            "type": "scatterpolar"
           }
          ],
          "scatterpolargl": [
           {
            "marker": {
             "colorbar": {
              "outlinewidth": 0,
              "ticks": ""
             }
            },
            "type": "scatterpolargl"
           }
          ],
          "scatterternary": [
           {
            "marker": {
             "colorbar": {
              "outlinewidth": 0,
              "ticks": ""
             }
            },
            "type": "scatterternary"
           }
          ],
          "surface": [
           {
            "colorbar": {
             "outlinewidth": 0,
             "ticks": ""
            },
            "colorscale": [
             [
              0,
              "#0d0887"
             ],
             [
              0.1111111111111111,
              "#46039f"
             ],
             [
              0.2222222222222222,
              "#7201a8"
             ],
             [
              0.3333333333333333,
              "#9c179e"
             ],
             [
              0.4444444444444444,
              "#bd3786"
             ],
             [
              0.5555555555555556,
              "#d8576b"
             ],
             [
              0.6666666666666666,
              "#ed7953"
             ],
             [
              0.7777777777777778,
              "#fb9f3a"
             ],
             [
              0.8888888888888888,
              "#fdca26"
             ],
             [
              1,
              "#f0f921"
             ]
            ],
            "type": "surface"
           }
          ],
          "table": [
           {
            "cells": {
             "fill": {
              "color": "#EBF0F8"
             },
             "line": {
              "color": "white"
             }
            },
            "header": {
             "fill": {
              "color": "#C8D4E3"
             },
             "line": {
              "color": "white"
             }
            },
            "type": "table"
           }
          ]
         },
         "layout": {
          "annotationdefaults": {
           "arrowcolor": "#2a3f5f",
           "arrowhead": 0,
           "arrowwidth": 1
          },
          "autotypenumbers": "strict",
          "coloraxis": {
           "colorbar": {
            "outlinewidth": 0,
            "ticks": ""
           }
          },
          "colorscale": {
           "diverging": [
            [
             0,
             "#8e0152"
            ],
            [
             0.1,
             "#c51b7d"
            ],
            [
             0.2,
             "#de77ae"
            ],
            [
             0.3,
             "#f1b6da"
            ],
            [
             0.4,
             "#fde0ef"
            ],
            [
             0.5,
             "#f7f7f7"
            ],
            [
             0.6,
             "#e6f5d0"
            ],
            [
             0.7,
             "#b8e186"
            ],
            [
             0.8,
             "#7fbc41"
            ],
            [
             0.9,
             "#4d9221"
            ],
            [
             1,
             "#276419"
            ]
           ],
           "sequential": [
            [
             0,
             "#0d0887"
            ],
            [
             0.1111111111111111,
             "#46039f"
            ],
            [
             0.2222222222222222,
             "#7201a8"
            ],
            [
             0.3333333333333333,
             "#9c179e"
            ],
            [
             0.4444444444444444,
             "#bd3786"
            ],
            [
             0.5555555555555556,
             "#d8576b"
            ],
            [
             0.6666666666666666,
             "#ed7953"
            ],
            [
             0.7777777777777778,
             "#fb9f3a"
            ],
            [
             0.8888888888888888,
             "#fdca26"
            ],
            [
             1,
             "#f0f921"
            ]
           ],
           "sequentialminus": [
            [
             0,
             "#0d0887"
            ],
            [
             0.1111111111111111,
             "#46039f"
            ],
            [
             0.2222222222222222,
             "#7201a8"
            ],
            [
             0.3333333333333333,
             "#9c179e"
            ],
            [
             0.4444444444444444,
             "#bd3786"
            ],
            [
             0.5555555555555556,
             "#d8576b"
            ],
            [
             0.6666666666666666,
             "#ed7953"
            ],
            [
             0.7777777777777778,
             "#fb9f3a"
            ],
            [
             0.8888888888888888,
             "#fdca26"
            ],
            [
             1,
             "#f0f921"
            ]
           ]
          },
          "colorway": [
           "#636efa",
           "#EF553B",
           "#00cc96",
           "#ab63fa",
           "#FFA15A",
           "#19d3f3",
           "#FF6692",
           "#B6E880",
           "#FF97FF",
           "#FECB52"
          ],
          "font": {
           "color": "#2a3f5f"
          },
          "geo": {
           "bgcolor": "white",
           "lakecolor": "white",
           "landcolor": "#E5ECF6",
           "showlakes": true,
           "showland": true,
           "subunitcolor": "white"
          },
          "hoverlabel": {
           "align": "left"
          },
          "hovermode": "closest",
          "mapbox": {
           "style": "light"
          },
          "paper_bgcolor": "white",
          "plot_bgcolor": "#E5ECF6",
          "polar": {
           "angularaxis": {
            "gridcolor": "white",
            "linecolor": "white",
            "ticks": ""
           },
           "bgcolor": "#E5ECF6",
           "radialaxis": {
            "gridcolor": "white",
            "linecolor": "white",
            "ticks": ""
           }
          },
          "scene": {
           "xaxis": {
            "backgroundcolor": "#E5ECF6",
            "gridcolor": "white",
            "gridwidth": 2,
            "linecolor": "white",
            "showbackground": true,
            "ticks": "",
            "zerolinecolor": "white"
           },
           "yaxis": {
            "backgroundcolor": "#E5ECF6",
            "gridcolor": "white",
            "gridwidth": 2,
            "linecolor": "white",
            "showbackground": true,
            "ticks": "",
            "zerolinecolor": "white"
           },
           "zaxis": {
            "backgroundcolor": "#E5ECF6",
            "gridcolor": "white",
            "gridwidth": 2,
            "linecolor": "white",
            "showbackground": true,
            "ticks": "",
            "zerolinecolor": "white"
           }
          },
          "shapedefaults": {
           "line": {
            "color": "#2a3f5f"
           }
          },
          "ternary": {
           "aaxis": {
            "gridcolor": "white",
            "linecolor": "white",
            "ticks": ""
           },
           "baxis": {
            "gridcolor": "white",
            "linecolor": "white",
            "ticks": ""
           },
           "bgcolor": "#E5ECF6",
           "caxis": {
            "gridcolor": "white",
            "linecolor": "white",
            "ticks": ""
           }
          },
          "title": {
           "x": 0.05
          },
          "xaxis": {
           "automargin": true,
           "gridcolor": "white",
           "linecolor": "white",
           "ticks": "",
           "title": {
            "standoff": 15
           },
           "zerolinecolor": "white",
           "zerolinewidth": 2
          },
          "yaxis": {
           "automargin": true,
           "gridcolor": "white",
           "linecolor": "white",
           "ticks": "",
           "title": {
            "standoff": 15
           },
           "zerolinecolor": "white",
           "zerolinewidth": 2
          }
         }
        },
        "title": {
         "text": "Sankey Diagram of Sectors and Sub-sectors"
        }
       }
      },
      "text/html": [
       "<div>                            <div id=\"f76bdc4c-8c88-482f-98bb-3b44674a97c4\" class=\"plotly-graph-div\" style=\"height:525px; width:100%;\"></div>            <script type=\"text/javascript\">                require([\"plotly\"], function(Plotly) {                    window.PLOTLYENV=window.PLOTLYENV || {};                                    if (document.getElementById(\"f76bdc4c-8c88-482f-98bb-3b44674a97c4\")) {                    Plotly.newPlot(                        \"f76bdc4c-8c88-482f-98bb-3b44674a97c4\",                        [{\"link\":{\"color\":\"#F8FD3C\",\"source\":[0,0,2,2,2,2,2,2,2,2,2,2,2,2,2,2,2,2,2,2,2,2,2,2,2,2,2,2,2,2,2,2,2,2,2,2,2,2,2,2,2,2,2,2,2,2,2,2,2,2,2,2,2,2,2,2,2,2,2,2,2,2,2,2,2,2,2,2,2,2,2,2,2,2,2,2,2,2,2,2,2,2,2,2,2,2,2,2,2,2,2,2,2,2,2,2,2,2,2,2,2,2,2,2,2,2,2,2,2,2,2,2,2,2,2,2,2,2,2,2,2,2,2,2,2,2,2,2,2,2,2,2,2,2,2,2,2,2,2,2,2,2,2,2,2,2,2,2,2,2,2,2,2,2,2,2,2,2,2,2,2,2,2,2,2,2,2,2,2,2,2,2,2,2,2,2,2,2,2,2,2,2,2,2,2,2,2,2,2,2,2,2,2,2,2,2,2,2,2,2,2,2,2,2,2,2,2,2,2,2,2,2,2,2,2,2,2,2,2,2,2,2,2,2,2,2,2,2,2,2,2,2,2,2,2,2,2,2,2,2,2,2,2,2,2,2,2,2,2,2,2,2,2,2,2,2,2,2,2,2,2,2,2,2,2,2,18,18,18,18,18,18,18,18,19,19,19,19,19,19,19,19,20,20,20,20,20,20,20,20],\"target\":[1,1,3,3,3,3,3,3,3,3,4,4,4,4,4,4,4,4,5,5,5,5,5,5,5,5,6,6,6,6,6,6,6,6,7,7,7,7,7,7,7,7,8,8,8,8,8,8,8,8,8,8,8,8,8,8,8,8,8,8,8,8,8,8,8,8,8,8,8,8,8,8,8,8,8,8,8,8,8,8,8,8,8,8,8,8,8,8,8,8,8,8,8,8,8,8,8,8,8,8,8,8,8,8,8,8,8,8,8,8,9,9,9,9,9,9,9,9,9,9,9,9,9,9,9,9,9,9,9,9,9,9,9,9,10,10,10,10,10,10,10,10,11,11,11,11,11,11,11,11,11,11,11,11,11,11,11,11,11,11,11,11,11,11,11,11,11,11,11,11,11,11,11,11,11,11,11,11,11,11,11,11,11,11,11,11,11,11,11,11,11,11,11,11,11,11,11,11,11,11,11,11,11,11,11,11,11,11,11,11,11,11,11,11,11,11,11,11,12,12,12,12,12,12,12,12,13,13,13,13,13,13,13,13,14,14,14,14,14,14,14,14,15,15,15,15,15,15,15,15,16,16,16,16,16,16,16,16,17,17,17,17,17,17,17,17,1,1,1,1,1,1,1,1,1,1,1,1,1,1,1,1,1,1,1,1,1,1,1,1],\"value\":[1,1,1,1,1,1,1,1,1,1,1,1,1,1,1,1,1,1,1,1,1,1,1,1,1,1,1,1,1,1,1,1,1,1,1,1,1,1,1,1,1,1,1,1,1,1,1,1,1,1,1,1,1,1,1,1,1,1,1,1,1,1,1,1,1,1,1,1,1,1,1,1,1,1,1,1,1,1,1,1,1,1,1,1,1,1,1,1,1,1,1,1,1,1,1,1,1,1,1,1,1,1,1,1,1,1,1,1,1,1,1,1,1,1,1,1,1,1,1,1,1,1,1,1,1,1,1,1,1,1,1,1,1,1,1,1,1,1,1,1,1,1,1,1,1,1,1,1,1,1,1,1,1,1,1,1,1,1,1,1,1,1,1,1,1,1,1,1,1,1,1,1,1,1,1,1,1,1,1,1,1,1,1,1,1,1,1,1,1,1,1,1,1,1,1,1,1,1,1,1,1,1,1,1,1,1,1,1,1,1,1,1,1,1,1,1,1,1,1,1,1,1,1,1,1,1,1,1,1,1,1,1,1,1,1,1,1,1,1,1,1,1,1,1,1,1,1,1,1,1,1,1,1,1,1,1,1,1,1,1,1,1,1,1,1,1,1,1,1,1,1,1,1,1,1,1,1,1,1,1,1,1,1,1,1,1,1,1,1,1]},\"node\":{\"color\":[\"#636EFA\",\"#EF553B\",\"#00CC96\",\"#AB63FA\",\"#FFA15A\",\"#19D3F3\",\"#FF6692\",\"#B6E880\",\"#FF97FF\",\"#FECB52\",\"#636EFA\",\"#EF553B\",\"#00CC96\",\"#AB63FA\",\"#FFA15A\",\"#19D3F3\",\"#FF6692\",\"#B6E880\",\"#FF97FF\",\"#FECB52\",\"#636EFA\",\"#EF553B\",\"#00CC96\",\"#AB63FA\",\"#FFA15A\",\"#19D3F3\",\"#FF6692\",\"#B6E880\",\"#FF97FF\",\"#FECB52\"],\"label\":[\"Farm\",\"Not Applicable\",\"Foodservice\",\"Bars And Taverns\",\"Business & Industry\",\"Caterers\",\"Colleges & Universities\",\"Corrections\",\"Full Service Restaurants\",\"Healthcare\",\"K-12 Education\",\"Limited Service Restaurants\",\"Lodging\",\"Military\",\"Other\",\"Recreation\",\"Refreshment Services\",\"Transportation\",\"Manufacturing\",\"Residential\",\"Retail\"],\"line\":{\"color\":\"black\",\"width\":0.5},\"pad\":15,\"thickness\":20},\"type\":\"sankey\"}],                        {\"template\":{\"data\":{\"histogram2dcontour\":[{\"type\":\"histogram2dcontour\",\"colorbar\":{\"outlinewidth\":0,\"ticks\":\"\"},\"colorscale\":[[0.0,\"#0d0887\"],[0.1111111111111111,\"#46039f\"],[0.2222222222222222,\"#7201a8\"],[0.3333333333333333,\"#9c179e\"],[0.4444444444444444,\"#bd3786\"],[0.5555555555555556,\"#d8576b\"],[0.6666666666666666,\"#ed7953\"],[0.7777777777777778,\"#fb9f3a\"],[0.8888888888888888,\"#fdca26\"],[1.0,\"#f0f921\"]]}],\"choropleth\":[{\"type\":\"choropleth\",\"colorbar\":{\"outlinewidth\":0,\"ticks\":\"\"}}],\"histogram2d\":[{\"type\":\"histogram2d\",\"colorbar\":{\"outlinewidth\":0,\"ticks\":\"\"},\"colorscale\":[[0.0,\"#0d0887\"],[0.1111111111111111,\"#46039f\"],[0.2222222222222222,\"#7201a8\"],[0.3333333333333333,\"#9c179e\"],[0.4444444444444444,\"#bd3786\"],[0.5555555555555556,\"#d8576b\"],[0.6666666666666666,\"#ed7953\"],[0.7777777777777778,\"#fb9f3a\"],[0.8888888888888888,\"#fdca26\"],[1.0,\"#f0f921\"]]}],\"heatmap\":[{\"type\":\"heatmap\",\"colorbar\":{\"outlinewidth\":0,\"ticks\":\"\"},\"colorscale\":[[0.0,\"#0d0887\"],[0.1111111111111111,\"#46039f\"],[0.2222222222222222,\"#7201a8\"],[0.3333333333333333,\"#9c179e\"],[0.4444444444444444,\"#bd3786\"],[0.5555555555555556,\"#d8576b\"],[0.6666666666666666,\"#ed7953\"],[0.7777777777777778,\"#fb9f3a\"],[0.8888888888888888,\"#fdca26\"],[1.0,\"#f0f921\"]]}],\"heatmapgl\":[{\"type\":\"heatmapgl\",\"colorbar\":{\"outlinewidth\":0,\"ticks\":\"\"},\"colorscale\":[[0.0,\"#0d0887\"],[0.1111111111111111,\"#46039f\"],[0.2222222222222222,\"#7201a8\"],[0.3333333333333333,\"#9c179e\"],[0.4444444444444444,\"#bd3786\"],[0.5555555555555556,\"#d8576b\"],[0.6666666666666666,\"#ed7953\"],[0.7777777777777778,\"#fb9f3a\"],[0.8888888888888888,\"#fdca26\"],[1.0,\"#f0f921\"]]}],\"contourcarpet\":[{\"type\":\"contourcarpet\",\"colorbar\":{\"outlinewidth\":0,\"ticks\":\"\"}}],\"contour\":[{\"type\":\"contour\",\"colorbar\":{\"outlinewidth\":0,\"ticks\":\"\"},\"colorscale\":[[0.0,\"#0d0887\"],[0.1111111111111111,\"#46039f\"],[0.2222222222222222,\"#7201a8\"],[0.3333333333333333,\"#9c179e\"],[0.4444444444444444,\"#bd3786\"],[0.5555555555555556,\"#d8576b\"],[0.6666666666666666,\"#ed7953\"],[0.7777777777777778,\"#fb9f3a\"],[0.8888888888888888,\"#fdca26\"],[1.0,\"#f0f921\"]]}],\"surface\":[{\"type\":\"surface\",\"colorbar\":{\"outlinewidth\":0,\"ticks\":\"\"},\"colorscale\":[[0.0,\"#0d0887\"],[0.1111111111111111,\"#46039f\"],[0.2222222222222222,\"#7201a8\"],[0.3333333333333333,\"#9c179e\"],[0.4444444444444444,\"#bd3786\"],[0.5555555555555556,\"#d8576b\"],[0.6666666666666666,\"#ed7953\"],[0.7777777777777778,\"#fb9f3a\"],[0.8888888888888888,\"#fdca26\"],[1.0,\"#f0f921\"]]}],\"mesh3d\":[{\"type\":\"mesh3d\",\"colorbar\":{\"outlinewidth\":0,\"ticks\":\"\"}}],\"scatter\":[{\"fillpattern\":{\"fillmode\":\"overlay\",\"size\":10,\"solidity\":0.2},\"type\":\"scatter\"}],\"parcoords\":[{\"type\":\"parcoords\",\"line\":{\"colorbar\":{\"outlinewidth\":0,\"ticks\":\"\"}}}],\"scatterpolargl\":[{\"type\":\"scatterpolargl\",\"marker\":{\"colorbar\":{\"outlinewidth\":0,\"ticks\":\"\"}}}],\"bar\":[{\"error_x\":{\"color\":\"#2a3f5f\"},\"error_y\":{\"color\":\"#2a3f5f\"},\"marker\":{\"line\":{\"color\":\"#E5ECF6\",\"width\":0.5},\"pattern\":{\"fillmode\":\"overlay\",\"size\":10,\"solidity\":0.2}},\"type\":\"bar\"}],\"scattergeo\":[{\"type\":\"scattergeo\",\"marker\":{\"colorbar\":{\"outlinewidth\":0,\"ticks\":\"\"}}}],\"scatterpolar\":[{\"type\":\"scatterpolar\",\"marker\":{\"colorbar\":{\"outlinewidth\":0,\"ticks\":\"\"}}}],\"histogram\":[{\"marker\":{\"pattern\":{\"fillmode\":\"overlay\",\"size\":10,\"solidity\":0.2}},\"type\":\"histogram\"}],\"scattergl\":[{\"type\":\"scattergl\",\"marker\":{\"colorbar\":{\"outlinewidth\":0,\"ticks\":\"\"}}}],\"scatter3d\":[{\"type\":\"scatter3d\",\"line\":{\"colorbar\":{\"outlinewidth\":0,\"ticks\":\"\"}},\"marker\":{\"colorbar\":{\"outlinewidth\":0,\"ticks\":\"\"}}}],\"scattermapbox\":[{\"type\":\"scattermapbox\",\"marker\":{\"colorbar\":{\"outlinewidth\":0,\"ticks\":\"\"}}}],\"scatterternary\":[{\"type\":\"scatterternary\",\"marker\":{\"colorbar\":{\"outlinewidth\":0,\"ticks\":\"\"}}}],\"scattercarpet\":[{\"type\":\"scattercarpet\",\"marker\":{\"colorbar\":{\"outlinewidth\":0,\"ticks\":\"\"}}}],\"carpet\":[{\"aaxis\":{\"endlinecolor\":\"#2a3f5f\",\"gridcolor\":\"white\",\"linecolor\":\"white\",\"minorgridcolor\":\"white\",\"startlinecolor\":\"#2a3f5f\"},\"baxis\":{\"endlinecolor\":\"#2a3f5f\",\"gridcolor\":\"white\",\"linecolor\":\"white\",\"minorgridcolor\":\"white\",\"startlinecolor\":\"#2a3f5f\"},\"type\":\"carpet\"}],\"table\":[{\"cells\":{\"fill\":{\"color\":\"#EBF0F8\"},\"line\":{\"color\":\"white\"}},\"header\":{\"fill\":{\"color\":\"#C8D4E3\"},\"line\":{\"color\":\"white\"}},\"type\":\"table\"}],\"barpolar\":[{\"marker\":{\"line\":{\"color\":\"#E5ECF6\",\"width\":0.5},\"pattern\":{\"fillmode\":\"overlay\",\"size\":10,\"solidity\":0.2}},\"type\":\"barpolar\"}],\"pie\":[{\"automargin\":true,\"type\":\"pie\"}]},\"layout\":{\"autotypenumbers\":\"strict\",\"colorway\":[\"#636efa\",\"#EF553B\",\"#00cc96\",\"#ab63fa\",\"#FFA15A\",\"#19d3f3\",\"#FF6692\",\"#B6E880\",\"#FF97FF\",\"#FECB52\"],\"font\":{\"color\":\"#2a3f5f\"},\"hovermode\":\"closest\",\"hoverlabel\":{\"align\":\"left\"},\"paper_bgcolor\":\"white\",\"plot_bgcolor\":\"#E5ECF6\",\"polar\":{\"bgcolor\":\"#E5ECF6\",\"angularaxis\":{\"gridcolor\":\"white\",\"linecolor\":\"white\",\"ticks\":\"\"},\"radialaxis\":{\"gridcolor\":\"white\",\"linecolor\":\"white\",\"ticks\":\"\"}},\"ternary\":{\"bgcolor\":\"#E5ECF6\",\"aaxis\":{\"gridcolor\":\"white\",\"linecolor\":\"white\",\"ticks\":\"\"},\"baxis\":{\"gridcolor\":\"white\",\"linecolor\":\"white\",\"ticks\":\"\"},\"caxis\":{\"gridcolor\":\"white\",\"linecolor\":\"white\",\"ticks\":\"\"}},\"coloraxis\":{\"colorbar\":{\"outlinewidth\":0,\"ticks\":\"\"}},\"colorscale\":{\"sequential\":[[0.0,\"#0d0887\"],[0.1111111111111111,\"#46039f\"],[0.2222222222222222,\"#7201a8\"],[0.3333333333333333,\"#9c179e\"],[0.4444444444444444,\"#bd3786\"],[0.5555555555555556,\"#d8576b\"],[0.6666666666666666,\"#ed7953\"],[0.7777777777777778,\"#fb9f3a\"],[0.8888888888888888,\"#fdca26\"],[1.0,\"#f0f921\"]],\"sequentialminus\":[[0.0,\"#0d0887\"],[0.1111111111111111,\"#46039f\"],[0.2222222222222222,\"#7201a8\"],[0.3333333333333333,\"#9c179e\"],[0.4444444444444444,\"#bd3786\"],[0.5555555555555556,\"#d8576b\"],[0.6666666666666666,\"#ed7953\"],[0.7777777777777778,\"#fb9f3a\"],[0.8888888888888888,\"#fdca26\"],[1.0,\"#f0f921\"]],\"diverging\":[[0,\"#8e0152\"],[0.1,\"#c51b7d\"],[0.2,\"#de77ae\"],[0.3,\"#f1b6da\"],[0.4,\"#fde0ef\"],[0.5,\"#f7f7f7\"],[0.6,\"#e6f5d0\"],[0.7,\"#b8e186\"],[0.8,\"#7fbc41\"],[0.9,\"#4d9221\"],[1,\"#276419\"]]},\"xaxis\":{\"gridcolor\":\"white\",\"linecolor\":\"white\",\"ticks\":\"\",\"title\":{\"standoff\":15},\"zerolinecolor\":\"white\",\"automargin\":true,\"zerolinewidth\":2},\"yaxis\":{\"gridcolor\":\"white\",\"linecolor\":\"white\",\"ticks\":\"\",\"title\":{\"standoff\":15},\"zerolinecolor\":\"white\",\"automargin\":true,\"zerolinewidth\":2},\"scene\":{\"xaxis\":{\"backgroundcolor\":\"#E5ECF6\",\"gridcolor\":\"white\",\"linecolor\":\"white\",\"showbackground\":true,\"ticks\":\"\",\"zerolinecolor\":\"white\",\"gridwidth\":2},\"yaxis\":{\"backgroundcolor\":\"#E5ECF6\",\"gridcolor\":\"white\",\"linecolor\":\"white\",\"showbackground\":true,\"ticks\":\"\",\"zerolinecolor\":\"white\",\"gridwidth\":2},\"zaxis\":{\"backgroundcolor\":\"#E5ECF6\",\"gridcolor\":\"white\",\"linecolor\":\"white\",\"showbackground\":true,\"ticks\":\"\",\"zerolinecolor\":\"white\",\"gridwidth\":2}},\"shapedefaults\":{\"line\":{\"color\":\"#2a3f5f\"}},\"annotationdefaults\":{\"arrowcolor\":\"#2a3f5f\",\"arrowhead\":0,\"arrowwidth\":1},\"geo\":{\"bgcolor\":\"white\",\"landcolor\":\"#E5ECF6\",\"subunitcolor\":\"white\",\"showland\":true,\"showlakes\":true,\"lakecolor\":\"white\"},\"title\":{\"x\":0.05},\"mapbox\":{\"style\":\"light\"}}},\"title\":{\"text\":\"Sankey Diagram of Sectors and Sub-sectors\"},\"font\":{\"size\":10,\"color\":\"black\"}},                        {\"responsive\": true}                    ).then(function(){\n",
       "                            \n",
       "var gd = document.getElementById('f76bdc4c-8c88-482f-98bb-3b44674a97c4');\n",
       "var x = new MutationObserver(function (mutations, observer) {{\n",
       "        var display = window.getComputedStyle(gd).display;\n",
       "        if (!display || display === 'none') {{\n",
       "            console.log([gd, 'removed!']);\n",
       "            Plotly.purge(gd);\n",
       "            observer.disconnect();\n",
       "        }}\n",
       "}});\n",
       "\n",
       "// Listen for the removal of the full notebook cells\n",
       "var notebookContainer = gd.closest('#notebook-container');\n",
       "if (notebookContainer) {{\n",
       "    x.observe(notebookContainer, {childList: true});\n",
       "}}\n",
       "\n",
       "// Listen for the clearing of the current output cell\n",
       "var outputEl = gd.closest('.output');\n",
       "if (outputEl) {{\n",
       "    x.observe(outputEl, {childList: true});\n",
       "}}\n",
       "\n",
       "                        })                };                });            </script>        </div>"
      ]
     },
     "metadata": {},
     "output_type": "display_data"
    }
   ],
   "source": [
    "# Read the CSV file\n",
    "filename = \"ReFED_US_Food_Surplus_Summary_Umass_2019.csv\"\n",
    "df = pd.read_csv(filename)\n",
    "\n",
    "# Prepare source, target, and value lists for the Sankey diagram\n",
    "sources = []\n",
    "targets = []\n",
    "values = []\n",
    "\n",
    "for index, row in df.iterrows():\n",
    "    if row['sector'] not in sources:\n",
    "        sources.append(row['sector'])\n",
    "    if row['sub_sector'] not in sources:\n",
    "        sources.append(row['sub_sector'])\n",
    "\n",
    "    targets.append(sources.index(row['sub_sector']))\n",
    "    values.append(1)\n",
    "\n",
    "# Define a color list\n",
    "colors = ['#636EFA', '#EF553B', '#00CC96', '#AB63FA', '#FFA15A', '#19D3F3', '#FF6692', '#B6E880', '#FF97FF', '#FECB52']\n",
    "\n",
    "# Create the Sankey diagram\n",
    "fig = go.Figure(data=[go.Sankey(\n",
    "    node=dict(\n",
    "        pad=15,\n",
    "        thickness=20,\n",
    "        line=dict(color=\"black\", width=0.5),\n",
    "        label=sources,\n",
    "        color=colors * (len(sources) // len(colors) + 1)  # Repeat the color list as needed\n",
    "    ),\n",
    "    link=dict(\n",
    "        source=[sources.index(sector) for sector in df['sector']],\n",
    "        target=targets,\n",
    "        value=values,\n",
    "        color='#F8FD3C'  # Set link color\n",
    "    )\n",
    ")])\n",
    "\n",
    "fig.update_layout(title_text=\"Sankey Diagram of Sectors and Sub-sectors\", font=dict(size=10, color=\"black\"))\n",
    "fig.show()\n"
   ]
  }
 ],
 "metadata": {
  "kernelspec": {
   "display_name": "Python 3 (ipykernel)",
   "language": "python",
   "name": "python3"
  },
  "language_info": {
   "codemirror_mode": {
    "name": "ipython",
    "version": 3
   },
   "file_extension": ".py",
   "mimetype": "text/x-python",
   "name": "python",
   "nbconvert_exporter": "python",
   "pygments_lexer": "ipython3",
   "version": "3.11.0"
  }
 },
 "nbformat": 4,
 "nbformat_minor": 5
}
